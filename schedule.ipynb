{
 "cells": [
  {
   "cell_type": "code",
   "execution_count": 51,
   "id": "eec6e556",
   "metadata": {},
   "outputs": [],
   "source": [
    "from selenium import webdriver\n",
    "from selenium.webdriver.common.by import By\n",
    "from selenium.webdriver.support.ui import Select"
   ]
  },
  {
   "cell_type": "code",
   "execution_count": 52,
   "id": "a4867102",
   "metadata": {},
   "outputs": [],
   "source": [
    "driver = webdriver.Chrome()\n",
    "driver.get('https://www.cpbl.com.tw/schedule')"
   ]
  },
  {
   "cell_type": "code",
   "execution_count": 73,
   "id": "fe2e180b",
   "metadata": {},
   "outputs": [],
   "source": [
    "select_year = Select(driver.find_element(By.XPATH, '//*[@id=\"Content\"]/div[3]/div[2]/select'))\n",
    "select_month = Select(driver.find_element(By.XPATH, '//*[@id=\"Content\"]/div[3]/div[3]/select'))"
   ]
  },
  {
   "cell_type": "code",
   "execution_count": 81,
   "id": "eccc4c16",
   "metadata": {},
   "outputs": [],
   "source": [
    "select_year.select_by_value(\"2023\")\n",
    "select_month.select_by_value(\"3\")"
   ]
  },
  {
   "cell_type": "code",
   "execution_count": null,
   "id": "f4dbf116",
   "metadata": {},
   "outputs": [],
   "source": []
  }
 ],
 "metadata": {
  "kernelspec": {
   "display_name": "Python 3 (ipykernel)",
   "language": "python",
   "name": "python3"
  },
  "language_info": {
   "codemirror_mode": {
    "name": "ipython",
    "version": 3
   },
   "file_extension": ".py",
   "mimetype": "text/x-python",
   "name": "python",
   "nbconvert_exporter": "python",
   "pygments_lexer": "ipython3",
   "version": "3.8.17"
  }
 },
 "nbformat": 4,
 "nbformat_minor": 5
}
