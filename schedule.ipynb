{
 "cells": [
  {
   "cell_type": "code",
   "execution_count": null,
   "id": "eec6e556",
   "metadata": {},
   "outputs": [],
   "source": [
    "from selenium import webdriver\n",
    "from selenium.webdriver.common.by import By\n",
    "from selenium.webdriver.support.ui import Select\n",
    "from selenium.webdriver.support.ui import WebDriverWait"
   ]
  },
  {
   "cell_type": "code",
   "execution_count": null,
   "id": "a4867102",
   "metadata": {},
   "outputs": [],
   "source": [
    "driver = webdriver.Chrome()"
   ]
  },
  {
   "cell_type": "code",
   "execution_count": null,
   "id": "1d0eb46c",
   "metadata": {},
   "outputs": [],
   "source": [
    "driver.get('https://www.cpbl.com.tw/schedule')"
   ]
  },
  {
   "cell_type": "code",
   "execution_count": null,
   "id": "fe2e180b",
   "metadata": {},
   "outputs": [],
   "source": [
    "# Change to 2023.04 \n",
    "month = 4\n",
    "\n",
    "select_year = Select(driver.find_element(By.XPATH, '//*[@id=\"Content\"]/div[3]/div[2]/select'))\n",
    "select_month = Select(driver.find_element(By.XPATH, '//*[@id=\"Content\"]/div[3]/div[3]/select'))\n",
    "select_year.select_by_value(\"2023\")\n",
    "select_month.select_by_value(str(month-1))\n",
    "\n",
    "WebDriverWait(driver, timeout=2)\n",
    "\n",
    "tbody = driver.find_element(By.XPATH, '//*[@id=\"Content\"]/div[5]/div[2]/div[1]/div/div/table/tbody')\n",
    "\n",
    "rows = tbody.find_elements(By.TAG_NAME,'tr')\n",
    "\n",
    "year = '2023'\n",
    "month = str(month)\n",
    "\n",
    "for i in range(1,len(rows)):\n",
    "    columns = rows[i].find_elements(By.TAG_NAME,'td')\n",
    "    for games in columns:\n",
    "        title = games.accessible_name\n",
    "        title_list = title.split(' ')\n",
    "        _size = len(title_list)\n",
    "        \n",
    "        if _size > 1 and _size <= 5:\n",
    "            #print(title)\n",
    "            _links = games.find_elements(By.TAG_NAME, 'a')\n",
    "            for item in _links:\n",
    "                _link = item.get_attribute('href')            \n",
    "                date= year + '/' + month + '/' + title_list[0]\n",
    "                print(f'{date},{title_list[1]},{title_list[2]},{title_list[4]},{title_list[3]},{_link}')\n",
    "            \n",
    "        if _size > 5 and _size <= 9:\n",
    "            _links = games.find_elements(By.TAG_NAME, 'a')\n",
    "            #print(title, len(_links))\n",
    "            for num,item in enumerate(_links):\n",
    "                _link = item.get_attribute('href')  \n",
    "                date= year + '/' + month + '/' + title_list[0]\n",
    "                print(f'{date},{title_list[1+4*num]},{title_list[2+4*num]},{title_list[4+4*num]},\\\n",
    "{title_list[3+4*num]},{_link}')\n",
    "            \n",
    "        #if _size > 9:\n",
    "        #    print(title)"
   ]
  },
  {
   "cell_type": "code",
   "execution_count": null,
   "id": "9e421b43",
   "metadata": {},
   "outputs": [],
   "source": []
  }
 ],
 "metadata": {
  "kernelspec": {
   "display_name": "Python 3 (ipykernel)",
   "language": "python",
   "name": "python3"
  },
  "language_info": {
   "codemirror_mode": {
    "name": "ipython",
    "version": 3
   },
   "file_extension": ".py",
   "mimetype": "text/x-python",
   "name": "python",
   "nbconvert_exporter": "python",
   "pygments_lexer": "ipython3",
   "version": "3.8.16"
  }
 },
 "nbformat": 4,
 "nbformat_minor": 5
}
