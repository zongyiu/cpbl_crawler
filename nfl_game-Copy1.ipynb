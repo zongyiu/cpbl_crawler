{
 "cells": [
  {
   "cell_type": "code",
   "execution_count": 271,
   "id": "fc3f4147",
   "metadata": {},
   "outputs": [],
   "source": [
    "from time import sleep\n",
    "from selenium import webdriver\n",
    "from selenium.webdriver.common.by import By\n",
    "from selenium.webdriver.support.ui import Select\n",
    "from selenium.webdriver.support.ui import WebDriverWait"
   ]
  },
  {
   "cell_type": "code",
   "execution_count": 272,
   "id": "adc0a712",
   "metadata": {},
   "outputs": [],
   "source": [
    "options = webdriver.ChromeOptions() ;\n",
    "options.add_argument(\"--disable-extensions\")\n",
    "options.add_argument('headless')\n",
    "user_agent = \"Mozilla/5.0 (Windows NT 10.0; Win64; x64) AppleWebKit/537.36 (KHTML, like Gecko) Chrome/88.0.4324.104 Safari/537.36\"\n",
    "options.add_argument(f'user-agent={user_agent}')"
   ]
  },
  {
   "cell_type": "code",
   "execution_count": 273,
   "id": "bf3bc84c",
   "metadata": {},
   "outputs": [
    {
     "data": {
      "text/plain": [
       "<selenium.webdriver.support.wait.WebDriverWait (session=\"31c570ce9a780187a37e3f1d2e75ca4d\")>"
      ]
     },
     "execution_count": 273,
     "metadata": {},
     "output_type": "execute_result"
    }
   ],
   "source": [
    "driver = webdriver.Chrome(options=options)\n",
    "driver.set_page_load_timeout(10)\n",
    "driver.implicitly_wait(10)\n",
    "url = \"https://www.nfl.com/games/saints-at-falcons-2022-reg-1\"\n",
    "driver.get(url)\n",
    "WebDriverWait(driver, timeout = 10)"
   ]
  },
  {
   "cell_type": "code",
   "execution_count": 274,
   "id": "47293008",
   "metadata": {},
   "outputs": [],
   "source": [
    "### CLose Cookies Ask\n",
    "try :\n",
    "    _path = '/html/body/div[7]/div[2]/div/div[1]/div/div[2]/div/button[2]'\n",
    "    cookies_button = driver.find_element(By.XPATH, _path)\n",
    "    cookies_button.click()\n",
    "except:\n",
    "    pass"
   ]
  },
  {
   "cell_type": "code",
   "execution_count": 275,
   "id": "e87cd22b",
   "metadata": {},
   "outputs": [],
   "source": [
    "def get_game_pdf_button(driver):\n",
    "    button = driver.find_element(By.XPATH, \"//div[@class='css-text-146c3p1 r-alignItems-1awozwy r-color-1khnkhu r-display-6koalj r-flexDirection-18u37iz r-fontFamily-1fdbu1n r-fontSize-1b43r93']\")\n",
    "    return button"
   ]
  },
  {
   "cell_type": "code",
   "execution_count": 276,
   "id": "54d67b96",
   "metadata": {},
   "outputs": [],
   "source": [
    "driver.maximize_window()"
   ]
  },
  {
   "cell_type": "code",
   "execution_count": 285,
   "id": "124d299c",
   "metadata": {},
   "outputs": [],
   "source": [
    "button = get_game_pdf_button(driver)"
   ]
  },
  {
   "cell_type": "code",
   "execution_count": 286,
   "id": "83375cda",
   "metadata": {},
   "outputs": [],
   "source": [
    "button.click()"
   ]
  },
  {
   "cell_type": "code",
   "execution_count": 287,
   "id": "e544c380",
   "metadata": {},
   "outputs": [],
   "source": [
    "all_windows = driver.window_handles"
   ]
  },
  {
   "cell_type": "code",
   "execution_count": 288,
   "id": "fd94dc65",
   "metadata": {},
   "outputs": [
    {
     "name": "stdout",
     "output_type": "stream",
     "text": [
      "347256DBD949DF88CBE477EC4D731242\n"
     ]
    }
   ],
   "source": [
    "w1 = all_windows[0]\n",
    "print(w1)"
   ]
  },
  {
   "cell_type": "code",
   "execution_count": 289,
   "id": "31bc7f48",
   "metadata": {},
   "outputs": [
    {
     "name": "stdout",
     "output_type": "stream",
     "text": [
      "D734E81EC9C33E9C3C970AE774749C36\n"
     ]
    }
   ],
   "source": [
    "w2 = all_windows[1]\n",
    "print(w2)"
   ]
  },
  {
   "cell_type": "code",
   "execution_count": 290,
   "id": "511a9868",
   "metadata": {},
   "outputs": [],
   "source": [
    "driver.switch_to.window(w2)"
   ]
  },
  {
   "cell_type": "code",
   "execution_count": 291,
   "id": "cc48327b",
   "metadata": {},
   "outputs": [
    {
     "ename": "TimeoutException",
     "evalue": "Message: timeout: Timed out receiving message from renderer: 10.000\n  (Session info: headless chrome=115.0.5790.170)\nStacktrace:\n0   chromedriver                        0x0000000100bd3dd0 chromedriver + 4226512\n1   chromedriver                        0x0000000100bcc37c chromedriver + 4195196\n2   chromedriver                        0x0000000100810d68 chromedriver + 281960\n3   chromedriver                        0x00000001007fa9b8 chromedriver + 190904\n4   chromedriver                        0x00000001007fa6e0 chromedriver + 190176\n5   chromedriver                        0x00000001007f9304 chromedriver + 185092\n6   chromedriver                        0x00000001007f978c chromedriver + 186252\n7   chromedriver                        0x0000000100807514 chromedriver + 242964\n8   chromedriver                        0x000000010081b03c chromedriver + 323644\n9   chromedriver                        0x00000001007f9c8c chromedriver + 187532\n10  chromedriver                        0x000000010081ae88 chromedriver + 323208\n11  chromedriver                        0x0000000100882bc4 chromedriver + 748484\n12  chromedriver                        0x000000010083ff1c chromedriver + 474908\n13  chromedriver                        0x0000000100840ef4 chromedriver + 478964\n14  chromedriver                        0x0000000100b95424 chromedriver + 3970084\n15  chromedriver                        0x0000000100b99578 chromedriver + 3986808\n16  chromedriver                        0x0000000100b9f43c chromedriver + 4011068\n17  chromedriver                        0x0000000100b9a184 chromedriver + 3989892\n18  chromedriver                        0x0000000100b72048 chromedriver + 3825736\n19  chromedriver                        0x0000000100bb5f10 chromedriver + 4103952\n20  chromedriver                        0x0000000100bb6068 chromedriver + 4104296\n21  chromedriver                        0x0000000100bc5db0 chromedriver + 4169136\n22  libsystem_pthread.dylib             0x000000019129e06c _pthread_start + 148\n23  libsystem_pthread.dylib             0x0000000191298e2c thread_start + 8\n",
     "output_type": "error",
     "traceback": [
      "\u001b[0;31m---------------------------------------------------------------------------\u001b[0m",
      "\u001b[0;31mTimeoutException\u001b[0m                          Traceback (most recent call last)",
      "Cell \u001b[0;32mIn[291], line 1\u001b[0m\n\u001b[0;32m----> 1\u001b[0m \u001b[43mdriver\u001b[49m\u001b[38;5;241;43m.\u001b[39;49m\u001b[43mexecute_script\u001b[49m\u001b[43m(\u001b[49m\u001b[38;5;124;43m\"\u001b[39;49m\u001b[38;5;124;43mwindow.print();\u001b[39;49m\u001b[38;5;124;43m\"\u001b[39;49m\u001b[43m)\u001b[49m\n",
      "File \u001b[0;32m~/.pyenv/versions/3.8.16/envs/crawler/lib/python3.8/site-packages/selenium/webdriver/remote/webdriver.py:406\u001b[0m, in \u001b[0;36mWebDriver.execute_script\u001b[0;34m(self, script, *args)\u001b[0m\n\u001b[1;32m    403\u001b[0m converted_args \u001b[38;5;241m=\u001b[39m \u001b[38;5;28mlist\u001b[39m(args)\n\u001b[1;32m    404\u001b[0m command \u001b[38;5;241m=\u001b[39m Command\u001b[38;5;241m.\u001b[39mW3C_EXECUTE_SCRIPT\n\u001b[0;32m--> 406\u001b[0m \u001b[38;5;28;01mreturn\u001b[39;00m \u001b[38;5;28;43mself\u001b[39;49m\u001b[38;5;241;43m.\u001b[39;49m\u001b[43mexecute\u001b[49m\u001b[43m(\u001b[49m\u001b[43mcommand\u001b[49m\u001b[43m,\u001b[49m\u001b[43m \u001b[49m\u001b[43m{\u001b[49m\u001b[38;5;124;43m\"\u001b[39;49m\u001b[38;5;124;43mscript\u001b[39;49m\u001b[38;5;124;43m\"\u001b[39;49m\u001b[43m:\u001b[49m\u001b[43m \u001b[49m\u001b[43mscript\u001b[49m\u001b[43m,\u001b[49m\u001b[43m \u001b[49m\u001b[38;5;124;43m\"\u001b[39;49m\u001b[38;5;124;43margs\u001b[39;49m\u001b[38;5;124;43m\"\u001b[39;49m\u001b[43m:\u001b[49m\u001b[43m \u001b[49m\u001b[43mconverted_args\u001b[49m\u001b[43m}\u001b[49m\u001b[43m)\u001b[49m[\u001b[38;5;124m\"\u001b[39m\u001b[38;5;124mvalue\u001b[39m\u001b[38;5;124m\"\u001b[39m]\n",
      "File \u001b[0;32m~/.pyenv/versions/3.8.16/envs/crawler/lib/python3.8/site-packages/selenium/webdriver/remote/webdriver.py:346\u001b[0m, in \u001b[0;36mWebDriver.execute\u001b[0;34m(self, driver_command, params)\u001b[0m\n\u001b[1;32m    344\u001b[0m response \u001b[38;5;241m=\u001b[39m \u001b[38;5;28mself\u001b[39m\u001b[38;5;241m.\u001b[39mcommand_executor\u001b[38;5;241m.\u001b[39mexecute(driver_command, params)\n\u001b[1;32m    345\u001b[0m \u001b[38;5;28;01mif\u001b[39;00m response:\n\u001b[0;32m--> 346\u001b[0m     \u001b[38;5;28;43mself\u001b[39;49m\u001b[38;5;241;43m.\u001b[39;49m\u001b[43merror_handler\u001b[49m\u001b[38;5;241;43m.\u001b[39;49m\u001b[43mcheck_response\u001b[49m\u001b[43m(\u001b[49m\u001b[43mresponse\u001b[49m\u001b[43m)\u001b[49m\n\u001b[1;32m    347\u001b[0m     response[\u001b[38;5;124m\"\u001b[39m\u001b[38;5;124mvalue\u001b[39m\u001b[38;5;124m\"\u001b[39m] \u001b[38;5;241m=\u001b[39m \u001b[38;5;28mself\u001b[39m\u001b[38;5;241m.\u001b[39m_unwrap_value(response\u001b[38;5;241m.\u001b[39mget(\u001b[38;5;124m\"\u001b[39m\u001b[38;5;124mvalue\u001b[39m\u001b[38;5;124m\"\u001b[39m, \u001b[38;5;28;01mNone\u001b[39;00m))\n\u001b[1;32m    348\u001b[0m     \u001b[38;5;28;01mreturn\u001b[39;00m response\n",
      "File \u001b[0;32m~/.pyenv/versions/3.8.16/envs/crawler/lib/python3.8/site-packages/selenium/webdriver/remote/errorhandler.py:245\u001b[0m, in \u001b[0;36mErrorHandler.check_response\u001b[0;34m(self, response)\u001b[0m\n\u001b[1;32m    243\u001b[0m         alert_text \u001b[38;5;241m=\u001b[39m value[\u001b[38;5;124m\"\u001b[39m\u001b[38;5;124malert\u001b[39m\u001b[38;5;124m\"\u001b[39m]\u001b[38;5;241m.\u001b[39mget(\u001b[38;5;124m\"\u001b[39m\u001b[38;5;124mtext\u001b[39m\u001b[38;5;124m\"\u001b[39m)\n\u001b[1;32m    244\u001b[0m     \u001b[38;5;28;01mraise\u001b[39;00m exception_class(message, screen, stacktrace, alert_text)  \u001b[38;5;66;03m# type: ignore[call-arg]  # mypy is not smart enough here\u001b[39;00m\n\u001b[0;32m--> 245\u001b[0m \u001b[38;5;28;01mraise\u001b[39;00m exception_class(message, screen, stacktrace)\n",
      "\u001b[0;31mTimeoutException\u001b[0m: Message: timeout: Timed out receiving message from renderer: 10.000\n  (Session info: headless chrome=115.0.5790.170)\nStacktrace:\n0   chromedriver                        0x0000000100bd3dd0 chromedriver + 4226512\n1   chromedriver                        0x0000000100bcc37c chromedriver + 4195196\n2   chromedriver                        0x0000000100810d68 chromedriver + 281960\n3   chromedriver                        0x00000001007fa9b8 chromedriver + 190904\n4   chromedriver                        0x00000001007fa6e0 chromedriver + 190176\n5   chromedriver                        0x00000001007f9304 chromedriver + 185092\n6   chromedriver                        0x00000001007f978c chromedriver + 186252\n7   chromedriver                        0x0000000100807514 chromedriver + 242964\n8   chromedriver                        0x000000010081b03c chromedriver + 323644\n9   chromedriver                        0x00000001007f9c8c chromedriver + 187532\n10  chromedriver                        0x000000010081ae88 chromedriver + 323208\n11  chromedriver                        0x0000000100882bc4 chromedriver + 748484\n12  chromedriver                        0x000000010083ff1c chromedriver + 474908\n13  chromedriver                        0x0000000100840ef4 chromedriver + 478964\n14  chromedriver                        0x0000000100b95424 chromedriver + 3970084\n15  chromedriver                        0x0000000100b99578 chromedriver + 3986808\n16  chromedriver                        0x0000000100b9f43c chromedriver + 4011068\n17  chromedriver                        0x0000000100b9a184 chromedriver + 3989892\n18  chromedriver                        0x0000000100b72048 chromedriver + 3825736\n19  chromedriver                        0x0000000100bb5f10 chromedriver + 4103952\n20  chromedriver                        0x0000000100bb6068 chromedriver + 4104296\n21  chromedriver                        0x0000000100bc5db0 chromedriver + 4169136\n22  libsystem_pthread.dylib             0x000000019129e06c _pthread_start + 148\n23  libsystem_pthread.dylib             0x0000000191298e2c thread_start + 8\n"
     ]
    }
   ],
   "source": [
    "try: \n",
    "    driver.execute_script(\"window.print();\")\n",
    "except:\n",
    "    pass"
   ]
  },
  {
   "cell_type": "code",
   "execution_count": null,
   "id": "3f317e89",
   "metadata": {},
   "outputs": [],
   "source": []
  },
  {
   "cell_type": "code",
   "execution_count": null,
   "id": "eff55c51",
   "metadata": {},
   "outputs": [],
   "source": []
  },
  {
   "cell_type": "code",
   "execution_count": null,
   "id": "835edf92",
   "metadata": {},
   "outputs": [],
   "source": [
    "for w in all_windows:\n",
    "    if( w != home_tab):\n",
    "        driver.switch_to.window(w)\n",
    "        break\n",
    "download_url = driver.current_url"
   ]
  },
  {
   "cell_type": "code",
   "execution_count": null,
   "id": "261ba8bf",
   "metadata": {},
   "outputs": [],
   "source": []
  },
  {
   "cell_type": "code",
   "execution_count": 221,
   "id": "cd5f94a3",
   "metadata": {},
   "outputs": [],
   "source": [
    "driver.switch_to.window(w1)"
   ]
  },
  {
   "cell_type": "code",
   "execution_count": 228,
   "id": "65f4daf3",
   "metadata": {},
   "outputs": [
    {
     "ename": "AttributeError",
     "evalue": "'ApplicationCache' object has no attribute 'text'",
     "output_type": "error",
     "traceback": [
      "\u001b[0;31m---------------------------------------------------------------------------\u001b[0m",
      "\u001b[0;31mAttributeError\u001b[0m                            Traceback (most recent call last)",
      "Cell \u001b[0;32mIn[228], line 1\u001b[0m\n\u001b[0;32m----> 1\u001b[0m \u001b[43mdriver\u001b[49m\u001b[38;5;241;43m.\u001b[39;49m\u001b[43mapplication_cache\u001b[49m\u001b[38;5;241;43m.\u001b[39;49m\u001b[43mtext\u001b[49m\n",
      "\u001b[0;31mAttributeError\u001b[0m: 'ApplicationCache' object has no attribute 'text'"
     ]
    }
   ],
   "source": [
    "driver.application_cache.text"
   ]
  },
  {
   "cell_type": "code",
   "execution_count": null,
   "id": "747e37a5",
   "metadata": {},
   "outputs": [],
   "source": [
    "driver.back()"
   ]
  },
  {
   "cell_type": "code",
   "execution_count": 230,
   "id": "6f6bd4b1",
   "metadata": {},
   "outputs": [],
   "source": [
    "driver.execute_script(\"window.print();\")"
   ]
  },
  {
   "cell_type": "code",
   "execution_count": 163,
   "id": "54586e95",
   "metadata": {},
   "outputs": [
    {
     "data": {
      "text/plain": [
       "''"
      ]
     },
     "execution_count": 163,
     "metadata": {},
     "output_type": "execute_result"
    }
   ],
   "source": [
    "page_title = driver.title\n",
    "page_title"
   ]
  },
  {
   "cell_type": "code",
   "execution_count": 179,
   "id": "a3389904",
   "metadata": {},
   "outputs": [
    {
     "data": {
      "text/plain": [
       "'https://static.www.nfl.com/gamecenter/7ae7a948-d24c-11ec-b23d-d15a91047884.pdf'"
      ]
     },
     "execution_count": 179,
     "metadata": {},
     "output_type": "execute_result"
    }
   ],
   "source": [
    "driver.current_url"
   ]
  },
  {
   "cell_type": "code",
   "execution_count": 173,
   "id": "00259276",
   "metadata": {},
   "outputs": [],
   "source": [
    "a = driver.find_element(By.XPATH, \"/html/body/embed\")"
   ]
  },
  {
   "cell_type": "code",
   "execution_count": 174,
   "id": "001586c1",
   "metadata": {},
   "outputs": [
    {
     "data": {
      "text/plain": [
       "{'height': '100%',\n",
       " 'internalid': 'FE8F5C7CAB271BD2227A88FCCC5FF532',\n",
       " 'name': 'FE8F5C7CAB271BD2227A88FCCC5FF532',\n",
       " 'src': 'about:blank',\n",
       " 'style': 'position:absolute; left: 0; top: 0;',\n",
       " 'type': 'application/pdf',\n",
       " 'width': '100%'}"
      ]
     },
     "execution_count": 174,
     "metadata": {},
     "output_type": "execute_result"
    }
   ],
   "source": [
    "driver.execute_script('var items = {}; for (index = 0; index < arguments[0].attributes.length; ++index) { items[arguments[0].attributes[index].name] = arguments[0].attributes[index].value }; return items;', a)"
   ]
  },
  {
   "cell_type": "code",
   "execution_count": 181,
   "id": "1b1cc3cf",
   "metadata": {},
   "outputs": [],
   "source": [
    "driver.back()"
   ]
  },
  {
   "cell_type": "code",
   "execution_count": null,
   "id": "0fe2d953",
   "metadata": {},
   "outputs": [],
   "source": [
    "driver.switch_to.window(home_tab)"
   ]
  },
  {
   "cell_type": "code",
   "execution_count": null,
   "id": "3bc6eb77",
   "metadata": {},
   "outputs": [],
   "source": []
  },
  {
   "cell_type": "code",
   "execution_count": 77,
   "id": "a72a6ff2",
   "metadata": {},
   "outputs": [],
   "source": [
    "buttons = driver.find_elements(By.XPATH, \"//div[@data-testid='gamecenter-cta-btns-container']\")\n",
    "if len(buttons) != 0:\n",
    "    download_button = buttons[0].find_element(By.XPATH, \"div/div/div/div/button/div[1]/div\")\n",
    "else:\n",
    "    print(\"No Data\")"
   ]
  },
  {
   "cell_type": "code",
   "execution_count": null,
   "id": "3c316c20",
   "metadata": {},
   "outputs": [],
   "source": [
    "/html/body/div[3]/main/div/div/div/div[2]/div/div[1]/div[2]/div[4]/div/div/div/div/button/div[1]/div"
   ]
  },
  {
   "cell_type": "code",
   "execution_count": 91,
   "id": "404671c6",
   "metadata": {},
   "outputs": [],
   "source": [
    "download_button = driver.find_element(By.XPATH, \"/html/body/div[3]/main/div/div/div/div[2]/div/div[1]/div[2]/div[4]/div/div/div/div/button/div[1]/div\")"
   ]
  },
  {
   "cell_type": "code",
   "execution_count": 92,
   "id": "9c43a8b5",
   "metadata": {},
   "outputs": [
    {
     "data": {
      "text/plain": [
       "{'class': 'css-text-146c3p1 r-alignItems-1awozwy r-color-1khnkhu r-display-6koalj r-flexDirection-18u37iz r-fontFamily-1fdbu1n r-fontSize-1b43r93',\n",
       " 'dir': 'auto'}"
      ]
     },
     "execution_count": 92,
     "metadata": {},
     "output_type": "execute_result"
    }
   ],
   "source": [
    "driver.execute_script('var items = {}; for (index = 0; index < arguments[0].attributes.length; ++index) { items[arguments[0].attributes[index].name] = arguments[0].attributes[index].value }; return items;', download_button)"
   ]
  },
  {
   "cell_type": "code",
   "execution_count": 95,
   "id": "465acdec",
   "metadata": {},
   "outputs": [],
   "source": [
    "button = driver.find_element(By.XPATH, \"//div[@class='css-text-146c3p1 r-alignItems-1awozwy r-color-1khnkhu r-display-6koalj r-flexDirection-18u37iz r-fontFamily-1fdbu1n r-fontSize-1b43r93']\")"
   ]
  },
  {
   "cell_type": "code",
   "execution_count": 96,
   "id": "cfeb2ea6",
   "metadata": {},
   "outputs": [],
   "source": [
    "button.click()"
   ]
  },
  {
   "cell_type": "code",
   "execution_count": 78,
   "id": "df7c2587",
   "metadata": {},
   "outputs": [],
   "source": [
    "driver.execute_script(\"window.scrollTo(0, document.body.scrollHeight);\")"
   ]
  },
  {
   "cell_type": "code",
   "execution_count": 80,
   "id": "927c1552",
   "metadata": {},
   "outputs": [
    {
     "data": {
      "text/plain": [
       "'Download Game Book (PDF)'"
      ]
     },
     "execution_count": 80,
     "metadata": {},
     "output_type": "execute_result"
    }
   ],
   "source": [
    "download_button.text"
   ]
  },
  {
   "cell_type": "code",
   "execution_count": 87,
   "id": "2ba00356",
   "metadata": {},
   "outputs": [
    {
     "ename": "StaleElementReferenceException",
     "evalue": "Message: stale element reference: stale element not found\n  (Session info: chrome=115.0.5790.170); For documentation on this error, please visit: https://www.selenium.dev/documentation/webdriver/troubleshooting/errors#stale-element-reference-exception\nStacktrace:\n0   chromedriver                        0x0000000104ddbdd0 chromedriver + 4226512\n1   chromedriver                        0x0000000104dd437c chromedriver + 4195196\n2   chromedriver                        0x0000000104a18d68 chromedriver + 281960\n3   chromedriver                        0x0000000104a2636c chromedriver + 336748\n4   chromedriver                        0x0000000104a1da78 chromedriver + 301688\n5   chromedriver                        0x0000000104a1da4c chromedriver + 301644\n6   chromedriver                        0x0000000104a1c62c chromedriver + 296492\n7   chromedriver                        0x0000000104a1faf0 chromedriver + 310000\n8   chromedriver                        0x0000000104a8b800 chromedriver + 751616\n9   chromedriver                        0x0000000104a8ac58 chromedriver + 748632\n10  chromedriver                        0x0000000104a47f1c chromedriver + 474908\n11  chromedriver                        0x0000000104a48ef4 chromedriver + 478964\n12  chromedriver                        0x0000000104d9d424 chromedriver + 3970084\n13  chromedriver                        0x0000000104da1578 chromedriver + 3986808\n14  chromedriver                        0x0000000104da743c chromedriver + 4011068\n15  chromedriver                        0x0000000104da2184 chromedriver + 3989892\n16  chromedriver                        0x0000000104d7a048 chromedriver + 3825736\n17  chromedriver                        0x0000000104dbdf10 chromedriver + 4103952\n18  chromedriver                        0x0000000104dbe068 chromedriver + 4104296\n19  chromedriver                        0x0000000104dcddb0 chromedriver + 4169136\n20  libsystem_pthread.dylib             0x000000019129e06c _pthread_start + 148\n21  libsystem_pthread.dylib             0x0000000191298e2c thread_start + 8\n",
     "output_type": "error",
     "traceback": [
      "\u001b[0;31m---------------------------------------------------------------------------\u001b[0m",
      "\u001b[0;31mStaleElementReferenceException\u001b[0m            Traceback (most recent call last)",
      "Cell \u001b[0;32mIn[87], line 1\u001b[0m\n\u001b[0;32m----> 1\u001b[0m \u001b[43mdriver\u001b[49m\u001b[38;5;241;43m.\u001b[39;49m\u001b[43mexecute_script\u001b[49m\u001b[43m(\u001b[49m\u001b[38;5;124;43m'\u001b[39;49m\u001b[38;5;124;43mvar items = \u001b[39;49m\u001b[38;5;132;43;01m{}\u001b[39;49;00m\u001b[38;5;124;43m; for (index = 0; index < arguments[0].attributes.length; ++index) \u001b[39;49m\u001b[38;5;124;43m{\u001b[39;49m\u001b[38;5;124;43m items[arguments[0].attributes[index].name] = arguments[0].attributes[index].value }; return items;\u001b[39;49m\u001b[38;5;124;43m'\u001b[39;49m\u001b[43m,\u001b[49m\u001b[43m \u001b[49m\u001b[43mdownload_button\u001b[49m\u001b[43m)\u001b[49m\n",
      "File \u001b[0;32m~/.pyenv/versions/3.8.16/envs/crawler/lib/python3.8/site-packages/selenium/webdriver/remote/webdriver.py:406\u001b[0m, in \u001b[0;36mWebDriver.execute_script\u001b[0;34m(self, script, *args)\u001b[0m\n\u001b[1;32m    403\u001b[0m converted_args \u001b[38;5;241m=\u001b[39m \u001b[38;5;28mlist\u001b[39m(args)\n\u001b[1;32m    404\u001b[0m command \u001b[38;5;241m=\u001b[39m Command\u001b[38;5;241m.\u001b[39mW3C_EXECUTE_SCRIPT\n\u001b[0;32m--> 406\u001b[0m \u001b[38;5;28;01mreturn\u001b[39;00m \u001b[38;5;28;43mself\u001b[39;49m\u001b[38;5;241;43m.\u001b[39;49m\u001b[43mexecute\u001b[49m\u001b[43m(\u001b[49m\u001b[43mcommand\u001b[49m\u001b[43m,\u001b[49m\u001b[43m \u001b[49m\u001b[43m{\u001b[49m\u001b[38;5;124;43m\"\u001b[39;49m\u001b[38;5;124;43mscript\u001b[39;49m\u001b[38;5;124;43m\"\u001b[39;49m\u001b[43m:\u001b[49m\u001b[43m \u001b[49m\u001b[43mscript\u001b[49m\u001b[43m,\u001b[49m\u001b[43m \u001b[49m\u001b[38;5;124;43m\"\u001b[39;49m\u001b[38;5;124;43margs\u001b[39;49m\u001b[38;5;124;43m\"\u001b[39;49m\u001b[43m:\u001b[49m\u001b[43m \u001b[49m\u001b[43mconverted_args\u001b[49m\u001b[43m}\u001b[49m\u001b[43m)\u001b[49m[\u001b[38;5;124m\"\u001b[39m\u001b[38;5;124mvalue\u001b[39m\u001b[38;5;124m\"\u001b[39m]\n",
      "File \u001b[0;32m~/.pyenv/versions/3.8.16/envs/crawler/lib/python3.8/site-packages/selenium/webdriver/remote/webdriver.py:346\u001b[0m, in \u001b[0;36mWebDriver.execute\u001b[0;34m(self, driver_command, params)\u001b[0m\n\u001b[1;32m    344\u001b[0m response \u001b[38;5;241m=\u001b[39m \u001b[38;5;28mself\u001b[39m\u001b[38;5;241m.\u001b[39mcommand_executor\u001b[38;5;241m.\u001b[39mexecute(driver_command, params)\n\u001b[1;32m    345\u001b[0m \u001b[38;5;28;01mif\u001b[39;00m response:\n\u001b[0;32m--> 346\u001b[0m     \u001b[38;5;28;43mself\u001b[39;49m\u001b[38;5;241;43m.\u001b[39;49m\u001b[43merror_handler\u001b[49m\u001b[38;5;241;43m.\u001b[39;49m\u001b[43mcheck_response\u001b[49m\u001b[43m(\u001b[49m\u001b[43mresponse\u001b[49m\u001b[43m)\u001b[49m\n\u001b[1;32m    347\u001b[0m     response[\u001b[38;5;124m\"\u001b[39m\u001b[38;5;124mvalue\u001b[39m\u001b[38;5;124m\"\u001b[39m] \u001b[38;5;241m=\u001b[39m \u001b[38;5;28mself\u001b[39m\u001b[38;5;241m.\u001b[39m_unwrap_value(response\u001b[38;5;241m.\u001b[39mget(\u001b[38;5;124m\"\u001b[39m\u001b[38;5;124mvalue\u001b[39m\u001b[38;5;124m\"\u001b[39m, \u001b[38;5;28;01mNone\u001b[39;00m))\n\u001b[1;32m    348\u001b[0m     \u001b[38;5;28;01mreturn\u001b[39;00m response\n",
      "File \u001b[0;32m~/.pyenv/versions/3.8.16/envs/crawler/lib/python3.8/site-packages/selenium/webdriver/remote/errorhandler.py:245\u001b[0m, in \u001b[0;36mErrorHandler.check_response\u001b[0;34m(self, response)\u001b[0m\n\u001b[1;32m    243\u001b[0m         alert_text \u001b[38;5;241m=\u001b[39m value[\u001b[38;5;124m\"\u001b[39m\u001b[38;5;124malert\u001b[39m\u001b[38;5;124m\"\u001b[39m]\u001b[38;5;241m.\u001b[39mget(\u001b[38;5;124m\"\u001b[39m\u001b[38;5;124mtext\u001b[39m\u001b[38;5;124m\"\u001b[39m)\n\u001b[1;32m    244\u001b[0m     \u001b[38;5;28;01mraise\u001b[39;00m exception_class(message, screen, stacktrace, alert_text)  \u001b[38;5;66;03m# type: ignore[call-arg]  # mypy is not smart enough here\u001b[39;00m\n\u001b[0;32m--> 245\u001b[0m \u001b[38;5;28;01mraise\u001b[39;00m exception_class(message, screen, stacktrace)\n",
      "\u001b[0;31mStaleElementReferenceException\u001b[0m: Message: stale element reference: stale element not found\n  (Session info: chrome=115.0.5790.170); For documentation on this error, please visit: https://www.selenium.dev/documentation/webdriver/troubleshooting/errors#stale-element-reference-exception\nStacktrace:\n0   chromedriver                        0x0000000104ddbdd0 chromedriver + 4226512\n1   chromedriver                        0x0000000104dd437c chromedriver + 4195196\n2   chromedriver                        0x0000000104a18d68 chromedriver + 281960\n3   chromedriver                        0x0000000104a2636c chromedriver + 336748\n4   chromedriver                        0x0000000104a1da78 chromedriver + 301688\n5   chromedriver                        0x0000000104a1da4c chromedriver + 301644\n6   chromedriver                        0x0000000104a1c62c chromedriver + 296492\n7   chromedriver                        0x0000000104a1faf0 chromedriver + 310000\n8   chromedriver                        0x0000000104a8b800 chromedriver + 751616\n9   chromedriver                        0x0000000104a8ac58 chromedriver + 748632\n10  chromedriver                        0x0000000104a47f1c chromedriver + 474908\n11  chromedriver                        0x0000000104a48ef4 chromedriver + 478964\n12  chromedriver                        0x0000000104d9d424 chromedriver + 3970084\n13  chromedriver                        0x0000000104da1578 chromedriver + 3986808\n14  chromedriver                        0x0000000104da743c chromedriver + 4011068\n15  chromedriver                        0x0000000104da2184 chromedriver + 3989892\n16  chromedriver                        0x0000000104d7a048 chromedriver + 3825736\n17  chromedriver                        0x0000000104dbdf10 chromedriver + 4103952\n18  chromedriver                        0x0000000104dbe068 chromedriver + 4104296\n19  chromedriver                        0x0000000104dcddb0 chromedriver + 4169136\n20  libsystem_pthread.dylib             0x000000019129e06c _pthread_start + 148\n21  libsystem_pthread.dylib             0x0000000191298e2c thread_start + 8\n"
     ]
    }
   ],
   "source": [
    "driver.execute_script('var items = {}; for (index = 0; index < arguments[0].attributes.length; ++index) { items[arguments[0].attributes[index].name] = arguments[0].attributes[index].value }; return items;', download_button)"
   ]
  },
  {
   "cell_type": "code",
   "execution_count": 82,
   "id": "a348003c",
   "metadata": {},
   "outputs": [
    {
     "ename": "ElementClickInterceptedException",
     "evalue": "Message: element click intercepted: Element <div dir=\"auto\" class=\"css-text-146c3p1 r-alignItems-1awozwy r-color-1khnkhu r-display-6koalj r-flexDirection-18u37iz r-fontFamily-1fdbu1n r-fontSize-1b43r93\">...</div> is not clickable at point (147, 7). Other element would receive the click: <div class=\"d3-o-nav__wrap\" data-require=\"modules/search\" data-require-loaded=\"true\">...</div>\n  (Session info: headless chrome=115.0.5790.170)\nStacktrace:\n0   chromedriver                        0x0000000103223dd0 chromedriver + 4226512\n1   chromedriver                        0x000000010321c37c chromedriver + 4195196\n2   chromedriver                        0x0000000102e60d68 chromedriver + 281960\n3   chromedriver                        0x0000000102ea26e8 chromedriver + 550632\n4   chromedriver                        0x0000000102ea0638 chromedriver + 542264\n5   chromedriver                        0x0000000102e9e548 chromedriver + 533832\n6   chromedriver                        0x0000000102e9d918 chromedriver + 530712\n7   chromedriver                        0x0000000102e91eec chromedriver + 483052\n8   chromedriver                        0x0000000102e91734 chromedriver + 481076\n9   chromedriver                        0x0000000102ed2c58 chromedriver + 748632\n10  chromedriver                        0x0000000102e8ff1c chromedriver + 474908\n11  chromedriver                        0x0000000102e90ef4 chromedriver + 478964\n12  chromedriver                        0x00000001031e5424 chromedriver + 3970084\n13  chromedriver                        0x00000001031e9578 chromedriver + 3986808\n14  chromedriver                        0x00000001031ef43c chromedriver + 4011068\n15  chromedriver                        0x00000001031ea184 chromedriver + 3989892\n16  chromedriver                        0x00000001031c2048 chromedriver + 3825736\n17  chromedriver                        0x0000000103205f10 chromedriver + 4103952\n18  chromedriver                        0x0000000103206068 chromedriver + 4104296\n19  chromedriver                        0x0000000103215db0 chromedriver + 4169136\n20  libsystem_pthread.dylib             0x000000019129e06c _pthread_start + 148\n21  libsystem_pthread.dylib             0x0000000191298e2c thread_start + 8\n",
     "output_type": "error",
     "traceback": [
      "\u001b[0;31m---------------------------------------------------------------------------\u001b[0m",
      "\u001b[0;31mElementClickInterceptedException\u001b[0m          Traceback (most recent call last)",
      "Cell \u001b[0;32mIn[82], line 1\u001b[0m\n\u001b[0;32m----> 1\u001b[0m \u001b[43mdownload_button\u001b[49m\u001b[38;5;241;43m.\u001b[39;49m\u001b[43mclick\u001b[49m\u001b[43m(\u001b[49m\u001b[43m)\u001b[49m\n",
      "File \u001b[0;32m~/.pyenv/versions/3.8.16/envs/crawler/lib/python3.8/site-packages/selenium/webdriver/remote/webelement.py:94\u001b[0m, in \u001b[0;36mWebElement.click\u001b[0;34m(self)\u001b[0m\n\u001b[1;32m     92\u001b[0m \u001b[38;5;28;01mdef\u001b[39;00m \u001b[38;5;21mclick\u001b[39m(\u001b[38;5;28mself\u001b[39m) \u001b[38;5;241m-\u001b[39m\u001b[38;5;241m>\u001b[39m \u001b[38;5;28;01mNone\u001b[39;00m:\n\u001b[1;32m     93\u001b[0m \u001b[38;5;250m    \u001b[39m\u001b[38;5;124;03m\"\"\"Clicks the element.\"\"\"\u001b[39;00m\n\u001b[0;32m---> 94\u001b[0m     \u001b[38;5;28;43mself\u001b[39;49m\u001b[38;5;241;43m.\u001b[39;49m\u001b[43m_execute\u001b[49m\u001b[43m(\u001b[49m\u001b[43mCommand\u001b[49m\u001b[38;5;241;43m.\u001b[39;49m\u001b[43mCLICK_ELEMENT\u001b[49m\u001b[43m)\u001b[49m\n",
      "File \u001b[0;32m~/.pyenv/versions/3.8.16/envs/crawler/lib/python3.8/site-packages/selenium/webdriver/remote/webelement.py:395\u001b[0m, in \u001b[0;36mWebElement._execute\u001b[0;34m(self, command, params)\u001b[0m\n\u001b[1;32m    393\u001b[0m     params \u001b[38;5;241m=\u001b[39m {}\n\u001b[1;32m    394\u001b[0m params[\u001b[38;5;124m\"\u001b[39m\u001b[38;5;124mid\u001b[39m\u001b[38;5;124m\"\u001b[39m] \u001b[38;5;241m=\u001b[39m \u001b[38;5;28mself\u001b[39m\u001b[38;5;241m.\u001b[39m_id\n\u001b[0;32m--> 395\u001b[0m \u001b[38;5;28;01mreturn\u001b[39;00m \u001b[38;5;28;43mself\u001b[39;49m\u001b[38;5;241;43m.\u001b[39;49m\u001b[43m_parent\u001b[49m\u001b[38;5;241;43m.\u001b[39;49m\u001b[43mexecute\u001b[49m\u001b[43m(\u001b[49m\u001b[43mcommand\u001b[49m\u001b[43m,\u001b[49m\u001b[43m \u001b[49m\u001b[43mparams\u001b[49m\u001b[43m)\u001b[49m\n",
      "File \u001b[0;32m~/.pyenv/versions/3.8.16/envs/crawler/lib/python3.8/site-packages/selenium/webdriver/remote/webdriver.py:346\u001b[0m, in \u001b[0;36mWebDriver.execute\u001b[0;34m(self, driver_command, params)\u001b[0m\n\u001b[1;32m    344\u001b[0m response \u001b[38;5;241m=\u001b[39m \u001b[38;5;28mself\u001b[39m\u001b[38;5;241m.\u001b[39mcommand_executor\u001b[38;5;241m.\u001b[39mexecute(driver_command, params)\n\u001b[1;32m    345\u001b[0m \u001b[38;5;28;01mif\u001b[39;00m response:\n\u001b[0;32m--> 346\u001b[0m     \u001b[38;5;28;43mself\u001b[39;49m\u001b[38;5;241;43m.\u001b[39;49m\u001b[43merror_handler\u001b[49m\u001b[38;5;241;43m.\u001b[39;49m\u001b[43mcheck_response\u001b[49m\u001b[43m(\u001b[49m\u001b[43mresponse\u001b[49m\u001b[43m)\u001b[49m\n\u001b[1;32m    347\u001b[0m     response[\u001b[38;5;124m\"\u001b[39m\u001b[38;5;124mvalue\u001b[39m\u001b[38;5;124m\"\u001b[39m] \u001b[38;5;241m=\u001b[39m \u001b[38;5;28mself\u001b[39m\u001b[38;5;241m.\u001b[39m_unwrap_value(response\u001b[38;5;241m.\u001b[39mget(\u001b[38;5;124m\"\u001b[39m\u001b[38;5;124mvalue\u001b[39m\u001b[38;5;124m\"\u001b[39m, \u001b[38;5;28;01mNone\u001b[39;00m))\n\u001b[1;32m    348\u001b[0m     \u001b[38;5;28;01mreturn\u001b[39;00m response\n",
      "File \u001b[0;32m~/.pyenv/versions/3.8.16/envs/crawler/lib/python3.8/site-packages/selenium/webdriver/remote/errorhandler.py:245\u001b[0m, in \u001b[0;36mErrorHandler.check_response\u001b[0;34m(self, response)\u001b[0m\n\u001b[1;32m    243\u001b[0m         alert_text \u001b[38;5;241m=\u001b[39m value[\u001b[38;5;124m\"\u001b[39m\u001b[38;5;124malert\u001b[39m\u001b[38;5;124m\"\u001b[39m]\u001b[38;5;241m.\u001b[39mget(\u001b[38;5;124m\"\u001b[39m\u001b[38;5;124mtext\u001b[39m\u001b[38;5;124m\"\u001b[39m)\n\u001b[1;32m    244\u001b[0m     \u001b[38;5;28;01mraise\u001b[39;00m exception_class(message, screen, stacktrace, alert_text)  \u001b[38;5;66;03m# type: ignore[call-arg]  # mypy is not smart enough here\u001b[39;00m\n\u001b[0;32m--> 245\u001b[0m \u001b[38;5;28;01mraise\u001b[39;00m exception_class(message, screen, stacktrace)\n",
      "\u001b[0;31mElementClickInterceptedException\u001b[0m: Message: element click intercepted: Element <div dir=\"auto\" class=\"css-text-146c3p1 r-alignItems-1awozwy r-color-1khnkhu r-display-6koalj r-flexDirection-18u37iz r-fontFamily-1fdbu1n r-fontSize-1b43r93\">...</div> is not clickable at point (147, 7). Other element would receive the click: <div class=\"d3-o-nav__wrap\" data-require=\"modules/search\" data-require-loaded=\"true\">...</div>\n  (Session info: headless chrome=115.0.5790.170)\nStacktrace:\n0   chromedriver                        0x0000000103223dd0 chromedriver + 4226512\n1   chromedriver                        0x000000010321c37c chromedriver + 4195196\n2   chromedriver                        0x0000000102e60d68 chromedriver + 281960\n3   chromedriver                        0x0000000102ea26e8 chromedriver + 550632\n4   chromedriver                        0x0000000102ea0638 chromedriver + 542264\n5   chromedriver                        0x0000000102e9e548 chromedriver + 533832\n6   chromedriver                        0x0000000102e9d918 chromedriver + 530712\n7   chromedriver                        0x0000000102e91eec chromedriver + 483052\n8   chromedriver                        0x0000000102e91734 chromedriver + 481076\n9   chromedriver                        0x0000000102ed2c58 chromedriver + 748632\n10  chromedriver                        0x0000000102e8ff1c chromedriver + 474908\n11  chromedriver                        0x0000000102e90ef4 chromedriver + 478964\n12  chromedriver                        0x00000001031e5424 chromedriver + 3970084\n13  chromedriver                        0x00000001031e9578 chromedriver + 3986808\n14  chromedriver                        0x00000001031ef43c chromedriver + 4011068\n15  chromedriver                        0x00000001031ea184 chromedriver + 3989892\n16  chromedriver                        0x00000001031c2048 chromedriver + 3825736\n17  chromedriver                        0x0000000103205f10 chromedriver + 4103952\n18  chromedriver                        0x0000000103206068 chromedriver + 4104296\n19  chromedriver                        0x0000000103215db0 chromedriver + 4169136\n20  libsystem_pthread.dylib             0x000000019129e06c _pthread_start + 148\n21  libsystem_pthread.dylib             0x0000000191298e2c thread_start + 8\n"
     ]
    }
   ],
   "source": [
    "download_button.click()"
   ]
  },
  {
   "cell_type": "code",
   "execution_count": 70,
   "id": "d400f923",
   "metadata": {},
   "outputs": [],
   "source": [
    "driver.close()"
   ]
  },
  {
   "cell_type": "code",
   "execution_count": 76,
   "id": "4e11099e",
   "metadata": {},
   "outputs": [
    {
     "data": {
      "text/plain": [
       "'https://www.nfl.com/games/saints-at-falcons-2022-reg-1'"
      ]
     },
     "execution_count": 76,
     "metadata": {},
     "output_type": "execute_result"
    }
   ],
   "source": [
    "download_url = driver.current_url\n",
    "download_url"
   ]
  },
  {
   "cell_type": "code",
   "execution_count": null,
   "id": "0d5c504e",
   "metadata": {},
   "outputs": [],
   "source": []
  },
  {
   "cell_type": "code",
   "execution_count": 249,
   "id": "28d71db6",
   "metadata": {},
   "outputs": [
    {
     "data": {
      "text/plain": [
       "<selenium.webdriver.support.wait.WebDriverWait (session=\"8d74373b3d2c350a2adb56a9aec7304c\")>"
      ]
     },
     "execution_count": 249,
     "metadata": {},
     "output_type": "execute_result"
    }
   ],
   "source": [
    "try:\n",
    "    driver.close()\n",
    "except:\n",
    "    pass\n",
    "driver = webdriver.Chrome(options=options)\n",
    "url = \"https://www.nfl.com/games/saints-at-falcons-2022-reg-1\"\n",
    "driver.get(url)\n",
    "WebDriverWait(driver, timeout = 10)"
   ]
  },
  {
   "cell_type": "code",
   "execution_count": 250,
   "id": "1bafc9cf",
   "metadata": {},
   "outputs": [],
   "source": [
    "### CLose Cookies Ask\n",
    "try :\n",
    "    _path = '/html/body/div[7]/div[2]/div/div[1]/div/div[2]/div/button[2]'\n",
    "    cookies_button = driver.find_element(By.XPATH, _path)\n",
    "    cookies_button.click()\n",
    "except:\n",
    "    pass"
   ]
  },
  {
   "cell_type": "code",
   "execution_count": 265,
   "id": "0ef27c9e",
   "metadata": {},
   "outputs": [
    {
     "name": "stdout",
     "output_type": "stream",
     "text": [
      "16\n"
     ]
    }
   ],
   "source": [
    "buttons, size = get_buttons(driver)\n",
    "print(size)"
   ]
  },
  {
   "cell_type": "code",
   "execution_count": 266,
   "id": "e403c451",
   "metadata": {},
   "outputs": [
    {
     "data": {
      "text/plain": [
       "'https://www.nfl.com/scores/2022/REG1'"
      ]
     },
     "execution_count": 266,
     "metadata": {},
     "output_type": "execute_result"
    }
   ],
   "source": [
    "download_url = driver.current_url\n",
    "download_url"
   ]
  },
  {
   "cell_type": "code",
   "execution_count": 267,
   "id": "f96bfb0b",
   "metadata": {},
   "outputs": [
    {
     "data": {
      "text/plain": [
       "'Live NFL Scores - 2022 - WEEK 1 | NFL.com'"
      ]
     },
     "execution_count": 267,
     "metadata": {},
     "output_type": "execute_result"
    }
   ],
   "source": [
    "page_title = driver.title\n",
    "page_title"
   ]
  },
  {
   "cell_type": "code",
   "execution_count": 268,
   "id": "67775747",
   "metadata": {},
   "outputs": [],
   "source": [
    "home_tab = driver.current_window_handle\n",
    "child_tab = driver.current_window_handle"
   ]
  },
  {
   "cell_type": "code",
   "execution_count": 269,
   "id": "dd35fbe0",
   "metadata": {},
   "outputs": [
    {
     "ename": "NoSuchElementException",
     "evalue": "Message: no such element: Unable to locate element: {\"method\":\"xpath\",\"selector\":\"div[1]/div[3]/div[2]/div[0]\"}\n  (Session info: headless chrome=115.0.5790.170); For documentation on this error, please visit: https://www.selenium.dev/documentation/webdriver/troubleshooting/errors#no-such-element-exception\nStacktrace:\n0   chromedriver                        0x0000000104a1bdd0 chromedriver + 4226512\n1   chromedriver                        0x0000000104a1437c chromedriver + 4195196\n2   chromedriver                        0x0000000104658d68 chromedriver + 281960\n3   chromedriver                        0x0000000104693fc8 chromedriver + 524232\n4   chromedriver                        0x0000000104689734 chromedriver + 481076\n5   chromedriver                        0x00000001046cac58 chromedriver + 748632\n6   chromedriver                        0x0000000104687f1c chromedriver + 474908\n7   chromedriver                        0x0000000104688ef4 chromedriver + 478964\n8   chromedriver                        0x00000001049dd424 chromedriver + 3970084\n9   chromedriver                        0x00000001049e1578 chromedriver + 3986808\n10  chromedriver                        0x00000001049e743c chromedriver + 4011068\n11  chromedriver                        0x00000001049e2184 chromedriver + 3989892\n12  chromedriver                        0x00000001049ba048 chromedriver + 3825736\n13  chromedriver                        0x00000001049fdf10 chromedriver + 4103952\n14  chromedriver                        0x00000001049fe068 chromedriver + 4104296\n15  chromedriver                        0x0000000104a0ddb0 chromedriver + 4169136\n16  libsystem_pthread.dylib             0x000000019129e06c _pthread_start + 148\n17  libsystem_pthread.dylib             0x0000000191298e2c thread_start + 8\n",
     "output_type": "error",
     "traceback": [
      "\u001b[0;31m---------------------------------------------------------------------------\u001b[0m",
      "\u001b[0;31mNoSuchElementException\u001b[0m                    Traceback (most recent call last)",
      "Cell \u001b[0;32mIn[269], line 1\u001b[0m\n\u001b[0;32m----> 1\u001b[0m button \u001b[38;5;241m=\u001b[39m \u001b[43mget_button_by_index\u001b[49m\u001b[43m(\u001b[49m\u001b[43mdriver\u001b[49m\u001b[43m,\u001b[49m\u001b[43m \u001b[49m\u001b[38;5;241;43m0\u001b[39;49m\u001b[43m)\u001b[49m\n",
      "Cell \u001b[0;32mIn[262], line 8\u001b[0m, in \u001b[0;36mget_button_by_index\u001b[0;34m(driver, i)\u001b[0m\n\u001b[1;32m      6\u001b[0m \u001b[38;5;28;01mdef\u001b[39;00m \u001b[38;5;21mget_button_by_index\u001b[39m(driver,i):\n\u001b[1;32m      7\u001b[0m     buttons \u001b[38;5;241m=\u001b[39m driver\u001b[38;5;241m.\u001b[39mfind_elements(By\u001b[38;5;241m.\u001b[39mXPATH, \u001b[38;5;124m\"\u001b[39m\u001b[38;5;124m//button[@style=\u001b[39m\u001b[38;5;124m'\u001b[39m\u001b[38;5;124mborder-radius: 4px; transition-duration: 0s;\u001b[39m\u001b[38;5;124m'\u001b[39m\u001b[38;5;124m]\u001b[39m\u001b[38;5;124m\"\u001b[39m)\n\u001b[0;32m----> 8\u001b[0m     button \u001b[38;5;241m=\u001b[39m \u001b[43mbuttons\u001b[49m\u001b[43m[\u001b[49m\u001b[43mi\u001b[49m\u001b[43m]\u001b[49m\u001b[38;5;241;43m.\u001b[39;49m\u001b[43mfind_element\u001b[49m\u001b[43m(\u001b[49m\u001b[43mBy\u001b[49m\u001b[38;5;241;43m.\u001b[39;49m\u001b[43mXPATH\u001b[49m\u001b[43m,\u001b[49m\u001b[43m \u001b[49m\u001b[38;5;124;43m\"\u001b[39;49m\u001b[38;5;124;43mdiv[1]/div[3]/div[2]/div[0]\u001b[39;49m\u001b[38;5;124;43m\"\u001b[39;49m\u001b[43m)\u001b[49m\n\u001b[1;32m      9\u001b[0m     \u001b[38;5;28;01mreturn\u001b[39;00m button\n",
      "File \u001b[0;32m~/.pyenv/versions/3.8.16/envs/crawler/lib/python3.8/site-packages/selenium/webdriver/remote/webelement.py:417\u001b[0m, in \u001b[0;36mWebElement.find_element\u001b[0;34m(self, by, value)\u001b[0m\n\u001b[1;32m    414\u001b[0m     by \u001b[38;5;241m=\u001b[39m By\u001b[38;5;241m.\u001b[39mCSS_SELECTOR\n\u001b[1;32m    415\u001b[0m     value \u001b[38;5;241m=\u001b[39m \u001b[38;5;124mf\u001b[39m\u001b[38;5;124m'\u001b[39m\u001b[38;5;124m[name=\u001b[39m\u001b[38;5;124m\"\u001b[39m\u001b[38;5;132;01m{\u001b[39;00mvalue\u001b[38;5;132;01m}\u001b[39;00m\u001b[38;5;124m\"\u001b[39m\u001b[38;5;124m]\u001b[39m\u001b[38;5;124m'\u001b[39m\n\u001b[0;32m--> 417\u001b[0m \u001b[38;5;28;01mreturn\u001b[39;00m \u001b[38;5;28;43mself\u001b[39;49m\u001b[38;5;241;43m.\u001b[39;49m\u001b[43m_execute\u001b[49m\u001b[43m(\u001b[49m\u001b[43mCommand\u001b[49m\u001b[38;5;241;43m.\u001b[39;49m\u001b[43mFIND_CHILD_ELEMENT\u001b[49m\u001b[43m,\u001b[49m\u001b[43m \u001b[49m\u001b[43m{\u001b[49m\u001b[38;5;124;43m\"\u001b[39;49m\u001b[38;5;124;43musing\u001b[39;49m\u001b[38;5;124;43m\"\u001b[39;49m\u001b[43m:\u001b[49m\u001b[43m \u001b[49m\u001b[43mby\u001b[49m\u001b[43m,\u001b[49m\u001b[43m \u001b[49m\u001b[38;5;124;43m\"\u001b[39;49m\u001b[38;5;124;43mvalue\u001b[39;49m\u001b[38;5;124;43m\"\u001b[39;49m\u001b[43m:\u001b[49m\u001b[43m \u001b[49m\u001b[43mvalue\u001b[49m\u001b[43m}\u001b[49m\u001b[43m)\u001b[49m[\u001b[38;5;124m\"\u001b[39m\u001b[38;5;124mvalue\u001b[39m\u001b[38;5;124m\"\u001b[39m]\n",
      "File \u001b[0;32m~/.pyenv/versions/3.8.16/envs/crawler/lib/python3.8/site-packages/selenium/webdriver/remote/webelement.py:395\u001b[0m, in \u001b[0;36mWebElement._execute\u001b[0;34m(self, command, params)\u001b[0m\n\u001b[1;32m    393\u001b[0m     params \u001b[38;5;241m=\u001b[39m {}\n\u001b[1;32m    394\u001b[0m params[\u001b[38;5;124m\"\u001b[39m\u001b[38;5;124mid\u001b[39m\u001b[38;5;124m\"\u001b[39m] \u001b[38;5;241m=\u001b[39m \u001b[38;5;28mself\u001b[39m\u001b[38;5;241m.\u001b[39m_id\n\u001b[0;32m--> 395\u001b[0m \u001b[38;5;28;01mreturn\u001b[39;00m \u001b[38;5;28;43mself\u001b[39;49m\u001b[38;5;241;43m.\u001b[39;49m\u001b[43m_parent\u001b[49m\u001b[38;5;241;43m.\u001b[39;49m\u001b[43mexecute\u001b[49m\u001b[43m(\u001b[49m\u001b[43mcommand\u001b[49m\u001b[43m,\u001b[49m\u001b[43m \u001b[49m\u001b[43mparams\u001b[49m\u001b[43m)\u001b[49m\n",
      "File \u001b[0;32m~/.pyenv/versions/3.8.16/envs/crawler/lib/python3.8/site-packages/selenium/webdriver/remote/webdriver.py:346\u001b[0m, in \u001b[0;36mWebDriver.execute\u001b[0;34m(self, driver_command, params)\u001b[0m\n\u001b[1;32m    344\u001b[0m response \u001b[38;5;241m=\u001b[39m \u001b[38;5;28mself\u001b[39m\u001b[38;5;241m.\u001b[39mcommand_executor\u001b[38;5;241m.\u001b[39mexecute(driver_command, params)\n\u001b[1;32m    345\u001b[0m \u001b[38;5;28;01mif\u001b[39;00m response:\n\u001b[0;32m--> 346\u001b[0m     \u001b[38;5;28;43mself\u001b[39;49m\u001b[38;5;241;43m.\u001b[39;49m\u001b[43merror_handler\u001b[49m\u001b[38;5;241;43m.\u001b[39;49m\u001b[43mcheck_response\u001b[49m\u001b[43m(\u001b[49m\u001b[43mresponse\u001b[49m\u001b[43m)\u001b[49m\n\u001b[1;32m    347\u001b[0m     response[\u001b[38;5;124m\"\u001b[39m\u001b[38;5;124mvalue\u001b[39m\u001b[38;5;124m\"\u001b[39m] \u001b[38;5;241m=\u001b[39m \u001b[38;5;28mself\u001b[39m\u001b[38;5;241m.\u001b[39m_unwrap_value(response\u001b[38;5;241m.\u001b[39mget(\u001b[38;5;124m\"\u001b[39m\u001b[38;5;124mvalue\u001b[39m\u001b[38;5;124m\"\u001b[39m, \u001b[38;5;28;01mNone\u001b[39;00m))\n\u001b[1;32m    348\u001b[0m     \u001b[38;5;28;01mreturn\u001b[39;00m response\n",
      "File \u001b[0;32m~/.pyenv/versions/3.8.16/envs/crawler/lib/python3.8/site-packages/selenium/webdriver/remote/errorhandler.py:245\u001b[0m, in \u001b[0;36mErrorHandler.check_response\u001b[0;34m(self, response)\u001b[0m\n\u001b[1;32m    243\u001b[0m         alert_text \u001b[38;5;241m=\u001b[39m value[\u001b[38;5;124m\"\u001b[39m\u001b[38;5;124malert\u001b[39m\u001b[38;5;124m\"\u001b[39m]\u001b[38;5;241m.\u001b[39mget(\u001b[38;5;124m\"\u001b[39m\u001b[38;5;124mtext\u001b[39m\u001b[38;5;124m\"\u001b[39m)\n\u001b[1;32m    244\u001b[0m     \u001b[38;5;28;01mraise\u001b[39;00m exception_class(message, screen, stacktrace, alert_text)  \u001b[38;5;66;03m# type: ignore[call-arg]  # mypy is not smart enough here\u001b[39;00m\n\u001b[0;32m--> 245\u001b[0m \u001b[38;5;28;01mraise\u001b[39;00m exception_class(message, screen, stacktrace)\n",
      "\u001b[0;31mNoSuchElementException\u001b[0m: Message: no such element: Unable to locate element: {\"method\":\"xpath\",\"selector\":\"div[1]/div[3]/div[2]/div[0]\"}\n  (Session info: headless chrome=115.0.5790.170); For documentation on this error, please visit: https://www.selenium.dev/documentation/webdriver/troubleshooting/errors#no-such-element-exception\nStacktrace:\n0   chromedriver                        0x0000000104a1bdd0 chromedriver + 4226512\n1   chromedriver                        0x0000000104a1437c chromedriver + 4195196\n2   chromedriver                        0x0000000104658d68 chromedriver + 281960\n3   chromedriver                        0x0000000104693fc8 chromedriver + 524232\n4   chromedriver                        0x0000000104689734 chromedriver + 481076\n5   chromedriver                        0x00000001046cac58 chromedriver + 748632\n6   chromedriver                        0x0000000104687f1c chromedriver + 474908\n7   chromedriver                        0x0000000104688ef4 chromedriver + 478964\n8   chromedriver                        0x00000001049dd424 chromedriver + 3970084\n9   chromedriver                        0x00000001049e1578 chromedriver + 3986808\n10  chromedriver                        0x00000001049e743c chromedriver + 4011068\n11  chromedriver                        0x00000001049e2184 chromedriver + 3989892\n12  chromedriver                        0x00000001049ba048 chromedriver + 3825736\n13  chromedriver                        0x00000001049fdf10 chromedriver + 4103952\n14  chromedriver                        0x00000001049fe068 chromedriver + 4104296\n15  chromedriver                        0x0000000104a0ddb0 chromedriver + 4169136\n16  libsystem_pthread.dylib             0x000000019129e06c _pthread_start + 148\n17  libsystem_pthread.dylib             0x0000000191298e2c thread_start + 8\n"
     ]
    }
   ],
   "source": [
    "button = get_button_by_index(driver, 0)"
   ]
  },
  {
   "cell_type": "code",
   "execution_count": 261,
   "id": "76c0c8b5",
   "metadata": {},
   "outputs": [
    {
     "ename": "ElementClickInterceptedException",
     "evalue": "Message: element click intercepted: Element <button role=\"button\" class=\"css-view-175oi2r r-transitionProperty-1i6wzkk r-userSelect-lrvibr r-cursor-1loqt21 r-touchAction-1otgn73 r-alignItems-1awozwy r-backgroundColor-14lw9ot r-boxShadow-1gmnr91 r-flexDirection-18u37iz r-marginBottom-15zivkp r-width-13qz1uu\" type=\"button\" style=\"border-radius: 4px; transition-duration: 0s;\">...</button> is not clickable at point (400, 491). Other element would receive the click: <div class=\"css-view-175oi2r r-alignItems-1awozwy r-backgroundColor-kemksi r-borderColor-1xc7w19 r-borderStyle-1phboty r-borderWidth-d045u9 r-bottom-qpteyv r-boxSizing-deolkf r-height-4d76ec r-justifyContent-1777fci r-objectFit-12mrs02 r-overflow-1udh08x r-position-1xcajam r-right-hxu0ph r-transform-wttlim r-width-1hycxz\" id=\"play-action-tl1texir0\" data-testid=\"video\">...</div>\n  (Session info: headless chrome=115.0.5790.170)\nStacktrace:\n0   chromedriver                        0x0000000104a1bdd0 chromedriver + 4226512\n1   chromedriver                        0x0000000104a1437c chromedriver + 4195196\n2   chromedriver                        0x0000000104658d68 chromedriver + 281960\n3   chromedriver                        0x000000010469a6e8 chromedriver + 550632\n4   chromedriver                        0x0000000104698638 chromedriver + 542264\n5   chromedriver                        0x0000000104696548 chromedriver + 533832\n6   chromedriver                        0x0000000104695918 chromedriver + 530712\n7   chromedriver                        0x0000000104689eec chromedriver + 483052\n8   chromedriver                        0x0000000104689734 chromedriver + 481076\n9   chromedriver                        0x00000001046cac58 chromedriver + 748632\n10  chromedriver                        0x0000000104687f1c chromedriver + 474908\n11  chromedriver                        0x0000000104688ef4 chromedriver + 478964\n12  chromedriver                        0x00000001049dd424 chromedriver + 3970084\n13  chromedriver                        0x00000001049e1578 chromedriver + 3986808\n14  chromedriver                        0x00000001049e743c chromedriver + 4011068\n15  chromedriver                        0x00000001049e2184 chromedriver + 3989892\n16  chromedriver                        0x00000001049ba048 chromedriver + 3825736\n17  chromedriver                        0x00000001049fdf10 chromedriver + 4103952\n18  chromedriver                        0x00000001049fe068 chromedriver + 4104296\n19  chromedriver                        0x0000000104a0ddb0 chromedriver + 4169136\n20  libsystem_pthread.dylib             0x000000019129e06c _pthread_start + 148\n21  libsystem_pthread.dylib             0x0000000191298e2c thread_start + 8\n",
     "output_type": "error",
     "traceback": [
      "\u001b[0;31m---------------------------------------------------------------------------\u001b[0m",
      "\u001b[0;31mElementClickInterceptedException\u001b[0m          Traceback (most recent call last)",
      "Cell \u001b[0;32mIn[261], line 1\u001b[0m\n\u001b[0;32m----> 1\u001b[0m \u001b[43mbutton\u001b[49m\u001b[38;5;241;43m.\u001b[39;49m\u001b[43mclick\u001b[49m\u001b[43m(\u001b[49m\u001b[43m)\u001b[49m\n",
      "File \u001b[0;32m~/.pyenv/versions/3.8.16/envs/crawler/lib/python3.8/site-packages/selenium/webdriver/remote/webelement.py:94\u001b[0m, in \u001b[0;36mWebElement.click\u001b[0;34m(self)\u001b[0m\n\u001b[1;32m     92\u001b[0m \u001b[38;5;28;01mdef\u001b[39;00m \u001b[38;5;21mclick\u001b[39m(\u001b[38;5;28mself\u001b[39m) \u001b[38;5;241m-\u001b[39m\u001b[38;5;241m>\u001b[39m \u001b[38;5;28;01mNone\u001b[39;00m:\n\u001b[1;32m     93\u001b[0m \u001b[38;5;250m    \u001b[39m\u001b[38;5;124;03m\"\"\"Clicks the element.\"\"\"\u001b[39;00m\n\u001b[0;32m---> 94\u001b[0m     \u001b[38;5;28;43mself\u001b[39;49m\u001b[38;5;241;43m.\u001b[39;49m\u001b[43m_execute\u001b[49m\u001b[43m(\u001b[49m\u001b[43mCommand\u001b[49m\u001b[38;5;241;43m.\u001b[39;49m\u001b[43mCLICK_ELEMENT\u001b[49m\u001b[43m)\u001b[49m\n",
      "File \u001b[0;32m~/.pyenv/versions/3.8.16/envs/crawler/lib/python3.8/site-packages/selenium/webdriver/remote/webelement.py:395\u001b[0m, in \u001b[0;36mWebElement._execute\u001b[0;34m(self, command, params)\u001b[0m\n\u001b[1;32m    393\u001b[0m     params \u001b[38;5;241m=\u001b[39m {}\n\u001b[1;32m    394\u001b[0m params[\u001b[38;5;124m\"\u001b[39m\u001b[38;5;124mid\u001b[39m\u001b[38;5;124m\"\u001b[39m] \u001b[38;5;241m=\u001b[39m \u001b[38;5;28mself\u001b[39m\u001b[38;5;241m.\u001b[39m_id\n\u001b[0;32m--> 395\u001b[0m \u001b[38;5;28;01mreturn\u001b[39;00m \u001b[38;5;28;43mself\u001b[39;49m\u001b[38;5;241;43m.\u001b[39;49m\u001b[43m_parent\u001b[49m\u001b[38;5;241;43m.\u001b[39;49m\u001b[43mexecute\u001b[49m\u001b[43m(\u001b[49m\u001b[43mcommand\u001b[49m\u001b[43m,\u001b[49m\u001b[43m \u001b[49m\u001b[43mparams\u001b[49m\u001b[43m)\u001b[49m\n",
      "File \u001b[0;32m~/.pyenv/versions/3.8.16/envs/crawler/lib/python3.8/site-packages/selenium/webdriver/remote/webdriver.py:346\u001b[0m, in \u001b[0;36mWebDriver.execute\u001b[0;34m(self, driver_command, params)\u001b[0m\n\u001b[1;32m    344\u001b[0m response \u001b[38;5;241m=\u001b[39m \u001b[38;5;28mself\u001b[39m\u001b[38;5;241m.\u001b[39mcommand_executor\u001b[38;5;241m.\u001b[39mexecute(driver_command, params)\n\u001b[1;32m    345\u001b[0m \u001b[38;5;28;01mif\u001b[39;00m response:\n\u001b[0;32m--> 346\u001b[0m     \u001b[38;5;28;43mself\u001b[39;49m\u001b[38;5;241;43m.\u001b[39;49m\u001b[43merror_handler\u001b[49m\u001b[38;5;241;43m.\u001b[39;49m\u001b[43mcheck_response\u001b[49m\u001b[43m(\u001b[49m\u001b[43mresponse\u001b[49m\u001b[43m)\u001b[49m\n\u001b[1;32m    347\u001b[0m     response[\u001b[38;5;124m\"\u001b[39m\u001b[38;5;124mvalue\u001b[39m\u001b[38;5;124m\"\u001b[39m] \u001b[38;5;241m=\u001b[39m \u001b[38;5;28mself\u001b[39m\u001b[38;5;241m.\u001b[39m_unwrap_value(response\u001b[38;5;241m.\u001b[39mget(\u001b[38;5;124m\"\u001b[39m\u001b[38;5;124mvalue\u001b[39m\u001b[38;5;124m\"\u001b[39m, \u001b[38;5;28;01mNone\u001b[39;00m))\n\u001b[1;32m    348\u001b[0m     \u001b[38;5;28;01mreturn\u001b[39;00m response\n",
      "File \u001b[0;32m~/.pyenv/versions/3.8.16/envs/crawler/lib/python3.8/site-packages/selenium/webdriver/remote/errorhandler.py:245\u001b[0m, in \u001b[0;36mErrorHandler.check_response\u001b[0;34m(self, response)\u001b[0m\n\u001b[1;32m    243\u001b[0m         alert_text \u001b[38;5;241m=\u001b[39m value[\u001b[38;5;124m\"\u001b[39m\u001b[38;5;124malert\u001b[39m\u001b[38;5;124m\"\u001b[39m]\u001b[38;5;241m.\u001b[39mget(\u001b[38;5;124m\"\u001b[39m\u001b[38;5;124mtext\u001b[39m\u001b[38;5;124m\"\u001b[39m)\n\u001b[1;32m    244\u001b[0m     \u001b[38;5;28;01mraise\u001b[39;00m exception_class(message, screen, stacktrace, alert_text)  \u001b[38;5;66;03m# type: ignore[call-arg]  # mypy is not smart enough here\u001b[39;00m\n\u001b[0;32m--> 245\u001b[0m \u001b[38;5;28;01mraise\u001b[39;00m exception_class(message, screen, stacktrace)\n",
      "\u001b[0;31mElementClickInterceptedException\u001b[0m: Message: element click intercepted: Element <button role=\"button\" class=\"css-view-175oi2r r-transitionProperty-1i6wzkk r-userSelect-lrvibr r-cursor-1loqt21 r-touchAction-1otgn73 r-alignItems-1awozwy r-backgroundColor-14lw9ot r-boxShadow-1gmnr91 r-flexDirection-18u37iz r-marginBottom-15zivkp r-width-13qz1uu\" type=\"button\" style=\"border-radius: 4px; transition-duration: 0s;\">...</button> is not clickable at point (400, 491). Other element would receive the click: <div class=\"css-view-175oi2r r-alignItems-1awozwy r-backgroundColor-kemksi r-borderColor-1xc7w19 r-borderStyle-1phboty r-borderWidth-d045u9 r-bottom-qpteyv r-boxSizing-deolkf r-height-4d76ec r-justifyContent-1777fci r-objectFit-12mrs02 r-overflow-1udh08x r-position-1xcajam r-right-hxu0ph r-transform-wttlim r-width-1hycxz\" id=\"play-action-tl1texir0\" data-testid=\"video\">...</div>\n  (Session info: headless chrome=115.0.5790.170)\nStacktrace:\n0   chromedriver                        0x0000000104a1bdd0 chromedriver + 4226512\n1   chromedriver                        0x0000000104a1437c chromedriver + 4195196\n2   chromedriver                        0x0000000104658d68 chromedriver + 281960\n3   chromedriver                        0x000000010469a6e8 chromedriver + 550632\n4   chromedriver                        0x0000000104698638 chromedriver + 542264\n5   chromedriver                        0x0000000104696548 chromedriver + 533832\n6   chromedriver                        0x0000000104695918 chromedriver + 530712\n7   chromedriver                        0x0000000104689eec chromedriver + 483052\n8   chromedriver                        0x0000000104689734 chromedriver + 481076\n9   chromedriver                        0x00000001046cac58 chromedriver + 748632\n10  chromedriver                        0x0000000104687f1c chromedriver + 474908\n11  chromedriver                        0x0000000104688ef4 chromedriver + 478964\n12  chromedriver                        0x00000001049dd424 chromedriver + 3970084\n13  chromedriver                        0x00000001049e1578 chromedriver + 3986808\n14  chromedriver                        0x00000001049e743c chromedriver + 4011068\n15  chromedriver                        0x00000001049e2184 chromedriver + 3989892\n16  chromedriver                        0x00000001049ba048 chromedriver + 3825736\n17  chromedriver                        0x00000001049fdf10 chromedriver + 4103952\n18  chromedriver                        0x00000001049fe068 chromedriver + 4104296\n19  chromedriver                        0x0000000104a0ddb0 chromedriver + 4169136\n20  libsystem_pthread.dylib             0x000000019129e06c _pthread_start + 148\n21  libsystem_pthread.dylib             0x0000000191298e2c thread_start + 8\n"
     ]
    }
   ],
   "source": [
    "button.click()"
   ]
  },
  {
   "cell_type": "code",
   "execution_count": 238,
   "id": "3bf4bcba",
   "metadata": {},
   "outputs": [
    {
     "data": {
      "text/plain": [
       "'New Orleans Saints at Atlanta Falcons 2022 REG 1 - Game Center'"
      ]
     },
     "execution_count": 238,
     "metadata": {},
     "output_type": "execute_result"
    }
   ],
   "source": [
    "page_title = driver.title\n",
    "page_title"
   ]
  },
  {
   "cell_type": "code",
   "execution_count": 239,
   "id": "fea303a3",
   "metadata": {},
   "outputs": [],
   "source": [
    "driver.back()"
   ]
  },
  {
   "cell_type": "code",
   "execution_count": 124,
   "id": "1315e76b",
   "metadata": {},
   "outputs": [],
   "source": [
    "url = \"https://www.nfl.com/games/saints-at-falcons-2022-reg-1\"\n",
    "driver.get(url)"
   ]
  },
  {
   "cell_type": "code",
   "execution_count": 125,
   "id": "840b4ed2",
   "metadata": {},
   "outputs": [],
   "source": [
    "buttons = driver.find_elements(By.XPATH, \"//div[@data-testid='gamecenter-cta-btns-container']\")"
   ]
  },
  {
   "cell_type": "code",
   "execution_count": 126,
   "id": "5e957ba2",
   "metadata": {},
   "outputs": [],
   "source": [
    "download_button = buttons[0].find_element(By.XPATH, \"div/div/div/div/button/div[1]/div\")"
   ]
  },
  {
   "cell_type": "code",
   "execution_count": 132,
   "id": "c646fcee",
   "metadata": {},
   "outputs": [
    {
     "data": {
      "text/plain": [
       "'https://www.nfl.com/games/saints-at-falcons-2022-reg-1'"
      ]
     },
     "execution_count": 132,
     "metadata": {},
     "output_type": "execute_result"
    }
   ],
   "source": [
    "download_url = driver.current_url\n",
    "download_url"
   ]
  },
  {
   "cell_type": "code",
   "execution_count": 133,
   "id": "8ec3f327",
   "metadata": {},
   "outputs": [
    {
     "data": {
      "text/plain": [
       "'New Orleans Saints at Atlanta Falcons 2022 REG 1 - Game Center'"
      ]
     },
     "execution_count": 133,
     "metadata": {},
     "output_type": "execute_result"
    }
   ],
   "source": [
    "page_title = driver.title\n",
    "page_title"
   ]
  },
  {
   "cell_type": "code",
   "execution_count": null,
   "id": "030c117b",
   "metadata": {},
   "outputs": [],
   "source": []
  },
  {
   "cell_type": "code",
   "execution_count": 129,
   "id": "249d2525",
   "metadata": {},
   "outputs": [],
   "source": [
    "driver.execute_script(\"arguments[0].target='_self';\", download_button)\n",
    "download_button.click()"
   ]
  },
  {
   "cell_type": "code",
   "execution_count": 544,
   "id": "220552d5",
   "metadata": {},
   "outputs": [
    {
     "data": {
      "text/plain": [
       "{'class': 'css-text-146c3p1 r-alignItems-1awozwy r-color-1khnkhu r-display-6koalj r-flexDirection-18u37iz r-fontFamily-1fdbu1n r-fontSize-1b43r93',\n",
       " 'dir': 'auto'}"
      ]
     },
     "execution_count": 544,
     "metadata": {},
     "output_type": "execute_result"
    }
   ],
   "source": [
    "driver.execute_script('var items = {}; for (index = 0; index < arguments[0].attributes.length; ++index) { items[arguments[0].attributes[index].name] = arguments[0].attributes[index].value }; return items;', download_button)"
   ]
  },
  {
   "cell_type": "code",
   "execution_count": 96,
   "id": "ceed048c",
   "metadata": {},
   "outputs": [
    {
     "data": {
      "text/plain": [
       "'D3696429DA64CAAF7B23482B09561A26'"
      ]
     },
     "execution_count": 96,
     "metadata": {},
     "output_type": "execute_result"
    }
   ],
   "source": [
    "child_tab"
   ]
  },
  {
   "cell_type": "code",
   "execution_count": 97,
   "id": "c7cccdbd",
   "metadata": {},
   "outputs": [
    {
     "data": {
      "text/plain": [
       "'E983A66020412EBF83A656BF84F37108'"
      ]
     },
     "execution_count": 97,
     "metadata": {},
     "output_type": "execute_result"
    }
   ],
   "source": [
    "home_tab"
   ]
  },
  {
   "cell_type": "code",
   "execution_count": 101,
   "id": "8868c1b2",
   "metadata": {},
   "outputs": [],
   "source": [
    "driver.switch_to.window(child_tab)"
   ]
  },
  {
   "cell_type": "code",
   "execution_count": 102,
   "id": "ddb36385",
   "metadata": {},
   "outputs": [
    {
     "ename": "TimeoutException",
     "evalue": "Message: timeout: Timed out receiving message from renderer: 300.000\n  (Session info: headless chrome=115.0.5790.170)\nStacktrace:\n0   chromedriver                        0x00000001046bfdd0 chromedriver + 4226512\n1   chromedriver                        0x00000001046b837c chromedriver + 4195196\n2   chromedriver                        0x00000001042fcd68 chromedriver + 281960\n3   chromedriver                        0x00000001042e69b8 chromedriver + 190904\n4   chromedriver                        0x00000001042e66e0 chromedriver + 190176\n5   chromedriver                        0x00000001042e5304 chromedriver + 185092\n6   chromedriver                        0x00000001042e578c chromedriver + 186252\n7   chromedriver                        0x00000001042f3514 chromedriver + 242964\n8   chromedriver                        0x000000010430703c chromedriver + 323644\n9   chromedriver                        0x00000001042e5c8c chromedriver + 187532\n10  chromedriver                        0x0000000104306e88 chromedriver + 323208\n11  chromedriver                        0x000000010436ebc4 chromedriver + 748484\n12  chromedriver                        0x000000010432bf1c chromedriver + 474908\n13  chromedriver                        0x000000010432cef4 chromedriver + 478964\n14  chromedriver                        0x0000000104681424 chromedriver + 3970084\n15  chromedriver                        0x0000000104685578 chromedriver + 3986808\n16  chromedriver                        0x000000010468b43c chromedriver + 4011068\n17  chromedriver                        0x0000000104686184 chromedriver + 3989892\n18  chromedriver                        0x000000010465e048 chromedriver + 3825736\n19  chromedriver                        0x00000001046a1f10 chromedriver + 4103952\n20  chromedriver                        0x00000001046a2068 chromedriver + 4104296\n21  chromedriver                        0x00000001046b1db0 chromedriver + 4169136\n22  libsystem_pthread.dylib             0x000000019129e06c _pthread_start + 148\n23  libsystem_pthread.dylib             0x0000000191298e2c thread_start + 8\n",
     "output_type": "error",
     "traceback": [
      "\u001b[0;31m---------------------------------------------------------------------------\u001b[0m",
      "\u001b[0;31mTimeoutException\u001b[0m                          Traceback (most recent call last)",
      "Cell \u001b[0;32mIn[102], line 1\u001b[0m\n\u001b[0;32m----> 1\u001b[0m page_title \u001b[38;5;241m=\u001b[39m \u001b[43mdriver\u001b[49m\u001b[38;5;241;43m.\u001b[39;49m\u001b[43mtitle\u001b[49m\n\u001b[1;32m      2\u001b[0m page_title\n",
      "File \u001b[0;32m~/.pyenv/versions/3.8.16/envs/crawler/lib/python3.8/site-packages/selenium/webdriver/remote/webdriver.py:366\u001b[0m, in \u001b[0;36mWebDriver.title\u001b[0;34m(self)\u001b[0m\n\u001b[1;32m    357\u001b[0m \u001b[38;5;129m@property\u001b[39m\n\u001b[1;32m    358\u001b[0m \u001b[38;5;28;01mdef\u001b[39;00m \u001b[38;5;21mtitle\u001b[39m(\u001b[38;5;28mself\u001b[39m) \u001b[38;5;241m-\u001b[39m\u001b[38;5;241m>\u001b[39m \u001b[38;5;28mstr\u001b[39m:\n\u001b[1;32m    359\u001b[0m \u001b[38;5;250m    \u001b[39m\u001b[38;5;124;03m\"\"\"Returns the title of the current page.\u001b[39;00m\n\u001b[1;32m    360\u001b[0m \n\u001b[1;32m    361\u001b[0m \u001b[38;5;124;03m    :Usage:\u001b[39;00m\n\u001b[0;32m   (...)\u001b[0m\n\u001b[1;32m    364\u001b[0m \u001b[38;5;124;03m            title = driver.title\u001b[39;00m\n\u001b[1;32m    365\u001b[0m \u001b[38;5;124;03m    \"\"\"\u001b[39;00m\n\u001b[0;32m--> 366\u001b[0m     \u001b[38;5;28;01mreturn\u001b[39;00m \u001b[38;5;28;43mself\u001b[39;49m\u001b[38;5;241;43m.\u001b[39;49m\u001b[43mexecute\u001b[49m\u001b[43m(\u001b[49m\u001b[43mCommand\u001b[49m\u001b[38;5;241;43m.\u001b[39;49m\u001b[43mGET_TITLE\u001b[49m\u001b[43m)\u001b[49m\u001b[38;5;241m.\u001b[39mget(\u001b[38;5;124m\"\u001b[39m\u001b[38;5;124mvalue\u001b[39m\u001b[38;5;124m\"\u001b[39m, \u001b[38;5;124m\"\u001b[39m\u001b[38;5;124m\"\u001b[39m)\n",
      "File \u001b[0;32m~/.pyenv/versions/3.8.16/envs/crawler/lib/python3.8/site-packages/selenium/webdriver/remote/webdriver.py:346\u001b[0m, in \u001b[0;36mWebDriver.execute\u001b[0;34m(self, driver_command, params)\u001b[0m\n\u001b[1;32m    344\u001b[0m response \u001b[38;5;241m=\u001b[39m \u001b[38;5;28mself\u001b[39m\u001b[38;5;241m.\u001b[39mcommand_executor\u001b[38;5;241m.\u001b[39mexecute(driver_command, params)\n\u001b[1;32m    345\u001b[0m \u001b[38;5;28;01mif\u001b[39;00m response:\n\u001b[0;32m--> 346\u001b[0m     \u001b[38;5;28;43mself\u001b[39;49m\u001b[38;5;241;43m.\u001b[39;49m\u001b[43merror_handler\u001b[49m\u001b[38;5;241;43m.\u001b[39;49m\u001b[43mcheck_response\u001b[49m\u001b[43m(\u001b[49m\u001b[43mresponse\u001b[49m\u001b[43m)\u001b[49m\n\u001b[1;32m    347\u001b[0m     response[\u001b[38;5;124m\"\u001b[39m\u001b[38;5;124mvalue\u001b[39m\u001b[38;5;124m\"\u001b[39m] \u001b[38;5;241m=\u001b[39m \u001b[38;5;28mself\u001b[39m\u001b[38;5;241m.\u001b[39m_unwrap_value(response\u001b[38;5;241m.\u001b[39mget(\u001b[38;5;124m\"\u001b[39m\u001b[38;5;124mvalue\u001b[39m\u001b[38;5;124m\"\u001b[39m, \u001b[38;5;28;01mNone\u001b[39;00m))\n\u001b[1;32m    348\u001b[0m     \u001b[38;5;28;01mreturn\u001b[39;00m response\n",
      "File \u001b[0;32m~/.pyenv/versions/3.8.16/envs/crawler/lib/python3.8/site-packages/selenium/webdriver/remote/errorhandler.py:245\u001b[0m, in \u001b[0;36mErrorHandler.check_response\u001b[0;34m(self, response)\u001b[0m\n\u001b[1;32m    243\u001b[0m         alert_text \u001b[38;5;241m=\u001b[39m value[\u001b[38;5;124m\"\u001b[39m\u001b[38;5;124malert\u001b[39m\u001b[38;5;124m\"\u001b[39m]\u001b[38;5;241m.\u001b[39mget(\u001b[38;5;124m\"\u001b[39m\u001b[38;5;124mtext\u001b[39m\u001b[38;5;124m\"\u001b[39m)\n\u001b[1;32m    244\u001b[0m     \u001b[38;5;28;01mraise\u001b[39;00m exception_class(message, screen, stacktrace, alert_text)  \u001b[38;5;66;03m# type: ignore[call-arg]  # mypy is not smart enough here\u001b[39;00m\n\u001b[0;32m--> 245\u001b[0m \u001b[38;5;28;01mraise\u001b[39;00m exception_class(message, screen, stacktrace)\n",
      "\u001b[0;31mTimeoutException\u001b[0m: Message: timeout: Timed out receiving message from renderer: 300.000\n  (Session info: headless chrome=115.0.5790.170)\nStacktrace:\n0   chromedriver                        0x00000001046bfdd0 chromedriver + 4226512\n1   chromedriver                        0x00000001046b837c chromedriver + 4195196\n2   chromedriver                        0x00000001042fcd68 chromedriver + 281960\n3   chromedriver                        0x00000001042e69b8 chromedriver + 190904\n4   chromedriver                        0x00000001042e66e0 chromedriver + 190176\n5   chromedriver                        0x00000001042e5304 chromedriver + 185092\n6   chromedriver                        0x00000001042e578c chromedriver + 186252\n7   chromedriver                        0x00000001042f3514 chromedriver + 242964\n8   chromedriver                        0x000000010430703c chromedriver + 323644\n9   chromedriver                        0x00000001042e5c8c chromedriver + 187532\n10  chromedriver                        0x0000000104306e88 chromedriver + 323208\n11  chromedriver                        0x000000010436ebc4 chromedriver + 748484\n12  chromedriver                        0x000000010432bf1c chromedriver + 474908\n13  chromedriver                        0x000000010432cef4 chromedriver + 478964\n14  chromedriver                        0x0000000104681424 chromedriver + 3970084\n15  chromedriver                        0x0000000104685578 chromedriver + 3986808\n16  chromedriver                        0x000000010468b43c chromedriver + 4011068\n17  chromedriver                        0x0000000104686184 chromedriver + 3989892\n18  chromedriver                        0x000000010465e048 chromedriver + 3825736\n19  chromedriver                        0x00000001046a1f10 chromedriver + 4103952\n20  chromedriver                        0x00000001046a2068 chromedriver + 4104296\n21  chromedriver                        0x00000001046b1db0 chromedriver + 4169136\n22  libsystem_pthread.dylib             0x000000019129e06c _pthread_start + 148\n23  libsystem_pthread.dylib             0x0000000191298e2c thread_start + 8\n"
     ]
    }
   ],
   "source": [
    "page_title = driver.title\n",
    "page_title"
   ]
  },
  {
   "cell_type": "code",
   "execution_count": 100,
   "id": "6114a8d0",
   "metadata": {},
   "outputs": [
    {
     "data": {
      "text/plain": [
       "'https://www.nfl.com/games/saints-at-falcons-2022-reg-1?active-tab=watch'"
      ]
     },
     "execution_count": 100,
     "metadata": {},
     "output_type": "execute_result"
    }
   ],
   "source": [
    "download_url = driver.current_url\n",
    "download_url"
   ]
  },
  {
   "cell_type": "code",
   "execution_count": 73,
   "id": "abb9f199",
   "metadata": {},
   "outputs": [
    {
     "data": {
      "text/plain": [
       "2"
      ]
     },
     "execution_count": 73,
     "metadata": {},
     "output_type": "execute_result"
    }
   ],
   "source": [
    "len(all_windows)"
   ]
  },
  {
   "cell_type": "code",
   "execution_count": 134,
   "id": "89bc6686",
   "metadata": {},
   "outputs": [],
   "source": [
    "all_windows = driver.window_handles\n",
    "for w in all_windows:\n",
    "    if( w != home_tab):\n",
    "        child_tab = w\n",
    "        driver.switch_to.window(w)\n",
    "        break\n",
    "driver.switch_to.window(child_tab)"
   ]
  },
  {
   "cell_type": "code",
   "execution_count": 45,
   "id": "412cc279",
   "metadata": {},
   "outputs": [
    {
     "data": {
      "text/plain": [
       "'6DDDCC2197BBB243E5AB7C4F23FB6FB9'"
      ]
     },
     "execution_count": 45,
     "metadata": {},
     "output_type": "execute_result"
    }
   ],
   "source": [
    "child_tab"
   ]
  },
  {
   "cell_type": "code",
   "execution_count": 46,
   "id": "fdd9e29e",
   "metadata": {},
   "outputs": [
    {
     "data": {
      "text/plain": [
       "'5F583608200833EDEFAD5E5E9704E222'"
      ]
     },
     "execution_count": 46,
     "metadata": {},
     "output_type": "execute_result"
    }
   ],
   "source": [
    "home_tab"
   ]
  },
  {
   "cell_type": "code",
   "execution_count": 47,
   "id": "47f394a8",
   "metadata": {},
   "outputs": [],
   "source": [
    "driver.switch_to.window(home_tab)"
   ]
  },
  {
   "cell_type": "code",
   "execution_count": 135,
   "id": "c586c78f",
   "metadata": {},
   "outputs": [
    {
     "ename": "TimeoutException",
     "evalue": "Message: timeout: Timed out receiving message from renderer: 300.000\n  (Session info: headless chrome=115.0.5790.170)\nStacktrace:\n0   chromedriver                        0x00000001012ffdd0 chromedriver + 4226512\n1   chromedriver                        0x00000001012f837c chromedriver + 4195196\n2   chromedriver                        0x0000000100f3cd68 chromedriver + 281960\n3   chromedriver                        0x0000000100f269b8 chromedriver + 190904\n4   chromedriver                        0x0000000100f266e0 chromedriver + 190176\n5   chromedriver                        0x0000000100f25304 chromedriver + 185092\n6   chromedriver                        0x0000000100f2578c chromedriver + 186252\n7   chromedriver                        0x0000000100f33514 chromedriver + 242964\n8   chromedriver                        0x0000000100f4703c chromedriver + 323644\n9   chromedriver                        0x0000000100f25c8c chromedriver + 187532\n10  chromedriver                        0x0000000100f46e88 chromedriver + 323208\n11  chromedriver                        0x0000000100faebc4 chromedriver + 748484\n12  chromedriver                        0x0000000100f6bf1c chromedriver + 474908\n13  chromedriver                        0x0000000100f6cef4 chromedriver + 478964\n14  chromedriver                        0x00000001012c1424 chromedriver + 3970084\n15  chromedriver                        0x00000001012c5578 chromedriver + 3986808\n16  chromedriver                        0x00000001012cb43c chromedriver + 4011068\n17  chromedriver                        0x00000001012c6184 chromedriver + 3989892\n18  chromedriver                        0x000000010129e048 chromedriver + 3825736\n19  chromedriver                        0x00000001012e1f10 chromedriver + 4103952\n20  chromedriver                        0x00000001012e2068 chromedriver + 4104296\n21  chromedriver                        0x00000001012f1db0 chromedriver + 4169136\n22  libsystem_pthread.dylib             0x000000019129e06c _pthread_start + 148\n23  libsystem_pthread.dylib             0x0000000191298e2c thread_start + 8\n",
     "output_type": "error",
     "traceback": [
      "\u001b[0;31m---------------------------------------------------------------------------\u001b[0m",
      "\u001b[0;31mTimeoutException\u001b[0m                          Traceback (most recent call last)",
      "Cell \u001b[0;32mIn[135], line 1\u001b[0m\n\u001b[0;32m----> 1\u001b[0m download_url \u001b[38;5;241m=\u001b[39m \u001b[43mdriver\u001b[49m\u001b[38;5;241;43m.\u001b[39;49m\u001b[43mcurrent_url\u001b[49m\n\u001b[1;32m      2\u001b[0m download_url\n",
      "File \u001b[0;32m~/.pyenv/versions/3.8.16/envs/crawler/lib/python3.8/site-packages/selenium/webdriver/remote/webdriver.py:436\u001b[0m, in \u001b[0;36mWebDriver.current_url\u001b[0;34m(self)\u001b[0m\n\u001b[1;32m    427\u001b[0m \u001b[38;5;129m@property\u001b[39m\n\u001b[1;32m    428\u001b[0m \u001b[38;5;28;01mdef\u001b[39;00m \u001b[38;5;21mcurrent_url\u001b[39m(\u001b[38;5;28mself\u001b[39m) \u001b[38;5;241m-\u001b[39m\u001b[38;5;241m>\u001b[39m \u001b[38;5;28mstr\u001b[39m:\n\u001b[1;32m    429\u001b[0m \u001b[38;5;250m    \u001b[39m\u001b[38;5;124;03m\"\"\"Gets the URL of the current page.\u001b[39;00m\n\u001b[1;32m    430\u001b[0m \n\u001b[1;32m    431\u001b[0m \u001b[38;5;124;03m    :Usage:\u001b[39;00m\n\u001b[0;32m   (...)\u001b[0m\n\u001b[1;32m    434\u001b[0m \u001b[38;5;124;03m            driver.current_url\u001b[39;00m\n\u001b[1;32m    435\u001b[0m \u001b[38;5;124;03m    \"\"\"\u001b[39;00m\n\u001b[0;32m--> 436\u001b[0m     \u001b[38;5;28;01mreturn\u001b[39;00m \u001b[38;5;28;43mself\u001b[39;49m\u001b[38;5;241;43m.\u001b[39;49m\u001b[43mexecute\u001b[49m\u001b[43m(\u001b[49m\u001b[43mCommand\u001b[49m\u001b[38;5;241;43m.\u001b[39;49m\u001b[43mGET_CURRENT_URL\u001b[49m\u001b[43m)\u001b[49m[\u001b[38;5;124m\"\u001b[39m\u001b[38;5;124mvalue\u001b[39m\u001b[38;5;124m\"\u001b[39m]\n",
      "File \u001b[0;32m~/.pyenv/versions/3.8.16/envs/crawler/lib/python3.8/site-packages/selenium/webdriver/remote/webdriver.py:346\u001b[0m, in \u001b[0;36mWebDriver.execute\u001b[0;34m(self, driver_command, params)\u001b[0m\n\u001b[1;32m    344\u001b[0m response \u001b[38;5;241m=\u001b[39m \u001b[38;5;28mself\u001b[39m\u001b[38;5;241m.\u001b[39mcommand_executor\u001b[38;5;241m.\u001b[39mexecute(driver_command, params)\n\u001b[1;32m    345\u001b[0m \u001b[38;5;28;01mif\u001b[39;00m response:\n\u001b[0;32m--> 346\u001b[0m     \u001b[38;5;28;43mself\u001b[39;49m\u001b[38;5;241;43m.\u001b[39;49m\u001b[43merror_handler\u001b[49m\u001b[38;5;241;43m.\u001b[39;49m\u001b[43mcheck_response\u001b[49m\u001b[43m(\u001b[49m\u001b[43mresponse\u001b[49m\u001b[43m)\u001b[49m\n\u001b[1;32m    347\u001b[0m     response[\u001b[38;5;124m\"\u001b[39m\u001b[38;5;124mvalue\u001b[39m\u001b[38;5;124m\"\u001b[39m] \u001b[38;5;241m=\u001b[39m \u001b[38;5;28mself\u001b[39m\u001b[38;5;241m.\u001b[39m_unwrap_value(response\u001b[38;5;241m.\u001b[39mget(\u001b[38;5;124m\"\u001b[39m\u001b[38;5;124mvalue\u001b[39m\u001b[38;5;124m\"\u001b[39m, \u001b[38;5;28;01mNone\u001b[39;00m))\n\u001b[1;32m    348\u001b[0m     \u001b[38;5;28;01mreturn\u001b[39;00m response\n",
      "File \u001b[0;32m~/.pyenv/versions/3.8.16/envs/crawler/lib/python3.8/site-packages/selenium/webdriver/remote/errorhandler.py:245\u001b[0m, in \u001b[0;36mErrorHandler.check_response\u001b[0;34m(self, response)\u001b[0m\n\u001b[1;32m    243\u001b[0m         alert_text \u001b[38;5;241m=\u001b[39m value[\u001b[38;5;124m\"\u001b[39m\u001b[38;5;124malert\u001b[39m\u001b[38;5;124m\"\u001b[39m]\u001b[38;5;241m.\u001b[39mget(\u001b[38;5;124m\"\u001b[39m\u001b[38;5;124mtext\u001b[39m\u001b[38;5;124m\"\u001b[39m)\n\u001b[1;32m    244\u001b[0m     \u001b[38;5;28;01mraise\u001b[39;00m exception_class(message, screen, stacktrace, alert_text)  \u001b[38;5;66;03m# type: ignore[call-arg]  # mypy is not smart enough here\u001b[39;00m\n\u001b[0;32m--> 245\u001b[0m \u001b[38;5;28;01mraise\u001b[39;00m exception_class(message, screen, stacktrace)\n",
      "\u001b[0;31mTimeoutException\u001b[0m: Message: timeout: Timed out receiving message from renderer: 300.000\n  (Session info: headless chrome=115.0.5790.170)\nStacktrace:\n0   chromedriver                        0x00000001012ffdd0 chromedriver + 4226512\n1   chromedriver                        0x00000001012f837c chromedriver + 4195196\n2   chromedriver                        0x0000000100f3cd68 chromedriver + 281960\n3   chromedriver                        0x0000000100f269b8 chromedriver + 190904\n4   chromedriver                        0x0000000100f266e0 chromedriver + 190176\n5   chromedriver                        0x0000000100f25304 chromedriver + 185092\n6   chromedriver                        0x0000000100f2578c chromedriver + 186252\n7   chromedriver                        0x0000000100f33514 chromedriver + 242964\n8   chromedriver                        0x0000000100f4703c chromedriver + 323644\n9   chromedriver                        0x0000000100f25c8c chromedriver + 187532\n10  chromedriver                        0x0000000100f46e88 chromedriver + 323208\n11  chromedriver                        0x0000000100faebc4 chromedriver + 748484\n12  chromedriver                        0x0000000100f6bf1c chromedriver + 474908\n13  chromedriver                        0x0000000100f6cef4 chromedriver + 478964\n14  chromedriver                        0x00000001012c1424 chromedriver + 3970084\n15  chromedriver                        0x00000001012c5578 chromedriver + 3986808\n16  chromedriver                        0x00000001012cb43c chromedriver + 4011068\n17  chromedriver                        0x00000001012c6184 chromedriver + 3989892\n18  chromedriver                        0x000000010129e048 chromedriver + 3825736\n19  chromedriver                        0x00000001012e1f10 chromedriver + 4103952\n20  chromedriver                        0x00000001012e2068 chromedriver + 4104296\n21  chromedriver                        0x00000001012f1db0 chromedriver + 4169136\n22  libsystem_pthread.dylib             0x000000019129e06c _pthread_start + 148\n23  libsystem_pthread.dylib             0x0000000191298e2c thread_start + 8\n"
     ]
    }
   ],
   "source": [
    "download_url = driver.current_url\n",
    "download_url"
   ]
  },
  {
   "cell_type": "code",
   "execution_count": 51,
   "id": "34830e18",
   "metadata": {},
   "outputs": [
    {
     "ename": "KeyboardInterrupt",
     "evalue": "",
     "output_type": "error",
     "traceback": [
      "\u001b[0;31m---------------------------------------------------------------------------\u001b[0m",
      "\u001b[0;31mKeyboardInterrupt\u001b[0m                         Traceback (most recent call last)",
      "Cell \u001b[0;32mIn[51], line 2\u001b[0m\n\u001b[1;32m      1\u001b[0m driver\u001b[38;5;241m.\u001b[39mswitch_to\u001b[38;5;241m.\u001b[39mwindow(child_tab)\n\u001b[0;32m----> 2\u001b[0m download_url \u001b[38;5;241m=\u001b[39m \u001b[43mdriver\u001b[49m\u001b[38;5;241;43m.\u001b[39;49m\u001b[43mcurrent_url\u001b[49m\n\u001b[1;32m      3\u001b[0m download_url\n",
      "File \u001b[0;32m~/.pyenv/versions/3.8.16/envs/crawler/lib/python3.8/site-packages/selenium/webdriver/remote/webdriver.py:436\u001b[0m, in \u001b[0;36mWebDriver.current_url\u001b[0;34m(self)\u001b[0m\n\u001b[1;32m    427\u001b[0m \u001b[38;5;129m@property\u001b[39m\n\u001b[1;32m    428\u001b[0m \u001b[38;5;28;01mdef\u001b[39;00m \u001b[38;5;21mcurrent_url\u001b[39m(\u001b[38;5;28mself\u001b[39m) \u001b[38;5;241m-\u001b[39m\u001b[38;5;241m>\u001b[39m \u001b[38;5;28mstr\u001b[39m:\n\u001b[1;32m    429\u001b[0m \u001b[38;5;250m    \u001b[39m\u001b[38;5;124;03m\"\"\"Gets the URL of the current page.\u001b[39;00m\n\u001b[1;32m    430\u001b[0m \n\u001b[1;32m    431\u001b[0m \u001b[38;5;124;03m    :Usage:\u001b[39;00m\n\u001b[0;32m   (...)\u001b[0m\n\u001b[1;32m    434\u001b[0m \u001b[38;5;124;03m            driver.current_url\u001b[39;00m\n\u001b[1;32m    435\u001b[0m \u001b[38;5;124;03m    \"\"\"\u001b[39;00m\n\u001b[0;32m--> 436\u001b[0m     \u001b[38;5;28;01mreturn\u001b[39;00m \u001b[38;5;28;43mself\u001b[39;49m\u001b[38;5;241;43m.\u001b[39;49m\u001b[43mexecute\u001b[49m\u001b[43m(\u001b[49m\u001b[43mCommand\u001b[49m\u001b[38;5;241;43m.\u001b[39;49m\u001b[43mGET_CURRENT_URL\u001b[49m\u001b[43m)\u001b[49m[\u001b[38;5;124m\"\u001b[39m\u001b[38;5;124mvalue\u001b[39m\u001b[38;5;124m\"\u001b[39m]\n",
      "File \u001b[0;32m~/.pyenv/versions/3.8.16/envs/crawler/lib/python3.8/site-packages/selenium/webdriver/remote/webdriver.py:344\u001b[0m, in \u001b[0;36mWebDriver.execute\u001b[0;34m(self, driver_command, params)\u001b[0m\n\u001b[1;32m    341\u001b[0m     \u001b[38;5;28;01melif\u001b[39;00m \u001b[38;5;124m\"\u001b[39m\u001b[38;5;124msessionId\u001b[39m\u001b[38;5;124m\"\u001b[39m \u001b[38;5;129;01mnot\u001b[39;00m \u001b[38;5;129;01min\u001b[39;00m params:\n\u001b[1;32m    342\u001b[0m         params[\u001b[38;5;124m\"\u001b[39m\u001b[38;5;124msessionId\u001b[39m\u001b[38;5;124m\"\u001b[39m] \u001b[38;5;241m=\u001b[39m \u001b[38;5;28mself\u001b[39m\u001b[38;5;241m.\u001b[39msession_id\n\u001b[0;32m--> 344\u001b[0m response \u001b[38;5;241m=\u001b[39m \u001b[38;5;28;43mself\u001b[39;49m\u001b[38;5;241;43m.\u001b[39;49m\u001b[43mcommand_executor\u001b[49m\u001b[38;5;241;43m.\u001b[39;49m\u001b[43mexecute\u001b[49m\u001b[43m(\u001b[49m\u001b[43mdriver_command\u001b[49m\u001b[43m,\u001b[49m\u001b[43m \u001b[49m\u001b[43mparams\u001b[49m\u001b[43m)\u001b[49m\n\u001b[1;32m    345\u001b[0m \u001b[38;5;28;01mif\u001b[39;00m response:\n\u001b[1;32m    346\u001b[0m     \u001b[38;5;28mself\u001b[39m\u001b[38;5;241m.\u001b[39merror_handler\u001b[38;5;241m.\u001b[39mcheck_response(response)\n",
      "File \u001b[0;32m~/.pyenv/versions/3.8.16/envs/crawler/lib/python3.8/site-packages/selenium/webdriver/remote/remote_connection.py:290\u001b[0m, in \u001b[0;36mRemoteConnection.execute\u001b[0;34m(self, command, params)\u001b[0m\n\u001b[1;32m    288\u001b[0m data \u001b[38;5;241m=\u001b[39m utils\u001b[38;5;241m.\u001b[39mdump_json(params)\n\u001b[1;32m    289\u001b[0m url \u001b[38;5;241m=\u001b[39m \u001b[38;5;124mf\u001b[39m\u001b[38;5;124m\"\u001b[39m\u001b[38;5;132;01m{\u001b[39;00m\u001b[38;5;28mself\u001b[39m\u001b[38;5;241m.\u001b[39m_url\u001b[38;5;132;01m}\u001b[39;00m\u001b[38;5;132;01m{\u001b[39;00mpath\u001b[38;5;132;01m}\u001b[39;00m\u001b[38;5;124m\"\u001b[39m\n\u001b[0;32m--> 290\u001b[0m \u001b[38;5;28;01mreturn\u001b[39;00m \u001b[38;5;28;43mself\u001b[39;49m\u001b[38;5;241;43m.\u001b[39;49m\u001b[43m_request\u001b[49m\u001b[43m(\u001b[49m\u001b[43mcommand_info\u001b[49m\u001b[43m[\u001b[49m\u001b[38;5;241;43m0\u001b[39;49m\u001b[43m]\u001b[49m\u001b[43m,\u001b[49m\u001b[43m \u001b[49m\u001b[43murl\u001b[49m\u001b[43m,\u001b[49m\u001b[43m \u001b[49m\u001b[43mbody\u001b[49m\u001b[38;5;241;43m=\u001b[39;49m\u001b[43mdata\u001b[49m\u001b[43m)\u001b[49m\n",
      "File \u001b[0;32m~/.pyenv/versions/3.8.16/envs/crawler/lib/python3.8/site-packages/selenium/webdriver/remote/remote_connection.py:311\u001b[0m, in \u001b[0;36mRemoteConnection._request\u001b[0;34m(self, method, url, body)\u001b[0m\n\u001b[1;32m    308\u001b[0m     body \u001b[38;5;241m=\u001b[39m \u001b[38;5;28;01mNone\u001b[39;00m\n\u001b[1;32m    310\u001b[0m \u001b[38;5;28;01mif\u001b[39;00m \u001b[38;5;28mself\u001b[39m\u001b[38;5;241m.\u001b[39mkeep_alive:\n\u001b[0;32m--> 311\u001b[0m     response \u001b[38;5;241m=\u001b[39m \u001b[38;5;28;43mself\u001b[39;49m\u001b[38;5;241;43m.\u001b[39;49m\u001b[43m_conn\u001b[49m\u001b[38;5;241;43m.\u001b[39;49m\u001b[43mrequest\u001b[49m\u001b[43m(\u001b[49m\u001b[43mmethod\u001b[49m\u001b[43m,\u001b[49m\u001b[43m \u001b[49m\u001b[43murl\u001b[49m\u001b[43m,\u001b[49m\u001b[43m \u001b[49m\u001b[43mbody\u001b[49m\u001b[38;5;241;43m=\u001b[39;49m\u001b[43mbody\u001b[49m\u001b[43m,\u001b[49m\u001b[43m \u001b[49m\u001b[43mheaders\u001b[49m\u001b[38;5;241;43m=\u001b[39;49m\u001b[43mheaders\u001b[49m\u001b[43m)\u001b[49m\n\u001b[1;32m    312\u001b[0m     statuscode \u001b[38;5;241m=\u001b[39m response\u001b[38;5;241m.\u001b[39mstatus\n\u001b[1;32m    313\u001b[0m \u001b[38;5;28;01melse\u001b[39;00m:\n",
      "File \u001b[0;32m~/.pyenv/versions/3.8.16/envs/crawler/lib/python3.8/site-packages/urllib3/_request_methods.py:110\u001b[0m, in \u001b[0;36mRequestMethods.request\u001b[0;34m(self, method, url, body, fields, headers, json, **urlopen_kw)\u001b[0m\n\u001b[1;32m    107\u001b[0m     urlopen_kw[\u001b[38;5;124m\"\u001b[39m\u001b[38;5;124mbody\u001b[39m\u001b[38;5;124m\"\u001b[39m] \u001b[38;5;241m=\u001b[39m body\n\u001b[1;32m    109\u001b[0m \u001b[38;5;28;01mif\u001b[39;00m method \u001b[38;5;129;01min\u001b[39;00m \u001b[38;5;28mself\u001b[39m\u001b[38;5;241m.\u001b[39m_encode_url_methods:\n\u001b[0;32m--> 110\u001b[0m     \u001b[38;5;28;01mreturn\u001b[39;00m \u001b[38;5;28;43mself\u001b[39;49m\u001b[38;5;241;43m.\u001b[39;49m\u001b[43mrequest_encode_url\u001b[49m\u001b[43m(\u001b[49m\n\u001b[1;32m    111\u001b[0m \u001b[43m        \u001b[49m\u001b[43mmethod\u001b[49m\u001b[43m,\u001b[49m\n\u001b[1;32m    112\u001b[0m \u001b[43m        \u001b[49m\u001b[43murl\u001b[49m\u001b[43m,\u001b[49m\n\u001b[1;32m    113\u001b[0m \u001b[43m        \u001b[49m\u001b[43mfields\u001b[49m\u001b[38;5;241;43m=\u001b[39;49m\u001b[43mfields\u001b[49m\u001b[43m,\u001b[49m\u001b[43m  \u001b[49m\u001b[38;5;66;43;03m# type: ignore[arg-type]\u001b[39;49;00m\n\u001b[1;32m    114\u001b[0m \u001b[43m        \u001b[49m\u001b[43mheaders\u001b[49m\u001b[38;5;241;43m=\u001b[39;49m\u001b[43mheaders\u001b[49m\u001b[43m,\u001b[49m\n\u001b[1;32m    115\u001b[0m \u001b[43m        \u001b[49m\u001b[38;5;241;43m*\u001b[39;49m\u001b[38;5;241;43m*\u001b[39;49m\u001b[43murlopen_kw\u001b[49m\u001b[43m,\u001b[49m\n\u001b[1;32m    116\u001b[0m \u001b[43m    \u001b[49m\u001b[43m)\u001b[49m\n\u001b[1;32m    117\u001b[0m \u001b[38;5;28;01melse\u001b[39;00m:\n\u001b[1;32m    118\u001b[0m     \u001b[38;5;28;01mreturn\u001b[39;00m \u001b[38;5;28mself\u001b[39m\u001b[38;5;241m.\u001b[39mrequest_encode_body(\n\u001b[1;32m    119\u001b[0m         method, url, fields\u001b[38;5;241m=\u001b[39mfields, headers\u001b[38;5;241m=\u001b[39mheaders, \u001b[38;5;241m*\u001b[39m\u001b[38;5;241m*\u001b[39murlopen_kw\n\u001b[1;32m    120\u001b[0m     )\n",
      "File \u001b[0;32m~/.pyenv/versions/3.8.16/envs/crawler/lib/python3.8/site-packages/urllib3/_request_methods.py:143\u001b[0m, in \u001b[0;36mRequestMethods.request_encode_url\u001b[0;34m(self, method, url, fields, headers, **urlopen_kw)\u001b[0m\n\u001b[1;32m    140\u001b[0m \u001b[38;5;28;01mif\u001b[39;00m fields:\n\u001b[1;32m    141\u001b[0m     url \u001b[38;5;241m+\u001b[39m\u001b[38;5;241m=\u001b[39m \u001b[38;5;124m\"\u001b[39m\u001b[38;5;124m?\u001b[39m\u001b[38;5;124m\"\u001b[39m \u001b[38;5;241m+\u001b[39m urlencode(fields)\n\u001b[0;32m--> 143\u001b[0m \u001b[38;5;28;01mreturn\u001b[39;00m \u001b[38;5;28;43mself\u001b[39;49m\u001b[38;5;241;43m.\u001b[39;49m\u001b[43murlopen\u001b[49m\u001b[43m(\u001b[49m\u001b[43mmethod\u001b[49m\u001b[43m,\u001b[49m\u001b[43m \u001b[49m\u001b[43murl\u001b[49m\u001b[43m,\u001b[49m\u001b[43m \u001b[49m\u001b[38;5;241;43m*\u001b[39;49m\u001b[38;5;241;43m*\u001b[39;49m\u001b[43mextra_kw\u001b[49m\u001b[43m)\u001b[49m\n",
      "File \u001b[0;32m~/.pyenv/versions/3.8.16/envs/crawler/lib/python3.8/site-packages/urllib3/poolmanager.py:443\u001b[0m, in \u001b[0;36mPoolManager.urlopen\u001b[0;34m(self, method, url, redirect, **kw)\u001b[0m\n\u001b[1;32m    441\u001b[0m     response \u001b[38;5;241m=\u001b[39m conn\u001b[38;5;241m.\u001b[39murlopen(method, url, \u001b[38;5;241m*\u001b[39m\u001b[38;5;241m*\u001b[39mkw)\n\u001b[1;32m    442\u001b[0m \u001b[38;5;28;01melse\u001b[39;00m:\n\u001b[0;32m--> 443\u001b[0m     response \u001b[38;5;241m=\u001b[39m \u001b[43mconn\u001b[49m\u001b[38;5;241;43m.\u001b[39;49m\u001b[43murlopen\u001b[49m\u001b[43m(\u001b[49m\u001b[43mmethod\u001b[49m\u001b[43m,\u001b[49m\u001b[43m \u001b[49m\u001b[43mu\u001b[49m\u001b[38;5;241;43m.\u001b[39;49m\u001b[43mrequest_uri\u001b[49m\u001b[43m,\u001b[49m\u001b[43m \u001b[49m\u001b[38;5;241;43m*\u001b[39;49m\u001b[38;5;241;43m*\u001b[39;49m\u001b[43mkw\u001b[49m\u001b[43m)\u001b[49m\n\u001b[1;32m    445\u001b[0m redirect_location \u001b[38;5;241m=\u001b[39m redirect \u001b[38;5;129;01mand\u001b[39;00m response\u001b[38;5;241m.\u001b[39mget_redirect_location()\n\u001b[1;32m    446\u001b[0m \u001b[38;5;28;01mif\u001b[39;00m \u001b[38;5;129;01mnot\u001b[39;00m redirect_location:\n",
      "File \u001b[0;32m~/.pyenv/versions/3.8.16/envs/crawler/lib/python3.8/site-packages/urllib3/connectionpool.py:790\u001b[0m, in \u001b[0;36mHTTPConnectionPool.urlopen\u001b[0;34m(self, method, url, body, headers, retries, redirect, assert_same_host, timeout, pool_timeout, release_conn, chunked, body_pos, preload_content, decode_content, **response_kw)\u001b[0m\n\u001b[1;32m    787\u001b[0m response_conn \u001b[38;5;241m=\u001b[39m conn \u001b[38;5;28;01mif\u001b[39;00m \u001b[38;5;129;01mnot\u001b[39;00m release_conn \u001b[38;5;28;01melse\u001b[39;00m \u001b[38;5;28;01mNone\u001b[39;00m\n\u001b[1;32m    789\u001b[0m \u001b[38;5;66;03m# Make the request on the HTTPConnection object\u001b[39;00m\n\u001b[0;32m--> 790\u001b[0m response \u001b[38;5;241m=\u001b[39m \u001b[38;5;28;43mself\u001b[39;49m\u001b[38;5;241;43m.\u001b[39;49m\u001b[43m_make_request\u001b[49m\u001b[43m(\u001b[49m\n\u001b[1;32m    791\u001b[0m \u001b[43m    \u001b[49m\u001b[43mconn\u001b[49m\u001b[43m,\u001b[49m\n\u001b[1;32m    792\u001b[0m \u001b[43m    \u001b[49m\u001b[43mmethod\u001b[49m\u001b[43m,\u001b[49m\n\u001b[1;32m    793\u001b[0m \u001b[43m    \u001b[49m\u001b[43murl\u001b[49m\u001b[43m,\u001b[49m\n\u001b[1;32m    794\u001b[0m \u001b[43m    \u001b[49m\u001b[43mtimeout\u001b[49m\u001b[38;5;241;43m=\u001b[39;49m\u001b[43mtimeout_obj\u001b[49m\u001b[43m,\u001b[49m\n\u001b[1;32m    795\u001b[0m \u001b[43m    \u001b[49m\u001b[43mbody\u001b[49m\u001b[38;5;241;43m=\u001b[39;49m\u001b[43mbody\u001b[49m\u001b[43m,\u001b[49m\n\u001b[1;32m    796\u001b[0m \u001b[43m    \u001b[49m\u001b[43mheaders\u001b[49m\u001b[38;5;241;43m=\u001b[39;49m\u001b[43mheaders\u001b[49m\u001b[43m,\u001b[49m\n\u001b[1;32m    797\u001b[0m \u001b[43m    \u001b[49m\u001b[43mchunked\u001b[49m\u001b[38;5;241;43m=\u001b[39;49m\u001b[43mchunked\u001b[49m\u001b[43m,\u001b[49m\n\u001b[1;32m    798\u001b[0m \u001b[43m    \u001b[49m\u001b[43mretries\u001b[49m\u001b[38;5;241;43m=\u001b[39;49m\u001b[43mretries\u001b[49m\u001b[43m,\u001b[49m\n\u001b[1;32m    799\u001b[0m \u001b[43m    \u001b[49m\u001b[43mresponse_conn\u001b[49m\u001b[38;5;241;43m=\u001b[39;49m\u001b[43mresponse_conn\u001b[49m\u001b[43m,\u001b[49m\n\u001b[1;32m    800\u001b[0m \u001b[43m    \u001b[49m\u001b[43mpreload_content\u001b[49m\u001b[38;5;241;43m=\u001b[39;49m\u001b[43mpreload_content\u001b[49m\u001b[43m,\u001b[49m\n\u001b[1;32m    801\u001b[0m \u001b[43m    \u001b[49m\u001b[43mdecode_content\u001b[49m\u001b[38;5;241;43m=\u001b[39;49m\u001b[43mdecode_content\u001b[49m\u001b[43m,\u001b[49m\n\u001b[1;32m    802\u001b[0m \u001b[43m    \u001b[49m\u001b[38;5;241;43m*\u001b[39;49m\u001b[38;5;241;43m*\u001b[39;49m\u001b[43mresponse_kw\u001b[49m\u001b[43m,\u001b[49m\n\u001b[1;32m    803\u001b[0m \u001b[43m\u001b[49m\u001b[43m)\u001b[49m\n\u001b[1;32m    805\u001b[0m \u001b[38;5;66;03m# Everything went great!\u001b[39;00m\n\u001b[1;32m    806\u001b[0m clean_exit \u001b[38;5;241m=\u001b[39m \u001b[38;5;28;01mTrue\u001b[39;00m\n",
      "File \u001b[0;32m~/.pyenv/versions/3.8.16/envs/crawler/lib/python3.8/site-packages/urllib3/connectionpool.py:536\u001b[0m, in \u001b[0;36mHTTPConnectionPool._make_request\u001b[0;34m(self, conn, method, url, body, headers, retries, timeout, chunked, response_conn, preload_content, decode_content, enforce_content_length)\u001b[0m\n\u001b[1;32m    534\u001b[0m \u001b[38;5;66;03m# Receive the response from the server\u001b[39;00m\n\u001b[1;32m    535\u001b[0m \u001b[38;5;28;01mtry\u001b[39;00m:\n\u001b[0;32m--> 536\u001b[0m     response \u001b[38;5;241m=\u001b[39m \u001b[43mconn\u001b[49m\u001b[38;5;241;43m.\u001b[39;49m\u001b[43mgetresponse\u001b[49m\u001b[43m(\u001b[49m\u001b[43m)\u001b[49m\n\u001b[1;32m    537\u001b[0m \u001b[38;5;28;01mexcept\u001b[39;00m (BaseSSLError, \u001b[38;5;167;01mOSError\u001b[39;00m) \u001b[38;5;28;01mas\u001b[39;00m e:\n\u001b[1;32m    538\u001b[0m     \u001b[38;5;28mself\u001b[39m\u001b[38;5;241m.\u001b[39m_raise_timeout(err\u001b[38;5;241m=\u001b[39me, url\u001b[38;5;241m=\u001b[39murl, timeout_value\u001b[38;5;241m=\u001b[39mread_timeout)\n",
      "File \u001b[0;32m~/.pyenv/versions/3.8.16/envs/crawler/lib/python3.8/site-packages/urllib3/connection.py:454\u001b[0m, in \u001b[0;36mHTTPConnection.getresponse\u001b[0;34m(self)\u001b[0m\n\u001b[1;32m    451\u001b[0m \u001b[38;5;28;01mfrom\u001b[39;00m \u001b[38;5;21;01m.\u001b[39;00m\u001b[38;5;21;01mresponse\u001b[39;00m \u001b[38;5;28;01mimport\u001b[39;00m HTTPResponse\n\u001b[1;32m    453\u001b[0m \u001b[38;5;66;03m# Get the response from http.client.HTTPConnection\u001b[39;00m\n\u001b[0;32m--> 454\u001b[0m httplib_response \u001b[38;5;241m=\u001b[39m \u001b[38;5;28;43msuper\u001b[39;49m\u001b[43m(\u001b[49m\u001b[43m)\u001b[49m\u001b[38;5;241;43m.\u001b[39;49m\u001b[43mgetresponse\u001b[49m\u001b[43m(\u001b[49m\u001b[43m)\u001b[49m\n\u001b[1;32m    456\u001b[0m \u001b[38;5;28;01mtry\u001b[39;00m:\n\u001b[1;32m    457\u001b[0m     assert_header_parsing(httplib_response\u001b[38;5;241m.\u001b[39mmsg)\n",
      "File \u001b[0;32m~/.pyenv/versions/3.8.16/lib/python3.8/http/client.py:1348\u001b[0m, in \u001b[0;36mHTTPConnection.getresponse\u001b[0;34m(self)\u001b[0m\n\u001b[1;32m   1346\u001b[0m \u001b[38;5;28;01mtry\u001b[39;00m:\n\u001b[1;32m   1347\u001b[0m     \u001b[38;5;28;01mtry\u001b[39;00m:\n\u001b[0;32m-> 1348\u001b[0m         \u001b[43mresponse\u001b[49m\u001b[38;5;241;43m.\u001b[39;49m\u001b[43mbegin\u001b[49m\u001b[43m(\u001b[49m\u001b[43m)\u001b[49m\n\u001b[1;32m   1349\u001b[0m     \u001b[38;5;28;01mexcept\u001b[39;00m \u001b[38;5;167;01mConnectionError\u001b[39;00m:\n\u001b[1;32m   1350\u001b[0m         \u001b[38;5;28mself\u001b[39m\u001b[38;5;241m.\u001b[39mclose()\n",
      "File \u001b[0;32m~/.pyenv/versions/3.8.16/lib/python3.8/http/client.py:316\u001b[0m, in \u001b[0;36mHTTPResponse.begin\u001b[0;34m(self)\u001b[0m\n\u001b[1;32m    314\u001b[0m \u001b[38;5;66;03m# read until we get a non-100 response\u001b[39;00m\n\u001b[1;32m    315\u001b[0m \u001b[38;5;28;01mwhile\u001b[39;00m \u001b[38;5;28;01mTrue\u001b[39;00m:\n\u001b[0;32m--> 316\u001b[0m     version, status, reason \u001b[38;5;241m=\u001b[39m \u001b[38;5;28;43mself\u001b[39;49m\u001b[38;5;241;43m.\u001b[39;49m\u001b[43m_read_status\u001b[49m\u001b[43m(\u001b[49m\u001b[43m)\u001b[49m\n\u001b[1;32m    317\u001b[0m     \u001b[38;5;28;01mif\u001b[39;00m status \u001b[38;5;241m!=\u001b[39m CONTINUE:\n\u001b[1;32m    318\u001b[0m         \u001b[38;5;28;01mbreak\u001b[39;00m\n",
      "File \u001b[0;32m~/.pyenv/versions/3.8.16/lib/python3.8/http/client.py:277\u001b[0m, in \u001b[0;36mHTTPResponse._read_status\u001b[0;34m(self)\u001b[0m\n\u001b[1;32m    276\u001b[0m \u001b[38;5;28;01mdef\u001b[39;00m \u001b[38;5;21m_read_status\u001b[39m(\u001b[38;5;28mself\u001b[39m):\n\u001b[0;32m--> 277\u001b[0m     line \u001b[38;5;241m=\u001b[39m \u001b[38;5;28mstr\u001b[39m(\u001b[38;5;28;43mself\u001b[39;49m\u001b[38;5;241;43m.\u001b[39;49m\u001b[43mfp\u001b[49m\u001b[38;5;241;43m.\u001b[39;49m\u001b[43mreadline\u001b[49m\u001b[43m(\u001b[49m\u001b[43m_MAXLINE\u001b[49m\u001b[43m \u001b[49m\u001b[38;5;241;43m+\u001b[39;49m\u001b[43m \u001b[49m\u001b[38;5;241;43m1\u001b[39;49m\u001b[43m)\u001b[49m, \u001b[38;5;124m\"\u001b[39m\u001b[38;5;124miso-8859-1\u001b[39m\u001b[38;5;124m\"\u001b[39m)\n\u001b[1;32m    278\u001b[0m     \u001b[38;5;28;01mif\u001b[39;00m \u001b[38;5;28mlen\u001b[39m(line) \u001b[38;5;241m>\u001b[39m _MAXLINE:\n\u001b[1;32m    279\u001b[0m         \u001b[38;5;28;01mraise\u001b[39;00m LineTooLong(\u001b[38;5;124m\"\u001b[39m\u001b[38;5;124mstatus line\u001b[39m\u001b[38;5;124m\"\u001b[39m)\n",
      "File \u001b[0;32m~/.pyenv/versions/3.8.16/lib/python3.8/socket.py:669\u001b[0m, in \u001b[0;36mSocketIO.readinto\u001b[0;34m(self, b)\u001b[0m\n\u001b[1;32m    667\u001b[0m \u001b[38;5;28;01mwhile\u001b[39;00m \u001b[38;5;28;01mTrue\u001b[39;00m:\n\u001b[1;32m    668\u001b[0m     \u001b[38;5;28;01mtry\u001b[39;00m:\n\u001b[0;32m--> 669\u001b[0m         \u001b[38;5;28;01mreturn\u001b[39;00m \u001b[38;5;28;43mself\u001b[39;49m\u001b[38;5;241;43m.\u001b[39;49m\u001b[43m_sock\u001b[49m\u001b[38;5;241;43m.\u001b[39;49m\u001b[43mrecv_into\u001b[49m\u001b[43m(\u001b[49m\u001b[43mb\u001b[49m\u001b[43m)\u001b[49m\n\u001b[1;32m    670\u001b[0m     \u001b[38;5;28;01mexcept\u001b[39;00m timeout:\n\u001b[1;32m    671\u001b[0m         \u001b[38;5;28mself\u001b[39m\u001b[38;5;241m.\u001b[39m_timeout_occurred \u001b[38;5;241m=\u001b[39m \u001b[38;5;28;01mTrue\u001b[39;00m\n",
      "\u001b[0;31mKeyboardInterrupt\u001b[0m: "
     ]
    }
   ],
   "source": [
    "driver.switch_to.window(child_tab)\n",
    "download_url = driver.current_url\n",
    "download_url"
   ]
  },
  {
   "cell_type": "code",
   "execution_count": null,
   "id": "da3a70ee",
   "metadata": {},
   "outputs": [],
   "source": []
  },
  {
   "cell_type": "code",
   "execution_count": 516,
   "id": "7ed8d317",
   "metadata": {},
   "outputs": [
    {
     "ename": "NoSuchWindowException",
     "evalue": "Message: no such window: target window already closed\nfrom unknown error: web view not found\n  (Session info: headless chrome=115.0.5790.170)\nStacktrace:\n0   chromedriver                        0x00000001031e3dd0 chromedriver + 4226512\n1   chromedriver                        0x00000001031dc37c chromedriver + 4195196\n2   chromedriver                        0x0000000102e20d68 chromedriver + 281960\n3   chromedriver                        0x0000000102dfaef8 chromedriver + 126712\n4   chromedriver                        0x0000000102e7fe88 chromedriver + 671368\n5   chromedriver                        0x0000000102e8564c chromedriver + 693836\n6   chromedriver                        0x0000000102e4ff1c chromedriver + 474908\n7   chromedriver                        0x0000000102e50ef4 chromedriver + 478964\n8   chromedriver                        0x00000001031a5424 chromedriver + 3970084\n9   chromedriver                        0x00000001031a9578 chromedriver + 3986808\n10  chromedriver                        0x00000001031af43c chromedriver + 4011068\n11  chromedriver                        0x00000001031aa184 chromedriver + 3989892\n12  chromedriver                        0x0000000103182048 chromedriver + 3825736\n13  chromedriver                        0x00000001031c5f10 chromedriver + 4103952\n14  chromedriver                        0x00000001031c6068 chromedriver + 4104296\n15  chromedriver                        0x00000001031d5db0 chromedriver + 4169136\n16  libsystem_pthread.dylib             0x000000019129e06c _pthread_start + 148\n17  libsystem_pthread.dylib             0x0000000191298e2c thread_start + 8\n",
     "output_type": "error",
     "traceback": [
      "\u001b[0;31m---------------------------------------------------------------------------\u001b[0m",
      "\u001b[0;31mNoSuchWindowException\u001b[0m                     Traceback (most recent call last)",
      "File \u001b[0;32m~/.pyenv/versions/3.8.16/envs/crawler/lib/python3.8/site-packages/selenium/webdriver/remote/switch_to.py:138\u001b[0m, in \u001b[0;36mSwitchTo._w3c_window\u001b[0;34m(self, window_name)\u001b[0m\n\u001b[1;32m    136\u001b[0m \u001b[38;5;28;01mtry\u001b[39;00m:\n\u001b[1;32m    137\u001b[0m     \u001b[38;5;66;03m# Try using it as a handle first.\u001b[39;00m\n\u001b[0;32m--> 138\u001b[0m     \u001b[43msend_handle\u001b[49m\u001b[43m(\u001b[49m\u001b[43mwindow_name\u001b[49m\u001b[43m)\u001b[49m\n\u001b[1;32m    139\u001b[0m \u001b[38;5;28;01mexcept\u001b[39;00m NoSuchWindowException:\n\u001b[1;32m    140\u001b[0m     \u001b[38;5;66;03m# Check every window to try to find the given window name.\u001b[39;00m\n",
      "File \u001b[0;32m~/.pyenv/versions/3.8.16/envs/crawler/lib/python3.8/site-packages/selenium/webdriver/remote/switch_to.py:134\u001b[0m, in \u001b[0;36mSwitchTo._w3c_window.<locals>.send_handle\u001b[0;34m(h)\u001b[0m\n\u001b[1;32m    133\u001b[0m \u001b[38;5;28;01mdef\u001b[39;00m \u001b[38;5;21msend_handle\u001b[39m(h):\n\u001b[0;32m--> 134\u001b[0m     \u001b[38;5;28;43mself\u001b[39;49m\u001b[38;5;241;43m.\u001b[39;49m\u001b[43m_driver\u001b[49m\u001b[38;5;241;43m.\u001b[39;49m\u001b[43mexecute\u001b[49m\u001b[43m(\u001b[49m\u001b[43mCommand\u001b[49m\u001b[38;5;241;43m.\u001b[39;49m\u001b[43mSWITCH_TO_WINDOW\u001b[49m\u001b[43m,\u001b[49m\u001b[43m \u001b[49m\u001b[43m{\u001b[49m\u001b[38;5;124;43m\"\u001b[39;49m\u001b[38;5;124;43mhandle\u001b[39;49m\u001b[38;5;124;43m\"\u001b[39;49m\u001b[43m:\u001b[49m\u001b[43m \u001b[49m\u001b[43mh\u001b[49m\u001b[43m}\u001b[49m\u001b[43m)\u001b[49m\n",
      "File \u001b[0;32m~/.pyenv/versions/3.8.16/envs/crawler/lib/python3.8/site-packages/selenium/webdriver/remote/webdriver.py:346\u001b[0m, in \u001b[0;36mWebDriver.execute\u001b[0;34m(self, driver_command, params)\u001b[0m\n\u001b[1;32m    345\u001b[0m \u001b[38;5;28;01mif\u001b[39;00m response:\n\u001b[0;32m--> 346\u001b[0m     \u001b[38;5;28;43mself\u001b[39;49m\u001b[38;5;241;43m.\u001b[39;49m\u001b[43merror_handler\u001b[49m\u001b[38;5;241;43m.\u001b[39;49m\u001b[43mcheck_response\u001b[49m\u001b[43m(\u001b[49m\u001b[43mresponse\u001b[49m\u001b[43m)\u001b[49m\n\u001b[1;32m    347\u001b[0m     response[\u001b[38;5;124m\"\u001b[39m\u001b[38;5;124mvalue\u001b[39m\u001b[38;5;124m\"\u001b[39m] \u001b[38;5;241m=\u001b[39m \u001b[38;5;28mself\u001b[39m\u001b[38;5;241m.\u001b[39m_unwrap_value(response\u001b[38;5;241m.\u001b[39mget(\u001b[38;5;124m\"\u001b[39m\u001b[38;5;124mvalue\u001b[39m\u001b[38;5;124m\"\u001b[39m, \u001b[38;5;28;01mNone\u001b[39;00m))\n",
      "File \u001b[0;32m~/.pyenv/versions/3.8.16/envs/crawler/lib/python3.8/site-packages/selenium/webdriver/remote/errorhandler.py:245\u001b[0m, in \u001b[0;36mErrorHandler.check_response\u001b[0;34m(self, response)\u001b[0m\n\u001b[1;32m    244\u001b[0m     \u001b[38;5;28;01mraise\u001b[39;00m exception_class(message, screen, stacktrace, alert_text)  \u001b[38;5;66;03m# type: ignore[call-arg]  # mypy is not smart enough here\u001b[39;00m\n\u001b[0;32m--> 245\u001b[0m \u001b[38;5;28;01mraise\u001b[39;00m exception_class(message, screen, stacktrace)\n",
      "\u001b[0;31mNoSuchWindowException\u001b[0m: Message: no such window\n  (Session info: headless chrome=115.0.5790.170)\nStacktrace:\n0   chromedriver                        0x00000001031e3dd0 chromedriver + 4226512\n1   chromedriver                        0x00000001031dc37c chromedriver + 4195196\n2   chromedriver                        0x0000000102e20be8 chromedriver + 281576\n3   chromedriver                        0x0000000102e8705c chromedriver + 700508\n4   chromedriver                        0x0000000102e4ff1c chromedriver + 474908\n5   chromedriver                        0x0000000102e50ef4 chromedriver + 478964\n6   chromedriver                        0x00000001031a5424 chromedriver + 3970084\n7   chromedriver                        0x00000001031a9578 chromedriver + 3986808\n8   chromedriver                        0x00000001031af43c chromedriver + 4011068\n9   chromedriver                        0x00000001031aa184 chromedriver + 3989892\n10  chromedriver                        0x0000000103182048 chromedriver + 3825736\n11  chromedriver                        0x00000001031c5f10 chromedriver + 4103952\n12  chromedriver                        0x00000001031c6068 chromedriver + 4104296\n13  chromedriver                        0x00000001031d5db0 chromedriver + 4169136\n14  libsystem_pthread.dylib             0x000000019129e06c _pthread_start + 148\n15  libsystem_pthread.dylib             0x0000000191298e2c thread_start + 8\n",
      "\nDuring handling of the above exception, another exception occurred:\n",
      "\u001b[0;31mNoSuchWindowException\u001b[0m                     Traceback (most recent call last)",
      "Cell \u001b[0;32mIn[516], line 1\u001b[0m\n\u001b[0;32m----> 1\u001b[0m \u001b[43mdriver\u001b[49m\u001b[38;5;241;43m.\u001b[39;49m\u001b[43mswitch_to\u001b[49m\u001b[38;5;241;43m.\u001b[39;49m\u001b[43mwindow\u001b[49m\u001b[43m(\u001b[49m\u001b[43mhome_tab\u001b[49m\u001b[43m)\u001b[49m\n\u001b[1;32m      2\u001b[0m driver\u001b[38;5;241m.\u001b[39mclose()\n",
      "File \u001b[0;32m~/.pyenv/versions/3.8.16/envs/crawler/lib/python3.8/site-packages/selenium/webdriver/remote/switch_to.py:130\u001b[0m, in \u001b[0;36mSwitchTo.window\u001b[0;34m(self, window_name)\u001b[0m\n\u001b[1;32m    119\u001b[0m \u001b[38;5;28;01mdef\u001b[39;00m \u001b[38;5;21mwindow\u001b[39m(\u001b[38;5;28mself\u001b[39m, window_name) \u001b[38;5;241m-\u001b[39m\u001b[38;5;241m>\u001b[39m \u001b[38;5;28;01mNone\u001b[39;00m:\n\u001b[1;32m    120\u001b[0m \u001b[38;5;250m    \u001b[39m\u001b[38;5;124;03m\"\"\"Switches focus to the specified window.\u001b[39;00m\n\u001b[1;32m    121\u001b[0m \n\u001b[1;32m    122\u001b[0m \u001b[38;5;124;03m    :Args:\u001b[39;00m\n\u001b[0;32m   (...)\u001b[0m\n\u001b[1;32m    128\u001b[0m \u001b[38;5;124;03m            driver.switch_to.window('main')\u001b[39;00m\n\u001b[1;32m    129\u001b[0m \u001b[38;5;124;03m    \"\"\"\u001b[39;00m\n\u001b[0;32m--> 130\u001b[0m     \u001b[38;5;28;43mself\u001b[39;49m\u001b[38;5;241;43m.\u001b[39;49m\u001b[43m_w3c_window\u001b[49m\u001b[43m(\u001b[49m\u001b[43mwindow_name\u001b[49m\u001b[43m)\u001b[49m\n",
      "File \u001b[0;32m~/.pyenv/versions/3.8.16/envs/crawler/lib/python3.8/site-packages/selenium/webdriver/remote/switch_to.py:141\u001b[0m, in \u001b[0;36mSwitchTo._w3c_window\u001b[0;34m(self, window_name)\u001b[0m\n\u001b[1;32m    138\u001b[0m     send_handle(window_name)\n\u001b[1;32m    139\u001b[0m \u001b[38;5;28;01mexcept\u001b[39;00m NoSuchWindowException:\n\u001b[1;32m    140\u001b[0m     \u001b[38;5;66;03m# Check every window to try to find the given window name.\u001b[39;00m\n\u001b[0;32m--> 141\u001b[0m     original_handle \u001b[38;5;241m=\u001b[39m \u001b[38;5;28;43mself\u001b[39;49m\u001b[38;5;241;43m.\u001b[39;49m\u001b[43m_driver\u001b[49m\u001b[38;5;241;43m.\u001b[39;49m\u001b[43mcurrent_window_handle\u001b[49m\n\u001b[1;32m    142\u001b[0m     handles \u001b[38;5;241m=\u001b[39m \u001b[38;5;28mself\u001b[39m\u001b[38;5;241m.\u001b[39m_driver\u001b[38;5;241m.\u001b[39mwindow_handles\n\u001b[1;32m    143\u001b[0m     \u001b[38;5;28;01mfor\u001b[39;00m handle \u001b[38;5;129;01min\u001b[39;00m handles:\n",
      "File \u001b[0;32m~/.pyenv/versions/3.8.16/envs/crawler/lib/python3.8/site-packages/selenium/webdriver/remote/webdriver.py:482\u001b[0m, in \u001b[0;36mWebDriver.current_window_handle\u001b[0;34m(self)\u001b[0m\n\u001b[1;32m    473\u001b[0m \u001b[38;5;129m@property\u001b[39m\n\u001b[1;32m    474\u001b[0m \u001b[38;5;28;01mdef\u001b[39;00m \u001b[38;5;21mcurrent_window_handle\u001b[39m(\u001b[38;5;28mself\u001b[39m) \u001b[38;5;241m-\u001b[39m\u001b[38;5;241m>\u001b[39m \u001b[38;5;28mstr\u001b[39m:\n\u001b[1;32m    475\u001b[0m \u001b[38;5;250m    \u001b[39m\u001b[38;5;124;03m\"\"\"Returns the handle of the current window.\u001b[39;00m\n\u001b[1;32m    476\u001b[0m \n\u001b[1;32m    477\u001b[0m \u001b[38;5;124;03m    :Usage:\u001b[39;00m\n\u001b[0;32m   (...)\u001b[0m\n\u001b[1;32m    480\u001b[0m \u001b[38;5;124;03m            driver.current_window_handle\u001b[39;00m\n\u001b[1;32m    481\u001b[0m \u001b[38;5;124;03m    \"\"\"\u001b[39;00m\n\u001b[0;32m--> 482\u001b[0m     \u001b[38;5;28;01mreturn\u001b[39;00m \u001b[38;5;28;43mself\u001b[39;49m\u001b[38;5;241;43m.\u001b[39;49m\u001b[43mexecute\u001b[49m\u001b[43m(\u001b[49m\u001b[43mCommand\u001b[49m\u001b[38;5;241;43m.\u001b[39;49m\u001b[43mW3C_GET_CURRENT_WINDOW_HANDLE\u001b[49m\u001b[43m)\u001b[49m[\u001b[38;5;124m\"\u001b[39m\u001b[38;5;124mvalue\u001b[39m\u001b[38;5;124m\"\u001b[39m]\n",
      "File \u001b[0;32m~/.pyenv/versions/3.8.16/envs/crawler/lib/python3.8/site-packages/selenium/webdriver/remote/webdriver.py:346\u001b[0m, in \u001b[0;36mWebDriver.execute\u001b[0;34m(self, driver_command, params)\u001b[0m\n\u001b[1;32m    344\u001b[0m response \u001b[38;5;241m=\u001b[39m \u001b[38;5;28mself\u001b[39m\u001b[38;5;241m.\u001b[39mcommand_executor\u001b[38;5;241m.\u001b[39mexecute(driver_command, params)\n\u001b[1;32m    345\u001b[0m \u001b[38;5;28;01mif\u001b[39;00m response:\n\u001b[0;32m--> 346\u001b[0m     \u001b[38;5;28;43mself\u001b[39;49m\u001b[38;5;241;43m.\u001b[39;49m\u001b[43merror_handler\u001b[49m\u001b[38;5;241;43m.\u001b[39;49m\u001b[43mcheck_response\u001b[49m\u001b[43m(\u001b[49m\u001b[43mresponse\u001b[49m\u001b[43m)\u001b[49m\n\u001b[1;32m    347\u001b[0m     response[\u001b[38;5;124m\"\u001b[39m\u001b[38;5;124mvalue\u001b[39m\u001b[38;5;124m\"\u001b[39m] \u001b[38;5;241m=\u001b[39m \u001b[38;5;28mself\u001b[39m\u001b[38;5;241m.\u001b[39m_unwrap_value(response\u001b[38;5;241m.\u001b[39mget(\u001b[38;5;124m\"\u001b[39m\u001b[38;5;124mvalue\u001b[39m\u001b[38;5;124m\"\u001b[39m, \u001b[38;5;28;01mNone\u001b[39;00m))\n\u001b[1;32m    348\u001b[0m     \u001b[38;5;28;01mreturn\u001b[39;00m response\n",
      "File \u001b[0;32m~/.pyenv/versions/3.8.16/envs/crawler/lib/python3.8/site-packages/selenium/webdriver/remote/errorhandler.py:245\u001b[0m, in \u001b[0;36mErrorHandler.check_response\u001b[0;34m(self, response)\u001b[0m\n\u001b[1;32m    243\u001b[0m         alert_text \u001b[38;5;241m=\u001b[39m value[\u001b[38;5;124m\"\u001b[39m\u001b[38;5;124malert\u001b[39m\u001b[38;5;124m\"\u001b[39m]\u001b[38;5;241m.\u001b[39mget(\u001b[38;5;124m\"\u001b[39m\u001b[38;5;124mtext\u001b[39m\u001b[38;5;124m\"\u001b[39m)\n\u001b[1;32m    244\u001b[0m     \u001b[38;5;28;01mraise\u001b[39;00m exception_class(message, screen, stacktrace, alert_text)  \u001b[38;5;66;03m# type: ignore[call-arg]  # mypy is not smart enough here\u001b[39;00m\n\u001b[0;32m--> 245\u001b[0m \u001b[38;5;28;01mraise\u001b[39;00m exception_class(message, screen, stacktrace)\n",
      "\u001b[0;31mNoSuchWindowException\u001b[0m: Message: no such window: target window already closed\nfrom unknown error: web view not found\n  (Session info: headless chrome=115.0.5790.170)\nStacktrace:\n0   chromedriver                        0x00000001031e3dd0 chromedriver + 4226512\n1   chromedriver                        0x00000001031dc37c chromedriver + 4195196\n2   chromedriver                        0x0000000102e20d68 chromedriver + 281960\n3   chromedriver                        0x0000000102dfaef8 chromedriver + 126712\n4   chromedriver                        0x0000000102e7fe88 chromedriver + 671368\n5   chromedriver                        0x0000000102e8564c chromedriver + 693836\n6   chromedriver                        0x0000000102e4ff1c chromedriver + 474908\n7   chromedriver                        0x0000000102e50ef4 chromedriver + 478964\n8   chromedriver                        0x00000001031a5424 chromedriver + 3970084\n9   chromedriver                        0x00000001031a9578 chromedriver + 3986808\n10  chromedriver                        0x00000001031af43c chromedriver + 4011068\n11  chromedriver                        0x00000001031aa184 chromedriver + 3989892\n12  chromedriver                        0x0000000103182048 chromedriver + 3825736\n13  chromedriver                        0x00000001031c5f10 chromedriver + 4103952\n14  chromedriver                        0x00000001031c6068 chromedriver + 4104296\n15  chromedriver                        0x00000001031d5db0 chromedriver + 4169136\n16  libsystem_pthread.dylib             0x000000019129e06c _pthread_start + 148\n17  libsystem_pthread.dylib             0x0000000191298e2c thread_start + 8\n"
     ]
    }
   ],
   "source": [
    "driver.switch_to.window(home_tab)\n",
    "driver.close()"
   ]
  },
  {
   "cell_type": "code",
   "execution_count": 497,
   "id": "ed617fe8",
   "metadata": {},
   "outputs": [],
   "source": [
    "for w in all_windows:\n",
    "    if( w != home_tab):\n",
    "        child_tab = w\n",
    "        driver.switch_to.window(w)\n",
    "        break\n",
    "driver.switch_to.window(child_tab)"
   ]
  },
  {
   "cell_type": "code",
   "execution_count": 498,
   "id": "1cfd5da1",
   "metadata": {},
   "outputs": [
    {
     "ename": "TimeoutException",
     "evalue": "Message: timeout: Timed out receiving message from renderer: 300.000\n  (Session info: headless chrome=115.0.5790.170)\nStacktrace:\n0   chromedriver                        0x0000000102ba7dd0 chromedriver + 4226512\n1   chromedriver                        0x0000000102ba037c chromedriver + 4195196\n2   chromedriver                        0x00000001027e4d68 chromedriver + 281960\n3   chromedriver                        0x00000001027ce9b8 chromedriver + 190904\n4   chromedriver                        0x00000001027ce6e0 chromedriver + 190176\n5   chromedriver                        0x00000001027cd304 chromedriver + 185092\n6   chromedriver                        0x00000001027cd78c chromedriver + 186252\n7   chromedriver                        0x00000001027db514 chromedriver + 242964\n8   chromedriver                        0x00000001027ef03c chromedriver + 323644\n9   chromedriver                        0x00000001027cdc8c chromedriver + 187532\n10  chromedriver                        0x00000001027eee88 chromedriver + 323208\n11  chromedriver                        0x0000000102856bc4 chromedriver + 748484\n12  chromedriver                        0x0000000102813f1c chromedriver + 474908\n13  chromedriver                        0x0000000102814ef4 chromedriver + 478964\n14  chromedriver                        0x0000000102b69424 chromedriver + 3970084\n15  chromedriver                        0x0000000102b6d578 chromedriver + 3986808\n16  chromedriver                        0x0000000102b7343c chromedriver + 4011068\n17  chromedriver                        0x0000000102b6e184 chromedriver + 3989892\n18  chromedriver                        0x0000000102b46048 chromedriver + 3825736\n19  chromedriver                        0x0000000102b89f10 chromedriver + 4103952\n20  chromedriver                        0x0000000102b8a068 chromedriver + 4104296\n21  chromedriver                        0x0000000102b99db0 chromedriver + 4169136\n22  libsystem_pthread.dylib             0x000000019129e06c _pthread_start + 148\n23  libsystem_pthread.dylib             0x0000000191298e2c thread_start + 8\n",
     "output_type": "error",
     "traceback": [
      "\u001b[0;31m---------------------------------------------------------------------------\u001b[0m",
      "\u001b[0;31mTimeoutException\u001b[0m                          Traceback (most recent call last)",
      "Cell \u001b[0;32mIn[498], line 1\u001b[0m\n\u001b[0;32m----> 1\u001b[0m \u001b[43mdriver\u001b[49m\u001b[38;5;241;43m.\u001b[39;49m\u001b[43mexecute_script\u001b[49m\u001b[43m(\u001b[49m\u001b[38;5;124;43m'\u001b[39;49m\u001b[38;5;124;43mwindow.print();\u001b[39;49m\u001b[38;5;124;43m'\u001b[39;49m\u001b[43m)\u001b[49m\n",
      "File \u001b[0;32m~/.pyenv/versions/3.8.16/envs/crawler/lib/python3.8/site-packages/selenium/webdriver/remote/webdriver.py:406\u001b[0m, in \u001b[0;36mWebDriver.execute_script\u001b[0;34m(self, script, *args)\u001b[0m\n\u001b[1;32m    403\u001b[0m converted_args \u001b[38;5;241m=\u001b[39m \u001b[38;5;28mlist\u001b[39m(args)\n\u001b[1;32m    404\u001b[0m command \u001b[38;5;241m=\u001b[39m Command\u001b[38;5;241m.\u001b[39mW3C_EXECUTE_SCRIPT\n\u001b[0;32m--> 406\u001b[0m \u001b[38;5;28;01mreturn\u001b[39;00m \u001b[38;5;28;43mself\u001b[39;49m\u001b[38;5;241;43m.\u001b[39;49m\u001b[43mexecute\u001b[49m\u001b[43m(\u001b[49m\u001b[43mcommand\u001b[49m\u001b[43m,\u001b[49m\u001b[43m \u001b[49m\u001b[43m{\u001b[49m\u001b[38;5;124;43m\"\u001b[39;49m\u001b[38;5;124;43mscript\u001b[39;49m\u001b[38;5;124;43m\"\u001b[39;49m\u001b[43m:\u001b[49m\u001b[43m \u001b[49m\u001b[43mscript\u001b[49m\u001b[43m,\u001b[49m\u001b[43m \u001b[49m\u001b[38;5;124;43m\"\u001b[39;49m\u001b[38;5;124;43margs\u001b[39;49m\u001b[38;5;124;43m\"\u001b[39;49m\u001b[43m:\u001b[49m\u001b[43m \u001b[49m\u001b[43mconverted_args\u001b[49m\u001b[43m}\u001b[49m\u001b[43m)\u001b[49m[\u001b[38;5;124m\"\u001b[39m\u001b[38;5;124mvalue\u001b[39m\u001b[38;5;124m\"\u001b[39m]\n",
      "File \u001b[0;32m~/.pyenv/versions/3.8.16/envs/crawler/lib/python3.8/site-packages/selenium/webdriver/remote/webdriver.py:346\u001b[0m, in \u001b[0;36mWebDriver.execute\u001b[0;34m(self, driver_command, params)\u001b[0m\n\u001b[1;32m    344\u001b[0m response \u001b[38;5;241m=\u001b[39m \u001b[38;5;28mself\u001b[39m\u001b[38;5;241m.\u001b[39mcommand_executor\u001b[38;5;241m.\u001b[39mexecute(driver_command, params)\n\u001b[1;32m    345\u001b[0m \u001b[38;5;28;01mif\u001b[39;00m response:\n\u001b[0;32m--> 346\u001b[0m     \u001b[38;5;28;43mself\u001b[39;49m\u001b[38;5;241;43m.\u001b[39;49m\u001b[43merror_handler\u001b[49m\u001b[38;5;241;43m.\u001b[39;49m\u001b[43mcheck_response\u001b[49m\u001b[43m(\u001b[49m\u001b[43mresponse\u001b[49m\u001b[43m)\u001b[49m\n\u001b[1;32m    347\u001b[0m     response[\u001b[38;5;124m\"\u001b[39m\u001b[38;5;124mvalue\u001b[39m\u001b[38;5;124m\"\u001b[39m] \u001b[38;5;241m=\u001b[39m \u001b[38;5;28mself\u001b[39m\u001b[38;5;241m.\u001b[39m_unwrap_value(response\u001b[38;5;241m.\u001b[39mget(\u001b[38;5;124m\"\u001b[39m\u001b[38;5;124mvalue\u001b[39m\u001b[38;5;124m\"\u001b[39m, \u001b[38;5;28;01mNone\u001b[39;00m))\n\u001b[1;32m    348\u001b[0m     \u001b[38;5;28;01mreturn\u001b[39;00m response\n",
      "File \u001b[0;32m~/.pyenv/versions/3.8.16/envs/crawler/lib/python3.8/site-packages/selenium/webdriver/remote/errorhandler.py:245\u001b[0m, in \u001b[0;36mErrorHandler.check_response\u001b[0;34m(self, response)\u001b[0m\n\u001b[1;32m    243\u001b[0m         alert_text \u001b[38;5;241m=\u001b[39m value[\u001b[38;5;124m\"\u001b[39m\u001b[38;5;124malert\u001b[39m\u001b[38;5;124m\"\u001b[39m]\u001b[38;5;241m.\u001b[39mget(\u001b[38;5;124m\"\u001b[39m\u001b[38;5;124mtext\u001b[39m\u001b[38;5;124m\"\u001b[39m)\n\u001b[1;32m    244\u001b[0m     \u001b[38;5;28;01mraise\u001b[39;00m exception_class(message, screen, stacktrace, alert_text)  \u001b[38;5;66;03m# type: ignore[call-arg]  # mypy is not smart enough here\u001b[39;00m\n\u001b[0;32m--> 245\u001b[0m \u001b[38;5;28;01mraise\u001b[39;00m exception_class(message, screen, stacktrace)\n",
      "\u001b[0;31mTimeoutException\u001b[0m: Message: timeout: Timed out receiving message from renderer: 300.000\n  (Session info: headless chrome=115.0.5790.170)\nStacktrace:\n0   chromedriver                        0x0000000102ba7dd0 chromedriver + 4226512\n1   chromedriver                        0x0000000102ba037c chromedriver + 4195196\n2   chromedriver                        0x00000001027e4d68 chromedriver + 281960\n3   chromedriver                        0x00000001027ce9b8 chromedriver + 190904\n4   chromedriver                        0x00000001027ce6e0 chromedriver + 190176\n5   chromedriver                        0x00000001027cd304 chromedriver + 185092\n6   chromedriver                        0x00000001027cd78c chromedriver + 186252\n7   chromedriver                        0x00000001027db514 chromedriver + 242964\n8   chromedriver                        0x00000001027ef03c chromedriver + 323644\n9   chromedriver                        0x00000001027cdc8c chromedriver + 187532\n10  chromedriver                        0x00000001027eee88 chromedriver + 323208\n11  chromedriver                        0x0000000102856bc4 chromedriver + 748484\n12  chromedriver                        0x0000000102813f1c chromedriver + 474908\n13  chromedriver                        0x0000000102814ef4 chromedriver + 478964\n14  chromedriver                        0x0000000102b69424 chromedriver + 3970084\n15  chromedriver                        0x0000000102b6d578 chromedriver + 3986808\n16  chromedriver                        0x0000000102b7343c chromedriver + 4011068\n17  chromedriver                        0x0000000102b6e184 chromedriver + 3989892\n18  chromedriver                        0x0000000102b46048 chromedriver + 3825736\n19  chromedriver                        0x0000000102b89f10 chromedriver + 4103952\n20  chromedriver                        0x0000000102b8a068 chromedriver + 4104296\n21  chromedriver                        0x0000000102b99db0 chromedriver + 4169136\n22  libsystem_pthread.dylib             0x000000019129e06c _pthread_start + 148\n23  libsystem_pthread.dylib             0x0000000191298e2c thread_start + 8\n"
     ]
    }
   ],
   "source": [
    "driver.execute_script('window.print();')"
   ]
  },
  {
   "cell_type": "code",
   "execution_count": null,
   "id": "244b6770",
   "metadata": {},
   "outputs": [],
   "source": []
  },
  {
   "cell_type": "code",
   "execution_count": null,
   "id": "f15e0603",
   "metadata": {},
   "outputs": [],
   "source": []
  },
  {
   "cell_type": "code",
   "execution_count": 421,
   "id": "b18268d8",
   "metadata": {},
   "outputs": [
    {
     "ename": "MaxRetryError",
     "evalue": "HTTPConnectionPool(host='localhost', port=57410): Max retries exceeded with url: /session/d931ae51bf1db43c5669d2f53fdb15bf/window (Caused by NewConnectionError('<urllib3.connection.HTTPConnection object at 0x1108bd7f0>: Failed to establish a new connection: [Errno 61] Connection refused'))",
     "output_type": "error",
     "traceback": [
      "\u001b[0;31m---------------------------------------------------------------------------\u001b[0m",
      "\u001b[0;31mConnectionRefusedError\u001b[0m                    Traceback (most recent call last)",
      "File \u001b[0;32m~/.pyenv/versions/3.8.16/envs/crawler/lib/python3.8/site-packages/urllib3/connection.py:200\u001b[0m, in \u001b[0;36mHTTPConnection._new_conn\u001b[0;34m(self)\u001b[0m\n\u001b[1;32m    199\u001b[0m \u001b[38;5;28;01mtry\u001b[39;00m:\n\u001b[0;32m--> 200\u001b[0m     sock \u001b[38;5;241m=\u001b[39m \u001b[43mconnection\u001b[49m\u001b[38;5;241;43m.\u001b[39;49m\u001b[43mcreate_connection\u001b[49m\u001b[43m(\u001b[49m\n\u001b[1;32m    201\u001b[0m \u001b[43m        \u001b[49m\u001b[43m(\u001b[49m\u001b[38;5;28;43mself\u001b[39;49m\u001b[38;5;241;43m.\u001b[39;49m\u001b[43m_dns_host\u001b[49m\u001b[43m,\u001b[49m\u001b[43m \u001b[49m\u001b[38;5;28;43mself\u001b[39;49m\u001b[38;5;241;43m.\u001b[39;49m\u001b[43mport\u001b[49m\u001b[43m)\u001b[49m\u001b[43m,\u001b[49m\n\u001b[1;32m    202\u001b[0m \u001b[43m        \u001b[49m\u001b[38;5;28;43mself\u001b[39;49m\u001b[38;5;241;43m.\u001b[39;49m\u001b[43mtimeout\u001b[49m\u001b[43m,\u001b[49m\n\u001b[1;32m    203\u001b[0m \u001b[43m        \u001b[49m\u001b[43msource_address\u001b[49m\u001b[38;5;241;43m=\u001b[39;49m\u001b[38;5;28;43mself\u001b[39;49m\u001b[38;5;241;43m.\u001b[39;49m\u001b[43msource_address\u001b[49m\u001b[43m,\u001b[49m\n\u001b[1;32m    204\u001b[0m \u001b[43m        \u001b[49m\u001b[43msocket_options\u001b[49m\u001b[38;5;241;43m=\u001b[39;49m\u001b[38;5;28;43mself\u001b[39;49m\u001b[38;5;241;43m.\u001b[39;49m\u001b[43msocket_options\u001b[49m\u001b[43m,\u001b[49m\n\u001b[1;32m    205\u001b[0m \u001b[43m    \u001b[49m\u001b[43m)\u001b[49m\n\u001b[1;32m    206\u001b[0m \u001b[38;5;28;01mexcept\u001b[39;00m socket\u001b[38;5;241m.\u001b[39mgaierror \u001b[38;5;28;01mas\u001b[39;00m e:\n",
      "File \u001b[0;32m~/.pyenv/versions/3.8.16/envs/crawler/lib/python3.8/site-packages/urllib3/util/connection.py:85\u001b[0m, in \u001b[0;36mcreate_connection\u001b[0;34m(address, timeout, source_address, socket_options)\u001b[0m\n\u001b[1;32m     84\u001b[0m \u001b[38;5;28;01mtry\u001b[39;00m:\n\u001b[0;32m---> 85\u001b[0m     \u001b[38;5;28;01mraise\u001b[39;00m err\n\u001b[1;32m     86\u001b[0m \u001b[38;5;28;01mfinally\u001b[39;00m:\n\u001b[1;32m     87\u001b[0m     \u001b[38;5;66;03m# Break explicitly a reference cycle\u001b[39;00m\n",
      "File \u001b[0;32m~/.pyenv/versions/3.8.16/envs/crawler/lib/python3.8/site-packages/urllib3/util/connection.py:73\u001b[0m, in \u001b[0;36mcreate_connection\u001b[0;34m(address, timeout, source_address, socket_options)\u001b[0m\n\u001b[1;32m     72\u001b[0m     sock\u001b[38;5;241m.\u001b[39mbind(source_address)\n\u001b[0;32m---> 73\u001b[0m \u001b[43msock\u001b[49m\u001b[38;5;241;43m.\u001b[39;49m\u001b[43mconnect\u001b[49m\u001b[43m(\u001b[49m\u001b[43msa\u001b[49m\u001b[43m)\u001b[49m\n\u001b[1;32m     74\u001b[0m \u001b[38;5;66;03m# Break explicitly a reference cycle\u001b[39;00m\n",
      "\u001b[0;31mConnectionRefusedError\u001b[0m: [Errno 61] Connection refused",
      "\nThe above exception was the direct cause of the following exception:\n",
      "\u001b[0;31mNewConnectionError\u001b[0m                        Traceback (most recent call last)",
      "File \u001b[0;32m~/.pyenv/versions/3.8.16/envs/crawler/lib/python3.8/site-packages/urllib3/connectionpool.py:790\u001b[0m, in \u001b[0;36mHTTPConnectionPool.urlopen\u001b[0;34m(self, method, url, body, headers, retries, redirect, assert_same_host, timeout, pool_timeout, release_conn, chunked, body_pos, preload_content, decode_content, **response_kw)\u001b[0m\n\u001b[1;32m    789\u001b[0m \u001b[38;5;66;03m# Make the request on the HTTPConnection object\u001b[39;00m\n\u001b[0;32m--> 790\u001b[0m response \u001b[38;5;241m=\u001b[39m \u001b[38;5;28;43mself\u001b[39;49m\u001b[38;5;241;43m.\u001b[39;49m\u001b[43m_make_request\u001b[49m\u001b[43m(\u001b[49m\n\u001b[1;32m    791\u001b[0m \u001b[43m    \u001b[49m\u001b[43mconn\u001b[49m\u001b[43m,\u001b[49m\n\u001b[1;32m    792\u001b[0m \u001b[43m    \u001b[49m\u001b[43mmethod\u001b[49m\u001b[43m,\u001b[49m\n\u001b[1;32m    793\u001b[0m \u001b[43m    \u001b[49m\u001b[43murl\u001b[49m\u001b[43m,\u001b[49m\n\u001b[1;32m    794\u001b[0m \u001b[43m    \u001b[49m\u001b[43mtimeout\u001b[49m\u001b[38;5;241;43m=\u001b[39;49m\u001b[43mtimeout_obj\u001b[49m\u001b[43m,\u001b[49m\n\u001b[1;32m    795\u001b[0m \u001b[43m    \u001b[49m\u001b[43mbody\u001b[49m\u001b[38;5;241;43m=\u001b[39;49m\u001b[43mbody\u001b[49m\u001b[43m,\u001b[49m\n\u001b[1;32m    796\u001b[0m \u001b[43m    \u001b[49m\u001b[43mheaders\u001b[49m\u001b[38;5;241;43m=\u001b[39;49m\u001b[43mheaders\u001b[49m\u001b[43m,\u001b[49m\n\u001b[1;32m    797\u001b[0m \u001b[43m    \u001b[49m\u001b[43mchunked\u001b[49m\u001b[38;5;241;43m=\u001b[39;49m\u001b[43mchunked\u001b[49m\u001b[43m,\u001b[49m\n\u001b[1;32m    798\u001b[0m \u001b[43m    \u001b[49m\u001b[43mretries\u001b[49m\u001b[38;5;241;43m=\u001b[39;49m\u001b[43mretries\u001b[49m\u001b[43m,\u001b[49m\n\u001b[1;32m    799\u001b[0m \u001b[43m    \u001b[49m\u001b[43mresponse_conn\u001b[49m\u001b[38;5;241;43m=\u001b[39;49m\u001b[43mresponse_conn\u001b[49m\u001b[43m,\u001b[49m\n\u001b[1;32m    800\u001b[0m \u001b[43m    \u001b[49m\u001b[43mpreload_content\u001b[49m\u001b[38;5;241;43m=\u001b[39;49m\u001b[43mpreload_content\u001b[49m\u001b[43m,\u001b[49m\n\u001b[1;32m    801\u001b[0m \u001b[43m    \u001b[49m\u001b[43mdecode_content\u001b[49m\u001b[38;5;241;43m=\u001b[39;49m\u001b[43mdecode_content\u001b[49m\u001b[43m,\u001b[49m\n\u001b[1;32m    802\u001b[0m \u001b[43m    \u001b[49m\u001b[38;5;241;43m*\u001b[39;49m\u001b[38;5;241;43m*\u001b[39;49m\u001b[43mresponse_kw\u001b[49m\u001b[43m,\u001b[49m\n\u001b[1;32m    803\u001b[0m \u001b[43m\u001b[49m\u001b[43m)\u001b[49m\n\u001b[1;32m    805\u001b[0m \u001b[38;5;66;03m# Everything went great!\u001b[39;00m\n",
      "File \u001b[0;32m~/.pyenv/versions/3.8.16/envs/crawler/lib/python3.8/site-packages/urllib3/connectionpool.py:496\u001b[0m, in \u001b[0;36mHTTPConnectionPool._make_request\u001b[0;34m(self, conn, method, url, body, headers, retries, timeout, chunked, response_conn, preload_content, decode_content, enforce_content_length)\u001b[0m\n\u001b[1;32m    495\u001b[0m \u001b[38;5;28;01mtry\u001b[39;00m:\n\u001b[0;32m--> 496\u001b[0m     \u001b[43mconn\u001b[49m\u001b[38;5;241;43m.\u001b[39;49m\u001b[43mrequest\u001b[49m\u001b[43m(\u001b[49m\n\u001b[1;32m    497\u001b[0m \u001b[43m        \u001b[49m\u001b[43mmethod\u001b[49m\u001b[43m,\u001b[49m\n\u001b[1;32m    498\u001b[0m \u001b[43m        \u001b[49m\u001b[43murl\u001b[49m\u001b[43m,\u001b[49m\n\u001b[1;32m    499\u001b[0m \u001b[43m        \u001b[49m\u001b[43mbody\u001b[49m\u001b[38;5;241;43m=\u001b[39;49m\u001b[43mbody\u001b[49m\u001b[43m,\u001b[49m\n\u001b[1;32m    500\u001b[0m \u001b[43m        \u001b[49m\u001b[43mheaders\u001b[49m\u001b[38;5;241;43m=\u001b[39;49m\u001b[43mheaders\u001b[49m\u001b[43m,\u001b[49m\n\u001b[1;32m    501\u001b[0m \u001b[43m        \u001b[49m\u001b[43mchunked\u001b[49m\u001b[38;5;241;43m=\u001b[39;49m\u001b[43mchunked\u001b[49m\u001b[43m,\u001b[49m\n\u001b[1;32m    502\u001b[0m \u001b[43m        \u001b[49m\u001b[43mpreload_content\u001b[49m\u001b[38;5;241;43m=\u001b[39;49m\u001b[43mpreload_content\u001b[49m\u001b[43m,\u001b[49m\n\u001b[1;32m    503\u001b[0m \u001b[43m        \u001b[49m\u001b[43mdecode_content\u001b[49m\u001b[38;5;241;43m=\u001b[39;49m\u001b[43mdecode_content\u001b[49m\u001b[43m,\u001b[49m\n\u001b[1;32m    504\u001b[0m \u001b[43m        \u001b[49m\u001b[43menforce_content_length\u001b[49m\u001b[38;5;241;43m=\u001b[39;49m\u001b[43menforce_content_length\u001b[49m\u001b[43m,\u001b[49m\n\u001b[1;32m    505\u001b[0m \u001b[43m    \u001b[49m\u001b[43m)\u001b[49m\n\u001b[1;32m    507\u001b[0m \u001b[38;5;66;03m# We are swallowing BrokenPipeError (errno.EPIPE) since the server is\u001b[39;00m\n\u001b[1;32m    508\u001b[0m \u001b[38;5;66;03m# legitimately able to close the connection after sending a valid response.\u001b[39;00m\n\u001b[1;32m    509\u001b[0m \u001b[38;5;66;03m# With this behaviour, the received response is still readable.\u001b[39;00m\n",
      "File \u001b[0;32m~/.pyenv/versions/3.8.16/envs/crawler/lib/python3.8/site-packages/urllib3/connection.py:388\u001b[0m, in \u001b[0;36mHTTPConnection.request\u001b[0;34m(self, method, url, body, headers, chunked, preload_content, decode_content, enforce_content_length)\u001b[0m\n\u001b[1;32m    387\u001b[0m     \u001b[38;5;28mself\u001b[39m\u001b[38;5;241m.\u001b[39mputheader(header, value)\n\u001b[0;32m--> 388\u001b[0m \u001b[38;5;28;43mself\u001b[39;49m\u001b[38;5;241;43m.\u001b[39;49m\u001b[43mendheaders\u001b[49m\u001b[43m(\u001b[49m\u001b[43m)\u001b[49m\n\u001b[1;32m    390\u001b[0m \u001b[38;5;66;03m# If we're given a body we start sending that in chunks.\u001b[39;00m\n",
      "File \u001b[0;32m~/.pyenv/versions/3.8.16/lib/python3.8/http/client.py:1251\u001b[0m, in \u001b[0;36mHTTPConnection.endheaders\u001b[0;34m(self, message_body, encode_chunked)\u001b[0m\n\u001b[1;32m   1250\u001b[0m     \u001b[38;5;28;01mraise\u001b[39;00m CannotSendHeader()\n\u001b[0;32m-> 1251\u001b[0m \u001b[38;5;28;43mself\u001b[39;49m\u001b[38;5;241;43m.\u001b[39;49m\u001b[43m_send_output\u001b[49m\u001b[43m(\u001b[49m\u001b[43mmessage_body\u001b[49m\u001b[43m,\u001b[49m\u001b[43m \u001b[49m\u001b[43mencode_chunked\u001b[49m\u001b[38;5;241;43m=\u001b[39;49m\u001b[43mencode_chunked\u001b[49m\u001b[43m)\u001b[49m\n",
      "File \u001b[0;32m~/.pyenv/versions/3.8.16/lib/python3.8/http/client.py:1011\u001b[0m, in \u001b[0;36mHTTPConnection._send_output\u001b[0;34m(self, message_body, encode_chunked)\u001b[0m\n\u001b[1;32m   1010\u001b[0m \u001b[38;5;28;01mdel\u001b[39;00m \u001b[38;5;28mself\u001b[39m\u001b[38;5;241m.\u001b[39m_buffer[:]\n\u001b[0;32m-> 1011\u001b[0m \u001b[38;5;28;43mself\u001b[39;49m\u001b[38;5;241;43m.\u001b[39;49m\u001b[43msend\u001b[49m\u001b[43m(\u001b[49m\u001b[43mmsg\u001b[49m\u001b[43m)\u001b[49m\n\u001b[1;32m   1013\u001b[0m \u001b[38;5;28;01mif\u001b[39;00m message_body \u001b[38;5;129;01mis\u001b[39;00m \u001b[38;5;129;01mnot\u001b[39;00m \u001b[38;5;28;01mNone\u001b[39;00m:\n\u001b[1;32m   1014\u001b[0m \n\u001b[1;32m   1015\u001b[0m     \u001b[38;5;66;03m# create a consistent interface to message_body\u001b[39;00m\n",
      "File \u001b[0;32m~/.pyenv/versions/3.8.16/lib/python3.8/http/client.py:951\u001b[0m, in \u001b[0;36mHTTPConnection.send\u001b[0;34m(self, data)\u001b[0m\n\u001b[1;32m    950\u001b[0m \u001b[38;5;28;01mif\u001b[39;00m \u001b[38;5;28mself\u001b[39m\u001b[38;5;241m.\u001b[39mauto_open:\n\u001b[0;32m--> 951\u001b[0m     \u001b[38;5;28;43mself\u001b[39;49m\u001b[38;5;241;43m.\u001b[39;49m\u001b[43mconnect\u001b[49m\u001b[43m(\u001b[49m\u001b[43m)\u001b[49m\n\u001b[1;32m    952\u001b[0m \u001b[38;5;28;01melse\u001b[39;00m:\n",
      "File \u001b[0;32m~/.pyenv/versions/3.8.16/envs/crawler/lib/python3.8/site-packages/urllib3/connection.py:236\u001b[0m, in \u001b[0;36mHTTPConnection.connect\u001b[0;34m(self)\u001b[0m\n\u001b[1;32m    235\u001b[0m \u001b[38;5;28;01mdef\u001b[39;00m \u001b[38;5;21mconnect\u001b[39m(\u001b[38;5;28mself\u001b[39m) \u001b[38;5;241m-\u001b[39m\u001b[38;5;241m>\u001b[39m \u001b[38;5;28;01mNone\u001b[39;00m:\n\u001b[0;32m--> 236\u001b[0m     \u001b[38;5;28mself\u001b[39m\u001b[38;5;241m.\u001b[39msock \u001b[38;5;241m=\u001b[39m \u001b[38;5;28;43mself\u001b[39;49m\u001b[38;5;241;43m.\u001b[39;49m\u001b[43m_new_conn\u001b[49m\u001b[43m(\u001b[49m\u001b[43m)\u001b[49m\n\u001b[1;32m    237\u001b[0m     \u001b[38;5;28;01mif\u001b[39;00m \u001b[38;5;28mself\u001b[39m\u001b[38;5;241m.\u001b[39m_tunnel_host:\n\u001b[1;32m    238\u001b[0m         \u001b[38;5;66;03m# If we're tunneling it means we're connected to our proxy.\u001b[39;00m\n",
      "File \u001b[0;32m~/.pyenv/versions/3.8.16/envs/crawler/lib/python3.8/site-packages/urllib3/connection.py:215\u001b[0m, in \u001b[0;36mHTTPConnection._new_conn\u001b[0;34m(self)\u001b[0m\n\u001b[1;32m    214\u001b[0m \u001b[38;5;28;01mexcept\u001b[39;00m \u001b[38;5;167;01mOSError\u001b[39;00m \u001b[38;5;28;01mas\u001b[39;00m e:\n\u001b[0;32m--> 215\u001b[0m     \u001b[38;5;28;01mraise\u001b[39;00m NewConnectionError(\n\u001b[1;32m    216\u001b[0m         \u001b[38;5;28mself\u001b[39m, \u001b[38;5;124mf\u001b[39m\u001b[38;5;124m\"\u001b[39m\u001b[38;5;124mFailed to establish a new connection: \u001b[39m\u001b[38;5;132;01m{\u001b[39;00me\u001b[38;5;132;01m}\u001b[39;00m\u001b[38;5;124m\"\u001b[39m\n\u001b[1;32m    217\u001b[0m     ) \u001b[38;5;28;01mfrom\u001b[39;00m \u001b[38;5;21;01me\u001b[39;00m\n\u001b[1;32m    219\u001b[0m \u001b[38;5;28;01mreturn\u001b[39;00m sock\n",
      "\u001b[0;31mNewConnectionError\u001b[0m: <urllib3.connection.HTTPConnection object at 0x1108bd7f0>: Failed to establish a new connection: [Errno 61] Connection refused",
      "\nThe above exception was the direct cause of the following exception:\n",
      "\u001b[0;31mMaxRetryError\u001b[0m                             Traceback (most recent call last)",
      "Cell \u001b[0;32mIn[421], line 1\u001b[0m\n\u001b[0;32m----> 1\u001b[0m \u001b[43mdriver\u001b[49m\u001b[38;5;241;43m.\u001b[39;49m\u001b[43mswitch_to\u001b[49m\u001b[38;5;241;43m.\u001b[39;49m\u001b[43mwindow\u001b[49m\u001b[43m(\u001b[49m\u001b[43mhome_tab\u001b[49m\u001b[43m)\u001b[49m\n\u001b[1;32m      2\u001b[0m driver\u001b[38;5;241m.\u001b[39mclose()\n",
      "File \u001b[0;32m~/.pyenv/versions/3.8.16/envs/crawler/lib/python3.8/site-packages/selenium/webdriver/remote/switch_to.py:130\u001b[0m, in \u001b[0;36mSwitchTo.window\u001b[0;34m(self, window_name)\u001b[0m\n\u001b[1;32m    119\u001b[0m \u001b[38;5;28;01mdef\u001b[39;00m \u001b[38;5;21mwindow\u001b[39m(\u001b[38;5;28mself\u001b[39m, window_name) \u001b[38;5;241m-\u001b[39m\u001b[38;5;241m>\u001b[39m \u001b[38;5;28;01mNone\u001b[39;00m:\n\u001b[1;32m    120\u001b[0m \u001b[38;5;250m    \u001b[39m\u001b[38;5;124;03m\"\"\"Switches focus to the specified window.\u001b[39;00m\n\u001b[1;32m    121\u001b[0m \n\u001b[1;32m    122\u001b[0m \u001b[38;5;124;03m    :Args:\u001b[39;00m\n\u001b[0;32m   (...)\u001b[0m\n\u001b[1;32m    128\u001b[0m \u001b[38;5;124;03m            driver.switch_to.window('main')\u001b[39;00m\n\u001b[1;32m    129\u001b[0m \u001b[38;5;124;03m    \"\"\"\u001b[39;00m\n\u001b[0;32m--> 130\u001b[0m     \u001b[38;5;28;43mself\u001b[39;49m\u001b[38;5;241;43m.\u001b[39;49m\u001b[43m_w3c_window\u001b[49m\u001b[43m(\u001b[49m\u001b[43mwindow_name\u001b[49m\u001b[43m)\u001b[49m\n",
      "File \u001b[0;32m~/.pyenv/versions/3.8.16/envs/crawler/lib/python3.8/site-packages/selenium/webdriver/remote/switch_to.py:138\u001b[0m, in \u001b[0;36mSwitchTo._w3c_window\u001b[0;34m(self, window_name)\u001b[0m\n\u001b[1;32m    134\u001b[0m     \u001b[38;5;28mself\u001b[39m\u001b[38;5;241m.\u001b[39m_driver\u001b[38;5;241m.\u001b[39mexecute(Command\u001b[38;5;241m.\u001b[39mSWITCH_TO_WINDOW, {\u001b[38;5;124m\"\u001b[39m\u001b[38;5;124mhandle\u001b[39m\u001b[38;5;124m\"\u001b[39m: h})\n\u001b[1;32m    136\u001b[0m \u001b[38;5;28;01mtry\u001b[39;00m:\n\u001b[1;32m    137\u001b[0m     \u001b[38;5;66;03m# Try using it as a handle first.\u001b[39;00m\n\u001b[0;32m--> 138\u001b[0m     \u001b[43msend_handle\u001b[49m\u001b[43m(\u001b[49m\u001b[43mwindow_name\u001b[49m\u001b[43m)\u001b[49m\n\u001b[1;32m    139\u001b[0m \u001b[38;5;28;01mexcept\u001b[39;00m NoSuchWindowException:\n\u001b[1;32m    140\u001b[0m     \u001b[38;5;66;03m# Check every window to try to find the given window name.\u001b[39;00m\n\u001b[1;32m    141\u001b[0m     original_handle \u001b[38;5;241m=\u001b[39m \u001b[38;5;28mself\u001b[39m\u001b[38;5;241m.\u001b[39m_driver\u001b[38;5;241m.\u001b[39mcurrent_window_handle\n",
      "File \u001b[0;32m~/.pyenv/versions/3.8.16/envs/crawler/lib/python3.8/site-packages/selenium/webdriver/remote/switch_to.py:134\u001b[0m, in \u001b[0;36mSwitchTo._w3c_window.<locals>.send_handle\u001b[0;34m(h)\u001b[0m\n\u001b[1;32m    133\u001b[0m \u001b[38;5;28;01mdef\u001b[39;00m \u001b[38;5;21msend_handle\u001b[39m(h):\n\u001b[0;32m--> 134\u001b[0m     \u001b[38;5;28;43mself\u001b[39;49m\u001b[38;5;241;43m.\u001b[39;49m\u001b[43m_driver\u001b[49m\u001b[38;5;241;43m.\u001b[39;49m\u001b[43mexecute\u001b[49m\u001b[43m(\u001b[49m\u001b[43mCommand\u001b[49m\u001b[38;5;241;43m.\u001b[39;49m\u001b[43mSWITCH_TO_WINDOW\u001b[49m\u001b[43m,\u001b[49m\u001b[43m \u001b[49m\u001b[43m{\u001b[49m\u001b[38;5;124;43m\"\u001b[39;49m\u001b[38;5;124;43mhandle\u001b[39;49m\u001b[38;5;124;43m\"\u001b[39;49m\u001b[43m:\u001b[49m\u001b[43m \u001b[49m\u001b[43mh\u001b[49m\u001b[43m}\u001b[49m\u001b[43m)\u001b[49m\n",
      "File \u001b[0;32m~/.pyenv/versions/3.8.16/envs/crawler/lib/python3.8/site-packages/selenium/webdriver/remote/webdriver.py:344\u001b[0m, in \u001b[0;36mWebDriver.execute\u001b[0;34m(self, driver_command, params)\u001b[0m\n\u001b[1;32m    341\u001b[0m     \u001b[38;5;28;01melif\u001b[39;00m \u001b[38;5;124m\"\u001b[39m\u001b[38;5;124msessionId\u001b[39m\u001b[38;5;124m\"\u001b[39m \u001b[38;5;129;01mnot\u001b[39;00m \u001b[38;5;129;01min\u001b[39;00m params:\n\u001b[1;32m    342\u001b[0m         params[\u001b[38;5;124m\"\u001b[39m\u001b[38;5;124msessionId\u001b[39m\u001b[38;5;124m\"\u001b[39m] \u001b[38;5;241m=\u001b[39m \u001b[38;5;28mself\u001b[39m\u001b[38;5;241m.\u001b[39msession_id\n\u001b[0;32m--> 344\u001b[0m response \u001b[38;5;241m=\u001b[39m \u001b[38;5;28;43mself\u001b[39;49m\u001b[38;5;241;43m.\u001b[39;49m\u001b[43mcommand_executor\u001b[49m\u001b[38;5;241;43m.\u001b[39;49m\u001b[43mexecute\u001b[49m\u001b[43m(\u001b[49m\u001b[43mdriver_command\u001b[49m\u001b[43m,\u001b[49m\u001b[43m \u001b[49m\u001b[43mparams\u001b[49m\u001b[43m)\u001b[49m\n\u001b[1;32m    345\u001b[0m \u001b[38;5;28;01mif\u001b[39;00m response:\n\u001b[1;32m    346\u001b[0m     \u001b[38;5;28mself\u001b[39m\u001b[38;5;241m.\u001b[39merror_handler\u001b[38;5;241m.\u001b[39mcheck_response(response)\n",
      "File \u001b[0;32m~/.pyenv/versions/3.8.16/envs/crawler/lib/python3.8/site-packages/selenium/webdriver/remote/remote_connection.py:290\u001b[0m, in \u001b[0;36mRemoteConnection.execute\u001b[0;34m(self, command, params)\u001b[0m\n\u001b[1;32m    288\u001b[0m data \u001b[38;5;241m=\u001b[39m utils\u001b[38;5;241m.\u001b[39mdump_json(params)\n\u001b[1;32m    289\u001b[0m url \u001b[38;5;241m=\u001b[39m \u001b[38;5;124mf\u001b[39m\u001b[38;5;124m\"\u001b[39m\u001b[38;5;132;01m{\u001b[39;00m\u001b[38;5;28mself\u001b[39m\u001b[38;5;241m.\u001b[39m_url\u001b[38;5;132;01m}\u001b[39;00m\u001b[38;5;132;01m{\u001b[39;00mpath\u001b[38;5;132;01m}\u001b[39;00m\u001b[38;5;124m\"\u001b[39m\n\u001b[0;32m--> 290\u001b[0m \u001b[38;5;28;01mreturn\u001b[39;00m \u001b[38;5;28;43mself\u001b[39;49m\u001b[38;5;241;43m.\u001b[39;49m\u001b[43m_request\u001b[49m\u001b[43m(\u001b[49m\u001b[43mcommand_info\u001b[49m\u001b[43m[\u001b[49m\u001b[38;5;241;43m0\u001b[39;49m\u001b[43m]\u001b[49m\u001b[43m,\u001b[49m\u001b[43m \u001b[49m\u001b[43murl\u001b[49m\u001b[43m,\u001b[49m\u001b[43m \u001b[49m\u001b[43mbody\u001b[49m\u001b[38;5;241;43m=\u001b[39;49m\u001b[43mdata\u001b[49m\u001b[43m)\u001b[49m\n",
      "File \u001b[0;32m~/.pyenv/versions/3.8.16/envs/crawler/lib/python3.8/site-packages/selenium/webdriver/remote/remote_connection.py:311\u001b[0m, in \u001b[0;36mRemoteConnection._request\u001b[0;34m(self, method, url, body)\u001b[0m\n\u001b[1;32m    308\u001b[0m     body \u001b[38;5;241m=\u001b[39m \u001b[38;5;28;01mNone\u001b[39;00m\n\u001b[1;32m    310\u001b[0m \u001b[38;5;28;01mif\u001b[39;00m \u001b[38;5;28mself\u001b[39m\u001b[38;5;241m.\u001b[39mkeep_alive:\n\u001b[0;32m--> 311\u001b[0m     response \u001b[38;5;241m=\u001b[39m \u001b[38;5;28;43mself\u001b[39;49m\u001b[38;5;241;43m.\u001b[39;49m\u001b[43m_conn\u001b[49m\u001b[38;5;241;43m.\u001b[39;49m\u001b[43mrequest\u001b[49m\u001b[43m(\u001b[49m\u001b[43mmethod\u001b[49m\u001b[43m,\u001b[49m\u001b[43m \u001b[49m\u001b[43murl\u001b[49m\u001b[43m,\u001b[49m\u001b[43m \u001b[49m\u001b[43mbody\u001b[49m\u001b[38;5;241;43m=\u001b[39;49m\u001b[43mbody\u001b[49m\u001b[43m,\u001b[49m\u001b[43m \u001b[49m\u001b[43mheaders\u001b[49m\u001b[38;5;241;43m=\u001b[39;49m\u001b[43mheaders\u001b[49m\u001b[43m)\u001b[49m\n\u001b[1;32m    312\u001b[0m     statuscode \u001b[38;5;241m=\u001b[39m response\u001b[38;5;241m.\u001b[39mstatus\n\u001b[1;32m    313\u001b[0m \u001b[38;5;28;01melse\u001b[39;00m:\n",
      "File \u001b[0;32m~/.pyenv/versions/3.8.16/envs/crawler/lib/python3.8/site-packages/urllib3/_request_methods.py:118\u001b[0m, in \u001b[0;36mRequestMethods.request\u001b[0;34m(self, method, url, body, fields, headers, json, **urlopen_kw)\u001b[0m\n\u001b[1;32m    110\u001b[0m     \u001b[38;5;28;01mreturn\u001b[39;00m \u001b[38;5;28mself\u001b[39m\u001b[38;5;241m.\u001b[39mrequest_encode_url(\n\u001b[1;32m    111\u001b[0m         method,\n\u001b[1;32m    112\u001b[0m         url,\n\u001b[0;32m   (...)\u001b[0m\n\u001b[1;32m    115\u001b[0m         \u001b[38;5;241m*\u001b[39m\u001b[38;5;241m*\u001b[39murlopen_kw,\n\u001b[1;32m    116\u001b[0m     )\n\u001b[1;32m    117\u001b[0m \u001b[38;5;28;01melse\u001b[39;00m:\n\u001b[0;32m--> 118\u001b[0m     \u001b[38;5;28;01mreturn\u001b[39;00m \u001b[38;5;28;43mself\u001b[39;49m\u001b[38;5;241;43m.\u001b[39;49m\u001b[43mrequest_encode_body\u001b[49m\u001b[43m(\u001b[49m\n\u001b[1;32m    119\u001b[0m \u001b[43m        \u001b[49m\u001b[43mmethod\u001b[49m\u001b[43m,\u001b[49m\u001b[43m \u001b[49m\u001b[43murl\u001b[49m\u001b[43m,\u001b[49m\u001b[43m \u001b[49m\u001b[43mfields\u001b[49m\u001b[38;5;241;43m=\u001b[39;49m\u001b[43mfields\u001b[49m\u001b[43m,\u001b[49m\u001b[43m \u001b[49m\u001b[43mheaders\u001b[49m\u001b[38;5;241;43m=\u001b[39;49m\u001b[43mheaders\u001b[49m\u001b[43m,\u001b[49m\u001b[43m \u001b[49m\u001b[38;5;241;43m*\u001b[39;49m\u001b[38;5;241;43m*\u001b[39;49m\u001b[43murlopen_kw\u001b[49m\n\u001b[1;32m    120\u001b[0m \u001b[43m    \u001b[49m\u001b[43m)\u001b[49m\n",
      "File \u001b[0;32m~/.pyenv/versions/3.8.16/envs/crawler/lib/python3.8/site-packages/urllib3/_request_methods.py:217\u001b[0m, in \u001b[0;36mRequestMethods.request_encode_body\u001b[0;34m(self, method, url, fields, headers, encode_multipart, multipart_boundary, **urlopen_kw)\u001b[0m\n\u001b[1;32m    213\u001b[0m     extra_kw[\u001b[38;5;124m\"\u001b[39m\u001b[38;5;124mheaders\u001b[39m\u001b[38;5;124m\"\u001b[39m]\u001b[38;5;241m.\u001b[39msetdefault(\u001b[38;5;124m\"\u001b[39m\u001b[38;5;124mContent-Type\u001b[39m\u001b[38;5;124m\"\u001b[39m, content_type)\n\u001b[1;32m    215\u001b[0m extra_kw\u001b[38;5;241m.\u001b[39mupdate(urlopen_kw)\n\u001b[0;32m--> 217\u001b[0m \u001b[38;5;28;01mreturn\u001b[39;00m \u001b[38;5;28;43mself\u001b[39;49m\u001b[38;5;241;43m.\u001b[39;49m\u001b[43murlopen\u001b[49m\u001b[43m(\u001b[49m\u001b[43mmethod\u001b[49m\u001b[43m,\u001b[49m\u001b[43m \u001b[49m\u001b[43murl\u001b[49m\u001b[43m,\u001b[49m\u001b[43m \u001b[49m\u001b[38;5;241;43m*\u001b[39;49m\u001b[38;5;241;43m*\u001b[39;49m\u001b[43mextra_kw\u001b[49m\u001b[43m)\u001b[49m\n",
      "File \u001b[0;32m~/.pyenv/versions/3.8.16/envs/crawler/lib/python3.8/site-packages/urllib3/poolmanager.py:443\u001b[0m, in \u001b[0;36mPoolManager.urlopen\u001b[0;34m(self, method, url, redirect, **kw)\u001b[0m\n\u001b[1;32m    441\u001b[0m     response \u001b[38;5;241m=\u001b[39m conn\u001b[38;5;241m.\u001b[39murlopen(method, url, \u001b[38;5;241m*\u001b[39m\u001b[38;5;241m*\u001b[39mkw)\n\u001b[1;32m    442\u001b[0m \u001b[38;5;28;01melse\u001b[39;00m:\n\u001b[0;32m--> 443\u001b[0m     response \u001b[38;5;241m=\u001b[39m \u001b[43mconn\u001b[49m\u001b[38;5;241;43m.\u001b[39;49m\u001b[43murlopen\u001b[49m\u001b[43m(\u001b[49m\u001b[43mmethod\u001b[49m\u001b[43m,\u001b[49m\u001b[43m \u001b[49m\u001b[43mu\u001b[49m\u001b[38;5;241;43m.\u001b[39;49m\u001b[43mrequest_uri\u001b[49m\u001b[43m,\u001b[49m\u001b[43m \u001b[49m\u001b[38;5;241;43m*\u001b[39;49m\u001b[38;5;241;43m*\u001b[39;49m\u001b[43mkw\u001b[49m\u001b[43m)\u001b[49m\n\u001b[1;32m    445\u001b[0m redirect_location \u001b[38;5;241m=\u001b[39m redirect \u001b[38;5;129;01mand\u001b[39;00m response\u001b[38;5;241m.\u001b[39mget_redirect_location()\n\u001b[1;32m    446\u001b[0m \u001b[38;5;28;01mif\u001b[39;00m \u001b[38;5;129;01mnot\u001b[39;00m redirect_location:\n",
      "File \u001b[0;32m~/.pyenv/versions/3.8.16/envs/crawler/lib/python3.8/site-packages/urllib3/connectionpool.py:874\u001b[0m, in \u001b[0;36mHTTPConnectionPool.urlopen\u001b[0;34m(self, method, url, body, headers, retries, redirect, assert_same_host, timeout, pool_timeout, release_conn, chunked, body_pos, preload_content, decode_content, **response_kw)\u001b[0m\n\u001b[1;32m    869\u001b[0m \u001b[38;5;28;01mif\u001b[39;00m \u001b[38;5;129;01mnot\u001b[39;00m conn:\n\u001b[1;32m    870\u001b[0m     \u001b[38;5;66;03m# Try again\u001b[39;00m\n\u001b[1;32m    871\u001b[0m     log\u001b[38;5;241m.\u001b[39mwarning(\n\u001b[1;32m    872\u001b[0m         \u001b[38;5;124m\"\u001b[39m\u001b[38;5;124mRetrying (\u001b[39m\u001b[38;5;132;01m%r\u001b[39;00m\u001b[38;5;124m) after connection broken by \u001b[39m\u001b[38;5;124m'\u001b[39m\u001b[38;5;132;01m%r\u001b[39;00m\u001b[38;5;124m'\u001b[39m\u001b[38;5;124m: \u001b[39m\u001b[38;5;132;01m%s\u001b[39;00m\u001b[38;5;124m\"\u001b[39m, retries, err, url\n\u001b[1;32m    873\u001b[0m     )\n\u001b[0;32m--> 874\u001b[0m     \u001b[38;5;28;01mreturn\u001b[39;00m \u001b[38;5;28;43mself\u001b[39;49m\u001b[38;5;241;43m.\u001b[39;49m\u001b[43murlopen\u001b[49m\u001b[43m(\u001b[49m\n\u001b[1;32m    875\u001b[0m \u001b[43m        \u001b[49m\u001b[43mmethod\u001b[49m\u001b[43m,\u001b[49m\n\u001b[1;32m    876\u001b[0m \u001b[43m        \u001b[49m\u001b[43murl\u001b[49m\u001b[43m,\u001b[49m\n\u001b[1;32m    877\u001b[0m \u001b[43m        \u001b[49m\u001b[43mbody\u001b[49m\u001b[43m,\u001b[49m\n\u001b[1;32m    878\u001b[0m \u001b[43m        \u001b[49m\u001b[43mheaders\u001b[49m\u001b[43m,\u001b[49m\n\u001b[1;32m    879\u001b[0m \u001b[43m        \u001b[49m\u001b[43mretries\u001b[49m\u001b[43m,\u001b[49m\n\u001b[1;32m    880\u001b[0m \u001b[43m        \u001b[49m\u001b[43mredirect\u001b[49m\u001b[43m,\u001b[49m\n\u001b[1;32m    881\u001b[0m \u001b[43m        \u001b[49m\u001b[43massert_same_host\u001b[49m\u001b[43m,\u001b[49m\n\u001b[1;32m    882\u001b[0m \u001b[43m        \u001b[49m\u001b[43mtimeout\u001b[49m\u001b[38;5;241;43m=\u001b[39;49m\u001b[43mtimeout\u001b[49m\u001b[43m,\u001b[49m\n\u001b[1;32m    883\u001b[0m \u001b[43m        \u001b[49m\u001b[43mpool_timeout\u001b[49m\u001b[38;5;241;43m=\u001b[39;49m\u001b[43mpool_timeout\u001b[49m\u001b[43m,\u001b[49m\n\u001b[1;32m    884\u001b[0m \u001b[43m        \u001b[49m\u001b[43mrelease_conn\u001b[49m\u001b[38;5;241;43m=\u001b[39;49m\u001b[43mrelease_conn\u001b[49m\u001b[43m,\u001b[49m\n\u001b[1;32m    885\u001b[0m \u001b[43m        \u001b[49m\u001b[43mchunked\u001b[49m\u001b[38;5;241;43m=\u001b[39;49m\u001b[43mchunked\u001b[49m\u001b[43m,\u001b[49m\n\u001b[1;32m    886\u001b[0m \u001b[43m        \u001b[49m\u001b[43mbody_pos\u001b[49m\u001b[38;5;241;43m=\u001b[39;49m\u001b[43mbody_pos\u001b[49m\u001b[43m,\u001b[49m\n\u001b[1;32m    887\u001b[0m \u001b[43m        \u001b[49m\u001b[43mpreload_content\u001b[49m\u001b[38;5;241;43m=\u001b[39;49m\u001b[43mpreload_content\u001b[49m\u001b[43m,\u001b[49m\n\u001b[1;32m    888\u001b[0m \u001b[43m        \u001b[49m\u001b[43mdecode_content\u001b[49m\u001b[38;5;241;43m=\u001b[39;49m\u001b[43mdecode_content\u001b[49m\u001b[43m,\u001b[49m\n\u001b[1;32m    889\u001b[0m \u001b[43m        \u001b[49m\u001b[38;5;241;43m*\u001b[39;49m\u001b[38;5;241;43m*\u001b[39;49m\u001b[43mresponse_kw\u001b[49m\u001b[43m,\u001b[49m\n\u001b[1;32m    890\u001b[0m \u001b[43m    \u001b[49m\u001b[43m)\u001b[49m\n\u001b[1;32m    892\u001b[0m \u001b[38;5;66;03m# Handle redirect?\u001b[39;00m\n\u001b[1;32m    893\u001b[0m redirect_location \u001b[38;5;241m=\u001b[39m redirect \u001b[38;5;129;01mand\u001b[39;00m response\u001b[38;5;241m.\u001b[39mget_redirect_location()\n",
      "File \u001b[0;32m~/.pyenv/versions/3.8.16/envs/crawler/lib/python3.8/site-packages/urllib3/connectionpool.py:874\u001b[0m, in \u001b[0;36mHTTPConnectionPool.urlopen\u001b[0;34m(self, method, url, body, headers, retries, redirect, assert_same_host, timeout, pool_timeout, release_conn, chunked, body_pos, preload_content, decode_content, **response_kw)\u001b[0m\n\u001b[1;32m    869\u001b[0m \u001b[38;5;28;01mif\u001b[39;00m \u001b[38;5;129;01mnot\u001b[39;00m conn:\n\u001b[1;32m    870\u001b[0m     \u001b[38;5;66;03m# Try again\u001b[39;00m\n\u001b[1;32m    871\u001b[0m     log\u001b[38;5;241m.\u001b[39mwarning(\n\u001b[1;32m    872\u001b[0m         \u001b[38;5;124m\"\u001b[39m\u001b[38;5;124mRetrying (\u001b[39m\u001b[38;5;132;01m%r\u001b[39;00m\u001b[38;5;124m) after connection broken by \u001b[39m\u001b[38;5;124m'\u001b[39m\u001b[38;5;132;01m%r\u001b[39;00m\u001b[38;5;124m'\u001b[39m\u001b[38;5;124m: \u001b[39m\u001b[38;5;132;01m%s\u001b[39;00m\u001b[38;5;124m\"\u001b[39m, retries, err, url\n\u001b[1;32m    873\u001b[0m     )\n\u001b[0;32m--> 874\u001b[0m     \u001b[38;5;28;01mreturn\u001b[39;00m \u001b[38;5;28;43mself\u001b[39;49m\u001b[38;5;241;43m.\u001b[39;49m\u001b[43murlopen\u001b[49m\u001b[43m(\u001b[49m\n\u001b[1;32m    875\u001b[0m \u001b[43m        \u001b[49m\u001b[43mmethod\u001b[49m\u001b[43m,\u001b[49m\n\u001b[1;32m    876\u001b[0m \u001b[43m        \u001b[49m\u001b[43murl\u001b[49m\u001b[43m,\u001b[49m\n\u001b[1;32m    877\u001b[0m \u001b[43m        \u001b[49m\u001b[43mbody\u001b[49m\u001b[43m,\u001b[49m\n\u001b[1;32m    878\u001b[0m \u001b[43m        \u001b[49m\u001b[43mheaders\u001b[49m\u001b[43m,\u001b[49m\n\u001b[1;32m    879\u001b[0m \u001b[43m        \u001b[49m\u001b[43mretries\u001b[49m\u001b[43m,\u001b[49m\n\u001b[1;32m    880\u001b[0m \u001b[43m        \u001b[49m\u001b[43mredirect\u001b[49m\u001b[43m,\u001b[49m\n\u001b[1;32m    881\u001b[0m \u001b[43m        \u001b[49m\u001b[43massert_same_host\u001b[49m\u001b[43m,\u001b[49m\n\u001b[1;32m    882\u001b[0m \u001b[43m        \u001b[49m\u001b[43mtimeout\u001b[49m\u001b[38;5;241;43m=\u001b[39;49m\u001b[43mtimeout\u001b[49m\u001b[43m,\u001b[49m\n\u001b[1;32m    883\u001b[0m \u001b[43m        \u001b[49m\u001b[43mpool_timeout\u001b[49m\u001b[38;5;241;43m=\u001b[39;49m\u001b[43mpool_timeout\u001b[49m\u001b[43m,\u001b[49m\n\u001b[1;32m    884\u001b[0m \u001b[43m        \u001b[49m\u001b[43mrelease_conn\u001b[49m\u001b[38;5;241;43m=\u001b[39;49m\u001b[43mrelease_conn\u001b[49m\u001b[43m,\u001b[49m\n\u001b[1;32m    885\u001b[0m \u001b[43m        \u001b[49m\u001b[43mchunked\u001b[49m\u001b[38;5;241;43m=\u001b[39;49m\u001b[43mchunked\u001b[49m\u001b[43m,\u001b[49m\n\u001b[1;32m    886\u001b[0m \u001b[43m        \u001b[49m\u001b[43mbody_pos\u001b[49m\u001b[38;5;241;43m=\u001b[39;49m\u001b[43mbody_pos\u001b[49m\u001b[43m,\u001b[49m\n\u001b[1;32m    887\u001b[0m \u001b[43m        \u001b[49m\u001b[43mpreload_content\u001b[49m\u001b[38;5;241;43m=\u001b[39;49m\u001b[43mpreload_content\u001b[49m\u001b[43m,\u001b[49m\n\u001b[1;32m    888\u001b[0m \u001b[43m        \u001b[49m\u001b[43mdecode_content\u001b[49m\u001b[38;5;241;43m=\u001b[39;49m\u001b[43mdecode_content\u001b[49m\u001b[43m,\u001b[49m\n\u001b[1;32m    889\u001b[0m \u001b[43m        \u001b[49m\u001b[38;5;241;43m*\u001b[39;49m\u001b[38;5;241;43m*\u001b[39;49m\u001b[43mresponse_kw\u001b[49m\u001b[43m,\u001b[49m\n\u001b[1;32m    890\u001b[0m \u001b[43m    \u001b[49m\u001b[43m)\u001b[49m\n\u001b[1;32m    892\u001b[0m \u001b[38;5;66;03m# Handle redirect?\u001b[39;00m\n\u001b[1;32m    893\u001b[0m redirect_location \u001b[38;5;241m=\u001b[39m redirect \u001b[38;5;129;01mand\u001b[39;00m response\u001b[38;5;241m.\u001b[39mget_redirect_location()\n",
      "File \u001b[0;32m~/.pyenv/versions/3.8.16/envs/crawler/lib/python3.8/site-packages/urllib3/connectionpool.py:874\u001b[0m, in \u001b[0;36mHTTPConnectionPool.urlopen\u001b[0;34m(self, method, url, body, headers, retries, redirect, assert_same_host, timeout, pool_timeout, release_conn, chunked, body_pos, preload_content, decode_content, **response_kw)\u001b[0m\n\u001b[1;32m    869\u001b[0m \u001b[38;5;28;01mif\u001b[39;00m \u001b[38;5;129;01mnot\u001b[39;00m conn:\n\u001b[1;32m    870\u001b[0m     \u001b[38;5;66;03m# Try again\u001b[39;00m\n\u001b[1;32m    871\u001b[0m     log\u001b[38;5;241m.\u001b[39mwarning(\n\u001b[1;32m    872\u001b[0m         \u001b[38;5;124m\"\u001b[39m\u001b[38;5;124mRetrying (\u001b[39m\u001b[38;5;132;01m%r\u001b[39;00m\u001b[38;5;124m) after connection broken by \u001b[39m\u001b[38;5;124m'\u001b[39m\u001b[38;5;132;01m%r\u001b[39;00m\u001b[38;5;124m'\u001b[39m\u001b[38;5;124m: \u001b[39m\u001b[38;5;132;01m%s\u001b[39;00m\u001b[38;5;124m\"\u001b[39m, retries, err, url\n\u001b[1;32m    873\u001b[0m     )\n\u001b[0;32m--> 874\u001b[0m     \u001b[38;5;28;01mreturn\u001b[39;00m \u001b[38;5;28;43mself\u001b[39;49m\u001b[38;5;241;43m.\u001b[39;49m\u001b[43murlopen\u001b[49m\u001b[43m(\u001b[49m\n\u001b[1;32m    875\u001b[0m \u001b[43m        \u001b[49m\u001b[43mmethod\u001b[49m\u001b[43m,\u001b[49m\n\u001b[1;32m    876\u001b[0m \u001b[43m        \u001b[49m\u001b[43murl\u001b[49m\u001b[43m,\u001b[49m\n\u001b[1;32m    877\u001b[0m \u001b[43m        \u001b[49m\u001b[43mbody\u001b[49m\u001b[43m,\u001b[49m\n\u001b[1;32m    878\u001b[0m \u001b[43m        \u001b[49m\u001b[43mheaders\u001b[49m\u001b[43m,\u001b[49m\n\u001b[1;32m    879\u001b[0m \u001b[43m        \u001b[49m\u001b[43mretries\u001b[49m\u001b[43m,\u001b[49m\n\u001b[1;32m    880\u001b[0m \u001b[43m        \u001b[49m\u001b[43mredirect\u001b[49m\u001b[43m,\u001b[49m\n\u001b[1;32m    881\u001b[0m \u001b[43m        \u001b[49m\u001b[43massert_same_host\u001b[49m\u001b[43m,\u001b[49m\n\u001b[1;32m    882\u001b[0m \u001b[43m        \u001b[49m\u001b[43mtimeout\u001b[49m\u001b[38;5;241;43m=\u001b[39;49m\u001b[43mtimeout\u001b[49m\u001b[43m,\u001b[49m\n\u001b[1;32m    883\u001b[0m \u001b[43m        \u001b[49m\u001b[43mpool_timeout\u001b[49m\u001b[38;5;241;43m=\u001b[39;49m\u001b[43mpool_timeout\u001b[49m\u001b[43m,\u001b[49m\n\u001b[1;32m    884\u001b[0m \u001b[43m        \u001b[49m\u001b[43mrelease_conn\u001b[49m\u001b[38;5;241;43m=\u001b[39;49m\u001b[43mrelease_conn\u001b[49m\u001b[43m,\u001b[49m\n\u001b[1;32m    885\u001b[0m \u001b[43m        \u001b[49m\u001b[43mchunked\u001b[49m\u001b[38;5;241;43m=\u001b[39;49m\u001b[43mchunked\u001b[49m\u001b[43m,\u001b[49m\n\u001b[1;32m    886\u001b[0m \u001b[43m        \u001b[49m\u001b[43mbody_pos\u001b[49m\u001b[38;5;241;43m=\u001b[39;49m\u001b[43mbody_pos\u001b[49m\u001b[43m,\u001b[49m\n\u001b[1;32m    887\u001b[0m \u001b[43m        \u001b[49m\u001b[43mpreload_content\u001b[49m\u001b[38;5;241;43m=\u001b[39;49m\u001b[43mpreload_content\u001b[49m\u001b[43m,\u001b[49m\n\u001b[1;32m    888\u001b[0m \u001b[43m        \u001b[49m\u001b[43mdecode_content\u001b[49m\u001b[38;5;241;43m=\u001b[39;49m\u001b[43mdecode_content\u001b[49m\u001b[43m,\u001b[49m\n\u001b[1;32m    889\u001b[0m \u001b[43m        \u001b[49m\u001b[38;5;241;43m*\u001b[39;49m\u001b[38;5;241;43m*\u001b[39;49m\u001b[43mresponse_kw\u001b[49m\u001b[43m,\u001b[49m\n\u001b[1;32m    890\u001b[0m \u001b[43m    \u001b[49m\u001b[43m)\u001b[49m\n\u001b[1;32m    892\u001b[0m \u001b[38;5;66;03m# Handle redirect?\u001b[39;00m\n\u001b[1;32m    893\u001b[0m redirect_location \u001b[38;5;241m=\u001b[39m redirect \u001b[38;5;129;01mand\u001b[39;00m response\u001b[38;5;241m.\u001b[39mget_redirect_location()\n",
      "File \u001b[0;32m~/.pyenv/versions/3.8.16/envs/crawler/lib/python3.8/site-packages/urllib3/connectionpool.py:844\u001b[0m, in \u001b[0;36mHTTPConnectionPool.urlopen\u001b[0;34m(self, method, url, body, headers, retries, redirect, assert_same_host, timeout, pool_timeout, release_conn, chunked, body_pos, preload_content, decode_content, **response_kw)\u001b[0m\n\u001b[1;32m    841\u001b[0m \u001b[38;5;28;01melif\u001b[39;00m \u001b[38;5;28misinstance\u001b[39m(new_e, (\u001b[38;5;167;01mOSError\u001b[39;00m, HTTPException)):\n\u001b[1;32m    842\u001b[0m     new_e \u001b[38;5;241m=\u001b[39m ProtocolError(\u001b[38;5;124m\"\u001b[39m\u001b[38;5;124mConnection aborted.\u001b[39m\u001b[38;5;124m\"\u001b[39m, new_e)\n\u001b[0;32m--> 844\u001b[0m retries \u001b[38;5;241m=\u001b[39m \u001b[43mretries\u001b[49m\u001b[38;5;241;43m.\u001b[39;49m\u001b[43mincrement\u001b[49m\u001b[43m(\u001b[49m\n\u001b[1;32m    845\u001b[0m \u001b[43m    \u001b[49m\u001b[43mmethod\u001b[49m\u001b[43m,\u001b[49m\u001b[43m \u001b[49m\u001b[43murl\u001b[49m\u001b[43m,\u001b[49m\u001b[43m \u001b[49m\u001b[43merror\u001b[49m\u001b[38;5;241;43m=\u001b[39;49m\u001b[43mnew_e\u001b[49m\u001b[43m,\u001b[49m\u001b[43m \u001b[49m\u001b[43m_pool\u001b[49m\u001b[38;5;241;43m=\u001b[39;49m\u001b[38;5;28;43mself\u001b[39;49m\u001b[43m,\u001b[49m\u001b[43m \u001b[49m\u001b[43m_stacktrace\u001b[49m\u001b[38;5;241;43m=\u001b[39;49m\u001b[43msys\u001b[49m\u001b[38;5;241;43m.\u001b[39;49m\u001b[43mexc_info\u001b[49m\u001b[43m(\u001b[49m\u001b[43m)\u001b[49m\u001b[43m[\u001b[49m\u001b[38;5;241;43m2\u001b[39;49m\u001b[43m]\u001b[49m\n\u001b[1;32m    846\u001b[0m \u001b[43m\u001b[49m\u001b[43m)\u001b[49m\n\u001b[1;32m    847\u001b[0m retries\u001b[38;5;241m.\u001b[39msleep()\n\u001b[1;32m    849\u001b[0m \u001b[38;5;66;03m# Keep track of the error for the retry warning.\u001b[39;00m\n",
      "File \u001b[0;32m~/.pyenv/versions/3.8.16/envs/crawler/lib/python3.8/site-packages/urllib3/util/retry.py:515\u001b[0m, in \u001b[0;36mRetry.increment\u001b[0;34m(self, method, url, response, error, _pool, _stacktrace)\u001b[0m\n\u001b[1;32m    513\u001b[0m \u001b[38;5;28;01mif\u001b[39;00m new_retry\u001b[38;5;241m.\u001b[39mis_exhausted():\n\u001b[1;32m    514\u001b[0m     reason \u001b[38;5;241m=\u001b[39m error \u001b[38;5;129;01mor\u001b[39;00m ResponseError(cause)\n\u001b[0;32m--> 515\u001b[0m     \u001b[38;5;28;01mraise\u001b[39;00m MaxRetryError(_pool, url, reason) \u001b[38;5;28;01mfrom\u001b[39;00m \u001b[38;5;21;01mreason\u001b[39;00m  \u001b[38;5;66;03m# type: ignore[arg-type]\u001b[39;00m\n\u001b[1;32m    517\u001b[0m log\u001b[38;5;241m.\u001b[39mdebug(\u001b[38;5;124m\"\u001b[39m\u001b[38;5;124mIncremented Retry for (url=\u001b[39m\u001b[38;5;124m'\u001b[39m\u001b[38;5;132;01m%s\u001b[39;00m\u001b[38;5;124m'\u001b[39m\u001b[38;5;124m): \u001b[39m\u001b[38;5;132;01m%r\u001b[39;00m\u001b[38;5;124m\"\u001b[39m, url, new_retry)\n\u001b[1;32m    519\u001b[0m \u001b[38;5;28;01mreturn\u001b[39;00m new_retry\n",
      "\u001b[0;31mMaxRetryError\u001b[0m: HTTPConnectionPool(host='localhost', port=57410): Max retries exceeded with url: /session/d931ae51bf1db43c5669d2f53fdb15bf/window (Caused by NewConnectionError('<urllib3.connection.HTTPConnection object at 0x1108bd7f0>: Failed to establish a new connection: [Errno 61] Connection refused'))"
     ]
    }
   ],
   "source": [
    "driver.switch_to.window(home_tab)\n",
    "driver.close()"
   ]
  },
  {
   "cell_type": "code",
   "execution_count": null,
   "id": "26ce40ce",
   "metadata": {},
   "outputs": [],
   "source": []
  },
  {
   "cell_type": "code",
   "execution_count": null,
   "id": "778d2cb3",
   "metadata": {},
   "outputs": [],
   "source": []
  },
  {
   "cell_type": "code",
   "execution_count": 393,
   "id": "42116750",
   "metadata": {},
   "outputs": [
    {
     "name": "stdout",
     "output_type": "stream",
     "text": [
      "16\n"
     ]
    },
    {
     "ename": "KeyboardInterrupt",
     "evalue": "",
     "output_type": "error",
     "traceback": [
      "\u001b[0;31m---------------------------------------------------------------------------\u001b[0m",
      "\u001b[0;31mKeyboardInterrupt\u001b[0m                         Traceback (most recent call last)",
      "Cell \u001b[0;32mIn[393], line 28\u001b[0m\n\u001b[1;32m     26\u001b[0m driver\u001b[38;5;241m.\u001b[39mswitch_to\u001b[38;5;241m.\u001b[39mwindow(child_tab)\n\u001b[1;32m     27\u001b[0m sleep(\u001b[38;5;241m3\u001b[39m)\n\u001b[0;32m---> 28\u001b[0m download_url \u001b[38;5;241m=\u001b[39m \u001b[43mdriver\u001b[49m\u001b[38;5;241;43m.\u001b[39;49m\u001b[43mcurrent_url\u001b[49m\n\u001b[1;32m     29\u001b[0m driver\u001b[38;5;241m.\u001b[39mclose()\n\u001b[1;32m     30\u001b[0m sleep(\u001b[38;5;241m3\u001b[39m)\n",
      "File \u001b[0;32m~/.pyenv/versions/3.8.16/envs/crawler/lib/python3.8/site-packages/selenium/webdriver/remote/webdriver.py:436\u001b[0m, in \u001b[0;36mWebDriver.current_url\u001b[0;34m(self)\u001b[0m\n\u001b[1;32m    427\u001b[0m \u001b[38;5;129m@property\u001b[39m\n\u001b[1;32m    428\u001b[0m \u001b[38;5;28;01mdef\u001b[39;00m \u001b[38;5;21mcurrent_url\u001b[39m(\u001b[38;5;28mself\u001b[39m) \u001b[38;5;241m-\u001b[39m\u001b[38;5;241m>\u001b[39m \u001b[38;5;28mstr\u001b[39m:\n\u001b[1;32m    429\u001b[0m \u001b[38;5;250m    \u001b[39m\u001b[38;5;124;03m\"\"\"Gets the URL of the current page.\u001b[39;00m\n\u001b[1;32m    430\u001b[0m \n\u001b[1;32m    431\u001b[0m \u001b[38;5;124;03m    :Usage:\u001b[39;00m\n\u001b[0;32m   (...)\u001b[0m\n\u001b[1;32m    434\u001b[0m \u001b[38;5;124;03m            driver.current_url\u001b[39;00m\n\u001b[1;32m    435\u001b[0m \u001b[38;5;124;03m    \"\"\"\u001b[39;00m\n\u001b[0;32m--> 436\u001b[0m     \u001b[38;5;28;01mreturn\u001b[39;00m \u001b[38;5;28;43mself\u001b[39;49m\u001b[38;5;241;43m.\u001b[39;49m\u001b[43mexecute\u001b[49m\u001b[43m(\u001b[49m\u001b[43mCommand\u001b[49m\u001b[38;5;241;43m.\u001b[39;49m\u001b[43mGET_CURRENT_URL\u001b[49m\u001b[43m)\u001b[49m[\u001b[38;5;124m\"\u001b[39m\u001b[38;5;124mvalue\u001b[39m\u001b[38;5;124m\"\u001b[39m]\n",
      "File \u001b[0;32m~/.pyenv/versions/3.8.16/envs/crawler/lib/python3.8/site-packages/selenium/webdriver/remote/webdriver.py:344\u001b[0m, in \u001b[0;36mWebDriver.execute\u001b[0;34m(self, driver_command, params)\u001b[0m\n\u001b[1;32m    341\u001b[0m     \u001b[38;5;28;01melif\u001b[39;00m \u001b[38;5;124m\"\u001b[39m\u001b[38;5;124msessionId\u001b[39m\u001b[38;5;124m\"\u001b[39m \u001b[38;5;129;01mnot\u001b[39;00m \u001b[38;5;129;01min\u001b[39;00m params:\n\u001b[1;32m    342\u001b[0m         params[\u001b[38;5;124m\"\u001b[39m\u001b[38;5;124msessionId\u001b[39m\u001b[38;5;124m\"\u001b[39m] \u001b[38;5;241m=\u001b[39m \u001b[38;5;28mself\u001b[39m\u001b[38;5;241m.\u001b[39msession_id\n\u001b[0;32m--> 344\u001b[0m response \u001b[38;5;241m=\u001b[39m \u001b[38;5;28;43mself\u001b[39;49m\u001b[38;5;241;43m.\u001b[39;49m\u001b[43mcommand_executor\u001b[49m\u001b[38;5;241;43m.\u001b[39;49m\u001b[43mexecute\u001b[49m\u001b[43m(\u001b[49m\u001b[43mdriver_command\u001b[49m\u001b[43m,\u001b[49m\u001b[43m \u001b[49m\u001b[43mparams\u001b[49m\u001b[43m)\u001b[49m\n\u001b[1;32m    345\u001b[0m \u001b[38;5;28;01mif\u001b[39;00m response:\n\u001b[1;32m    346\u001b[0m     \u001b[38;5;28mself\u001b[39m\u001b[38;5;241m.\u001b[39merror_handler\u001b[38;5;241m.\u001b[39mcheck_response(response)\n",
      "File \u001b[0;32m~/.pyenv/versions/3.8.16/envs/crawler/lib/python3.8/site-packages/selenium/webdriver/remote/remote_connection.py:290\u001b[0m, in \u001b[0;36mRemoteConnection.execute\u001b[0;34m(self, command, params)\u001b[0m\n\u001b[1;32m    288\u001b[0m data \u001b[38;5;241m=\u001b[39m utils\u001b[38;5;241m.\u001b[39mdump_json(params)\n\u001b[1;32m    289\u001b[0m url \u001b[38;5;241m=\u001b[39m \u001b[38;5;124mf\u001b[39m\u001b[38;5;124m\"\u001b[39m\u001b[38;5;132;01m{\u001b[39;00m\u001b[38;5;28mself\u001b[39m\u001b[38;5;241m.\u001b[39m_url\u001b[38;5;132;01m}\u001b[39;00m\u001b[38;5;132;01m{\u001b[39;00mpath\u001b[38;5;132;01m}\u001b[39;00m\u001b[38;5;124m\"\u001b[39m\n\u001b[0;32m--> 290\u001b[0m \u001b[38;5;28;01mreturn\u001b[39;00m \u001b[38;5;28;43mself\u001b[39;49m\u001b[38;5;241;43m.\u001b[39;49m\u001b[43m_request\u001b[49m\u001b[43m(\u001b[49m\u001b[43mcommand_info\u001b[49m\u001b[43m[\u001b[49m\u001b[38;5;241;43m0\u001b[39;49m\u001b[43m]\u001b[49m\u001b[43m,\u001b[49m\u001b[43m \u001b[49m\u001b[43murl\u001b[49m\u001b[43m,\u001b[49m\u001b[43m \u001b[49m\u001b[43mbody\u001b[49m\u001b[38;5;241;43m=\u001b[39;49m\u001b[43mdata\u001b[49m\u001b[43m)\u001b[49m\n",
      "File \u001b[0;32m~/.pyenv/versions/3.8.16/envs/crawler/lib/python3.8/site-packages/selenium/webdriver/remote/remote_connection.py:311\u001b[0m, in \u001b[0;36mRemoteConnection._request\u001b[0;34m(self, method, url, body)\u001b[0m\n\u001b[1;32m    308\u001b[0m     body \u001b[38;5;241m=\u001b[39m \u001b[38;5;28;01mNone\u001b[39;00m\n\u001b[1;32m    310\u001b[0m \u001b[38;5;28;01mif\u001b[39;00m \u001b[38;5;28mself\u001b[39m\u001b[38;5;241m.\u001b[39mkeep_alive:\n\u001b[0;32m--> 311\u001b[0m     response \u001b[38;5;241m=\u001b[39m \u001b[38;5;28;43mself\u001b[39;49m\u001b[38;5;241;43m.\u001b[39;49m\u001b[43m_conn\u001b[49m\u001b[38;5;241;43m.\u001b[39;49m\u001b[43mrequest\u001b[49m\u001b[43m(\u001b[49m\u001b[43mmethod\u001b[49m\u001b[43m,\u001b[49m\u001b[43m \u001b[49m\u001b[43murl\u001b[49m\u001b[43m,\u001b[49m\u001b[43m \u001b[49m\u001b[43mbody\u001b[49m\u001b[38;5;241;43m=\u001b[39;49m\u001b[43mbody\u001b[49m\u001b[43m,\u001b[49m\u001b[43m \u001b[49m\u001b[43mheaders\u001b[49m\u001b[38;5;241;43m=\u001b[39;49m\u001b[43mheaders\u001b[49m\u001b[43m)\u001b[49m\n\u001b[1;32m    312\u001b[0m     statuscode \u001b[38;5;241m=\u001b[39m response\u001b[38;5;241m.\u001b[39mstatus\n\u001b[1;32m    313\u001b[0m \u001b[38;5;28;01melse\u001b[39;00m:\n",
      "File \u001b[0;32m~/.pyenv/versions/3.8.16/envs/crawler/lib/python3.8/site-packages/urllib3/_request_methods.py:110\u001b[0m, in \u001b[0;36mRequestMethods.request\u001b[0;34m(self, method, url, body, fields, headers, json, **urlopen_kw)\u001b[0m\n\u001b[1;32m    107\u001b[0m     urlopen_kw[\u001b[38;5;124m\"\u001b[39m\u001b[38;5;124mbody\u001b[39m\u001b[38;5;124m\"\u001b[39m] \u001b[38;5;241m=\u001b[39m body\n\u001b[1;32m    109\u001b[0m \u001b[38;5;28;01mif\u001b[39;00m method \u001b[38;5;129;01min\u001b[39;00m \u001b[38;5;28mself\u001b[39m\u001b[38;5;241m.\u001b[39m_encode_url_methods:\n\u001b[0;32m--> 110\u001b[0m     \u001b[38;5;28;01mreturn\u001b[39;00m \u001b[38;5;28;43mself\u001b[39;49m\u001b[38;5;241;43m.\u001b[39;49m\u001b[43mrequest_encode_url\u001b[49m\u001b[43m(\u001b[49m\n\u001b[1;32m    111\u001b[0m \u001b[43m        \u001b[49m\u001b[43mmethod\u001b[49m\u001b[43m,\u001b[49m\n\u001b[1;32m    112\u001b[0m \u001b[43m        \u001b[49m\u001b[43murl\u001b[49m\u001b[43m,\u001b[49m\n\u001b[1;32m    113\u001b[0m \u001b[43m        \u001b[49m\u001b[43mfields\u001b[49m\u001b[38;5;241;43m=\u001b[39;49m\u001b[43mfields\u001b[49m\u001b[43m,\u001b[49m\u001b[43m  \u001b[49m\u001b[38;5;66;43;03m# type: ignore[arg-type]\u001b[39;49;00m\n\u001b[1;32m    114\u001b[0m \u001b[43m        \u001b[49m\u001b[43mheaders\u001b[49m\u001b[38;5;241;43m=\u001b[39;49m\u001b[43mheaders\u001b[49m\u001b[43m,\u001b[49m\n\u001b[1;32m    115\u001b[0m \u001b[43m        \u001b[49m\u001b[38;5;241;43m*\u001b[39;49m\u001b[38;5;241;43m*\u001b[39;49m\u001b[43murlopen_kw\u001b[49m\u001b[43m,\u001b[49m\n\u001b[1;32m    116\u001b[0m \u001b[43m    \u001b[49m\u001b[43m)\u001b[49m\n\u001b[1;32m    117\u001b[0m \u001b[38;5;28;01melse\u001b[39;00m:\n\u001b[1;32m    118\u001b[0m     \u001b[38;5;28;01mreturn\u001b[39;00m \u001b[38;5;28mself\u001b[39m\u001b[38;5;241m.\u001b[39mrequest_encode_body(\n\u001b[1;32m    119\u001b[0m         method, url, fields\u001b[38;5;241m=\u001b[39mfields, headers\u001b[38;5;241m=\u001b[39mheaders, \u001b[38;5;241m*\u001b[39m\u001b[38;5;241m*\u001b[39murlopen_kw\n\u001b[1;32m    120\u001b[0m     )\n",
      "File \u001b[0;32m~/.pyenv/versions/3.8.16/envs/crawler/lib/python3.8/site-packages/urllib3/_request_methods.py:143\u001b[0m, in \u001b[0;36mRequestMethods.request_encode_url\u001b[0;34m(self, method, url, fields, headers, **urlopen_kw)\u001b[0m\n\u001b[1;32m    140\u001b[0m \u001b[38;5;28;01mif\u001b[39;00m fields:\n\u001b[1;32m    141\u001b[0m     url \u001b[38;5;241m+\u001b[39m\u001b[38;5;241m=\u001b[39m \u001b[38;5;124m\"\u001b[39m\u001b[38;5;124m?\u001b[39m\u001b[38;5;124m\"\u001b[39m \u001b[38;5;241m+\u001b[39m urlencode(fields)\n\u001b[0;32m--> 143\u001b[0m \u001b[38;5;28;01mreturn\u001b[39;00m \u001b[38;5;28;43mself\u001b[39;49m\u001b[38;5;241;43m.\u001b[39;49m\u001b[43murlopen\u001b[49m\u001b[43m(\u001b[49m\u001b[43mmethod\u001b[49m\u001b[43m,\u001b[49m\u001b[43m \u001b[49m\u001b[43murl\u001b[49m\u001b[43m,\u001b[49m\u001b[43m \u001b[49m\u001b[38;5;241;43m*\u001b[39;49m\u001b[38;5;241;43m*\u001b[39;49m\u001b[43mextra_kw\u001b[49m\u001b[43m)\u001b[49m\n",
      "File \u001b[0;32m~/.pyenv/versions/3.8.16/envs/crawler/lib/python3.8/site-packages/urllib3/poolmanager.py:443\u001b[0m, in \u001b[0;36mPoolManager.urlopen\u001b[0;34m(self, method, url, redirect, **kw)\u001b[0m\n\u001b[1;32m    441\u001b[0m     response \u001b[38;5;241m=\u001b[39m conn\u001b[38;5;241m.\u001b[39murlopen(method, url, \u001b[38;5;241m*\u001b[39m\u001b[38;5;241m*\u001b[39mkw)\n\u001b[1;32m    442\u001b[0m \u001b[38;5;28;01melse\u001b[39;00m:\n\u001b[0;32m--> 443\u001b[0m     response \u001b[38;5;241m=\u001b[39m \u001b[43mconn\u001b[49m\u001b[38;5;241;43m.\u001b[39;49m\u001b[43murlopen\u001b[49m\u001b[43m(\u001b[49m\u001b[43mmethod\u001b[49m\u001b[43m,\u001b[49m\u001b[43m \u001b[49m\u001b[43mu\u001b[49m\u001b[38;5;241;43m.\u001b[39;49m\u001b[43mrequest_uri\u001b[49m\u001b[43m,\u001b[49m\u001b[43m \u001b[49m\u001b[38;5;241;43m*\u001b[39;49m\u001b[38;5;241;43m*\u001b[39;49m\u001b[43mkw\u001b[49m\u001b[43m)\u001b[49m\n\u001b[1;32m    445\u001b[0m redirect_location \u001b[38;5;241m=\u001b[39m redirect \u001b[38;5;129;01mand\u001b[39;00m response\u001b[38;5;241m.\u001b[39mget_redirect_location()\n\u001b[1;32m    446\u001b[0m \u001b[38;5;28;01mif\u001b[39;00m \u001b[38;5;129;01mnot\u001b[39;00m redirect_location:\n",
      "File \u001b[0;32m~/.pyenv/versions/3.8.16/envs/crawler/lib/python3.8/site-packages/urllib3/connectionpool.py:790\u001b[0m, in \u001b[0;36mHTTPConnectionPool.urlopen\u001b[0;34m(self, method, url, body, headers, retries, redirect, assert_same_host, timeout, pool_timeout, release_conn, chunked, body_pos, preload_content, decode_content, **response_kw)\u001b[0m\n\u001b[1;32m    787\u001b[0m response_conn \u001b[38;5;241m=\u001b[39m conn \u001b[38;5;28;01mif\u001b[39;00m \u001b[38;5;129;01mnot\u001b[39;00m release_conn \u001b[38;5;28;01melse\u001b[39;00m \u001b[38;5;28;01mNone\u001b[39;00m\n\u001b[1;32m    789\u001b[0m \u001b[38;5;66;03m# Make the request on the HTTPConnection object\u001b[39;00m\n\u001b[0;32m--> 790\u001b[0m response \u001b[38;5;241m=\u001b[39m \u001b[38;5;28;43mself\u001b[39;49m\u001b[38;5;241;43m.\u001b[39;49m\u001b[43m_make_request\u001b[49m\u001b[43m(\u001b[49m\n\u001b[1;32m    791\u001b[0m \u001b[43m    \u001b[49m\u001b[43mconn\u001b[49m\u001b[43m,\u001b[49m\n\u001b[1;32m    792\u001b[0m \u001b[43m    \u001b[49m\u001b[43mmethod\u001b[49m\u001b[43m,\u001b[49m\n\u001b[1;32m    793\u001b[0m \u001b[43m    \u001b[49m\u001b[43murl\u001b[49m\u001b[43m,\u001b[49m\n\u001b[1;32m    794\u001b[0m \u001b[43m    \u001b[49m\u001b[43mtimeout\u001b[49m\u001b[38;5;241;43m=\u001b[39;49m\u001b[43mtimeout_obj\u001b[49m\u001b[43m,\u001b[49m\n\u001b[1;32m    795\u001b[0m \u001b[43m    \u001b[49m\u001b[43mbody\u001b[49m\u001b[38;5;241;43m=\u001b[39;49m\u001b[43mbody\u001b[49m\u001b[43m,\u001b[49m\n\u001b[1;32m    796\u001b[0m \u001b[43m    \u001b[49m\u001b[43mheaders\u001b[49m\u001b[38;5;241;43m=\u001b[39;49m\u001b[43mheaders\u001b[49m\u001b[43m,\u001b[49m\n\u001b[1;32m    797\u001b[0m \u001b[43m    \u001b[49m\u001b[43mchunked\u001b[49m\u001b[38;5;241;43m=\u001b[39;49m\u001b[43mchunked\u001b[49m\u001b[43m,\u001b[49m\n\u001b[1;32m    798\u001b[0m \u001b[43m    \u001b[49m\u001b[43mretries\u001b[49m\u001b[38;5;241;43m=\u001b[39;49m\u001b[43mretries\u001b[49m\u001b[43m,\u001b[49m\n\u001b[1;32m    799\u001b[0m \u001b[43m    \u001b[49m\u001b[43mresponse_conn\u001b[49m\u001b[38;5;241;43m=\u001b[39;49m\u001b[43mresponse_conn\u001b[49m\u001b[43m,\u001b[49m\n\u001b[1;32m    800\u001b[0m \u001b[43m    \u001b[49m\u001b[43mpreload_content\u001b[49m\u001b[38;5;241;43m=\u001b[39;49m\u001b[43mpreload_content\u001b[49m\u001b[43m,\u001b[49m\n\u001b[1;32m    801\u001b[0m \u001b[43m    \u001b[49m\u001b[43mdecode_content\u001b[49m\u001b[38;5;241;43m=\u001b[39;49m\u001b[43mdecode_content\u001b[49m\u001b[43m,\u001b[49m\n\u001b[1;32m    802\u001b[0m \u001b[43m    \u001b[49m\u001b[38;5;241;43m*\u001b[39;49m\u001b[38;5;241;43m*\u001b[39;49m\u001b[43mresponse_kw\u001b[49m\u001b[43m,\u001b[49m\n\u001b[1;32m    803\u001b[0m \u001b[43m\u001b[49m\u001b[43m)\u001b[49m\n\u001b[1;32m    805\u001b[0m \u001b[38;5;66;03m# Everything went great!\u001b[39;00m\n\u001b[1;32m    806\u001b[0m clean_exit \u001b[38;5;241m=\u001b[39m \u001b[38;5;28;01mTrue\u001b[39;00m\n",
      "File \u001b[0;32m~/.pyenv/versions/3.8.16/envs/crawler/lib/python3.8/site-packages/urllib3/connectionpool.py:536\u001b[0m, in \u001b[0;36mHTTPConnectionPool._make_request\u001b[0;34m(self, conn, method, url, body, headers, retries, timeout, chunked, response_conn, preload_content, decode_content, enforce_content_length)\u001b[0m\n\u001b[1;32m    534\u001b[0m \u001b[38;5;66;03m# Receive the response from the server\u001b[39;00m\n\u001b[1;32m    535\u001b[0m \u001b[38;5;28;01mtry\u001b[39;00m:\n\u001b[0;32m--> 536\u001b[0m     response \u001b[38;5;241m=\u001b[39m \u001b[43mconn\u001b[49m\u001b[38;5;241;43m.\u001b[39;49m\u001b[43mgetresponse\u001b[49m\u001b[43m(\u001b[49m\u001b[43m)\u001b[49m\n\u001b[1;32m    537\u001b[0m \u001b[38;5;28;01mexcept\u001b[39;00m (BaseSSLError, \u001b[38;5;167;01mOSError\u001b[39;00m) \u001b[38;5;28;01mas\u001b[39;00m e:\n\u001b[1;32m    538\u001b[0m     \u001b[38;5;28mself\u001b[39m\u001b[38;5;241m.\u001b[39m_raise_timeout(err\u001b[38;5;241m=\u001b[39me, url\u001b[38;5;241m=\u001b[39murl, timeout_value\u001b[38;5;241m=\u001b[39mread_timeout)\n",
      "File \u001b[0;32m~/.pyenv/versions/3.8.16/envs/crawler/lib/python3.8/site-packages/urllib3/connection.py:454\u001b[0m, in \u001b[0;36mHTTPConnection.getresponse\u001b[0;34m(self)\u001b[0m\n\u001b[1;32m    451\u001b[0m \u001b[38;5;28;01mfrom\u001b[39;00m \u001b[38;5;21;01m.\u001b[39;00m\u001b[38;5;21;01mresponse\u001b[39;00m \u001b[38;5;28;01mimport\u001b[39;00m HTTPResponse\n\u001b[1;32m    453\u001b[0m \u001b[38;5;66;03m# Get the response from http.client.HTTPConnection\u001b[39;00m\n\u001b[0;32m--> 454\u001b[0m httplib_response \u001b[38;5;241m=\u001b[39m \u001b[38;5;28;43msuper\u001b[39;49m\u001b[43m(\u001b[49m\u001b[43m)\u001b[49m\u001b[38;5;241;43m.\u001b[39;49m\u001b[43mgetresponse\u001b[49m\u001b[43m(\u001b[49m\u001b[43m)\u001b[49m\n\u001b[1;32m    456\u001b[0m \u001b[38;5;28;01mtry\u001b[39;00m:\n\u001b[1;32m    457\u001b[0m     assert_header_parsing(httplib_response\u001b[38;5;241m.\u001b[39mmsg)\n",
      "File \u001b[0;32m~/.pyenv/versions/3.8.16/lib/python3.8/http/client.py:1348\u001b[0m, in \u001b[0;36mHTTPConnection.getresponse\u001b[0;34m(self)\u001b[0m\n\u001b[1;32m   1346\u001b[0m \u001b[38;5;28;01mtry\u001b[39;00m:\n\u001b[1;32m   1347\u001b[0m     \u001b[38;5;28;01mtry\u001b[39;00m:\n\u001b[0;32m-> 1348\u001b[0m         \u001b[43mresponse\u001b[49m\u001b[38;5;241;43m.\u001b[39;49m\u001b[43mbegin\u001b[49m\u001b[43m(\u001b[49m\u001b[43m)\u001b[49m\n\u001b[1;32m   1349\u001b[0m     \u001b[38;5;28;01mexcept\u001b[39;00m \u001b[38;5;167;01mConnectionError\u001b[39;00m:\n\u001b[1;32m   1350\u001b[0m         \u001b[38;5;28mself\u001b[39m\u001b[38;5;241m.\u001b[39mclose()\n",
      "File \u001b[0;32m~/.pyenv/versions/3.8.16/lib/python3.8/http/client.py:316\u001b[0m, in \u001b[0;36mHTTPResponse.begin\u001b[0;34m(self)\u001b[0m\n\u001b[1;32m    314\u001b[0m \u001b[38;5;66;03m# read until we get a non-100 response\u001b[39;00m\n\u001b[1;32m    315\u001b[0m \u001b[38;5;28;01mwhile\u001b[39;00m \u001b[38;5;28;01mTrue\u001b[39;00m:\n\u001b[0;32m--> 316\u001b[0m     version, status, reason \u001b[38;5;241m=\u001b[39m \u001b[38;5;28;43mself\u001b[39;49m\u001b[38;5;241;43m.\u001b[39;49m\u001b[43m_read_status\u001b[49m\u001b[43m(\u001b[49m\u001b[43m)\u001b[49m\n\u001b[1;32m    317\u001b[0m     \u001b[38;5;28;01mif\u001b[39;00m status \u001b[38;5;241m!=\u001b[39m CONTINUE:\n\u001b[1;32m    318\u001b[0m         \u001b[38;5;28;01mbreak\u001b[39;00m\n",
      "File \u001b[0;32m~/.pyenv/versions/3.8.16/lib/python3.8/http/client.py:277\u001b[0m, in \u001b[0;36mHTTPResponse._read_status\u001b[0;34m(self)\u001b[0m\n\u001b[1;32m    276\u001b[0m \u001b[38;5;28;01mdef\u001b[39;00m \u001b[38;5;21m_read_status\u001b[39m(\u001b[38;5;28mself\u001b[39m):\n\u001b[0;32m--> 277\u001b[0m     line \u001b[38;5;241m=\u001b[39m \u001b[38;5;28mstr\u001b[39m(\u001b[38;5;28;43mself\u001b[39;49m\u001b[38;5;241;43m.\u001b[39;49m\u001b[43mfp\u001b[49m\u001b[38;5;241;43m.\u001b[39;49m\u001b[43mreadline\u001b[49m\u001b[43m(\u001b[49m\u001b[43m_MAXLINE\u001b[49m\u001b[43m \u001b[49m\u001b[38;5;241;43m+\u001b[39;49m\u001b[43m \u001b[49m\u001b[38;5;241;43m1\u001b[39;49m\u001b[43m)\u001b[49m, \u001b[38;5;124m\"\u001b[39m\u001b[38;5;124miso-8859-1\u001b[39m\u001b[38;5;124m\"\u001b[39m)\n\u001b[1;32m    278\u001b[0m     \u001b[38;5;28;01mif\u001b[39;00m \u001b[38;5;28mlen\u001b[39m(line) \u001b[38;5;241m>\u001b[39m _MAXLINE:\n\u001b[1;32m    279\u001b[0m         \u001b[38;5;28;01mraise\u001b[39;00m LineTooLong(\u001b[38;5;124m\"\u001b[39m\u001b[38;5;124mstatus line\u001b[39m\u001b[38;5;124m\"\u001b[39m)\n",
      "File \u001b[0;32m~/.pyenv/versions/3.8.16/lib/python3.8/socket.py:669\u001b[0m, in \u001b[0;36mSocketIO.readinto\u001b[0;34m(self, b)\u001b[0m\n\u001b[1;32m    667\u001b[0m \u001b[38;5;28;01mwhile\u001b[39;00m \u001b[38;5;28;01mTrue\u001b[39;00m:\n\u001b[1;32m    668\u001b[0m     \u001b[38;5;28;01mtry\u001b[39;00m:\n\u001b[0;32m--> 669\u001b[0m         \u001b[38;5;28;01mreturn\u001b[39;00m \u001b[38;5;28;43mself\u001b[39;49m\u001b[38;5;241;43m.\u001b[39;49m\u001b[43m_sock\u001b[49m\u001b[38;5;241;43m.\u001b[39;49m\u001b[43mrecv_into\u001b[49m\u001b[43m(\u001b[49m\u001b[43mb\u001b[49m\u001b[43m)\u001b[49m\n\u001b[1;32m    670\u001b[0m     \u001b[38;5;28;01mexcept\u001b[39;00m timeout:\n\u001b[1;32m    671\u001b[0m         \u001b[38;5;28mself\u001b[39m\u001b[38;5;241m.\u001b[39m_timeout_occurred \u001b[38;5;241m=\u001b[39m \u001b[38;5;28;01mTrue\u001b[39;00m\n",
      "\u001b[0;31mKeyboardInterrupt\u001b[0m: "
     ]
    }
   ],
   "source": [
    "buttons, size = get_buttons(driver)\n",
    "print(size)\n",
    "for i in range(size):\n",
    "    ### Initial Tab for return\n",
    "    home_tab = driver.current_window_handle\n",
    "    child_tab = driver.current_window_handle\n",
    "    sleep(30)\n",
    "    # To Next Detail Page\n",
    "    button = get_button_by_index(driver, i)\n",
    "    button.click()\n",
    "    sleep(30)\n",
    "    \n",
    "    # Go to Pdf page \n",
    "    buttons = driver.find_elements(By.XPATH, \"//div[@data-testid='gamecenter-cta-btns-container']\")\n",
    "    download_button = buttons[0].find_element(By.XPATH, \"div/div/div/div/button/div[1]/div\")\n",
    "    download_button.click()\n",
    "    sleep(30)\n",
    "\n",
    "    # Return to orinal tab\n",
    "    all_windows = driver.window_handles\n",
    "    for w in all_windows:\n",
    "        if( w != home_tab):\n",
    "            child_tab = w\n",
    "            driver.switch_to.window(w)\n",
    "            break\n",
    "    driver.switch_to.window(child_tab)\n",
    "    sleep(3)\n",
    "    download_url = driver.current_url\n",
    "    driver.close()\n",
    "    sleep(3)\n",
    "    \n",
    "    # Return to orignal page\n",
    "    driver.switch_to.window(home_tab)\n",
    "    driver.back()\n",
    "    sleep(30)\n",
    "\n",
    "    print(download_url)\n",
    "    \n",
    "sleep(60)"
   ]
  },
  {
   "cell_type": "code",
   "execution_count": 395,
   "id": "b970d731",
   "metadata": {},
   "outputs": [
    {
     "ename": "MaxRetryError",
     "evalue": "HTTPConnectionPool(host='localhost', port=55535): Max retries exceeded with url: /session/41ec46f1a6aad11276943403a38185d2/window (Caused by NewConnectionError('<urllib3.connection.HTTPConnection object at 0x1106183a0>: Failed to establish a new connection: [Errno 61] Connection refused'))",
     "output_type": "error",
     "traceback": [
      "\u001b[0;31m---------------------------------------------------------------------------\u001b[0m",
      "\u001b[0;31mConnectionRefusedError\u001b[0m                    Traceback (most recent call last)",
      "File \u001b[0;32m~/.pyenv/versions/3.8.16/envs/crawler/lib/python3.8/site-packages/urllib3/connection.py:200\u001b[0m, in \u001b[0;36mHTTPConnection._new_conn\u001b[0;34m(self)\u001b[0m\n\u001b[1;32m    199\u001b[0m \u001b[38;5;28;01mtry\u001b[39;00m:\n\u001b[0;32m--> 200\u001b[0m     sock \u001b[38;5;241m=\u001b[39m \u001b[43mconnection\u001b[49m\u001b[38;5;241;43m.\u001b[39;49m\u001b[43mcreate_connection\u001b[49m\u001b[43m(\u001b[49m\n\u001b[1;32m    201\u001b[0m \u001b[43m        \u001b[49m\u001b[43m(\u001b[49m\u001b[38;5;28;43mself\u001b[39;49m\u001b[38;5;241;43m.\u001b[39;49m\u001b[43m_dns_host\u001b[49m\u001b[43m,\u001b[49m\u001b[43m \u001b[49m\u001b[38;5;28;43mself\u001b[39;49m\u001b[38;5;241;43m.\u001b[39;49m\u001b[43mport\u001b[49m\u001b[43m)\u001b[49m\u001b[43m,\u001b[49m\n\u001b[1;32m    202\u001b[0m \u001b[43m        \u001b[49m\u001b[38;5;28;43mself\u001b[39;49m\u001b[38;5;241;43m.\u001b[39;49m\u001b[43mtimeout\u001b[49m\u001b[43m,\u001b[49m\n\u001b[1;32m    203\u001b[0m \u001b[43m        \u001b[49m\u001b[43msource_address\u001b[49m\u001b[38;5;241;43m=\u001b[39;49m\u001b[38;5;28;43mself\u001b[39;49m\u001b[38;5;241;43m.\u001b[39;49m\u001b[43msource_address\u001b[49m\u001b[43m,\u001b[49m\n\u001b[1;32m    204\u001b[0m \u001b[43m        \u001b[49m\u001b[43msocket_options\u001b[49m\u001b[38;5;241;43m=\u001b[39;49m\u001b[38;5;28;43mself\u001b[39;49m\u001b[38;5;241;43m.\u001b[39;49m\u001b[43msocket_options\u001b[49m\u001b[43m,\u001b[49m\n\u001b[1;32m    205\u001b[0m \u001b[43m    \u001b[49m\u001b[43m)\u001b[49m\n\u001b[1;32m    206\u001b[0m \u001b[38;5;28;01mexcept\u001b[39;00m socket\u001b[38;5;241m.\u001b[39mgaierror \u001b[38;5;28;01mas\u001b[39;00m e:\n",
      "File \u001b[0;32m~/.pyenv/versions/3.8.16/envs/crawler/lib/python3.8/site-packages/urllib3/util/connection.py:85\u001b[0m, in \u001b[0;36mcreate_connection\u001b[0;34m(address, timeout, source_address, socket_options)\u001b[0m\n\u001b[1;32m     84\u001b[0m \u001b[38;5;28;01mtry\u001b[39;00m:\n\u001b[0;32m---> 85\u001b[0m     \u001b[38;5;28;01mraise\u001b[39;00m err\n\u001b[1;32m     86\u001b[0m \u001b[38;5;28;01mfinally\u001b[39;00m:\n\u001b[1;32m     87\u001b[0m     \u001b[38;5;66;03m# Break explicitly a reference cycle\u001b[39;00m\n",
      "File \u001b[0;32m~/.pyenv/versions/3.8.16/envs/crawler/lib/python3.8/site-packages/urllib3/util/connection.py:73\u001b[0m, in \u001b[0;36mcreate_connection\u001b[0;34m(address, timeout, source_address, socket_options)\u001b[0m\n\u001b[1;32m     72\u001b[0m     sock\u001b[38;5;241m.\u001b[39mbind(source_address)\n\u001b[0;32m---> 73\u001b[0m \u001b[43msock\u001b[49m\u001b[38;5;241;43m.\u001b[39;49m\u001b[43mconnect\u001b[49m\u001b[43m(\u001b[49m\u001b[43msa\u001b[49m\u001b[43m)\u001b[49m\n\u001b[1;32m     74\u001b[0m \u001b[38;5;66;03m# Break explicitly a reference cycle\u001b[39;00m\n",
      "\u001b[0;31mConnectionRefusedError\u001b[0m: [Errno 61] Connection refused",
      "\nThe above exception was the direct cause of the following exception:\n",
      "\u001b[0;31mNewConnectionError\u001b[0m                        Traceback (most recent call last)",
      "File \u001b[0;32m~/.pyenv/versions/3.8.16/envs/crawler/lib/python3.8/site-packages/urllib3/connectionpool.py:790\u001b[0m, in \u001b[0;36mHTTPConnectionPool.urlopen\u001b[0;34m(self, method, url, body, headers, retries, redirect, assert_same_host, timeout, pool_timeout, release_conn, chunked, body_pos, preload_content, decode_content, **response_kw)\u001b[0m\n\u001b[1;32m    789\u001b[0m \u001b[38;5;66;03m# Make the request on the HTTPConnection object\u001b[39;00m\n\u001b[0;32m--> 790\u001b[0m response \u001b[38;5;241m=\u001b[39m \u001b[38;5;28;43mself\u001b[39;49m\u001b[38;5;241;43m.\u001b[39;49m\u001b[43m_make_request\u001b[49m\u001b[43m(\u001b[49m\n\u001b[1;32m    791\u001b[0m \u001b[43m    \u001b[49m\u001b[43mconn\u001b[49m\u001b[43m,\u001b[49m\n\u001b[1;32m    792\u001b[0m \u001b[43m    \u001b[49m\u001b[43mmethod\u001b[49m\u001b[43m,\u001b[49m\n\u001b[1;32m    793\u001b[0m \u001b[43m    \u001b[49m\u001b[43murl\u001b[49m\u001b[43m,\u001b[49m\n\u001b[1;32m    794\u001b[0m \u001b[43m    \u001b[49m\u001b[43mtimeout\u001b[49m\u001b[38;5;241;43m=\u001b[39;49m\u001b[43mtimeout_obj\u001b[49m\u001b[43m,\u001b[49m\n\u001b[1;32m    795\u001b[0m \u001b[43m    \u001b[49m\u001b[43mbody\u001b[49m\u001b[38;5;241;43m=\u001b[39;49m\u001b[43mbody\u001b[49m\u001b[43m,\u001b[49m\n\u001b[1;32m    796\u001b[0m \u001b[43m    \u001b[49m\u001b[43mheaders\u001b[49m\u001b[38;5;241;43m=\u001b[39;49m\u001b[43mheaders\u001b[49m\u001b[43m,\u001b[49m\n\u001b[1;32m    797\u001b[0m \u001b[43m    \u001b[49m\u001b[43mchunked\u001b[49m\u001b[38;5;241;43m=\u001b[39;49m\u001b[43mchunked\u001b[49m\u001b[43m,\u001b[49m\n\u001b[1;32m    798\u001b[0m \u001b[43m    \u001b[49m\u001b[43mretries\u001b[49m\u001b[38;5;241;43m=\u001b[39;49m\u001b[43mretries\u001b[49m\u001b[43m,\u001b[49m\n\u001b[1;32m    799\u001b[0m \u001b[43m    \u001b[49m\u001b[43mresponse_conn\u001b[49m\u001b[38;5;241;43m=\u001b[39;49m\u001b[43mresponse_conn\u001b[49m\u001b[43m,\u001b[49m\n\u001b[1;32m    800\u001b[0m \u001b[43m    \u001b[49m\u001b[43mpreload_content\u001b[49m\u001b[38;5;241;43m=\u001b[39;49m\u001b[43mpreload_content\u001b[49m\u001b[43m,\u001b[49m\n\u001b[1;32m    801\u001b[0m \u001b[43m    \u001b[49m\u001b[43mdecode_content\u001b[49m\u001b[38;5;241;43m=\u001b[39;49m\u001b[43mdecode_content\u001b[49m\u001b[43m,\u001b[49m\n\u001b[1;32m    802\u001b[0m \u001b[43m    \u001b[49m\u001b[38;5;241;43m*\u001b[39;49m\u001b[38;5;241;43m*\u001b[39;49m\u001b[43mresponse_kw\u001b[49m\u001b[43m,\u001b[49m\n\u001b[1;32m    803\u001b[0m \u001b[43m\u001b[49m\u001b[43m)\u001b[49m\n\u001b[1;32m    805\u001b[0m \u001b[38;5;66;03m# Everything went great!\u001b[39;00m\n",
      "File \u001b[0;32m~/.pyenv/versions/3.8.16/envs/crawler/lib/python3.8/site-packages/urllib3/connectionpool.py:496\u001b[0m, in \u001b[0;36mHTTPConnectionPool._make_request\u001b[0;34m(self, conn, method, url, body, headers, retries, timeout, chunked, response_conn, preload_content, decode_content, enforce_content_length)\u001b[0m\n\u001b[1;32m    495\u001b[0m \u001b[38;5;28;01mtry\u001b[39;00m:\n\u001b[0;32m--> 496\u001b[0m     \u001b[43mconn\u001b[49m\u001b[38;5;241;43m.\u001b[39;49m\u001b[43mrequest\u001b[49m\u001b[43m(\u001b[49m\n\u001b[1;32m    497\u001b[0m \u001b[43m        \u001b[49m\u001b[43mmethod\u001b[49m\u001b[43m,\u001b[49m\n\u001b[1;32m    498\u001b[0m \u001b[43m        \u001b[49m\u001b[43murl\u001b[49m\u001b[43m,\u001b[49m\n\u001b[1;32m    499\u001b[0m \u001b[43m        \u001b[49m\u001b[43mbody\u001b[49m\u001b[38;5;241;43m=\u001b[39;49m\u001b[43mbody\u001b[49m\u001b[43m,\u001b[49m\n\u001b[1;32m    500\u001b[0m \u001b[43m        \u001b[49m\u001b[43mheaders\u001b[49m\u001b[38;5;241;43m=\u001b[39;49m\u001b[43mheaders\u001b[49m\u001b[43m,\u001b[49m\n\u001b[1;32m    501\u001b[0m \u001b[43m        \u001b[49m\u001b[43mchunked\u001b[49m\u001b[38;5;241;43m=\u001b[39;49m\u001b[43mchunked\u001b[49m\u001b[43m,\u001b[49m\n\u001b[1;32m    502\u001b[0m \u001b[43m        \u001b[49m\u001b[43mpreload_content\u001b[49m\u001b[38;5;241;43m=\u001b[39;49m\u001b[43mpreload_content\u001b[49m\u001b[43m,\u001b[49m\n\u001b[1;32m    503\u001b[0m \u001b[43m        \u001b[49m\u001b[43mdecode_content\u001b[49m\u001b[38;5;241;43m=\u001b[39;49m\u001b[43mdecode_content\u001b[49m\u001b[43m,\u001b[49m\n\u001b[1;32m    504\u001b[0m \u001b[43m        \u001b[49m\u001b[43menforce_content_length\u001b[49m\u001b[38;5;241;43m=\u001b[39;49m\u001b[43menforce_content_length\u001b[49m\u001b[43m,\u001b[49m\n\u001b[1;32m    505\u001b[0m \u001b[43m    \u001b[49m\u001b[43m)\u001b[49m\n\u001b[1;32m    507\u001b[0m \u001b[38;5;66;03m# We are swallowing BrokenPipeError (errno.EPIPE) since the server is\u001b[39;00m\n\u001b[1;32m    508\u001b[0m \u001b[38;5;66;03m# legitimately able to close the connection after sending a valid response.\u001b[39;00m\n\u001b[1;32m    509\u001b[0m \u001b[38;5;66;03m# With this behaviour, the received response is still readable.\u001b[39;00m\n",
      "File \u001b[0;32m~/.pyenv/versions/3.8.16/envs/crawler/lib/python3.8/site-packages/urllib3/connection.py:388\u001b[0m, in \u001b[0;36mHTTPConnection.request\u001b[0;34m(self, method, url, body, headers, chunked, preload_content, decode_content, enforce_content_length)\u001b[0m\n\u001b[1;32m    387\u001b[0m     \u001b[38;5;28mself\u001b[39m\u001b[38;5;241m.\u001b[39mputheader(header, value)\n\u001b[0;32m--> 388\u001b[0m \u001b[38;5;28;43mself\u001b[39;49m\u001b[38;5;241;43m.\u001b[39;49m\u001b[43mendheaders\u001b[49m\u001b[43m(\u001b[49m\u001b[43m)\u001b[49m\n\u001b[1;32m    390\u001b[0m \u001b[38;5;66;03m# If we're given a body we start sending that in chunks.\u001b[39;00m\n",
      "File \u001b[0;32m~/.pyenv/versions/3.8.16/lib/python3.8/http/client.py:1251\u001b[0m, in \u001b[0;36mHTTPConnection.endheaders\u001b[0;34m(self, message_body, encode_chunked)\u001b[0m\n\u001b[1;32m   1250\u001b[0m     \u001b[38;5;28;01mraise\u001b[39;00m CannotSendHeader()\n\u001b[0;32m-> 1251\u001b[0m \u001b[38;5;28;43mself\u001b[39;49m\u001b[38;5;241;43m.\u001b[39;49m\u001b[43m_send_output\u001b[49m\u001b[43m(\u001b[49m\u001b[43mmessage_body\u001b[49m\u001b[43m,\u001b[49m\u001b[43m \u001b[49m\u001b[43mencode_chunked\u001b[49m\u001b[38;5;241;43m=\u001b[39;49m\u001b[43mencode_chunked\u001b[49m\u001b[43m)\u001b[49m\n",
      "File \u001b[0;32m~/.pyenv/versions/3.8.16/lib/python3.8/http/client.py:1011\u001b[0m, in \u001b[0;36mHTTPConnection._send_output\u001b[0;34m(self, message_body, encode_chunked)\u001b[0m\n\u001b[1;32m   1010\u001b[0m \u001b[38;5;28;01mdel\u001b[39;00m \u001b[38;5;28mself\u001b[39m\u001b[38;5;241m.\u001b[39m_buffer[:]\n\u001b[0;32m-> 1011\u001b[0m \u001b[38;5;28;43mself\u001b[39;49m\u001b[38;5;241;43m.\u001b[39;49m\u001b[43msend\u001b[49m\u001b[43m(\u001b[49m\u001b[43mmsg\u001b[49m\u001b[43m)\u001b[49m\n\u001b[1;32m   1013\u001b[0m \u001b[38;5;28;01mif\u001b[39;00m message_body \u001b[38;5;129;01mis\u001b[39;00m \u001b[38;5;129;01mnot\u001b[39;00m \u001b[38;5;28;01mNone\u001b[39;00m:\n\u001b[1;32m   1014\u001b[0m \n\u001b[1;32m   1015\u001b[0m     \u001b[38;5;66;03m# create a consistent interface to message_body\u001b[39;00m\n",
      "File \u001b[0;32m~/.pyenv/versions/3.8.16/lib/python3.8/http/client.py:951\u001b[0m, in \u001b[0;36mHTTPConnection.send\u001b[0;34m(self, data)\u001b[0m\n\u001b[1;32m    950\u001b[0m \u001b[38;5;28;01mif\u001b[39;00m \u001b[38;5;28mself\u001b[39m\u001b[38;5;241m.\u001b[39mauto_open:\n\u001b[0;32m--> 951\u001b[0m     \u001b[38;5;28;43mself\u001b[39;49m\u001b[38;5;241;43m.\u001b[39;49m\u001b[43mconnect\u001b[49m\u001b[43m(\u001b[49m\u001b[43m)\u001b[49m\n\u001b[1;32m    952\u001b[0m \u001b[38;5;28;01melse\u001b[39;00m:\n",
      "File \u001b[0;32m~/.pyenv/versions/3.8.16/envs/crawler/lib/python3.8/site-packages/urllib3/connection.py:236\u001b[0m, in \u001b[0;36mHTTPConnection.connect\u001b[0;34m(self)\u001b[0m\n\u001b[1;32m    235\u001b[0m \u001b[38;5;28;01mdef\u001b[39;00m \u001b[38;5;21mconnect\u001b[39m(\u001b[38;5;28mself\u001b[39m) \u001b[38;5;241m-\u001b[39m\u001b[38;5;241m>\u001b[39m \u001b[38;5;28;01mNone\u001b[39;00m:\n\u001b[0;32m--> 236\u001b[0m     \u001b[38;5;28mself\u001b[39m\u001b[38;5;241m.\u001b[39msock \u001b[38;5;241m=\u001b[39m \u001b[38;5;28;43mself\u001b[39;49m\u001b[38;5;241;43m.\u001b[39;49m\u001b[43m_new_conn\u001b[49m\u001b[43m(\u001b[49m\u001b[43m)\u001b[49m\n\u001b[1;32m    237\u001b[0m     \u001b[38;5;28;01mif\u001b[39;00m \u001b[38;5;28mself\u001b[39m\u001b[38;5;241m.\u001b[39m_tunnel_host:\n\u001b[1;32m    238\u001b[0m         \u001b[38;5;66;03m# If we're tunneling it means we're connected to our proxy.\u001b[39;00m\n",
      "File \u001b[0;32m~/.pyenv/versions/3.8.16/envs/crawler/lib/python3.8/site-packages/urllib3/connection.py:215\u001b[0m, in \u001b[0;36mHTTPConnection._new_conn\u001b[0;34m(self)\u001b[0m\n\u001b[1;32m    214\u001b[0m \u001b[38;5;28;01mexcept\u001b[39;00m \u001b[38;5;167;01mOSError\u001b[39;00m \u001b[38;5;28;01mas\u001b[39;00m e:\n\u001b[0;32m--> 215\u001b[0m     \u001b[38;5;28;01mraise\u001b[39;00m NewConnectionError(\n\u001b[1;32m    216\u001b[0m         \u001b[38;5;28mself\u001b[39m, \u001b[38;5;124mf\u001b[39m\u001b[38;5;124m\"\u001b[39m\u001b[38;5;124mFailed to establish a new connection: \u001b[39m\u001b[38;5;132;01m{\u001b[39;00me\u001b[38;5;132;01m}\u001b[39;00m\u001b[38;5;124m\"\u001b[39m\n\u001b[1;32m    217\u001b[0m     ) \u001b[38;5;28;01mfrom\u001b[39;00m \u001b[38;5;21;01me\u001b[39;00m\n\u001b[1;32m    219\u001b[0m \u001b[38;5;28;01mreturn\u001b[39;00m sock\n",
      "\u001b[0;31mNewConnectionError\u001b[0m: <urllib3.connection.HTTPConnection object at 0x1106183a0>: Failed to establish a new connection: [Errno 61] Connection refused",
      "\nThe above exception was the direct cause of the following exception:\n",
      "\u001b[0;31mMaxRetryError\u001b[0m                             Traceback (most recent call last)",
      "Cell \u001b[0;32mIn[395], line 1\u001b[0m\n\u001b[0;32m----> 1\u001b[0m \u001b[43mdriver\u001b[49m\u001b[38;5;241;43m.\u001b[39;49m\u001b[43mclose\u001b[49m\u001b[43m(\u001b[49m\u001b[43m)\u001b[49m\n",
      "File \u001b[0;32m~/.pyenv/versions/3.8.16/envs/crawler/lib/python3.8/site-packages/selenium/webdriver/remote/webdriver.py:457\u001b[0m, in \u001b[0;36mWebDriver.close\u001b[0;34m(self)\u001b[0m\n\u001b[1;32m    449\u001b[0m \u001b[38;5;28;01mdef\u001b[39;00m \u001b[38;5;21mclose\u001b[39m(\u001b[38;5;28mself\u001b[39m) \u001b[38;5;241m-\u001b[39m\u001b[38;5;241m>\u001b[39m \u001b[38;5;28;01mNone\u001b[39;00m:\n\u001b[1;32m    450\u001b[0m \u001b[38;5;250m    \u001b[39m\u001b[38;5;124;03m\"\"\"Closes the current window.\u001b[39;00m\n\u001b[1;32m    451\u001b[0m \n\u001b[1;32m    452\u001b[0m \u001b[38;5;124;03m    :Usage:\u001b[39;00m\n\u001b[0;32m   (...)\u001b[0m\n\u001b[1;32m    455\u001b[0m \u001b[38;5;124;03m            driver.close()\u001b[39;00m\n\u001b[1;32m    456\u001b[0m \u001b[38;5;124;03m    \"\"\"\u001b[39;00m\n\u001b[0;32m--> 457\u001b[0m     \u001b[38;5;28;43mself\u001b[39;49m\u001b[38;5;241;43m.\u001b[39;49m\u001b[43mexecute\u001b[49m\u001b[43m(\u001b[49m\u001b[43mCommand\u001b[49m\u001b[38;5;241;43m.\u001b[39;49m\u001b[43mCLOSE\u001b[49m\u001b[43m)\u001b[49m\n",
      "File \u001b[0;32m~/.pyenv/versions/3.8.16/envs/crawler/lib/python3.8/site-packages/selenium/webdriver/remote/webdriver.py:344\u001b[0m, in \u001b[0;36mWebDriver.execute\u001b[0;34m(self, driver_command, params)\u001b[0m\n\u001b[1;32m    341\u001b[0m     \u001b[38;5;28;01melif\u001b[39;00m \u001b[38;5;124m\"\u001b[39m\u001b[38;5;124msessionId\u001b[39m\u001b[38;5;124m\"\u001b[39m \u001b[38;5;129;01mnot\u001b[39;00m \u001b[38;5;129;01min\u001b[39;00m params:\n\u001b[1;32m    342\u001b[0m         params[\u001b[38;5;124m\"\u001b[39m\u001b[38;5;124msessionId\u001b[39m\u001b[38;5;124m\"\u001b[39m] \u001b[38;5;241m=\u001b[39m \u001b[38;5;28mself\u001b[39m\u001b[38;5;241m.\u001b[39msession_id\n\u001b[0;32m--> 344\u001b[0m response \u001b[38;5;241m=\u001b[39m \u001b[38;5;28;43mself\u001b[39;49m\u001b[38;5;241;43m.\u001b[39;49m\u001b[43mcommand_executor\u001b[49m\u001b[38;5;241;43m.\u001b[39;49m\u001b[43mexecute\u001b[49m\u001b[43m(\u001b[49m\u001b[43mdriver_command\u001b[49m\u001b[43m,\u001b[49m\u001b[43m \u001b[49m\u001b[43mparams\u001b[49m\u001b[43m)\u001b[49m\n\u001b[1;32m    345\u001b[0m \u001b[38;5;28;01mif\u001b[39;00m response:\n\u001b[1;32m    346\u001b[0m     \u001b[38;5;28mself\u001b[39m\u001b[38;5;241m.\u001b[39merror_handler\u001b[38;5;241m.\u001b[39mcheck_response(response)\n",
      "File \u001b[0;32m~/.pyenv/versions/3.8.16/envs/crawler/lib/python3.8/site-packages/selenium/webdriver/remote/remote_connection.py:290\u001b[0m, in \u001b[0;36mRemoteConnection.execute\u001b[0;34m(self, command, params)\u001b[0m\n\u001b[1;32m    288\u001b[0m data \u001b[38;5;241m=\u001b[39m utils\u001b[38;5;241m.\u001b[39mdump_json(params)\n\u001b[1;32m    289\u001b[0m url \u001b[38;5;241m=\u001b[39m \u001b[38;5;124mf\u001b[39m\u001b[38;5;124m\"\u001b[39m\u001b[38;5;132;01m{\u001b[39;00m\u001b[38;5;28mself\u001b[39m\u001b[38;5;241m.\u001b[39m_url\u001b[38;5;132;01m}\u001b[39;00m\u001b[38;5;132;01m{\u001b[39;00mpath\u001b[38;5;132;01m}\u001b[39;00m\u001b[38;5;124m\"\u001b[39m\n\u001b[0;32m--> 290\u001b[0m \u001b[38;5;28;01mreturn\u001b[39;00m \u001b[38;5;28;43mself\u001b[39;49m\u001b[38;5;241;43m.\u001b[39;49m\u001b[43m_request\u001b[49m\u001b[43m(\u001b[49m\u001b[43mcommand_info\u001b[49m\u001b[43m[\u001b[49m\u001b[38;5;241;43m0\u001b[39;49m\u001b[43m]\u001b[49m\u001b[43m,\u001b[49m\u001b[43m \u001b[49m\u001b[43murl\u001b[49m\u001b[43m,\u001b[49m\u001b[43m \u001b[49m\u001b[43mbody\u001b[49m\u001b[38;5;241;43m=\u001b[39;49m\u001b[43mdata\u001b[49m\u001b[43m)\u001b[49m\n",
      "File \u001b[0;32m~/.pyenv/versions/3.8.16/envs/crawler/lib/python3.8/site-packages/selenium/webdriver/remote/remote_connection.py:311\u001b[0m, in \u001b[0;36mRemoteConnection._request\u001b[0;34m(self, method, url, body)\u001b[0m\n\u001b[1;32m    308\u001b[0m     body \u001b[38;5;241m=\u001b[39m \u001b[38;5;28;01mNone\u001b[39;00m\n\u001b[1;32m    310\u001b[0m \u001b[38;5;28;01mif\u001b[39;00m \u001b[38;5;28mself\u001b[39m\u001b[38;5;241m.\u001b[39mkeep_alive:\n\u001b[0;32m--> 311\u001b[0m     response \u001b[38;5;241m=\u001b[39m \u001b[38;5;28;43mself\u001b[39;49m\u001b[38;5;241;43m.\u001b[39;49m\u001b[43m_conn\u001b[49m\u001b[38;5;241;43m.\u001b[39;49m\u001b[43mrequest\u001b[49m\u001b[43m(\u001b[49m\u001b[43mmethod\u001b[49m\u001b[43m,\u001b[49m\u001b[43m \u001b[49m\u001b[43murl\u001b[49m\u001b[43m,\u001b[49m\u001b[43m \u001b[49m\u001b[43mbody\u001b[49m\u001b[38;5;241;43m=\u001b[39;49m\u001b[43mbody\u001b[49m\u001b[43m,\u001b[49m\u001b[43m \u001b[49m\u001b[43mheaders\u001b[49m\u001b[38;5;241;43m=\u001b[39;49m\u001b[43mheaders\u001b[49m\u001b[43m)\u001b[49m\n\u001b[1;32m    312\u001b[0m     statuscode \u001b[38;5;241m=\u001b[39m response\u001b[38;5;241m.\u001b[39mstatus\n\u001b[1;32m    313\u001b[0m \u001b[38;5;28;01melse\u001b[39;00m:\n",
      "File \u001b[0;32m~/.pyenv/versions/3.8.16/envs/crawler/lib/python3.8/site-packages/urllib3/_request_methods.py:110\u001b[0m, in \u001b[0;36mRequestMethods.request\u001b[0;34m(self, method, url, body, fields, headers, json, **urlopen_kw)\u001b[0m\n\u001b[1;32m    107\u001b[0m     urlopen_kw[\u001b[38;5;124m\"\u001b[39m\u001b[38;5;124mbody\u001b[39m\u001b[38;5;124m\"\u001b[39m] \u001b[38;5;241m=\u001b[39m body\n\u001b[1;32m    109\u001b[0m \u001b[38;5;28;01mif\u001b[39;00m method \u001b[38;5;129;01min\u001b[39;00m \u001b[38;5;28mself\u001b[39m\u001b[38;5;241m.\u001b[39m_encode_url_methods:\n\u001b[0;32m--> 110\u001b[0m     \u001b[38;5;28;01mreturn\u001b[39;00m \u001b[38;5;28;43mself\u001b[39;49m\u001b[38;5;241;43m.\u001b[39;49m\u001b[43mrequest_encode_url\u001b[49m\u001b[43m(\u001b[49m\n\u001b[1;32m    111\u001b[0m \u001b[43m        \u001b[49m\u001b[43mmethod\u001b[49m\u001b[43m,\u001b[49m\n\u001b[1;32m    112\u001b[0m \u001b[43m        \u001b[49m\u001b[43murl\u001b[49m\u001b[43m,\u001b[49m\n\u001b[1;32m    113\u001b[0m \u001b[43m        \u001b[49m\u001b[43mfields\u001b[49m\u001b[38;5;241;43m=\u001b[39;49m\u001b[43mfields\u001b[49m\u001b[43m,\u001b[49m\u001b[43m  \u001b[49m\u001b[38;5;66;43;03m# type: ignore[arg-type]\u001b[39;49;00m\n\u001b[1;32m    114\u001b[0m \u001b[43m        \u001b[49m\u001b[43mheaders\u001b[49m\u001b[38;5;241;43m=\u001b[39;49m\u001b[43mheaders\u001b[49m\u001b[43m,\u001b[49m\n\u001b[1;32m    115\u001b[0m \u001b[43m        \u001b[49m\u001b[38;5;241;43m*\u001b[39;49m\u001b[38;5;241;43m*\u001b[39;49m\u001b[43murlopen_kw\u001b[49m\u001b[43m,\u001b[49m\n\u001b[1;32m    116\u001b[0m \u001b[43m    \u001b[49m\u001b[43m)\u001b[49m\n\u001b[1;32m    117\u001b[0m \u001b[38;5;28;01melse\u001b[39;00m:\n\u001b[1;32m    118\u001b[0m     \u001b[38;5;28;01mreturn\u001b[39;00m \u001b[38;5;28mself\u001b[39m\u001b[38;5;241m.\u001b[39mrequest_encode_body(\n\u001b[1;32m    119\u001b[0m         method, url, fields\u001b[38;5;241m=\u001b[39mfields, headers\u001b[38;5;241m=\u001b[39mheaders, \u001b[38;5;241m*\u001b[39m\u001b[38;5;241m*\u001b[39murlopen_kw\n\u001b[1;32m    120\u001b[0m     )\n",
      "File \u001b[0;32m~/.pyenv/versions/3.8.16/envs/crawler/lib/python3.8/site-packages/urllib3/_request_methods.py:143\u001b[0m, in \u001b[0;36mRequestMethods.request_encode_url\u001b[0;34m(self, method, url, fields, headers, **urlopen_kw)\u001b[0m\n\u001b[1;32m    140\u001b[0m \u001b[38;5;28;01mif\u001b[39;00m fields:\n\u001b[1;32m    141\u001b[0m     url \u001b[38;5;241m+\u001b[39m\u001b[38;5;241m=\u001b[39m \u001b[38;5;124m\"\u001b[39m\u001b[38;5;124m?\u001b[39m\u001b[38;5;124m\"\u001b[39m \u001b[38;5;241m+\u001b[39m urlencode(fields)\n\u001b[0;32m--> 143\u001b[0m \u001b[38;5;28;01mreturn\u001b[39;00m \u001b[38;5;28;43mself\u001b[39;49m\u001b[38;5;241;43m.\u001b[39;49m\u001b[43murlopen\u001b[49m\u001b[43m(\u001b[49m\u001b[43mmethod\u001b[49m\u001b[43m,\u001b[49m\u001b[43m \u001b[49m\u001b[43murl\u001b[49m\u001b[43m,\u001b[49m\u001b[43m \u001b[49m\u001b[38;5;241;43m*\u001b[39;49m\u001b[38;5;241;43m*\u001b[39;49m\u001b[43mextra_kw\u001b[49m\u001b[43m)\u001b[49m\n",
      "File \u001b[0;32m~/.pyenv/versions/3.8.16/envs/crawler/lib/python3.8/site-packages/urllib3/poolmanager.py:443\u001b[0m, in \u001b[0;36mPoolManager.urlopen\u001b[0;34m(self, method, url, redirect, **kw)\u001b[0m\n\u001b[1;32m    441\u001b[0m     response \u001b[38;5;241m=\u001b[39m conn\u001b[38;5;241m.\u001b[39murlopen(method, url, \u001b[38;5;241m*\u001b[39m\u001b[38;5;241m*\u001b[39mkw)\n\u001b[1;32m    442\u001b[0m \u001b[38;5;28;01melse\u001b[39;00m:\n\u001b[0;32m--> 443\u001b[0m     response \u001b[38;5;241m=\u001b[39m \u001b[43mconn\u001b[49m\u001b[38;5;241;43m.\u001b[39;49m\u001b[43murlopen\u001b[49m\u001b[43m(\u001b[49m\u001b[43mmethod\u001b[49m\u001b[43m,\u001b[49m\u001b[43m \u001b[49m\u001b[43mu\u001b[49m\u001b[38;5;241;43m.\u001b[39;49m\u001b[43mrequest_uri\u001b[49m\u001b[43m,\u001b[49m\u001b[43m \u001b[49m\u001b[38;5;241;43m*\u001b[39;49m\u001b[38;5;241;43m*\u001b[39;49m\u001b[43mkw\u001b[49m\u001b[43m)\u001b[49m\n\u001b[1;32m    445\u001b[0m redirect_location \u001b[38;5;241m=\u001b[39m redirect \u001b[38;5;129;01mand\u001b[39;00m response\u001b[38;5;241m.\u001b[39mget_redirect_location()\n\u001b[1;32m    446\u001b[0m \u001b[38;5;28;01mif\u001b[39;00m \u001b[38;5;129;01mnot\u001b[39;00m redirect_location:\n",
      "File \u001b[0;32m~/.pyenv/versions/3.8.16/envs/crawler/lib/python3.8/site-packages/urllib3/connectionpool.py:874\u001b[0m, in \u001b[0;36mHTTPConnectionPool.urlopen\u001b[0;34m(self, method, url, body, headers, retries, redirect, assert_same_host, timeout, pool_timeout, release_conn, chunked, body_pos, preload_content, decode_content, **response_kw)\u001b[0m\n\u001b[1;32m    869\u001b[0m \u001b[38;5;28;01mif\u001b[39;00m \u001b[38;5;129;01mnot\u001b[39;00m conn:\n\u001b[1;32m    870\u001b[0m     \u001b[38;5;66;03m# Try again\u001b[39;00m\n\u001b[1;32m    871\u001b[0m     log\u001b[38;5;241m.\u001b[39mwarning(\n\u001b[1;32m    872\u001b[0m         \u001b[38;5;124m\"\u001b[39m\u001b[38;5;124mRetrying (\u001b[39m\u001b[38;5;132;01m%r\u001b[39;00m\u001b[38;5;124m) after connection broken by \u001b[39m\u001b[38;5;124m'\u001b[39m\u001b[38;5;132;01m%r\u001b[39;00m\u001b[38;5;124m'\u001b[39m\u001b[38;5;124m: \u001b[39m\u001b[38;5;132;01m%s\u001b[39;00m\u001b[38;5;124m\"\u001b[39m, retries, err, url\n\u001b[1;32m    873\u001b[0m     )\n\u001b[0;32m--> 874\u001b[0m     \u001b[38;5;28;01mreturn\u001b[39;00m \u001b[38;5;28;43mself\u001b[39;49m\u001b[38;5;241;43m.\u001b[39;49m\u001b[43murlopen\u001b[49m\u001b[43m(\u001b[49m\n\u001b[1;32m    875\u001b[0m \u001b[43m        \u001b[49m\u001b[43mmethod\u001b[49m\u001b[43m,\u001b[49m\n\u001b[1;32m    876\u001b[0m \u001b[43m        \u001b[49m\u001b[43murl\u001b[49m\u001b[43m,\u001b[49m\n\u001b[1;32m    877\u001b[0m \u001b[43m        \u001b[49m\u001b[43mbody\u001b[49m\u001b[43m,\u001b[49m\n\u001b[1;32m    878\u001b[0m \u001b[43m        \u001b[49m\u001b[43mheaders\u001b[49m\u001b[43m,\u001b[49m\n\u001b[1;32m    879\u001b[0m \u001b[43m        \u001b[49m\u001b[43mretries\u001b[49m\u001b[43m,\u001b[49m\n\u001b[1;32m    880\u001b[0m \u001b[43m        \u001b[49m\u001b[43mredirect\u001b[49m\u001b[43m,\u001b[49m\n\u001b[1;32m    881\u001b[0m \u001b[43m        \u001b[49m\u001b[43massert_same_host\u001b[49m\u001b[43m,\u001b[49m\n\u001b[1;32m    882\u001b[0m \u001b[43m        \u001b[49m\u001b[43mtimeout\u001b[49m\u001b[38;5;241;43m=\u001b[39;49m\u001b[43mtimeout\u001b[49m\u001b[43m,\u001b[49m\n\u001b[1;32m    883\u001b[0m \u001b[43m        \u001b[49m\u001b[43mpool_timeout\u001b[49m\u001b[38;5;241;43m=\u001b[39;49m\u001b[43mpool_timeout\u001b[49m\u001b[43m,\u001b[49m\n\u001b[1;32m    884\u001b[0m \u001b[43m        \u001b[49m\u001b[43mrelease_conn\u001b[49m\u001b[38;5;241;43m=\u001b[39;49m\u001b[43mrelease_conn\u001b[49m\u001b[43m,\u001b[49m\n\u001b[1;32m    885\u001b[0m \u001b[43m        \u001b[49m\u001b[43mchunked\u001b[49m\u001b[38;5;241;43m=\u001b[39;49m\u001b[43mchunked\u001b[49m\u001b[43m,\u001b[49m\n\u001b[1;32m    886\u001b[0m \u001b[43m        \u001b[49m\u001b[43mbody_pos\u001b[49m\u001b[38;5;241;43m=\u001b[39;49m\u001b[43mbody_pos\u001b[49m\u001b[43m,\u001b[49m\n\u001b[1;32m    887\u001b[0m \u001b[43m        \u001b[49m\u001b[43mpreload_content\u001b[49m\u001b[38;5;241;43m=\u001b[39;49m\u001b[43mpreload_content\u001b[49m\u001b[43m,\u001b[49m\n\u001b[1;32m    888\u001b[0m \u001b[43m        \u001b[49m\u001b[43mdecode_content\u001b[49m\u001b[38;5;241;43m=\u001b[39;49m\u001b[43mdecode_content\u001b[49m\u001b[43m,\u001b[49m\n\u001b[1;32m    889\u001b[0m \u001b[43m        \u001b[49m\u001b[38;5;241;43m*\u001b[39;49m\u001b[38;5;241;43m*\u001b[39;49m\u001b[43mresponse_kw\u001b[49m\u001b[43m,\u001b[49m\n\u001b[1;32m    890\u001b[0m \u001b[43m    \u001b[49m\u001b[43m)\u001b[49m\n\u001b[1;32m    892\u001b[0m \u001b[38;5;66;03m# Handle redirect?\u001b[39;00m\n\u001b[1;32m    893\u001b[0m redirect_location \u001b[38;5;241m=\u001b[39m redirect \u001b[38;5;129;01mand\u001b[39;00m response\u001b[38;5;241m.\u001b[39mget_redirect_location()\n",
      "File \u001b[0;32m~/.pyenv/versions/3.8.16/envs/crawler/lib/python3.8/site-packages/urllib3/connectionpool.py:874\u001b[0m, in \u001b[0;36mHTTPConnectionPool.urlopen\u001b[0;34m(self, method, url, body, headers, retries, redirect, assert_same_host, timeout, pool_timeout, release_conn, chunked, body_pos, preload_content, decode_content, **response_kw)\u001b[0m\n\u001b[1;32m    869\u001b[0m \u001b[38;5;28;01mif\u001b[39;00m \u001b[38;5;129;01mnot\u001b[39;00m conn:\n\u001b[1;32m    870\u001b[0m     \u001b[38;5;66;03m# Try again\u001b[39;00m\n\u001b[1;32m    871\u001b[0m     log\u001b[38;5;241m.\u001b[39mwarning(\n\u001b[1;32m    872\u001b[0m         \u001b[38;5;124m\"\u001b[39m\u001b[38;5;124mRetrying (\u001b[39m\u001b[38;5;132;01m%r\u001b[39;00m\u001b[38;5;124m) after connection broken by \u001b[39m\u001b[38;5;124m'\u001b[39m\u001b[38;5;132;01m%r\u001b[39;00m\u001b[38;5;124m'\u001b[39m\u001b[38;5;124m: \u001b[39m\u001b[38;5;132;01m%s\u001b[39;00m\u001b[38;5;124m\"\u001b[39m, retries, err, url\n\u001b[1;32m    873\u001b[0m     )\n\u001b[0;32m--> 874\u001b[0m     \u001b[38;5;28;01mreturn\u001b[39;00m \u001b[38;5;28;43mself\u001b[39;49m\u001b[38;5;241;43m.\u001b[39;49m\u001b[43murlopen\u001b[49m\u001b[43m(\u001b[49m\n\u001b[1;32m    875\u001b[0m \u001b[43m        \u001b[49m\u001b[43mmethod\u001b[49m\u001b[43m,\u001b[49m\n\u001b[1;32m    876\u001b[0m \u001b[43m        \u001b[49m\u001b[43murl\u001b[49m\u001b[43m,\u001b[49m\n\u001b[1;32m    877\u001b[0m \u001b[43m        \u001b[49m\u001b[43mbody\u001b[49m\u001b[43m,\u001b[49m\n\u001b[1;32m    878\u001b[0m \u001b[43m        \u001b[49m\u001b[43mheaders\u001b[49m\u001b[43m,\u001b[49m\n\u001b[1;32m    879\u001b[0m \u001b[43m        \u001b[49m\u001b[43mretries\u001b[49m\u001b[43m,\u001b[49m\n\u001b[1;32m    880\u001b[0m \u001b[43m        \u001b[49m\u001b[43mredirect\u001b[49m\u001b[43m,\u001b[49m\n\u001b[1;32m    881\u001b[0m \u001b[43m        \u001b[49m\u001b[43massert_same_host\u001b[49m\u001b[43m,\u001b[49m\n\u001b[1;32m    882\u001b[0m \u001b[43m        \u001b[49m\u001b[43mtimeout\u001b[49m\u001b[38;5;241;43m=\u001b[39;49m\u001b[43mtimeout\u001b[49m\u001b[43m,\u001b[49m\n\u001b[1;32m    883\u001b[0m \u001b[43m        \u001b[49m\u001b[43mpool_timeout\u001b[49m\u001b[38;5;241;43m=\u001b[39;49m\u001b[43mpool_timeout\u001b[49m\u001b[43m,\u001b[49m\n\u001b[1;32m    884\u001b[0m \u001b[43m        \u001b[49m\u001b[43mrelease_conn\u001b[49m\u001b[38;5;241;43m=\u001b[39;49m\u001b[43mrelease_conn\u001b[49m\u001b[43m,\u001b[49m\n\u001b[1;32m    885\u001b[0m \u001b[43m        \u001b[49m\u001b[43mchunked\u001b[49m\u001b[38;5;241;43m=\u001b[39;49m\u001b[43mchunked\u001b[49m\u001b[43m,\u001b[49m\n\u001b[1;32m    886\u001b[0m \u001b[43m        \u001b[49m\u001b[43mbody_pos\u001b[49m\u001b[38;5;241;43m=\u001b[39;49m\u001b[43mbody_pos\u001b[49m\u001b[43m,\u001b[49m\n\u001b[1;32m    887\u001b[0m \u001b[43m        \u001b[49m\u001b[43mpreload_content\u001b[49m\u001b[38;5;241;43m=\u001b[39;49m\u001b[43mpreload_content\u001b[49m\u001b[43m,\u001b[49m\n\u001b[1;32m    888\u001b[0m \u001b[43m        \u001b[49m\u001b[43mdecode_content\u001b[49m\u001b[38;5;241;43m=\u001b[39;49m\u001b[43mdecode_content\u001b[49m\u001b[43m,\u001b[49m\n\u001b[1;32m    889\u001b[0m \u001b[43m        \u001b[49m\u001b[38;5;241;43m*\u001b[39;49m\u001b[38;5;241;43m*\u001b[39;49m\u001b[43mresponse_kw\u001b[49m\u001b[43m,\u001b[49m\n\u001b[1;32m    890\u001b[0m \u001b[43m    \u001b[49m\u001b[43m)\u001b[49m\n\u001b[1;32m    892\u001b[0m \u001b[38;5;66;03m# Handle redirect?\u001b[39;00m\n\u001b[1;32m    893\u001b[0m redirect_location \u001b[38;5;241m=\u001b[39m redirect \u001b[38;5;129;01mand\u001b[39;00m response\u001b[38;5;241m.\u001b[39mget_redirect_location()\n",
      "File \u001b[0;32m~/.pyenv/versions/3.8.16/envs/crawler/lib/python3.8/site-packages/urllib3/connectionpool.py:874\u001b[0m, in \u001b[0;36mHTTPConnectionPool.urlopen\u001b[0;34m(self, method, url, body, headers, retries, redirect, assert_same_host, timeout, pool_timeout, release_conn, chunked, body_pos, preload_content, decode_content, **response_kw)\u001b[0m\n\u001b[1;32m    869\u001b[0m \u001b[38;5;28;01mif\u001b[39;00m \u001b[38;5;129;01mnot\u001b[39;00m conn:\n\u001b[1;32m    870\u001b[0m     \u001b[38;5;66;03m# Try again\u001b[39;00m\n\u001b[1;32m    871\u001b[0m     log\u001b[38;5;241m.\u001b[39mwarning(\n\u001b[1;32m    872\u001b[0m         \u001b[38;5;124m\"\u001b[39m\u001b[38;5;124mRetrying (\u001b[39m\u001b[38;5;132;01m%r\u001b[39;00m\u001b[38;5;124m) after connection broken by \u001b[39m\u001b[38;5;124m'\u001b[39m\u001b[38;5;132;01m%r\u001b[39;00m\u001b[38;5;124m'\u001b[39m\u001b[38;5;124m: \u001b[39m\u001b[38;5;132;01m%s\u001b[39;00m\u001b[38;5;124m\"\u001b[39m, retries, err, url\n\u001b[1;32m    873\u001b[0m     )\n\u001b[0;32m--> 874\u001b[0m     \u001b[38;5;28;01mreturn\u001b[39;00m \u001b[38;5;28;43mself\u001b[39;49m\u001b[38;5;241;43m.\u001b[39;49m\u001b[43murlopen\u001b[49m\u001b[43m(\u001b[49m\n\u001b[1;32m    875\u001b[0m \u001b[43m        \u001b[49m\u001b[43mmethod\u001b[49m\u001b[43m,\u001b[49m\n\u001b[1;32m    876\u001b[0m \u001b[43m        \u001b[49m\u001b[43murl\u001b[49m\u001b[43m,\u001b[49m\n\u001b[1;32m    877\u001b[0m \u001b[43m        \u001b[49m\u001b[43mbody\u001b[49m\u001b[43m,\u001b[49m\n\u001b[1;32m    878\u001b[0m \u001b[43m        \u001b[49m\u001b[43mheaders\u001b[49m\u001b[43m,\u001b[49m\n\u001b[1;32m    879\u001b[0m \u001b[43m        \u001b[49m\u001b[43mretries\u001b[49m\u001b[43m,\u001b[49m\n\u001b[1;32m    880\u001b[0m \u001b[43m        \u001b[49m\u001b[43mredirect\u001b[49m\u001b[43m,\u001b[49m\n\u001b[1;32m    881\u001b[0m \u001b[43m        \u001b[49m\u001b[43massert_same_host\u001b[49m\u001b[43m,\u001b[49m\n\u001b[1;32m    882\u001b[0m \u001b[43m        \u001b[49m\u001b[43mtimeout\u001b[49m\u001b[38;5;241;43m=\u001b[39;49m\u001b[43mtimeout\u001b[49m\u001b[43m,\u001b[49m\n\u001b[1;32m    883\u001b[0m \u001b[43m        \u001b[49m\u001b[43mpool_timeout\u001b[49m\u001b[38;5;241;43m=\u001b[39;49m\u001b[43mpool_timeout\u001b[49m\u001b[43m,\u001b[49m\n\u001b[1;32m    884\u001b[0m \u001b[43m        \u001b[49m\u001b[43mrelease_conn\u001b[49m\u001b[38;5;241;43m=\u001b[39;49m\u001b[43mrelease_conn\u001b[49m\u001b[43m,\u001b[49m\n\u001b[1;32m    885\u001b[0m \u001b[43m        \u001b[49m\u001b[43mchunked\u001b[49m\u001b[38;5;241;43m=\u001b[39;49m\u001b[43mchunked\u001b[49m\u001b[43m,\u001b[49m\n\u001b[1;32m    886\u001b[0m \u001b[43m        \u001b[49m\u001b[43mbody_pos\u001b[49m\u001b[38;5;241;43m=\u001b[39;49m\u001b[43mbody_pos\u001b[49m\u001b[43m,\u001b[49m\n\u001b[1;32m    887\u001b[0m \u001b[43m        \u001b[49m\u001b[43mpreload_content\u001b[49m\u001b[38;5;241;43m=\u001b[39;49m\u001b[43mpreload_content\u001b[49m\u001b[43m,\u001b[49m\n\u001b[1;32m    888\u001b[0m \u001b[43m        \u001b[49m\u001b[43mdecode_content\u001b[49m\u001b[38;5;241;43m=\u001b[39;49m\u001b[43mdecode_content\u001b[49m\u001b[43m,\u001b[49m\n\u001b[1;32m    889\u001b[0m \u001b[43m        \u001b[49m\u001b[38;5;241;43m*\u001b[39;49m\u001b[38;5;241;43m*\u001b[39;49m\u001b[43mresponse_kw\u001b[49m\u001b[43m,\u001b[49m\n\u001b[1;32m    890\u001b[0m \u001b[43m    \u001b[49m\u001b[43m)\u001b[49m\n\u001b[1;32m    892\u001b[0m \u001b[38;5;66;03m# Handle redirect?\u001b[39;00m\n\u001b[1;32m    893\u001b[0m redirect_location \u001b[38;5;241m=\u001b[39m redirect \u001b[38;5;129;01mand\u001b[39;00m response\u001b[38;5;241m.\u001b[39mget_redirect_location()\n",
      "File \u001b[0;32m~/.pyenv/versions/3.8.16/envs/crawler/lib/python3.8/site-packages/urllib3/connectionpool.py:844\u001b[0m, in \u001b[0;36mHTTPConnectionPool.urlopen\u001b[0;34m(self, method, url, body, headers, retries, redirect, assert_same_host, timeout, pool_timeout, release_conn, chunked, body_pos, preload_content, decode_content, **response_kw)\u001b[0m\n\u001b[1;32m    841\u001b[0m \u001b[38;5;28;01melif\u001b[39;00m \u001b[38;5;28misinstance\u001b[39m(new_e, (\u001b[38;5;167;01mOSError\u001b[39;00m, HTTPException)):\n\u001b[1;32m    842\u001b[0m     new_e \u001b[38;5;241m=\u001b[39m ProtocolError(\u001b[38;5;124m\"\u001b[39m\u001b[38;5;124mConnection aborted.\u001b[39m\u001b[38;5;124m\"\u001b[39m, new_e)\n\u001b[0;32m--> 844\u001b[0m retries \u001b[38;5;241m=\u001b[39m \u001b[43mretries\u001b[49m\u001b[38;5;241;43m.\u001b[39;49m\u001b[43mincrement\u001b[49m\u001b[43m(\u001b[49m\n\u001b[1;32m    845\u001b[0m \u001b[43m    \u001b[49m\u001b[43mmethod\u001b[49m\u001b[43m,\u001b[49m\u001b[43m \u001b[49m\u001b[43murl\u001b[49m\u001b[43m,\u001b[49m\u001b[43m \u001b[49m\u001b[43merror\u001b[49m\u001b[38;5;241;43m=\u001b[39;49m\u001b[43mnew_e\u001b[49m\u001b[43m,\u001b[49m\u001b[43m \u001b[49m\u001b[43m_pool\u001b[49m\u001b[38;5;241;43m=\u001b[39;49m\u001b[38;5;28;43mself\u001b[39;49m\u001b[43m,\u001b[49m\u001b[43m \u001b[49m\u001b[43m_stacktrace\u001b[49m\u001b[38;5;241;43m=\u001b[39;49m\u001b[43msys\u001b[49m\u001b[38;5;241;43m.\u001b[39;49m\u001b[43mexc_info\u001b[49m\u001b[43m(\u001b[49m\u001b[43m)\u001b[49m\u001b[43m[\u001b[49m\u001b[38;5;241;43m2\u001b[39;49m\u001b[43m]\u001b[49m\n\u001b[1;32m    846\u001b[0m \u001b[43m\u001b[49m\u001b[43m)\u001b[49m\n\u001b[1;32m    847\u001b[0m retries\u001b[38;5;241m.\u001b[39msleep()\n\u001b[1;32m    849\u001b[0m \u001b[38;5;66;03m# Keep track of the error for the retry warning.\u001b[39;00m\n",
      "File \u001b[0;32m~/.pyenv/versions/3.8.16/envs/crawler/lib/python3.8/site-packages/urllib3/util/retry.py:515\u001b[0m, in \u001b[0;36mRetry.increment\u001b[0;34m(self, method, url, response, error, _pool, _stacktrace)\u001b[0m\n\u001b[1;32m    513\u001b[0m \u001b[38;5;28;01mif\u001b[39;00m new_retry\u001b[38;5;241m.\u001b[39mis_exhausted():\n\u001b[1;32m    514\u001b[0m     reason \u001b[38;5;241m=\u001b[39m error \u001b[38;5;129;01mor\u001b[39;00m ResponseError(cause)\n\u001b[0;32m--> 515\u001b[0m     \u001b[38;5;28;01mraise\u001b[39;00m MaxRetryError(_pool, url, reason) \u001b[38;5;28;01mfrom\u001b[39;00m \u001b[38;5;21;01mreason\u001b[39;00m  \u001b[38;5;66;03m# type: ignore[arg-type]\u001b[39;00m\n\u001b[1;32m    517\u001b[0m log\u001b[38;5;241m.\u001b[39mdebug(\u001b[38;5;124m\"\u001b[39m\u001b[38;5;124mIncremented Retry for (url=\u001b[39m\u001b[38;5;124m'\u001b[39m\u001b[38;5;132;01m%s\u001b[39;00m\u001b[38;5;124m'\u001b[39m\u001b[38;5;124m): \u001b[39m\u001b[38;5;132;01m%r\u001b[39;00m\u001b[38;5;124m\"\u001b[39m, url, new_retry)\n\u001b[1;32m    519\u001b[0m \u001b[38;5;28;01mreturn\u001b[39;00m new_retry\n",
      "\u001b[0;31mMaxRetryError\u001b[0m: HTTPConnectionPool(host='localhost', port=55535): Max retries exceeded with url: /session/41ec46f1a6aad11276943403a38185d2/window (Caused by NewConnectionError('<urllib3.connection.HTTPConnection object at 0x1106183a0>: Failed to establish a new connection: [Errno 61] Connection refused'))"
     ]
    }
   ],
   "source": [
    "driver.close()"
   ]
  },
  {
   "cell_type": "code",
   "execution_count": null,
   "id": "76d31d17",
   "metadata": {},
   "outputs": [],
   "source": [
    "url = \"https://www.nfl.com/scores/2022/REG2\"\n",
    "driver.get(url)\n",
    "WebDriverWait(driver, timeout = 5)\n",
    "\n",
    "sleep(10)\n",
    "### CLose Cookies Ask\n",
    "try :\n",
    "    _path = '/html/body/div[7]/div[2]/div/div[1]/div/div[2]/div/button[2]'\n",
    "    cookies_button = driver.find_element(By.XPATH, _path)\n",
    "    cookies_button.click()\n",
    "except:\n",
    "    pass\n",
    "\n",
    "sleep(10)\n",
    "buttons, size = get_buttons(driver)\n",
    "for i in range(size):\n",
    "    ### Initial Tab for return\n",
    "    home_tab = driver.current_window_handle\n",
    "    child_tab = driver.current_window_handle\n",
    "    sleep(30)\n",
    "    # To Next Detail Page\n",
    "    button = get_button_by_index(driver, i)\n",
    "    button.click()\n",
    "    sleep(30)\n",
    "    \n",
    "    # Go to Pdf page \n",
    "    buttons = driver.find_elements(By.XPATH, \"//div[@data-testid='gamecenter-cta-btns-container']\")\n",
    "    download_button = buttons[0].find_element(By.XPATH, \"div/div/div/div/button/div[1]/div\")\n",
    "    download_button.click()\n",
    "    sleep(30)\n",
    "\n",
    "    # Return to orinal tab\n",
    "    all_windows = driver.window_handles\n",
    "    for w in all_windows:\n",
    "        if( w != home_tab):\n",
    "            child_tab = w\n",
    "            driver.switch_to.window(w)\n",
    "            break\n",
    "    driver.switch_to.window(child_tab)\n",
    "    sleep(3)\n",
    "    download_url = driver.current_url\n",
    "    driver.close()\n",
    "    sleep(3)\n",
    "    \n",
    "    # Return to orignal page\n",
    "    driver.switch_to.window(home_tab)\n",
    "    driver.back()\n",
    "    sleep(30)\n",
    "\n",
    "    print(download_url)\n",
    "    \n",
    "sleep(60)"
   ]
  },
  {
   "cell_type": "code",
   "execution_count": null,
   "id": "534d1695",
   "metadata": {},
   "outputs": [],
   "source": [
    "url = \"https://www.nfl.com/scores/2022/REG3\"\n",
    "driver.get(url)\n",
    "WebDriverWait(driver, timeout = 5)\n",
    "\n",
    "sleep(10)\n",
    "### CLose Cookies Ask\n",
    "try :\n",
    "    _path = '/html/body/div[7]/div[2]/div/div[1]/div/div[2]/div/button[2]'\n",
    "    cookies_button = driver.find_element(By.XPATH, _path)\n",
    "    cookies_button.click()\n",
    "except:\n",
    "    pass\n",
    "\n",
    "sleep(10)\n",
    "buttons, size = get_buttons(driver)\n",
    "for i in range(size):\n",
    "    ### Initial Tab for return\n",
    "    home_tab = driver.current_window_handle\n",
    "    child_tab = driver.current_window_handle\n",
    "    sleep(30)\n",
    "    # To Next Detail Page\n",
    "    button = get_button_by_index(driver, i)\n",
    "    button.click()\n",
    "    sleep(30)\n",
    "    \n",
    "    # Go to Pdf page \n",
    "    buttons = driver.find_elements(By.XPATH, \"//div[@data-testid='gamecenter-cta-btns-container']\")\n",
    "    download_button = buttons[0].find_element(By.XPATH, \"div/div/div/div/button/div[1]/div\")\n",
    "    download_button.click()\n",
    "    sleep(30)\n",
    "\n",
    "    # Return to orinal tab\n",
    "    all_windows = driver.window_handles\n",
    "    for w in all_windows:\n",
    "        if( w != home_tab):\n",
    "            child_tab = w\n",
    "            driver.switch_to.window(w)\n",
    "            break\n",
    "    driver.switch_to.window(child_tab)\n",
    "    sleep(3)\n",
    "    download_url = driver.current_url\n",
    "    driver.close()\n",
    "    sleep(3)\n",
    "    \n",
    "    # Return to orignal page\n",
    "    driver.switch_to.window(home_tab)\n",
    "    driver.back()\n",
    "    sleep(30)\n",
    "\n",
    "    print(download_url)\n",
    "    \n",
    "sleep(60)"
   ]
  },
  {
   "cell_type": "code",
   "execution_count": null,
   "id": "e27afeb7",
   "metadata": {},
   "outputs": [],
   "source": [
    "url = \"https://www.nfl.com/scores/2022/REG4\"\n",
    "driver.get(url)\n",
    "WebDriverWait(driver, timeout = 5)\n",
    "\n",
    "sleep(10)\n",
    "### CLose Cookies Ask\n",
    "try :\n",
    "    _path = '/html/body/div[7]/div[2]/div/div[1]/div/div[2]/div/button[2]'\n",
    "    cookies_button = driver.find_element(By.XPATH, _path)\n",
    "    cookies_button.click()\n",
    "except:\n",
    "    pass\n",
    "\n",
    "sleep(10)\n",
    "buttons, size = get_buttons(driver)\n",
    "for i in range(size):\n",
    "    ### Initial Tab for return\n",
    "    home_tab = driver.current_window_handle\n",
    "    child_tab = driver.current_window_handle\n",
    "    sleep(30)\n",
    "    # To Next Detail Page\n",
    "    button = get_button_by_index(driver, i)\n",
    "    button.click()\n",
    "    sleep(30)\n",
    "    \n",
    "    # Go to Pdf page \n",
    "    buttons = driver.find_elements(By.XPATH, \"//div[@data-testid='gamecenter-cta-btns-container']\")\n",
    "    download_button = buttons[0].find_element(By.XPATH, \"div/div/div/div/button/div[1]/div\")\n",
    "    download_button.click()\n",
    "    sleep(30)\n",
    "\n",
    "    # Return to orinal tab\n",
    "    all_windows = driver.window_handles\n",
    "    for w in all_windows:\n",
    "        if( w != home_tab):\n",
    "            child_tab = w\n",
    "            driver.switch_to.window(w)\n",
    "            break\n",
    "    driver.switch_to.window(child_tab)\n",
    "    sleep(3)\n",
    "    download_url = driver.current_url\n",
    "    driver.close()\n",
    "    sleep(3)\n",
    "    \n",
    "    # Return to orignal page\n",
    "    driver.switch_to.window(home_tab)\n",
    "    driver.back()\n",
    "    sleep(30)\n",
    "\n",
    "    print(download_url)\n",
    "    \n",
    "sleep(60)"
   ]
  },
  {
   "cell_type": "code",
   "execution_count": null,
   "id": "2ab84e0f",
   "metadata": {},
   "outputs": [],
   "source": [
    "url = \"https://www.nfl.com/scores/2022/REG5\"\n",
    "driver.get(url)\n",
    "WebDriverWait(driver, timeout = 5)\n",
    "\n",
    "sleep(10)\n",
    "### CLose Cookies Ask\n",
    "try :\n",
    "    _path = '/html/body/div[7]/div[2]/div/div[1]/div/div[2]/div/button[2]'\n",
    "    cookies_button = driver.find_element(By.XPATH, _path)\n",
    "    cookies_button.click()\n",
    "except:\n",
    "    pass\n",
    "\n",
    "sleep(10)\n",
    "buttons, size = get_buttons(driver)\n",
    "for i in range(size):\n",
    "    ### Initial Tab for return\n",
    "    home_tab = driver.current_window_handle\n",
    "    child_tab = driver.current_window_handle\n",
    "    sleep(30)\n",
    "    # To Next Detail Page\n",
    "    button = get_button_by_index(driver, i)\n",
    "    button.click()\n",
    "    sleep(30)\n",
    "    \n",
    "    # Go to Pdf page \n",
    "    buttons = driver.find_elements(By.XPATH, \"//div[@data-testid='gamecenter-cta-btns-container']\")\n",
    "    download_button = buttons[0].find_element(By.XPATH, \"div/div/div/div/button/div[1]/div\")\n",
    "    download_button.click()\n",
    "    sleep(30)\n",
    "\n",
    "    # Return to orinal tab\n",
    "    all_windows = driver.window_handles\n",
    "    for w in all_windows:\n",
    "        if( w != home_tab):\n",
    "            child_tab = w\n",
    "            driver.switch_to.window(w)\n",
    "            break\n",
    "    driver.switch_to.window(child_tab)\n",
    "    sleep(3)\n",
    "    download_url = driver.current_url\n",
    "    driver.close()\n",
    "    sleep(3)\n",
    "    \n",
    "    # Return to orignal page\n",
    "    driver.switch_to.window(home_tab)\n",
    "    driver.back()\n",
    "    sleep(30)\n",
    "\n",
    "    print(download_url)\n",
    "    \n",
    "sleep(60)"
   ]
  },
  {
   "cell_type": "code",
   "execution_count": null,
   "id": "42d2475a",
   "metadata": {},
   "outputs": [],
   "source": [
    "url = \"https://www.nfl.com/scores/2022/REG6\"\n",
    "driver.get(url)\n",
    "WebDriverWait(driver, timeout = 5)\n",
    "\n",
    "sleep(10)\n",
    "### CLose Cookies Ask\n",
    "try :\n",
    "    _path = '/html/body/div[7]/div[2]/div/div[1]/div/div[2]/div/button[2]'\n",
    "    cookies_button = driver.find_element(By.XPATH, _path)\n",
    "    cookies_button.click()\n",
    "except:\n",
    "    pass\n",
    "\n",
    "sleep(10)\n",
    "buttons, size = get_buttons(driver)\n",
    "for i in range(size):\n",
    "    ### Initial Tab for return\n",
    "    home_tab = driver.current_window_handle\n",
    "    child_tab = driver.current_window_handle\n",
    "    sleep(30)\n",
    "    # To Next Detail Page\n",
    "    button = get_button_by_index(driver, i)\n",
    "    button.click()\n",
    "    sleep(30)\n",
    "    \n",
    "    # Go to Pdf page \n",
    "    buttons = driver.find_elements(By.XPATH, \"//div[@data-testid='gamecenter-cta-btns-container']\")\n",
    "    download_button = buttons[0].find_element(By.XPATH, \"div/div/div/div/button/div[1]/div\")\n",
    "    download_button.click()\n",
    "    sleep(30)\n",
    "\n",
    "    # Return to orinal tab\n",
    "    all_windows = driver.window_handles\n",
    "    for w in all_windows:\n",
    "        if( w != home_tab):\n",
    "            child_tab = w\n",
    "            driver.switch_to.window(w)\n",
    "            break\n",
    "    driver.switch_to.window(child_tab)\n",
    "    sleep(3)\n",
    "    download_url = driver.current_url\n",
    "    driver.close()\n",
    "    sleep(3)\n",
    "    \n",
    "    # Return to orignal page\n",
    "    driver.switch_to.window(home_tab)\n",
    "    driver.back()\n",
    "    sleep(30)\n",
    "\n",
    "    print(download_url)\n",
    "    \n",
    "sleep(60)"
   ]
  },
  {
   "cell_type": "code",
   "execution_count": null,
   "id": "5b7627cf",
   "metadata": {},
   "outputs": [],
   "source": [
    "url = \"https://www.nfl.com/scores/2022/REG7\"\n",
    "driver.get(url)\n",
    "WebDriverWait(driver, timeout = 5)\n",
    "\n",
    "sleep(10)\n",
    "### CLose Cookies Ask\n",
    "try :\n",
    "    _path = '/html/body/div[7]/div[2]/div/div[1]/div/div[2]/div/button[2]'\n",
    "    cookies_button = driver.find_element(By.XPATH, _path)\n",
    "    cookies_button.click()\n",
    "except:\n",
    "    pass\n",
    "\n",
    "sleep(10)\n",
    "buttons, size = get_buttons(driver)\n",
    "for i in range(size):\n",
    "    ### Initial Tab for return\n",
    "    home_tab = driver.current_window_handle\n",
    "    child_tab = driver.current_window_handle\n",
    "    sleep(30)\n",
    "    # To Next Detail Page\n",
    "    button = get_button_by_index(driver, i)\n",
    "    button.click()\n",
    "    sleep(30)\n",
    "    \n",
    "    # Go to Pdf page \n",
    "    buttons = driver.find_elements(By.XPATH, \"//div[@data-testid='gamecenter-cta-btns-container']\")\n",
    "    download_button = buttons[0].find_element(By.XPATH, \"div/div/div/div/button/div[1]/div\")\n",
    "    download_button.click()\n",
    "    sleep(30)\n",
    "\n",
    "    # Return to orinal tab\n",
    "    all_windows = driver.window_handles\n",
    "    for w in all_windows:\n",
    "        if( w != home_tab):\n",
    "            child_tab = w\n",
    "            driver.switch_to.window(w)\n",
    "            break\n",
    "    driver.switch_to.window(child_tab)\n",
    "    sleep(3)\n",
    "    download_url = driver.current_url\n",
    "    driver.close()\n",
    "    sleep(3)\n",
    "    \n",
    "    # Return to orignal page\n",
    "    driver.switch_to.window(home_tab)\n",
    "    driver.back()\n",
    "    sleep(30)\n",
    "\n",
    "    print(download_url)\n",
    "    \n",
    "sleep(60)"
   ]
  },
  {
   "cell_type": "code",
   "execution_count": null,
   "id": "756f0369",
   "metadata": {},
   "outputs": [],
   "source": [
    "url = \"https://www.nfl.com/scores/2022/REG8\"\n",
    "driver.get(url)\n",
    "WebDriverWait(driver, timeout = 5)\n",
    "\n",
    "sleep(10)\n",
    "### CLose Cookies Ask\n",
    "try :\n",
    "    _path = '/html/body/div[7]/div[2]/div/div[1]/div/div[2]/div/button[2]'\n",
    "    cookies_button = driver.find_element(By.XPATH, _path)\n",
    "    cookies_button.click()\n",
    "except:\n",
    "    pass\n",
    "\n",
    "sleep(10)\n",
    "buttons, size = get_buttons(driver)\n",
    "for i in range(size):\n",
    "    ### Initial Tab for return\n",
    "    home_tab = driver.current_window_handle\n",
    "    child_tab = driver.current_window_handle\n",
    "    sleep(30)\n",
    "    # To Next Detail Page\n",
    "    button = get_button_by_index(driver, i)\n",
    "    button.click()\n",
    "    sleep(30)\n",
    "    \n",
    "    # Go to Pdf page \n",
    "    buttons = driver.find_elements(By.XPATH, \"//div[@data-testid='gamecenter-cta-btns-container']\")\n",
    "    download_button = buttons[0].find_element(By.XPATH, \"div/div/div/div/button/div[1]/div\")\n",
    "    download_button.click()\n",
    "    sleep(30)\n",
    "\n",
    "    # Return to orinal tab\n",
    "    all_windows = driver.window_handles\n",
    "    for w in all_windows:\n",
    "        if( w != home_tab):\n",
    "            child_tab = w\n",
    "            driver.switch_to.window(w)\n",
    "            break\n",
    "    driver.switch_to.window(child_tab)\n",
    "    sleep(3)\n",
    "    download_url = driver.current_url\n",
    "    driver.close()\n",
    "    sleep(3)\n",
    "    \n",
    "    # Return to orignal page\n",
    "    driver.switch_to.window(home_tab)\n",
    "    driver.back()\n",
    "    sleep(30)\n",
    "\n",
    "    print(download_url)\n",
    "    \n",
    "sleep(60)"
   ]
  },
  {
   "cell_type": "code",
   "execution_count": null,
   "id": "ae15e4af",
   "metadata": {},
   "outputs": [],
   "source": [
    "url = \"https://www.nfl.com/scores/2022/REG9\"\n",
    "driver.get(url)\n",
    "WebDriverWait(driver, timeout = 5)\n",
    "\n",
    "sleep(10)\n",
    "### CLose Cookies Ask\n",
    "try :\n",
    "    _path = '/html/body/div[7]/div[2]/div/div[1]/div/div[2]/div/button[2]'\n",
    "    cookies_button = driver.find_element(By.XPATH, _path)\n",
    "    cookies_button.click()\n",
    "except:\n",
    "    pass\n",
    "\n",
    "sleep(10)\n",
    "buttons, size = get_buttons(driver)\n",
    "for i in range(size):\n",
    "    ### Initial Tab for return\n",
    "    home_tab = driver.current_window_handle\n",
    "    child_tab = driver.current_window_handle\n",
    "    sleep(30)\n",
    "    # To Next Detail Page\n",
    "    button = get_button_by_index(driver, i)\n",
    "    button.click()\n",
    "    sleep(30)\n",
    "    \n",
    "    # Go to Pdf page \n",
    "    buttons = driver.find_elements(By.XPATH, \"//div[@data-testid='gamecenter-cta-btns-container']\")\n",
    "    download_button = buttons[0].find_element(By.XPATH, \"div/div/div/div/button/div[1]/div\")\n",
    "    download_button.click()\n",
    "    sleep(30)\n",
    "\n",
    "    # Return to orinal tab\n",
    "    all_windows = driver.window_handles\n",
    "    for w in all_windows:\n",
    "        if( w != home_tab):\n",
    "            child_tab = w\n",
    "            driver.switch_to.window(w)\n",
    "            break\n",
    "    driver.switch_to.window(child_tab)\n",
    "    sleep(3)\n",
    "    download_url = driver.current_url\n",
    "    driver.close()\n",
    "    sleep(3)\n",
    "    \n",
    "    # Return to orignal page\n",
    "    driver.switch_to.window(home_tab)\n",
    "    driver.back()\n",
    "    sleep(30)\n",
    "\n",
    "    print(download_url)\n",
    "    \n",
    "sleep(60)"
   ]
  },
  {
   "cell_type": "code",
   "execution_count": null,
   "id": "ec94c6c0",
   "metadata": {},
   "outputs": [],
   "source": [
    "url = \"https://www.nfl.com/scores/2022/REG10\"\n",
    "driver.get(url)\n",
    "WebDriverWait(driver, timeout = 5)\n",
    "\n",
    "sleep(10)\n",
    "### CLose Cookies Ask\n",
    "try :\n",
    "    _path = '/html/body/div[7]/div[2]/div/div[1]/div/div[2]/div/button[2]'\n",
    "    cookies_button = driver.find_element(By.XPATH, _path)\n",
    "    cookies_button.click()\n",
    "except:\n",
    "    pass\n",
    "\n",
    "sleep(10)\n",
    "buttons, size = get_buttons(driver)\n",
    "for i in range(size):\n",
    "    ### Initial Tab for return\n",
    "    home_tab = driver.current_window_handle\n",
    "    child_tab = driver.current_window_handle\n",
    "    sleep(30)\n",
    "    # To Next Detail Page\n",
    "    button = get_button_by_index(driver, i)\n",
    "    button.click()\n",
    "    sleep(30)\n",
    "    \n",
    "    # Go to Pdf page \n",
    "    buttons = driver.find_elements(By.XPATH, \"//div[@data-testid='gamecenter-cta-btns-container']\")\n",
    "    download_button = buttons[0].find_element(By.XPATH, \"div/div/div/div/button/div[1]/div\")\n",
    "    download_button.click()\n",
    "    sleep(30)\n",
    "\n",
    "    # Return to orinal tab\n",
    "    all_windows = driver.window_handles\n",
    "    for w in all_windows:\n",
    "        if( w != home_tab):\n",
    "            child_tab = w\n",
    "            driver.switch_to.window(w)\n",
    "            break\n",
    "    driver.switch_to.window(child_tab)\n",
    "    sleep(3)\n",
    "    download_url = driver.current_url\n",
    "    driver.close()\n",
    "    sleep(3)\n",
    "    \n",
    "    # Return to orignal page\n",
    "    driver.switch_to.window(home_tab)\n",
    "    driver.back()\n",
    "    sleep(30)\n",
    "\n",
    "    print(download_url)\n",
    "    \n",
    "sleep(60)"
   ]
  },
  {
   "cell_type": "code",
   "execution_count": null,
   "id": "5585c40d",
   "metadata": {},
   "outputs": [],
   "source": [
    "url = \"https://www.nfl.com/scores/2022/REG11\"\n",
    "driver.get(url)\n",
    "WebDriverWait(driver, timeout = 5)\n",
    "\n",
    "sleep(10)\n",
    "### CLose Cookies Ask\n",
    "try :\n",
    "    _path = '/html/body/div[7]/div[2]/div/div[1]/div/div[2]/div/button[2]'\n",
    "    cookies_button = driver.find_element(By.XPATH, _path)\n",
    "    cookies_button.click()\n",
    "except:\n",
    "    pass\n",
    "\n",
    "sleep(10)\n",
    "buttons, size = get_buttons(driver)\n",
    "for i in range(size):\n",
    "    ### Initial Tab for return\n",
    "    home_tab = driver.current_window_handle\n",
    "    child_tab = driver.current_window_handle\n",
    "    sleep(30)\n",
    "    # To Next Detail Page\n",
    "    button = get_button_by_index(driver, i)\n",
    "    button.click()\n",
    "    sleep(30)\n",
    "    \n",
    "    # Go to Pdf page \n",
    "    buttons = driver.find_elements(By.XPATH, \"//div[@data-testid='gamecenter-cta-btns-container']\")\n",
    "    download_button = buttons[0].find_element(By.XPATH, \"div/div/div/div/button/div[1]/div\")\n",
    "    download_button.click()\n",
    "    sleep(30)\n",
    "\n",
    "    # Return to orinal tab\n",
    "    all_windows = driver.window_handles\n",
    "    for w in all_windows:\n",
    "        if( w != home_tab):\n",
    "            child_tab = w\n",
    "            driver.switch_to.window(w)\n",
    "            break\n",
    "    driver.switch_to.window(child_tab)\n",
    "    sleep(3)\n",
    "    download_url = driver.current_url\n",
    "    driver.close()\n",
    "    sleep(3)\n",
    "    \n",
    "    # Return to orignal page\n",
    "    driver.switch_to.window(home_tab)\n",
    "    driver.back()\n",
    "    sleep(30)\n",
    "\n",
    "    print(download_url)\n",
    "    \n",
    "sleep(60)"
   ]
  },
  {
   "cell_type": "code",
   "execution_count": null,
   "id": "8e8c8147",
   "metadata": {},
   "outputs": [],
   "source": [
    "url = \"https://www.nfl.com/scores/2022/REG12\"\n",
    "driver.get(url)\n",
    "WebDriverWait(driver, timeout = 5)\n",
    "\n",
    "sleep(10)\n",
    "### CLose Cookies Ask\n",
    "try :\n",
    "    _path = '/html/body/div[7]/div[2]/div/div[1]/div/div[2]/div/button[2]'\n",
    "    cookies_button = driver.find_element(By.XPATH, _path)\n",
    "    cookies_button.click()\n",
    "except:\n",
    "    pass\n",
    "\n",
    "sleep(10)\n",
    "buttons, size = get_buttons(driver)\n",
    "for i in range(size):\n",
    "    ### Initial Tab for return\n",
    "    home_tab = driver.current_window_handle\n",
    "    child_tab = driver.current_window_handle\n",
    "    sleep(30)\n",
    "    # To Next Detail Page\n",
    "    button = get_button_by_index(driver, i)\n",
    "    button.click()\n",
    "    sleep(30)\n",
    "    \n",
    "    # Go to Pdf page \n",
    "    buttons = driver.find_elements(By.XPATH, \"//div[@data-testid='gamecenter-cta-btns-container']\")\n",
    "    download_button = buttons[0].find_element(By.XPATH, \"div/div/div/div/button/div[1]/div\")\n",
    "    download_button.click()\n",
    "    sleep(30)\n",
    "\n",
    "    # Return to orinal tab\n",
    "    all_windows = driver.window_handles\n",
    "    for w in all_windows:\n",
    "        if( w != home_tab):\n",
    "            child_tab = w\n",
    "            driver.switch_to.window(w)\n",
    "            break\n",
    "    driver.switch_to.window(child_tab)\n",
    "    sleep(3)\n",
    "    download_url = driver.current_url\n",
    "    driver.close()\n",
    "    sleep(3)\n",
    "    \n",
    "    # Return to orignal page\n",
    "    driver.switch_to.window(home_tab)\n",
    "    driver.back()\n",
    "    sleep(30)\n",
    "\n",
    "    print(download_url)\n",
    "    \n",
    "sleep(60)"
   ]
  },
  {
   "cell_type": "code",
   "execution_count": null,
   "id": "3965cf39",
   "metadata": {},
   "outputs": [],
   "source": [
    "url = \"https://www.nfl.com/scores/2022/REG13\"\n",
    "driver.get(url)\n",
    "WebDriverWait(driver, timeout = 5)\n",
    "\n",
    "sleep(10)\n",
    "### CLose Cookies Ask\n",
    "try :\n",
    "    _path = '/html/body/div[7]/div[2]/div/div[1]/div/div[2]/div/button[2]'\n",
    "    cookies_button = driver.find_element(By.XPATH, _path)\n",
    "    cookies_button.click()\n",
    "except:\n",
    "    pass\n",
    "\n",
    "sleep(10)\n",
    "buttons, size = get_buttons(driver)\n",
    "for i in range(size):\n",
    "    ### Initial Tab for return\n",
    "    home_tab = driver.current_window_handle\n",
    "    child_tab = driver.current_window_handle\n",
    "    sleep(30)\n",
    "    # To Next Detail Page\n",
    "    button = get_button_by_index(driver, i)\n",
    "    button.click()\n",
    "    sleep(30)\n",
    "    \n",
    "    # Go to Pdf page \n",
    "    buttons = driver.find_elements(By.XPATH, \"//div[@data-testid='gamecenter-cta-btns-container']\")\n",
    "    download_button = buttons[0].find_element(By.XPATH, \"div/div/div/div/button/div[1]/div\")\n",
    "    download_button.click()\n",
    "    sleep(30)\n",
    "\n",
    "    # Return to orinal tab\n",
    "    all_windows = driver.window_handles\n",
    "    for w in all_windows:\n",
    "        if( w != home_tab):\n",
    "            child_tab = w\n",
    "            driver.switch_to.window(w)\n",
    "            break\n",
    "    driver.switch_to.window(child_tab)\n",
    "    sleep(3)\n",
    "    download_url = driver.current_url\n",
    "    driver.close()\n",
    "    sleep(3)\n",
    "    \n",
    "    # Return to orignal page\n",
    "    driver.switch_to.window(home_tab)\n",
    "    driver.back()\n",
    "    sleep(30)\n",
    "\n",
    "    print(download_url)\n",
    "    \n",
    "sleep(60)"
   ]
  },
  {
   "cell_type": "code",
   "execution_count": null,
   "id": "b36de1c5",
   "metadata": {},
   "outputs": [],
   "source": [
    "url = \"https://www.nfl.com/scores/2022/REG14\"\n",
    "driver.get(url)\n",
    "WebDriverWait(driver, timeout = 5)\n",
    "\n",
    "sleep(10)\n",
    "### CLose Cookies Ask\n",
    "try :\n",
    "    _path = '/html/body/div[7]/div[2]/div/div[1]/div/div[2]/div/button[2]'\n",
    "    cookies_button = driver.find_element(By.XPATH, _path)\n",
    "    cookies_button.click()\n",
    "except:\n",
    "    pass\n",
    "\n",
    "sleep(10)\n",
    "buttons, size = get_buttons(driver)\n",
    "for i in range(size):\n",
    "    ### Initial Tab for return\n",
    "    home_tab = driver.current_window_handle\n",
    "    child_tab = driver.current_window_handle\n",
    "    sleep(30)\n",
    "    # To Next Detail Page\n",
    "    button = get_button_by_index(driver, i)\n",
    "    button.click()\n",
    "    sleep(30)\n",
    "    \n",
    "    # Go to Pdf page \n",
    "    buttons = driver.find_elements(By.XPATH, \"//div[@data-testid='gamecenter-cta-btns-container']\")\n",
    "    download_button = buttons[0].find_element(By.XPATH, \"div/div/div/div/button/div[1]/div\")\n",
    "    download_button.click()\n",
    "    sleep(30)\n",
    "\n",
    "    # Return to orinal tab\n",
    "    all_windows = driver.window_handles\n",
    "    for w in all_windows:\n",
    "        if( w != home_tab):\n",
    "            child_tab = w\n",
    "            driver.switch_to.window(w)\n",
    "            break\n",
    "    driver.switch_to.window(child_tab)\n",
    "    sleep(3)\n",
    "    download_url = driver.current_url\n",
    "    driver.close()\n",
    "    sleep(3)\n",
    "    \n",
    "    # Return to orignal page\n",
    "    driver.switch_to.window(home_tab)\n",
    "    driver.back()\n",
    "    sleep(30)\n",
    "\n",
    "    print(download_url)\n",
    "    \n",
    "sleep(60)"
   ]
  },
  {
   "cell_type": "code",
   "execution_count": null,
   "id": "6e8256a0",
   "metadata": {},
   "outputs": [],
   "source": [
    "url = \"https://www.nfl.com/scores/2022/REG15\"\n",
    "driver.get(url)\n",
    "WebDriverWait(driver, timeout = 5)\n",
    "\n",
    "sleep(10)\n",
    "### CLose Cookies Ask\n",
    "try :\n",
    "    _path = '/html/body/div[7]/div[2]/div/div[1]/div/div[2]/div/button[2]'\n",
    "    cookies_button = driver.find_element(By.XPATH, _path)\n",
    "    cookies_button.click()\n",
    "except:\n",
    "    pass\n",
    "\n",
    "sleep(10)\n",
    "buttons, size = get_buttons(driver)\n",
    "for i in range(size):\n",
    "    ### Initial Tab for return\n",
    "    home_tab = driver.current_window_handle\n",
    "    child_tab = driver.current_window_handle\n",
    "    sleep(30)\n",
    "    # To Next Detail Page\n",
    "    button = get_button_by_index(driver, i)\n",
    "    button.click()\n",
    "    sleep(30)\n",
    "    \n",
    "    # Go to Pdf page \n",
    "    buttons = driver.find_elements(By.XPATH, \"//div[@data-testid='gamecenter-cta-btns-container']\")\n",
    "    download_button = buttons[0].find_element(By.XPATH, \"div/div/div/div/button/div[1]/div\")\n",
    "    download_button.click()\n",
    "    sleep(30)\n",
    "\n",
    "    # Return to orinal tab\n",
    "    all_windows = driver.window_handles\n",
    "    for w in all_windows:\n",
    "        if( w != home_tab):\n",
    "            child_tab = w\n",
    "            driver.switch_to.window(w)\n",
    "            break\n",
    "    driver.switch_to.window(child_tab)\n",
    "    sleep(3)\n",
    "    download_url = driver.current_url\n",
    "    driver.close()\n",
    "    sleep(3)\n",
    "    \n",
    "    # Return to orignal page\n",
    "    driver.switch_to.window(home_tab)\n",
    "    driver.back()\n",
    "    sleep(30)\n",
    "\n",
    "    print(download_url)\n",
    "    \n",
    "sleep(60)"
   ]
  },
  {
   "cell_type": "code",
   "execution_count": null,
   "id": "b972d0ce",
   "metadata": {},
   "outputs": [],
   "source": [
    "url = \"https://www.nfl.com/scores/2022/REG16\"\n",
    "driver.get(url)\n",
    "WebDriverWait(driver, timeout = 5)\n",
    "\n",
    "sleep(10)\n",
    "### CLose Cookies Ask\n",
    "try :\n",
    "    _path = '/html/body/div[7]/div[2]/div/div[1]/div/div[2]/div/button[2]'\n",
    "    cookies_button = driver.find_element(By.XPATH, _path)\n",
    "    cookies_button.click()\n",
    "except:\n",
    "    pass\n",
    "\n",
    "sleep(10)\n",
    "buttons, size = get_buttons(driver)\n",
    "for i in range(size):\n",
    "    ### Initial Tab for return\n",
    "    home_tab = driver.current_window_handle\n",
    "    child_tab = driver.current_window_handle\n",
    "    sleep(30)\n",
    "    # To Next Detail Page\n",
    "    button = get_button_by_index(driver, i)\n",
    "    button.click()\n",
    "    sleep(30)\n",
    "    \n",
    "    # Go to Pdf page \n",
    "    buttons = driver.find_elements(By.XPATH, \"//div[@data-testid='gamecenter-cta-btns-container']\")\n",
    "    download_button = buttons[0].find_element(By.XPATH, \"div/div/div/div/button/div[1]/div\")\n",
    "    download_button.click()\n",
    "    sleep(30)\n",
    "\n",
    "    # Return to orinal tab\n",
    "    all_windows = driver.window_handles\n",
    "    for w in all_windows:\n",
    "        if( w != home_tab):\n",
    "            child_tab = w\n",
    "            driver.switch_to.window(w)\n",
    "            break\n",
    "    driver.switch_to.window(child_tab)\n",
    "    sleep(3)\n",
    "    download_url = driver.current_url\n",
    "    driver.close()\n",
    "    sleep(3)\n",
    "    \n",
    "    # Return to orignal page\n",
    "    driver.switch_to.window(home_tab)\n",
    "    driver.back()\n",
    "    sleep(30)\n",
    "\n",
    "    print(download_url)\n",
    "    \n",
    "sleep(60)"
   ]
  },
  {
   "cell_type": "code",
   "execution_count": null,
   "id": "ad9617e8",
   "metadata": {},
   "outputs": [],
   "source": [
    "url = \"https://www.nfl.com/scores/2022/REG17\"\n",
    "driver.get(url)\n",
    "WebDriverWait(driver, timeout = 5)\n",
    "\n",
    "sleep(10)\n",
    "### CLose Cookies Ask\n",
    "try :\n",
    "    _path = '/html/body/div[7]/div[2]/div/div[1]/div/div[2]/div/button[2]'\n",
    "    cookies_button = driver.find_element(By.XPATH, _path)\n",
    "    cookies_button.click()\n",
    "except:\n",
    "    pass\n",
    "\n",
    "sleep(10)\n",
    "buttons, size = get_buttons(driver)\n",
    "for i in range(size):\n",
    "    ### Initial Tab for return\n",
    "    home_tab = driver.current_window_handle\n",
    "    child_tab = driver.current_window_handle\n",
    "    sleep(30)\n",
    "    # To Next Detail Page\n",
    "    button = get_button_by_index(driver, i)\n",
    "    button.click()\n",
    "    sleep(30)\n",
    "    \n",
    "    # Go to Pdf page \n",
    "    buttons = driver.find_elements(By.XPATH, \"//div[@data-testid='gamecenter-cta-btns-container']\")\n",
    "    download_button = buttons[0].find_element(By.XPATH, \"div/div/div/div/button/div[1]/div\")\n",
    "    download_button.click()\n",
    "    sleep(30)\n",
    "\n",
    "    # Return to orinal tab\n",
    "    all_windows = driver.window_handles\n",
    "    for w in all_windows:\n",
    "        if( w != home_tab):\n",
    "            child_tab = w\n",
    "            driver.switch_to.window(w)\n",
    "            break\n",
    "    driver.switch_to.window(child_tab)\n",
    "    sleep(3)\n",
    "    download_url = driver.current_url\n",
    "    driver.close()\n",
    "    sleep(3)\n",
    "    \n",
    "    # Return to orignal page\n",
    "    driver.switch_to.window(home_tab)\n",
    "    driver.back()\n",
    "    sleep(30)\n",
    "\n",
    "    print(download_url)\n",
    "    \n",
    "sleep(60)"
   ]
  },
  {
   "cell_type": "code",
   "execution_count": null,
   "id": "1d568c76",
   "metadata": {},
   "outputs": [],
   "source": [
    "url = \"https://www.nfl.com/scores/2022/REG18\"\n",
    "driver.get(url)\n",
    "WebDriverWait(driver, timeout = 5)\n",
    "\n",
    "sleep(10)\n",
    "### CLose Cookies Ask\n",
    "try :\n",
    "    _path = '/html/body/div[7]/div[2]/div/div[1]/div/div[2]/div/button[2]'\n",
    "    cookies_button = driver.find_element(By.XPATH, _path)\n",
    "    cookies_button.click()\n",
    "except:\n",
    "    pass\n",
    "\n",
    "sleep(10)\n",
    "buttons, size = get_buttons(driver)\n",
    "for i in range(size):\n",
    "    ### Initial Tab for return\n",
    "    home_tab = driver.current_window_handle\n",
    "    child_tab = driver.current_window_handle\n",
    "    sleep(30)\n",
    "    # To Next Detail Page\n",
    "    button = get_button_by_index(driver, i)\n",
    "    button.click()\n",
    "    sleep(30)\n",
    "    \n",
    "    # Go to Pdf page \n",
    "    buttons = driver.find_elements(By.XPATH, \"//div[@data-testid='gamecenter-cta-btns-container']\")\n",
    "    download_button = buttons[0].find_element(By.XPATH, \"div/div/div/div/button/div[1]/div\")\n",
    "    download_button.click()\n",
    "    sleep(30)\n",
    "\n",
    "    # Return to orinal tab\n",
    "    all_windows = driver.window_handles\n",
    "    for w in all_windows:\n",
    "        if( w != home_tab):\n",
    "            child_tab = w\n",
    "            driver.switch_to.window(w)\n",
    "            break\n",
    "    driver.switch_to.window(child_tab)\n",
    "    sleep(3)\n",
    "    download_url = driver.current_url\n",
    "    driver.close()\n",
    "    sleep(3)\n",
    "    \n",
    "    # Return to orignal page\n",
    "    driver.switch_to.window(home_tab)\n",
    "    driver.back()\n",
    "    sleep(30)\n",
    "\n",
    "    print(download_url)\n",
    "    \n",
    "sleep(60)"
   ]
  },
  {
   "cell_type": "code",
   "execution_count": null,
   "id": "9279755c",
   "metadata": {},
   "outputs": [],
   "source": []
  },
  {
   "cell_type": "code",
   "execution_count": null,
   "id": "2cb915ff",
   "metadata": {},
   "outputs": [],
   "source": []
  },
  {
   "cell_type": "code",
   "execution_count": 370,
   "id": "5ed7f8ec",
   "metadata": {},
   "outputs": [],
   "source": [
    "### CLose Cookies Ask\n",
    "try :\n",
    "    _path = '/html/body/div[7]/div[2]/div/div[1]/div/div[2]/div/button[2]'\n",
    "    cookies_button = driver.find_element(By.XPATH, _path)\n",
    "    cookies_button.click()\n",
    "except:\n",
    "    pass"
   ]
  },
  {
   "cell_type": "code",
   "execution_count": 372,
   "id": "368e502b",
   "metadata": {},
   "outputs": [
    {
     "name": "stdout",
     "output_type": "stream",
     "text": [
      "https://static.www.nfl.com/gamecenter/7ae7944e-d24c-11ec-b23d-d15a91047884.pdf\n",
      "https://static.www.nfl.com/gamecenter/7ae7a948-d24c-11ec-b23d-d15a91047884.pdf\n",
      "https://static.www.nfl.com/gamecenter/7ae7b07d-d24c-11ec-b23d-d15a91047884.pdf\n"
     ]
    },
    {
     "ename": "KeyboardInterrupt",
     "evalue": "",
     "output_type": "error",
     "traceback": [
      "\u001b[0;31m---------------------------------------------------------------------------\u001b[0m",
      "\u001b[0;31mKeyboardInterrupt\u001b[0m                         Traceback (most recent call last)",
      "Cell \u001b[0;32mIn[372], line 10\u001b[0m\n\u001b[1;32m      8\u001b[0m button \u001b[38;5;241m=\u001b[39m get_button_by_index(driver, i)\n\u001b[1;32m      9\u001b[0m button\u001b[38;5;241m.\u001b[39mclick()\n\u001b[0;32m---> 10\u001b[0m \u001b[43msleep\u001b[49m\u001b[43m(\u001b[49m\u001b[38;5;241;43m30\u001b[39;49m\u001b[43m)\u001b[49m\n\u001b[1;32m     12\u001b[0m \u001b[38;5;66;03m# Go to Pdf page \u001b[39;00m\n\u001b[1;32m     13\u001b[0m buttons \u001b[38;5;241m=\u001b[39m driver\u001b[38;5;241m.\u001b[39mfind_elements(By\u001b[38;5;241m.\u001b[39mXPATH, \u001b[38;5;124m\"\u001b[39m\u001b[38;5;124m//div[@data-testid=\u001b[39m\u001b[38;5;124m'\u001b[39m\u001b[38;5;124mgamecenter-cta-btns-container\u001b[39m\u001b[38;5;124m'\u001b[39m\u001b[38;5;124m]\u001b[39m\u001b[38;5;124m\"\u001b[39m)\n",
      "\u001b[0;31mKeyboardInterrupt\u001b[0m: "
     ]
    }
   ],
   "source": [
    "buttons, size = get_buttons(driver)\n",
    "for i in range(size):\n",
    "    ### Initial Tab for return\n",
    "    home_tab = driver.current_window_handle\n",
    "    child_tab = driver.current_window_handle\n",
    "    sleep(30)\n",
    "    # To Next Detail Page\n",
    "    button = get_button_by_index(driver, i)\n",
    "    button.click()\n",
    "    sleep(30)\n",
    "    \n",
    "    # Go to Pdf page \n",
    "    buttons = driver.find_elements(By.XPATH, \"//div[@data-testid='gamecenter-cta-btns-container']\")\n",
    "    download_button = buttons[0].find_element(By.XPATH, \"div/div/div/div/button/div[1]/div\")\n",
    "    download_button.click()\n",
    "    sleep(30)\n",
    "\n",
    "    # Return to orinal tab\n",
    "    all_windows = driver.window_handles\n",
    "    for w in all_windows:\n",
    "        if( w != home_tab):\n",
    "            child_tab = w\n",
    "            driver.switch_to.window(w)\n",
    "            break\n",
    "    driver.switch_to.window(child_tab)\n",
    "    sleep(3)\n",
    "    download_url = driver.current_url\n",
    "    driver.close()\n",
    "    sleep(3)\n",
    "    \n",
    "    # Return to orignal page\n",
    "    driver.switch_to.window(home_tab)\n",
    "    driver.back()\n",
    "    sleep(30)\n",
    "\n",
    "    print(download_url)\n",
    "    "
   ]
  },
  {
   "cell_type": "code",
   "execution_count": 324,
   "id": "06bd04d0",
   "metadata": {},
   "outputs": [],
   "source": [
    "home_tab = driver.current_window_handle\n",
    "child_tab = driver.current_window_handle\n",
    "button = get_button_by_index(driver, 6)\n",
    "button.click()\n",
    "sleep(15)\n",
    "buttons = driver.find_elements(By.XPATH, \"//div[@data-testid='gamecenter-cta-btns-container']\")\n",
    "download_button = buttons[0].find_element(By.XPATH, \"div/div/div/div/button/div[1]/div\")\n",
    "download_button.click()\n",
    "sleep(5)\n",
    "\n",
    "all_windows = driver.window_handles\n",
    "for w in all_windows:\n",
    "    if( w != home_tab):\n",
    "        child_tab = w\n",
    "        driver.switch_to.window(w)\n",
    "        break\n",
    "driver.switch_to.window(child_tab)\n",
    "sleep(3)\n",
    "download_url = driver.current_url\n",
    "driver.close()\n",
    "sleep(3)\n",
    "driver.switch_to.window(home_tab)\n",
    "driver.back()\n",
    "sleep(10)"
   ]
  },
  {
   "cell_type": "code",
   "execution_count": 328,
   "id": "31e2dc08",
   "metadata": {},
   "outputs": [],
   "source": [
    "buttons, size = get_buttons(driver)"
   ]
  },
  {
   "cell_type": "code",
   "execution_count": 329,
   "id": "15871aa2",
   "metadata": {},
   "outputs": [
    {
     "data": {
      "text/plain": [
       "16"
      ]
     },
     "execution_count": 329,
     "metadata": {},
     "output_type": "execute_result"
    }
   ],
   "source": [
    "size"
   ]
  },
  {
   "cell_type": "code",
   "execution_count": null,
   "id": "28e28de2",
   "metadata": {},
   "outputs": [],
   "source": []
  },
  {
   "cell_type": "code",
   "execution_count": null,
   "id": "0fd353c7",
   "metadata": {},
   "outputs": [],
   "source": []
  },
  {
   "cell_type": "code",
   "execution_count": null,
   "id": "7728f19b",
   "metadata": {},
   "outputs": [],
   "source": []
  },
  {
   "cell_type": "code",
   "execution_count": null,
   "id": "4bc6d99a",
   "metadata": {},
   "outputs": [],
   "source": []
  },
  {
   "cell_type": "code",
   "execution_count": 286,
   "id": "92e7cf9b",
   "metadata": {},
   "outputs": [],
   "source": [
    "x = buttons[5].find_element(By.XPATH, \"div[1]/div[3]/div[2]/div[1]\")"
   ]
  },
  {
   "cell_type": "code",
   "execution_count": 287,
   "id": "259189f5",
   "metadata": {},
   "outputs": [],
   "source": [
    "x.click()"
   ]
  },
  {
   "cell_type": "code",
   "execution_count": 288,
   "id": "f3a92ca3",
   "metadata": {},
   "outputs": [],
   "source": [
    "driver.back()"
   ]
  },
  {
   "cell_type": "code",
   "execution_count": 289,
   "id": "951111a7",
   "metadata": {},
   "outputs": [
    {
     "ename": "StaleElementReferenceException",
     "evalue": "Message: stale element reference: stale element not found\n  (Session info: chrome=115.0.5790.170); For documentation on this error, please visit: https://www.selenium.dev/documentation/webdriver/troubleshooting/errors#stale-element-reference-exception\nStacktrace:\n0   chromedriver                        0x0000000102c47dd0 chromedriver + 4226512\n1   chromedriver                        0x0000000102c4037c chromedriver + 4195196\n2   chromedriver                        0x0000000102884d68 chromedriver + 281960\n3   chromedriver                        0x000000010289236c chromedriver + 336748\n4   chromedriver                        0x0000000102889a78 chromedriver + 301688\n5   chromedriver                        0x000000010288862c chromedriver + 296492\n6   chromedriver                        0x000000010288afe4 chromedriver + 307172\n7   chromedriver                        0x000000010288b0d4 chromedriver + 307412\n8   chromedriver                        0x00000001028bfcac chromedriver + 523436\n9   chromedriver                        0x00000001028b5734 chromedriver + 481076\n10  chromedriver                        0x00000001028f6c58 chromedriver + 748632\n11  chromedriver                        0x00000001028b3f1c chromedriver + 474908\n12  chromedriver                        0x00000001028b4ef4 chromedriver + 478964\n13  chromedriver                        0x0000000102c09424 chromedriver + 3970084\n14  chromedriver                        0x0000000102c0d578 chromedriver + 3986808\n15  chromedriver                        0x0000000102c1343c chromedriver + 4011068\n16  chromedriver                        0x0000000102c0e184 chromedriver + 3989892\n17  chromedriver                        0x0000000102be6048 chromedriver + 3825736\n18  chromedriver                        0x0000000102c29f10 chromedriver + 4103952\n19  chromedriver                        0x0000000102c2a068 chromedriver + 4104296\n20  chromedriver                        0x0000000102c39db0 chromedriver + 4169136\n21  libsystem_pthread.dylib             0x000000019129e06c _pthread_start + 148\n22  libsystem_pthread.dylib             0x0000000191298e2c thread_start + 8\n",
     "output_type": "error",
     "traceback": [
      "\u001b[0;31m---------------------------------------------------------------------------\u001b[0m",
      "\u001b[0;31mStaleElementReferenceException\u001b[0m            Traceback (most recent call last)",
      "Cell \u001b[0;32mIn[289], line 1\u001b[0m\n\u001b[0;32m----> 1\u001b[0m x \u001b[38;5;241m=\u001b[39m \u001b[43mbuttons\u001b[49m\u001b[43m[\u001b[49m\u001b[38;5;241;43m6\u001b[39;49m\u001b[43m]\u001b[49m\u001b[38;5;241;43m.\u001b[39;49m\u001b[43mfind_element\u001b[49m\u001b[43m(\u001b[49m\u001b[43mBy\u001b[49m\u001b[38;5;241;43m.\u001b[39;49m\u001b[43mXPATH\u001b[49m\u001b[43m,\u001b[49m\u001b[43m \u001b[49m\u001b[38;5;124;43m\"\u001b[39;49m\u001b[38;5;124;43mdiv[1]/div[3]/div[2]/div[1]\u001b[39;49m\u001b[38;5;124;43m\"\u001b[39;49m\u001b[43m)\u001b[49m\n",
      "File \u001b[0;32m~/.pyenv/versions/3.8.16/envs/crawler/lib/python3.8/site-packages/selenium/webdriver/remote/webelement.py:417\u001b[0m, in \u001b[0;36mWebElement.find_element\u001b[0;34m(self, by, value)\u001b[0m\n\u001b[1;32m    414\u001b[0m     by \u001b[38;5;241m=\u001b[39m By\u001b[38;5;241m.\u001b[39mCSS_SELECTOR\n\u001b[1;32m    415\u001b[0m     value \u001b[38;5;241m=\u001b[39m \u001b[38;5;124mf\u001b[39m\u001b[38;5;124m'\u001b[39m\u001b[38;5;124m[name=\u001b[39m\u001b[38;5;124m\"\u001b[39m\u001b[38;5;132;01m{\u001b[39;00mvalue\u001b[38;5;132;01m}\u001b[39;00m\u001b[38;5;124m\"\u001b[39m\u001b[38;5;124m]\u001b[39m\u001b[38;5;124m'\u001b[39m\n\u001b[0;32m--> 417\u001b[0m \u001b[38;5;28;01mreturn\u001b[39;00m \u001b[38;5;28;43mself\u001b[39;49m\u001b[38;5;241;43m.\u001b[39;49m\u001b[43m_execute\u001b[49m\u001b[43m(\u001b[49m\u001b[43mCommand\u001b[49m\u001b[38;5;241;43m.\u001b[39;49m\u001b[43mFIND_CHILD_ELEMENT\u001b[49m\u001b[43m,\u001b[49m\u001b[43m \u001b[49m\u001b[43m{\u001b[49m\u001b[38;5;124;43m\"\u001b[39;49m\u001b[38;5;124;43musing\u001b[39;49m\u001b[38;5;124;43m\"\u001b[39;49m\u001b[43m:\u001b[49m\u001b[43m \u001b[49m\u001b[43mby\u001b[49m\u001b[43m,\u001b[49m\u001b[43m \u001b[49m\u001b[38;5;124;43m\"\u001b[39;49m\u001b[38;5;124;43mvalue\u001b[39;49m\u001b[38;5;124;43m\"\u001b[39;49m\u001b[43m:\u001b[49m\u001b[43m \u001b[49m\u001b[43mvalue\u001b[49m\u001b[43m}\u001b[49m\u001b[43m)\u001b[49m[\u001b[38;5;124m\"\u001b[39m\u001b[38;5;124mvalue\u001b[39m\u001b[38;5;124m\"\u001b[39m]\n",
      "File \u001b[0;32m~/.pyenv/versions/3.8.16/envs/crawler/lib/python3.8/site-packages/selenium/webdriver/remote/webelement.py:395\u001b[0m, in \u001b[0;36mWebElement._execute\u001b[0;34m(self, command, params)\u001b[0m\n\u001b[1;32m    393\u001b[0m     params \u001b[38;5;241m=\u001b[39m {}\n\u001b[1;32m    394\u001b[0m params[\u001b[38;5;124m\"\u001b[39m\u001b[38;5;124mid\u001b[39m\u001b[38;5;124m\"\u001b[39m] \u001b[38;5;241m=\u001b[39m \u001b[38;5;28mself\u001b[39m\u001b[38;5;241m.\u001b[39m_id\n\u001b[0;32m--> 395\u001b[0m \u001b[38;5;28;01mreturn\u001b[39;00m \u001b[38;5;28;43mself\u001b[39;49m\u001b[38;5;241;43m.\u001b[39;49m\u001b[43m_parent\u001b[49m\u001b[38;5;241;43m.\u001b[39;49m\u001b[43mexecute\u001b[49m\u001b[43m(\u001b[49m\u001b[43mcommand\u001b[49m\u001b[43m,\u001b[49m\u001b[43m \u001b[49m\u001b[43mparams\u001b[49m\u001b[43m)\u001b[49m\n",
      "File \u001b[0;32m~/.pyenv/versions/3.8.16/envs/crawler/lib/python3.8/site-packages/selenium/webdriver/remote/webdriver.py:346\u001b[0m, in \u001b[0;36mWebDriver.execute\u001b[0;34m(self, driver_command, params)\u001b[0m\n\u001b[1;32m    344\u001b[0m response \u001b[38;5;241m=\u001b[39m \u001b[38;5;28mself\u001b[39m\u001b[38;5;241m.\u001b[39mcommand_executor\u001b[38;5;241m.\u001b[39mexecute(driver_command, params)\n\u001b[1;32m    345\u001b[0m \u001b[38;5;28;01mif\u001b[39;00m response:\n\u001b[0;32m--> 346\u001b[0m     \u001b[38;5;28;43mself\u001b[39;49m\u001b[38;5;241;43m.\u001b[39;49m\u001b[43merror_handler\u001b[49m\u001b[38;5;241;43m.\u001b[39;49m\u001b[43mcheck_response\u001b[49m\u001b[43m(\u001b[49m\u001b[43mresponse\u001b[49m\u001b[43m)\u001b[49m\n\u001b[1;32m    347\u001b[0m     response[\u001b[38;5;124m\"\u001b[39m\u001b[38;5;124mvalue\u001b[39m\u001b[38;5;124m\"\u001b[39m] \u001b[38;5;241m=\u001b[39m \u001b[38;5;28mself\u001b[39m\u001b[38;5;241m.\u001b[39m_unwrap_value(response\u001b[38;5;241m.\u001b[39mget(\u001b[38;5;124m\"\u001b[39m\u001b[38;5;124mvalue\u001b[39m\u001b[38;5;124m\"\u001b[39m, \u001b[38;5;28;01mNone\u001b[39;00m))\n\u001b[1;32m    348\u001b[0m     \u001b[38;5;28;01mreturn\u001b[39;00m response\n",
      "File \u001b[0;32m~/.pyenv/versions/3.8.16/envs/crawler/lib/python3.8/site-packages/selenium/webdriver/remote/errorhandler.py:245\u001b[0m, in \u001b[0;36mErrorHandler.check_response\u001b[0;34m(self, response)\u001b[0m\n\u001b[1;32m    243\u001b[0m         alert_text \u001b[38;5;241m=\u001b[39m value[\u001b[38;5;124m\"\u001b[39m\u001b[38;5;124malert\u001b[39m\u001b[38;5;124m\"\u001b[39m]\u001b[38;5;241m.\u001b[39mget(\u001b[38;5;124m\"\u001b[39m\u001b[38;5;124mtext\u001b[39m\u001b[38;5;124m\"\u001b[39m)\n\u001b[1;32m    244\u001b[0m     \u001b[38;5;28;01mraise\u001b[39;00m exception_class(message, screen, stacktrace, alert_text)  \u001b[38;5;66;03m# type: ignore[call-arg]  # mypy is not smart enough here\u001b[39;00m\n\u001b[0;32m--> 245\u001b[0m \u001b[38;5;28;01mraise\u001b[39;00m exception_class(message, screen, stacktrace)\n",
      "\u001b[0;31mStaleElementReferenceException\u001b[0m: Message: stale element reference: stale element not found\n  (Session info: chrome=115.0.5790.170); For documentation on this error, please visit: https://www.selenium.dev/documentation/webdriver/troubleshooting/errors#stale-element-reference-exception\nStacktrace:\n0   chromedriver                        0x0000000102c47dd0 chromedriver + 4226512\n1   chromedriver                        0x0000000102c4037c chromedriver + 4195196\n2   chromedriver                        0x0000000102884d68 chromedriver + 281960\n3   chromedriver                        0x000000010289236c chromedriver + 336748\n4   chromedriver                        0x0000000102889a78 chromedriver + 301688\n5   chromedriver                        0x000000010288862c chromedriver + 296492\n6   chromedriver                        0x000000010288afe4 chromedriver + 307172\n7   chromedriver                        0x000000010288b0d4 chromedriver + 307412\n8   chromedriver                        0x00000001028bfcac chromedriver + 523436\n9   chromedriver                        0x00000001028b5734 chromedriver + 481076\n10  chromedriver                        0x00000001028f6c58 chromedriver + 748632\n11  chromedriver                        0x00000001028b3f1c chromedriver + 474908\n12  chromedriver                        0x00000001028b4ef4 chromedriver + 478964\n13  chromedriver                        0x0000000102c09424 chromedriver + 3970084\n14  chromedriver                        0x0000000102c0d578 chromedriver + 3986808\n15  chromedriver                        0x0000000102c1343c chromedriver + 4011068\n16  chromedriver                        0x0000000102c0e184 chromedriver + 3989892\n17  chromedriver                        0x0000000102be6048 chromedriver + 3825736\n18  chromedriver                        0x0000000102c29f10 chromedriver + 4103952\n19  chromedriver                        0x0000000102c2a068 chromedriver + 4104296\n20  chromedriver                        0x0000000102c39db0 chromedriver + 4169136\n21  libsystem_pthread.dylib             0x000000019129e06c _pthread_start + 148\n22  libsystem_pthread.dylib             0x0000000191298e2c thread_start + 8\n"
     ]
    }
   ],
   "source": [
    "x = buttons[6].find_element(By.XPATH, \"div[1]/div[3]/div[2]/div[1]\")"
   ]
  },
  {
   "cell_type": "code",
   "execution_count": null,
   "id": "3a8231de",
   "metadata": {},
   "outputs": [],
   "source": []
  },
  {
   "cell_type": "code",
   "execution_count": 284,
   "id": "d9cbbf7f",
   "metadata": {},
   "outputs": [
    {
     "name": "stdout",
     "output_type": "stream",
     "text": [
      "Game Details\n",
      "Game Details\n",
      "Game Details\n",
      "Game Details\n",
      "Game Details\n",
      "Game Details\n",
      "Game Details\n",
      "Game Details\n",
      "Game Details\n",
      "Game Details\n",
      "Game Details\n",
      "Game Details\n",
      "Game Details\n",
      "Game Details\n",
      "Game Details\n",
      "Game Details\n"
     ]
    }
   ],
   "source": [
    "for b in buttons:\n",
    "    x = b.find_elements(By.XPATH, \"div[1]/div[3]/div[2]/div[1]\")\n",
    "    print(x[0].text)"
   ]
  },
  {
   "cell_type": "code",
   "execution_count": 278,
   "id": "5626606a",
   "metadata": {},
   "outputs": [],
   "source": [
    "x[0].click()"
   ]
  },
  {
   "cell_type": "code",
   "execution_count": 218,
   "id": "79fa5121",
   "metadata": {},
   "outputs": [],
   "source": [
    "games_div = driver.find_elements(By.CSS_SELECTOR, 'div[data-row-type=\"centered\"]')"
   ]
  },
  {
   "cell_type": "code",
   "execution_count": 239,
   "id": "2c6f88d7",
   "metadata": {},
   "outputs": [
    {
     "ename": "StaleElementReferenceException",
     "evalue": "Message: stale element reference: stale element not found\n  (Session info: chrome=115.0.5790.170); For documentation on this error, please visit: https://www.selenium.dev/documentation/webdriver/troubleshooting/errors#stale-element-reference-exception\nStacktrace:\n0   chromedriver                        0x00000001030ffdd0 chromedriver + 4226512\n1   chromedriver                        0x00000001030f837c chromedriver + 4195196\n2   chromedriver                        0x0000000102d3cd68 chromedriver + 281960\n3   chromedriver                        0x0000000102d4a36c chromedriver + 336748\n4   chromedriver                        0x0000000102d41a78 chromedriver + 301688\n5   chromedriver                        0x0000000102d4062c chromedriver + 296492\n6   chromedriver                        0x0000000102d42fe4 chromedriver + 307172\n7   chromedriver                        0x0000000102d430d4 chromedriver + 307412\n8   chromedriver                        0x0000000102d7264c chromedriver + 501324\n9   chromedriver                        0x0000000102d6d734 chromedriver + 481076\n10  chromedriver                        0x0000000102daec58 chromedriver + 748632\n11  chromedriver                        0x0000000102d6bf1c chromedriver + 474908\n12  chromedriver                        0x0000000102d6cef4 chromedriver + 478964\n13  chromedriver                        0x00000001030c1424 chromedriver + 3970084\n14  chromedriver                        0x00000001030c5578 chromedriver + 3986808\n15  chromedriver                        0x00000001030cb43c chromedriver + 4011068\n16  chromedriver                        0x00000001030c6184 chromedriver + 3989892\n17  chromedriver                        0x000000010309e048 chromedriver + 3825736\n18  chromedriver                        0x00000001030e1f10 chromedriver + 4103952\n19  chromedriver                        0x00000001030e2068 chromedriver + 4104296\n20  chromedriver                        0x00000001030f1db0 chromedriver + 4169136\n21  libsystem_pthread.dylib             0x000000019129e06c _pthread_start + 148\n22  libsystem_pthread.dylib             0x0000000191298e2c thread_start + 8\n",
     "output_type": "error",
     "traceback": [
      "\u001b[0;31m---------------------------------------------------------------------------\u001b[0m",
      "\u001b[0;31mStaleElementReferenceException\u001b[0m            Traceback (most recent call last)",
      "Cell \u001b[0;32mIn[239], line 3\u001b[0m\n\u001b[1;32m      1\u001b[0m count \u001b[38;5;241m=\u001b[39m \u001b[38;5;241m0\u001b[39m\n\u001b[1;32m      2\u001b[0m \u001b[38;5;28;01mfor\u001b[39;00m g \u001b[38;5;129;01min\u001b[39;00m games_div:\n\u001b[0;32m----> 3\u001b[0m     \u001b[38;5;28;01mif\u001b[39;00m \u001b[38;5;28mlen\u001b[39m(\u001b[43mg\u001b[49m\u001b[38;5;241;43m.\u001b[39;49m\u001b[43mtext\u001b[49m) \u001b[38;5;241m>\u001b[39m \u001b[38;5;241m20\u001b[39m:\n\u001b[1;32m      4\u001b[0m         count \u001b[38;5;241m+\u001b[39m\u001b[38;5;241m=\u001b[39m \u001b[38;5;241m1\u001b[39m\n\u001b[1;32m      5\u001b[0m         x \u001b[38;5;241m=\u001b[39m g\u001b[38;5;241m.\u001b[39mfind_element(By\u001b[38;5;241m.\u001b[39mXPATH, \u001b[38;5;124m'\u001b[39m\u001b[38;5;124m//div/div/button/div[1]/div[3]/div[2]/div[1]\u001b[39m\u001b[38;5;124m'\u001b[39m)\n",
      "File \u001b[0;32m~/.pyenv/versions/3.8.16/envs/crawler/lib/python3.8/site-packages/selenium/webdriver/remote/webelement.py:90\u001b[0m, in \u001b[0;36mWebElement.text\u001b[0;34m(self)\u001b[0m\n\u001b[1;32m     87\u001b[0m \u001b[38;5;129m@property\u001b[39m\n\u001b[1;32m     88\u001b[0m \u001b[38;5;28;01mdef\u001b[39;00m \u001b[38;5;21mtext\u001b[39m(\u001b[38;5;28mself\u001b[39m) \u001b[38;5;241m-\u001b[39m\u001b[38;5;241m>\u001b[39m \u001b[38;5;28mstr\u001b[39m:\n\u001b[1;32m     89\u001b[0m \u001b[38;5;250m    \u001b[39m\u001b[38;5;124;03m\"\"\"The text of the element.\"\"\"\u001b[39;00m\n\u001b[0;32m---> 90\u001b[0m     \u001b[38;5;28;01mreturn\u001b[39;00m \u001b[38;5;28;43mself\u001b[39;49m\u001b[38;5;241;43m.\u001b[39;49m\u001b[43m_execute\u001b[49m\u001b[43m(\u001b[49m\u001b[43mCommand\u001b[49m\u001b[38;5;241;43m.\u001b[39;49m\u001b[43mGET_ELEMENT_TEXT\u001b[49m\u001b[43m)\u001b[49m[\u001b[38;5;124m\"\u001b[39m\u001b[38;5;124mvalue\u001b[39m\u001b[38;5;124m\"\u001b[39m]\n",
      "File \u001b[0;32m~/.pyenv/versions/3.8.16/envs/crawler/lib/python3.8/site-packages/selenium/webdriver/remote/webelement.py:395\u001b[0m, in \u001b[0;36mWebElement._execute\u001b[0;34m(self, command, params)\u001b[0m\n\u001b[1;32m    393\u001b[0m     params \u001b[38;5;241m=\u001b[39m {}\n\u001b[1;32m    394\u001b[0m params[\u001b[38;5;124m\"\u001b[39m\u001b[38;5;124mid\u001b[39m\u001b[38;5;124m\"\u001b[39m] \u001b[38;5;241m=\u001b[39m \u001b[38;5;28mself\u001b[39m\u001b[38;5;241m.\u001b[39m_id\n\u001b[0;32m--> 395\u001b[0m \u001b[38;5;28;01mreturn\u001b[39;00m \u001b[38;5;28;43mself\u001b[39;49m\u001b[38;5;241;43m.\u001b[39;49m\u001b[43m_parent\u001b[49m\u001b[38;5;241;43m.\u001b[39;49m\u001b[43mexecute\u001b[49m\u001b[43m(\u001b[49m\u001b[43mcommand\u001b[49m\u001b[43m,\u001b[49m\u001b[43m \u001b[49m\u001b[43mparams\u001b[49m\u001b[43m)\u001b[49m\n",
      "File \u001b[0;32m~/.pyenv/versions/3.8.16/envs/crawler/lib/python3.8/site-packages/selenium/webdriver/remote/webdriver.py:346\u001b[0m, in \u001b[0;36mWebDriver.execute\u001b[0;34m(self, driver_command, params)\u001b[0m\n\u001b[1;32m    344\u001b[0m response \u001b[38;5;241m=\u001b[39m \u001b[38;5;28mself\u001b[39m\u001b[38;5;241m.\u001b[39mcommand_executor\u001b[38;5;241m.\u001b[39mexecute(driver_command, params)\n\u001b[1;32m    345\u001b[0m \u001b[38;5;28;01mif\u001b[39;00m response:\n\u001b[0;32m--> 346\u001b[0m     \u001b[38;5;28;43mself\u001b[39;49m\u001b[38;5;241;43m.\u001b[39;49m\u001b[43merror_handler\u001b[49m\u001b[38;5;241;43m.\u001b[39;49m\u001b[43mcheck_response\u001b[49m\u001b[43m(\u001b[49m\u001b[43mresponse\u001b[49m\u001b[43m)\u001b[49m\n\u001b[1;32m    347\u001b[0m     response[\u001b[38;5;124m\"\u001b[39m\u001b[38;5;124mvalue\u001b[39m\u001b[38;5;124m\"\u001b[39m] \u001b[38;5;241m=\u001b[39m \u001b[38;5;28mself\u001b[39m\u001b[38;5;241m.\u001b[39m_unwrap_value(response\u001b[38;5;241m.\u001b[39mget(\u001b[38;5;124m\"\u001b[39m\u001b[38;5;124mvalue\u001b[39m\u001b[38;5;124m\"\u001b[39m, \u001b[38;5;28;01mNone\u001b[39;00m))\n\u001b[1;32m    348\u001b[0m     \u001b[38;5;28;01mreturn\u001b[39;00m response\n",
      "File \u001b[0;32m~/.pyenv/versions/3.8.16/envs/crawler/lib/python3.8/site-packages/selenium/webdriver/remote/errorhandler.py:245\u001b[0m, in \u001b[0;36mErrorHandler.check_response\u001b[0;34m(self, response)\u001b[0m\n\u001b[1;32m    243\u001b[0m         alert_text \u001b[38;5;241m=\u001b[39m value[\u001b[38;5;124m\"\u001b[39m\u001b[38;5;124malert\u001b[39m\u001b[38;5;124m\"\u001b[39m]\u001b[38;5;241m.\u001b[39mget(\u001b[38;5;124m\"\u001b[39m\u001b[38;5;124mtext\u001b[39m\u001b[38;5;124m\"\u001b[39m)\n\u001b[1;32m    244\u001b[0m     \u001b[38;5;28;01mraise\u001b[39;00m exception_class(message, screen, stacktrace, alert_text)  \u001b[38;5;66;03m# type: ignore[call-arg]  # mypy is not smart enough here\u001b[39;00m\n\u001b[0;32m--> 245\u001b[0m \u001b[38;5;28;01mraise\u001b[39;00m exception_class(message, screen, stacktrace)\n",
      "\u001b[0;31mStaleElementReferenceException\u001b[0m: Message: stale element reference: stale element not found\n  (Session info: chrome=115.0.5790.170); For documentation on this error, please visit: https://www.selenium.dev/documentation/webdriver/troubleshooting/errors#stale-element-reference-exception\nStacktrace:\n0   chromedriver                        0x00000001030ffdd0 chromedriver + 4226512\n1   chromedriver                        0x00000001030f837c chromedriver + 4195196\n2   chromedriver                        0x0000000102d3cd68 chromedriver + 281960\n3   chromedriver                        0x0000000102d4a36c chromedriver + 336748\n4   chromedriver                        0x0000000102d41a78 chromedriver + 301688\n5   chromedriver                        0x0000000102d4062c chromedriver + 296492\n6   chromedriver                        0x0000000102d42fe4 chromedriver + 307172\n7   chromedriver                        0x0000000102d430d4 chromedriver + 307412\n8   chromedriver                        0x0000000102d7264c chromedriver + 501324\n9   chromedriver                        0x0000000102d6d734 chromedriver + 481076\n10  chromedriver                        0x0000000102daec58 chromedriver + 748632\n11  chromedriver                        0x0000000102d6bf1c chromedriver + 474908\n12  chromedriver                        0x0000000102d6cef4 chromedriver + 478964\n13  chromedriver                        0x00000001030c1424 chromedriver + 3970084\n14  chromedriver                        0x00000001030c5578 chromedriver + 3986808\n15  chromedriver                        0x00000001030cb43c chromedriver + 4011068\n16  chromedriver                        0x00000001030c6184 chromedriver + 3989892\n17  chromedriver                        0x000000010309e048 chromedriver + 3825736\n18  chromedriver                        0x00000001030e1f10 chromedriver + 4103952\n19  chromedriver                        0x00000001030e2068 chromedriver + 4104296\n20  chromedriver                        0x00000001030f1db0 chromedriver + 4169136\n21  libsystem_pthread.dylib             0x000000019129e06c _pthread_start + 148\n22  libsystem_pthread.dylib             0x0000000191298e2c thread_start + 8\n"
     ]
    }
   ],
   "source": [
    "count = 0\n",
    "for g in games_div:\n",
    "    if len(g.text) > 20:\n",
    "        count += 1\n",
    "        x = g.find_element(By.XPATH, '//div/div/button/div[1]/div[3]/div[2]/div[1]')\n",
    "        if (count == 5):\n",
    "            print(x.text)\n",
    "            x.click()\n",
    "            break"
   ]
  },
  {
   "cell_type": "code",
   "execution_count": null,
   "id": "df3fcf28",
   "metadata": {},
   "outputs": [],
   "source": []
  },
  {
   "cell_type": "code",
   "execution_count": null,
   "id": "96c014bf",
   "metadata": {},
   "outputs": [],
   "source": []
  },
  {
   "cell_type": "code",
   "execution_count": null,
   "id": "ceb32ca6",
   "metadata": {},
   "outputs": [],
   "source": []
  },
  {
   "cell_type": "code",
   "execution_count": 212,
   "id": "83539ee7",
   "metadata": {},
   "outputs": [
    {
     "ename": "NoSuchElementException",
     "evalue": "Message: no such element: Unable to locate element: {\"method\":\"xpath\",\"selector\":\"/div/div/button/div[1]/div[3]/div[2]/div[1]\"}\n  (Session info: chrome=115.0.5790.170); For documentation on this error, please visit: https://www.selenium.dev/documentation/webdriver/troubleshooting/errors#no-such-element-exception\nStacktrace:\n0   chromedriver                        0x0000000100f4fdd0 chromedriver + 4226512\n1   chromedriver                        0x0000000100f4837c chromedriver + 4195196\n2   chromedriver                        0x0000000100b8cd68 chromedriver + 281960\n3   chromedriver                        0x0000000100bc7fc8 chromedriver + 524232\n4   chromedriver                        0x0000000100bbd734 chromedriver + 481076\n5   chromedriver                        0x0000000100bfec58 chromedriver + 748632\n6   chromedriver                        0x0000000100bbbf1c chromedriver + 474908\n7   chromedriver                        0x0000000100bbcef4 chromedriver + 478964\n8   chromedriver                        0x0000000100f11424 chromedriver + 3970084\n9   chromedriver                        0x0000000100f15578 chromedriver + 3986808\n10  chromedriver                        0x0000000100f1b43c chromedriver + 4011068\n11  chromedriver                        0x0000000100f16184 chromedriver + 3989892\n12  chromedriver                        0x0000000100eee048 chromedriver + 3825736\n13  chromedriver                        0x0000000100f31f10 chromedriver + 4103952\n14  chromedriver                        0x0000000100f32068 chromedriver + 4104296\n15  chromedriver                        0x0000000100f41db0 chromedriver + 4169136\n16  libsystem_pthread.dylib             0x000000019129e06c _pthread_start + 148\n17  libsystem_pthread.dylib             0x0000000191298e2c thread_start + 8\n",
     "output_type": "error",
     "traceback": [
      "\u001b[0;31m---------------------------------------------------------------------------\u001b[0m",
      "\u001b[0;31mNoSuchElementException\u001b[0m                    Traceback (most recent call last)",
      "Cell \u001b[0;32mIn[212], line 1\u001b[0m\n\u001b[0;32m----> 1\u001b[0m a \u001b[38;5;241m=\u001b[39m \u001b[43mgames_div\u001b[49m\u001b[43m[\u001b[49m\u001b[38;5;241;43m6\u001b[39;49m\u001b[43m]\u001b[49m\u001b[38;5;241;43m.\u001b[39;49m\u001b[43mfind_element\u001b[49m\u001b[43m(\u001b[49m\u001b[43mBy\u001b[49m\u001b[38;5;241;43m.\u001b[39;49m\u001b[43mXPATH\u001b[49m\u001b[43m,\u001b[49m\u001b[43m \u001b[49m\u001b[38;5;124;43m'\u001b[39;49m\u001b[38;5;124;43m/div/div/button/div[1]/div[3]/div[2]/div[1]\u001b[39;49m\u001b[38;5;124;43m'\u001b[39;49m\u001b[43m)\u001b[49m\n",
      "File \u001b[0;32m~/.pyenv/versions/3.8.16/envs/crawler/lib/python3.8/site-packages/selenium/webdriver/remote/webelement.py:417\u001b[0m, in \u001b[0;36mWebElement.find_element\u001b[0;34m(self, by, value)\u001b[0m\n\u001b[1;32m    414\u001b[0m     by \u001b[38;5;241m=\u001b[39m By\u001b[38;5;241m.\u001b[39mCSS_SELECTOR\n\u001b[1;32m    415\u001b[0m     value \u001b[38;5;241m=\u001b[39m \u001b[38;5;124mf\u001b[39m\u001b[38;5;124m'\u001b[39m\u001b[38;5;124m[name=\u001b[39m\u001b[38;5;124m\"\u001b[39m\u001b[38;5;132;01m{\u001b[39;00mvalue\u001b[38;5;132;01m}\u001b[39;00m\u001b[38;5;124m\"\u001b[39m\u001b[38;5;124m]\u001b[39m\u001b[38;5;124m'\u001b[39m\n\u001b[0;32m--> 417\u001b[0m \u001b[38;5;28;01mreturn\u001b[39;00m \u001b[38;5;28;43mself\u001b[39;49m\u001b[38;5;241;43m.\u001b[39;49m\u001b[43m_execute\u001b[49m\u001b[43m(\u001b[49m\u001b[43mCommand\u001b[49m\u001b[38;5;241;43m.\u001b[39;49m\u001b[43mFIND_CHILD_ELEMENT\u001b[49m\u001b[43m,\u001b[49m\u001b[43m \u001b[49m\u001b[43m{\u001b[49m\u001b[38;5;124;43m\"\u001b[39;49m\u001b[38;5;124;43musing\u001b[39;49m\u001b[38;5;124;43m\"\u001b[39;49m\u001b[43m:\u001b[49m\u001b[43m \u001b[49m\u001b[43mby\u001b[49m\u001b[43m,\u001b[49m\u001b[43m \u001b[49m\u001b[38;5;124;43m\"\u001b[39;49m\u001b[38;5;124;43mvalue\u001b[39;49m\u001b[38;5;124;43m\"\u001b[39;49m\u001b[43m:\u001b[49m\u001b[43m \u001b[49m\u001b[43mvalue\u001b[49m\u001b[43m}\u001b[49m\u001b[43m)\u001b[49m[\u001b[38;5;124m\"\u001b[39m\u001b[38;5;124mvalue\u001b[39m\u001b[38;5;124m\"\u001b[39m]\n",
      "File \u001b[0;32m~/.pyenv/versions/3.8.16/envs/crawler/lib/python3.8/site-packages/selenium/webdriver/remote/webelement.py:395\u001b[0m, in \u001b[0;36mWebElement._execute\u001b[0;34m(self, command, params)\u001b[0m\n\u001b[1;32m    393\u001b[0m     params \u001b[38;5;241m=\u001b[39m {}\n\u001b[1;32m    394\u001b[0m params[\u001b[38;5;124m\"\u001b[39m\u001b[38;5;124mid\u001b[39m\u001b[38;5;124m\"\u001b[39m] \u001b[38;5;241m=\u001b[39m \u001b[38;5;28mself\u001b[39m\u001b[38;5;241m.\u001b[39m_id\n\u001b[0;32m--> 395\u001b[0m \u001b[38;5;28;01mreturn\u001b[39;00m \u001b[38;5;28;43mself\u001b[39;49m\u001b[38;5;241;43m.\u001b[39;49m\u001b[43m_parent\u001b[49m\u001b[38;5;241;43m.\u001b[39;49m\u001b[43mexecute\u001b[49m\u001b[43m(\u001b[49m\u001b[43mcommand\u001b[49m\u001b[43m,\u001b[49m\u001b[43m \u001b[49m\u001b[43mparams\u001b[49m\u001b[43m)\u001b[49m\n",
      "File \u001b[0;32m~/.pyenv/versions/3.8.16/envs/crawler/lib/python3.8/site-packages/selenium/webdriver/remote/webdriver.py:346\u001b[0m, in \u001b[0;36mWebDriver.execute\u001b[0;34m(self, driver_command, params)\u001b[0m\n\u001b[1;32m    344\u001b[0m response \u001b[38;5;241m=\u001b[39m \u001b[38;5;28mself\u001b[39m\u001b[38;5;241m.\u001b[39mcommand_executor\u001b[38;5;241m.\u001b[39mexecute(driver_command, params)\n\u001b[1;32m    345\u001b[0m \u001b[38;5;28;01mif\u001b[39;00m response:\n\u001b[0;32m--> 346\u001b[0m     \u001b[38;5;28;43mself\u001b[39;49m\u001b[38;5;241;43m.\u001b[39;49m\u001b[43merror_handler\u001b[49m\u001b[38;5;241;43m.\u001b[39;49m\u001b[43mcheck_response\u001b[49m\u001b[43m(\u001b[49m\u001b[43mresponse\u001b[49m\u001b[43m)\u001b[49m\n\u001b[1;32m    347\u001b[0m     response[\u001b[38;5;124m\"\u001b[39m\u001b[38;5;124mvalue\u001b[39m\u001b[38;5;124m\"\u001b[39m] \u001b[38;5;241m=\u001b[39m \u001b[38;5;28mself\u001b[39m\u001b[38;5;241m.\u001b[39m_unwrap_value(response\u001b[38;5;241m.\u001b[39mget(\u001b[38;5;124m\"\u001b[39m\u001b[38;5;124mvalue\u001b[39m\u001b[38;5;124m\"\u001b[39m, \u001b[38;5;28;01mNone\u001b[39;00m))\n\u001b[1;32m    348\u001b[0m     \u001b[38;5;28;01mreturn\u001b[39;00m response\n",
      "File \u001b[0;32m~/.pyenv/versions/3.8.16/envs/crawler/lib/python3.8/site-packages/selenium/webdriver/remote/errorhandler.py:245\u001b[0m, in \u001b[0;36mErrorHandler.check_response\u001b[0;34m(self, response)\u001b[0m\n\u001b[1;32m    243\u001b[0m         alert_text \u001b[38;5;241m=\u001b[39m value[\u001b[38;5;124m\"\u001b[39m\u001b[38;5;124malert\u001b[39m\u001b[38;5;124m\"\u001b[39m]\u001b[38;5;241m.\u001b[39mget(\u001b[38;5;124m\"\u001b[39m\u001b[38;5;124mtext\u001b[39m\u001b[38;5;124m\"\u001b[39m)\n\u001b[1;32m    244\u001b[0m     \u001b[38;5;28;01mraise\u001b[39;00m exception_class(message, screen, stacktrace, alert_text)  \u001b[38;5;66;03m# type: ignore[call-arg]  # mypy is not smart enough here\u001b[39;00m\n\u001b[0;32m--> 245\u001b[0m \u001b[38;5;28;01mraise\u001b[39;00m exception_class(message, screen, stacktrace)\n",
      "\u001b[0;31mNoSuchElementException\u001b[0m: Message: no such element: Unable to locate element: {\"method\":\"xpath\",\"selector\":\"/div/div/button/div[1]/div[3]/div[2]/div[1]\"}\n  (Session info: chrome=115.0.5790.170); For documentation on this error, please visit: https://www.selenium.dev/documentation/webdriver/troubleshooting/errors#no-such-element-exception\nStacktrace:\n0   chromedriver                        0x0000000100f4fdd0 chromedriver + 4226512\n1   chromedriver                        0x0000000100f4837c chromedriver + 4195196\n2   chromedriver                        0x0000000100b8cd68 chromedriver + 281960\n3   chromedriver                        0x0000000100bc7fc8 chromedriver + 524232\n4   chromedriver                        0x0000000100bbd734 chromedriver + 481076\n5   chromedriver                        0x0000000100bfec58 chromedriver + 748632\n6   chromedriver                        0x0000000100bbbf1c chromedriver + 474908\n7   chromedriver                        0x0000000100bbcef4 chromedriver + 478964\n8   chromedriver                        0x0000000100f11424 chromedriver + 3970084\n9   chromedriver                        0x0000000100f15578 chromedriver + 3986808\n10  chromedriver                        0x0000000100f1b43c chromedriver + 4011068\n11  chromedriver                        0x0000000100f16184 chromedriver + 3989892\n12  chromedriver                        0x0000000100eee048 chromedriver + 3825736\n13  chromedriver                        0x0000000100f31f10 chromedriver + 4103952\n14  chromedriver                        0x0000000100f32068 chromedriver + 4104296\n15  chromedriver                        0x0000000100f41db0 chromedriver + 4169136\n16  libsystem_pthread.dylib             0x000000019129e06c _pthread_start + 148\n17  libsystem_pthread.dylib             0x0000000191298e2c thread_start + 8\n"
     ]
    }
   ],
   "source": [
    "a = games_div[6].find_element(By.XPATH, '/div/div/button/div[1]/div[3]/div[2]/div[1]')"
   ]
  },
  {
   "cell_type": "code",
   "execution_count": 205,
   "id": "f3f300e9",
   "metadata": {},
   "outputs": [],
   "source": [
    "a.click()"
   ]
  },
  {
   "cell_type": "code",
   "execution_count": 197,
   "id": "6b0e45c8",
   "metadata": {},
   "outputs": [
    {
     "data": {
      "text/plain": [
       "19"
      ]
     },
     "execution_count": 197,
     "metadata": {},
     "output_type": "execute_result"
    }
   ],
   "source": [
    "len(games_div)"
   ]
  },
  {
   "cell_type": "code",
   "execution_count": null,
   "id": "2e965bf2",
   "metadata": {},
   "outputs": [],
   "source": [
    "/html/body/div[3]/main/div/div/div/div[2]/div/div/div[3]/div[3]/div/div/button/div[1]/div[3]/div[2]/div[1]"
   ]
  },
  {
   "cell_type": "code",
   "execution_count": null,
   "id": "547eba3d",
   "metadata": {},
   "outputs": [],
   "source": [
    "/html/body/div[3]/main/div/div/div/div[2]/div/div/div[3]/div[4]/div/div/button/div[1]/div[3]/div[2]/div[1]"
   ]
  },
  {
   "cell_type": "code",
   "execution_count": null,
   "id": "d9214da2",
   "metadata": {},
   "outputs": [],
   "source": []
  },
  {
   "cell_type": "code",
   "execution_count": null,
   "id": "73b7d151",
   "metadata": {},
   "outputs": [],
   "source": []
  },
  {
   "cell_type": "code",
   "execution_count": 151,
   "id": "d7e5222f",
   "metadata": {},
   "outputs": [],
   "source": [
    "_path = '//*[@id=\"main-content\"]/div/div/div/div[2]/div/div[1]/div[2]'\n",
    "divs = driver.find_element(By.XPATH, _path)"
   ]
  },
  {
   "cell_type": "code",
   "execution_count": 153,
   "id": "b4e6b02d",
   "metadata": {},
   "outputs": [
    {
     "ename": "StaleElementReferenceException",
     "evalue": "Message: stale element reference: stale element not found\n  (Session info: chrome=115.0.5790.170); For documentation on this error, please visit: https://www.selenium.dev/documentation/webdriver/troubleshooting/errors#stale-element-reference-exception\nStacktrace:\n0   chromedriver                        0x0000000104fafdd0 chromedriver + 4226512\n1   chromedriver                        0x0000000104fa837c chromedriver + 4195196\n2   chromedriver                        0x0000000104becd68 chromedriver + 281960\n3   chromedriver                        0x0000000104bfa36c chromedriver + 336748\n4   chromedriver                        0x0000000104bf1a78 chromedriver + 301688\n5   chromedriver                        0x0000000104bf062c chromedriver + 296492\n6   chromedriver                        0x0000000104bf2fe4 chromedriver + 307172\n7   chromedriver                        0x0000000104bf30d4 chromedriver + 307412\n8   chromedriver                        0x0000000104c27cac chromedriver + 523436\n9   chromedriver                        0x0000000104c1d734 chromedriver + 481076\n10  chromedriver                        0x0000000104c5ec58 chromedriver + 748632\n11  chromedriver                        0x0000000104c1bf1c chromedriver + 474908\n12  chromedriver                        0x0000000104c1cef4 chromedriver + 478964\n13  chromedriver                        0x0000000104f71424 chromedriver + 3970084\n14  chromedriver                        0x0000000104f75578 chromedriver + 3986808\n15  chromedriver                        0x0000000104f7b43c chromedriver + 4011068\n16  chromedriver                        0x0000000104f76184 chromedriver + 3989892\n17  chromedriver                        0x0000000104f4e048 chromedriver + 3825736\n18  chromedriver                        0x0000000104f91f10 chromedriver + 4103952\n19  chromedriver                        0x0000000104f92068 chromedriver + 4104296\n20  chromedriver                        0x0000000104fa1db0 chromedriver + 4169136\n21  libsystem_pthread.dylib             0x000000019129e06c _pthread_start + 148\n22  libsystem_pthread.dylib             0x0000000191298e2c thread_start + 8\n",
     "output_type": "error",
     "traceback": [
      "\u001b[0;31m---------------------------------------------------------------------------\u001b[0m",
      "\u001b[0;31mStaleElementReferenceException\u001b[0m            Traceback (most recent call last)",
      "Cell \u001b[0;32mIn[153], line 1\u001b[0m\n\u001b[0;32m----> 1\u001b[0m a \u001b[38;5;241m=\u001b[39m \u001b[43mdivs\u001b[49m\u001b[38;5;241;43m.\u001b[39;49m\u001b[43mfind_element\u001b[49m\u001b[43m(\u001b[49m\u001b[43mBy\u001b[49m\u001b[38;5;241;43m.\u001b[39;49m\u001b[43mCSS_SELECTOR\u001b[49m\u001b[43m,\u001b[49m\u001b[43m \u001b[49m\u001b[38;5;124;43m'\u001b[39;49m\u001b[38;5;124;43mdiv[data-row-type=\u001b[39;49m\u001b[38;5;124;43m\"\u001b[39;49m\u001b[38;5;124;43mcentered\u001b[39;49m\u001b[38;5;124;43m\"\u001b[39;49m\u001b[38;5;124;43m]\u001b[39;49m\u001b[38;5;124;43m'\u001b[39;49m\u001b[43m)\u001b[49m\n",
      "File \u001b[0;32m~/.pyenv/versions/3.8.16/envs/crawler/lib/python3.8/site-packages/selenium/webdriver/remote/webelement.py:417\u001b[0m, in \u001b[0;36mWebElement.find_element\u001b[0;34m(self, by, value)\u001b[0m\n\u001b[1;32m    414\u001b[0m     by \u001b[38;5;241m=\u001b[39m By\u001b[38;5;241m.\u001b[39mCSS_SELECTOR\n\u001b[1;32m    415\u001b[0m     value \u001b[38;5;241m=\u001b[39m \u001b[38;5;124mf\u001b[39m\u001b[38;5;124m'\u001b[39m\u001b[38;5;124m[name=\u001b[39m\u001b[38;5;124m\"\u001b[39m\u001b[38;5;132;01m{\u001b[39;00mvalue\u001b[38;5;132;01m}\u001b[39;00m\u001b[38;5;124m\"\u001b[39m\u001b[38;5;124m]\u001b[39m\u001b[38;5;124m'\u001b[39m\n\u001b[0;32m--> 417\u001b[0m \u001b[38;5;28;01mreturn\u001b[39;00m \u001b[38;5;28;43mself\u001b[39;49m\u001b[38;5;241;43m.\u001b[39;49m\u001b[43m_execute\u001b[49m\u001b[43m(\u001b[49m\u001b[43mCommand\u001b[49m\u001b[38;5;241;43m.\u001b[39;49m\u001b[43mFIND_CHILD_ELEMENT\u001b[49m\u001b[43m,\u001b[49m\u001b[43m \u001b[49m\u001b[43m{\u001b[49m\u001b[38;5;124;43m\"\u001b[39;49m\u001b[38;5;124;43musing\u001b[39;49m\u001b[38;5;124;43m\"\u001b[39;49m\u001b[43m:\u001b[49m\u001b[43m \u001b[49m\u001b[43mby\u001b[49m\u001b[43m,\u001b[49m\u001b[43m \u001b[49m\u001b[38;5;124;43m\"\u001b[39;49m\u001b[38;5;124;43mvalue\u001b[39;49m\u001b[38;5;124;43m\"\u001b[39;49m\u001b[43m:\u001b[49m\u001b[43m \u001b[49m\u001b[43mvalue\u001b[49m\u001b[43m}\u001b[49m\u001b[43m)\u001b[49m[\u001b[38;5;124m\"\u001b[39m\u001b[38;5;124mvalue\u001b[39m\u001b[38;5;124m\"\u001b[39m]\n",
      "File \u001b[0;32m~/.pyenv/versions/3.8.16/envs/crawler/lib/python3.8/site-packages/selenium/webdriver/remote/webelement.py:395\u001b[0m, in \u001b[0;36mWebElement._execute\u001b[0;34m(self, command, params)\u001b[0m\n\u001b[1;32m    393\u001b[0m     params \u001b[38;5;241m=\u001b[39m {}\n\u001b[1;32m    394\u001b[0m params[\u001b[38;5;124m\"\u001b[39m\u001b[38;5;124mid\u001b[39m\u001b[38;5;124m\"\u001b[39m] \u001b[38;5;241m=\u001b[39m \u001b[38;5;28mself\u001b[39m\u001b[38;5;241m.\u001b[39m_id\n\u001b[0;32m--> 395\u001b[0m \u001b[38;5;28;01mreturn\u001b[39;00m \u001b[38;5;28;43mself\u001b[39;49m\u001b[38;5;241;43m.\u001b[39;49m\u001b[43m_parent\u001b[49m\u001b[38;5;241;43m.\u001b[39;49m\u001b[43mexecute\u001b[49m\u001b[43m(\u001b[49m\u001b[43mcommand\u001b[49m\u001b[43m,\u001b[49m\u001b[43m \u001b[49m\u001b[43mparams\u001b[49m\u001b[43m)\u001b[49m\n",
      "File \u001b[0;32m~/.pyenv/versions/3.8.16/envs/crawler/lib/python3.8/site-packages/selenium/webdriver/remote/webdriver.py:346\u001b[0m, in \u001b[0;36mWebDriver.execute\u001b[0;34m(self, driver_command, params)\u001b[0m\n\u001b[1;32m    344\u001b[0m response \u001b[38;5;241m=\u001b[39m \u001b[38;5;28mself\u001b[39m\u001b[38;5;241m.\u001b[39mcommand_executor\u001b[38;5;241m.\u001b[39mexecute(driver_command, params)\n\u001b[1;32m    345\u001b[0m \u001b[38;5;28;01mif\u001b[39;00m response:\n\u001b[0;32m--> 346\u001b[0m     \u001b[38;5;28;43mself\u001b[39;49m\u001b[38;5;241;43m.\u001b[39;49m\u001b[43merror_handler\u001b[49m\u001b[38;5;241;43m.\u001b[39;49m\u001b[43mcheck_response\u001b[49m\u001b[43m(\u001b[49m\u001b[43mresponse\u001b[49m\u001b[43m)\u001b[49m\n\u001b[1;32m    347\u001b[0m     response[\u001b[38;5;124m\"\u001b[39m\u001b[38;5;124mvalue\u001b[39m\u001b[38;5;124m\"\u001b[39m] \u001b[38;5;241m=\u001b[39m \u001b[38;5;28mself\u001b[39m\u001b[38;5;241m.\u001b[39m_unwrap_value(response\u001b[38;5;241m.\u001b[39mget(\u001b[38;5;124m\"\u001b[39m\u001b[38;5;124mvalue\u001b[39m\u001b[38;5;124m\"\u001b[39m, \u001b[38;5;28;01mNone\u001b[39;00m))\n\u001b[1;32m    348\u001b[0m     \u001b[38;5;28;01mreturn\u001b[39;00m response\n",
      "File \u001b[0;32m~/.pyenv/versions/3.8.16/envs/crawler/lib/python3.8/site-packages/selenium/webdriver/remote/errorhandler.py:245\u001b[0m, in \u001b[0;36mErrorHandler.check_response\u001b[0;34m(self, response)\u001b[0m\n\u001b[1;32m    243\u001b[0m         alert_text \u001b[38;5;241m=\u001b[39m value[\u001b[38;5;124m\"\u001b[39m\u001b[38;5;124malert\u001b[39m\u001b[38;5;124m\"\u001b[39m]\u001b[38;5;241m.\u001b[39mget(\u001b[38;5;124m\"\u001b[39m\u001b[38;5;124mtext\u001b[39m\u001b[38;5;124m\"\u001b[39m)\n\u001b[1;32m    244\u001b[0m     \u001b[38;5;28;01mraise\u001b[39;00m exception_class(message, screen, stacktrace, alert_text)  \u001b[38;5;66;03m# type: ignore[call-arg]  # mypy is not smart enough here\u001b[39;00m\n\u001b[0;32m--> 245\u001b[0m \u001b[38;5;28;01mraise\u001b[39;00m exception_class(message, screen, stacktrace)\n",
      "\u001b[0;31mStaleElementReferenceException\u001b[0m: Message: stale element reference: stale element not found\n  (Session info: chrome=115.0.5790.170); For documentation on this error, please visit: https://www.selenium.dev/documentation/webdriver/troubleshooting/errors#stale-element-reference-exception\nStacktrace:\n0   chromedriver                        0x0000000104fafdd0 chromedriver + 4226512\n1   chromedriver                        0x0000000104fa837c chromedriver + 4195196\n2   chromedriver                        0x0000000104becd68 chromedriver + 281960\n3   chromedriver                        0x0000000104bfa36c chromedriver + 336748\n4   chromedriver                        0x0000000104bf1a78 chromedriver + 301688\n5   chromedriver                        0x0000000104bf062c chromedriver + 296492\n6   chromedriver                        0x0000000104bf2fe4 chromedriver + 307172\n7   chromedriver                        0x0000000104bf30d4 chromedriver + 307412\n8   chromedriver                        0x0000000104c27cac chromedriver + 523436\n9   chromedriver                        0x0000000104c1d734 chromedriver + 481076\n10  chromedriver                        0x0000000104c5ec58 chromedriver + 748632\n11  chromedriver                        0x0000000104c1bf1c chromedriver + 474908\n12  chromedriver                        0x0000000104c1cef4 chromedriver + 478964\n13  chromedriver                        0x0000000104f71424 chromedriver + 3970084\n14  chromedriver                        0x0000000104f75578 chromedriver + 3986808\n15  chromedriver                        0x0000000104f7b43c chromedriver + 4011068\n16  chromedriver                        0x0000000104f76184 chromedriver + 3989892\n17  chromedriver                        0x0000000104f4e048 chromedriver + 3825736\n18  chromedriver                        0x0000000104f91f10 chromedriver + 4103952\n19  chromedriver                        0x0000000104f92068 chromedriver + 4104296\n20  chromedriver                        0x0000000104fa1db0 chromedriver + 4169136\n21  libsystem_pthread.dylib             0x000000019129e06c _pthread_start + 148\n22  libsystem_pthread.dylib             0x0000000191298e2c thread_start + 8\n"
     ]
    }
   ],
   "source": [
    "a = divs.find_element(By.CSS_SELECTOR, 'div[data-row-type=\"centered\"]')"
   ]
  },
  {
   "cell_type": "code",
   "execution_count": null,
   "id": "8b3837c5",
   "metadata": {},
   "outputs": [],
   "source": [
    "\"input[name='q']\""
   ]
  },
  {
   "cell_type": "code",
   "execution_count": 144,
   "id": "346d7c30",
   "metadata": {},
   "outputs": [
    {
     "data": {
      "text/plain": [
       "<selenium.webdriver.support.wait.WebDriverWait (session=\"85505466a57c1d04a3a972b2992c9100\")>"
      ]
     },
     "execution_count": 144,
     "metadata": {},
     "output_type": "execute_result"
    }
   ],
   "source": [
    "game_path = '/html/body/div[3]/main/div/div/div/div[2]/div/div/div[3]/div[3]/div/div/button/div[1]/div[3]/div[2]/div[1]'\n",
    "game_button = driver.find_element(By.XPATH, game_path)\n",
    "game_button.click()\n",
    "WebDriverWait(driver, timeout = 3)"
   ]
  },
  {
   "cell_type": "code",
   "execution_count": 130,
   "id": "2d18fee1",
   "metadata": {},
   "outputs": [],
   "source": [
    "home_tab = driver.current_window_handle"
   ]
  },
  {
   "cell_type": "code",
   "execution_count": 131,
   "id": "9f6d14ff",
   "metadata": {},
   "outputs": [],
   "source": [
    "detail_path = '/html/body/div[3]/main/div/div/div/div[2]/div/div/div[3]/div[4]/div/div/div/div/button/div[1]/div'\n",
    "download_button = driver.find_element(By.XPATH, detail_path)\n",
    "download_button.click()"
   ]
  },
  {
   "cell_type": "code",
   "execution_count": 108,
   "id": "1e49edc3",
   "metadata": {},
   "outputs": [],
   "source": [
    "all_windows = driver.window_handles\n",
    "\n",
    "for w in all_windows:\n",
    "    if( w != home_tab):\n",
    "        driver.switch_to.window(w)\n",
    "        break\n",
    "download_url = driver.current_url"
   ]
  },
  {
   "cell_type": "code",
   "execution_count": 134,
   "id": "2e13affc",
   "metadata": {},
   "outputs": [
    {
     "ename": "NoSuchWindowException",
     "evalue": "Message: no such window: target window already closed\nfrom unknown error: web view not found\n  (Session info: chrome=115.0.5790.170)\nStacktrace:\n0   chromedriver                        0x0000000102893dd0 chromedriver + 4226512\n1   chromedriver                        0x000000010288c37c chromedriver + 4195196\n2   chromedriver                        0x00000001024d0d68 chromedriver + 281960\n3   chromedriver                        0x00000001024aaef8 chromedriver + 126712\n4   chromedriver                        0x000000010252fe88 chromedriver + 671368\n5   chromedriver                        0x00000001025358e4 chromedriver + 694500\n6   chromedriver                        0x00000001024fff1c chromedriver + 474908\n7   chromedriver                        0x0000000102500ef4 chromedriver + 478964\n8   chromedriver                        0x0000000102855424 chromedriver + 3970084\n9   chromedriver                        0x0000000102859578 chromedriver + 3986808\n10  chromedriver                        0x000000010285f43c chromedriver + 4011068\n11  chromedriver                        0x000000010285a184 chromedriver + 3989892\n12  chromedriver                        0x0000000102832048 chromedriver + 3825736\n13  chromedriver                        0x0000000102875f10 chromedriver + 4103952\n14  chromedriver                        0x0000000102876068 chromedriver + 4104296\n15  chromedriver                        0x0000000102885db0 chromedriver + 4169136\n16  libsystem_pthread.dylib             0x000000019129e06c _pthread_start + 148\n17  libsystem_pthread.dylib             0x0000000191298e2c thread_start + 8\n",
     "output_type": "error",
     "traceback": [
      "\u001b[0;31m---------------------------------------------------------------------------\u001b[0m",
      "\u001b[0;31mNoSuchWindowException\u001b[0m                     Traceback (most recent call last)",
      "Cell \u001b[0;32mIn[134], line 1\u001b[0m\n\u001b[0;32m----> 1\u001b[0m \u001b[43mdriver\u001b[49m\u001b[38;5;241;43m.\u001b[39;49m\u001b[43mclose\u001b[49m\u001b[43m(\u001b[49m\u001b[43m)\u001b[49m\n",
      "File \u001b[0;32m~/.pyenv/versions/3.8.16/envs/crawler/lib/python3.8/site-packages/selenium/webdriver/remote/webdriver.py:457\u001b[0m, in \u001b[0;36mWebDriver.close\u001b[0;34m(self)\u001b[0m\n\u001b[1;32m    449\u001b[0m \u001b[38;5;28;01mdef\u001b[39;00m \u001b[38;5;21mclose\u001b[39m(\u001b[38;5;28mself\u001b[39m) \u001b[38;5;241m-\u001b[39m\u001b[38;5;241m>\u001b[39m \u001b[38;5;28;01mNone\u001b[39;00m:\n\u001b[1;32m    450\u001b[0m \u001b[38;5;250m    \u001b[39m\u001b[38;5;124;03m\"\"\"Closes the current window.\u001b[39;00m\n\u001b[1;32m    451\u001b[0m \n\u001b[1;32m    452\u001b[0m \u001b[38;5;124;03m    :Usage:\u001b[39;00m\n\u001b[0;32m   (...)\u001b[0m\n\u001b[1;32m    455\u001b[0m \u001b[38;5;124;03m            driver.close()\u001b[39;00m\n\u001b[1;32m    456\u001b[0m \u001b[38;5;124;03m    \"\"\"\u001b[39;00m\n\u001b[0;32m--> 457\u001b[0m     \u001b[38;5;28;43mself\u001b[39;49m\u001b[38;5;241;43m.\u001b[39;49m\u001b[43mexecute\u001b[49m\u001b[43m(\u001b[49m\u001b[43mCommand\u001b[49m\u001b[38;5;241;43m.\u001b[39;49m\u001b[43mCLOSE\u001b[49m\u001b[43m)\u001b[49m\n",
      "File \u001b[0;32m~/.pyenv/versions/3.8.16/envs/crawler/lib/python3.8/site-packages/selenium/webdriver/remote/webdriver.py:346\u001b[0m, in \u001b[0;36mWebDriver.execute\u001b[0;34m(self, driver_command, params)\u001b[0m\n\u001b[1;32m    344\u001b[0m response \u001b[38;5;241m=\u001b[39m \u001b[38;5;28mself\u001b[39m\u001b[38;5;241m.\u001b[39mcommand_executor\u001b[38;5;241m.\u001b[39mexecute(driver_command, params)\n\u001b[1;32m    345\u001b[0m \u001b[38;5;28;01mif\u001b[39;00m response:\n\u001b[0;32m--> 346\u001b[0m     \u001b[38;5;28;43mself\u001b[39;49m\u001b[38;5;241;43m.\u001b[39;49m\u001b[43merror_handler\u001b[49m\u001b[38;5;241;43m.\u001b[39;49m\u001b[43mcheck_response\u001b[49m\u001b[43m(\u001b[49m\u001b[43mresponse\u001b[49m\u001b[43m)\u001b[49m\n\u001b[1;32m    347\u001b[0m     response[\u001b[38;5;124m\"\u001b[39m\u001b[38;5;124mvalue\u001b[39m\u001b[38;5;124m\"\u001b[39m] \u001b[38;5;241m=\u001b[39m \u001b[38;5;28mself\u001b[39m\u001b[38;5;241m.\u001b[39m_unwrap_value(response\u001b[38;5;241m.\u001b[39mget(\u001b[38;5;124m\"\u001b[39m\u001b[38;5;124mvalue\u001b[39m\u001b[38;5;124m\"\u001b[39m, \u001b[38;5;28;01mNone\u001b[39;00m))\n\u001b[1;32m    348\u001b[0m     \u001b[38;5;28;01mreturn\u001b[39;00m response\n",
      "File \u001b[0;32m~/.pyenv/versions/3.8.16/envs/crawler/lib/python3.8/site-packages/selenium/webdriver/remote/errorhandler.py:245\u001b[0m, in \u001b[0;36mErrorHandler.check_response\u001b[0;34m(self, response)\u001b[0m\n\u001b[1;32m    243\u001b[0m         alert_text \u001b[38;5;241m=\u001b[39m value[\u001b[38;5;124m\"\u001b[39m\u001b[38;5;124malert\u001b[39m\u001b[38;5;124m\"\u001b[39m]\u001b[38;5;241m.\u001b[39mget(\u001b[38;5;124m\"\u001b[39m\u001b[38;5;124mtext\u001b[39m\u001b[38;5;124m\"\u001b[39m)\n\u001b[1;32m    244\u001b[0m     \u001b[38;5;28;01mraise\u001b[39;00m exception_class(message, screen, stacktrace, alert_text)  \u001b[38;5;66;03m# type: ignore[call-arg]  # mypy is not smart enough here\u001b[39;00m\n\u001b[0;32m--> 245\u001b[0m \u001b[38;5;28;01mraise\u001b[39;00m exception_class(message, screen, stacktrace)\n",
      "\u001b[0;31mNoSuchWindowException\u001b[0m: Message: no such window: target window already closed\nfrom unknown error: web view not found\n  (Session info: chrome=115.0.5790.170)\nStacktrace:\n0   chromedriver                        0x0000000102893dd0 chromedriver + 4226512\n1   chromedriver                        0x000000010288c37c chromedriver + 4195196\n2   chromedriver                        0x00000001024d0d68 chromedriver + 281960\n3   chromedriver                        0x00000001024aaef8 chromedriver + 126712\n4   chromedriver                        0x000000010252fe88 chromedriver + 671368\n5   chromedriver                        0x00000001025358e4 chromedriver + 694500\n6   chromedriver                        0x00000001024fff1c chromedriver + 474908\n7   chromedriver                        0x0000000102500ef4 chromedriver + 478964\n8   chromedriver                        0x0000000102855424 chromedriver + 3970084\n9   chromedriver                        0x0000000102859578 chromedriver + 3986808\n10  chromedriver                        0x000000010285f43c chromedriver + 4011068\n11  chromedriver                        0x000000010285a184 chromedriver + 3989892\n12  chromedriver                        0x0000000102832048 chromedriver + 3825736\n13  chromedriver                        0x0000000102875f10 chromedriver + 4103952\n14  chromedriver                        0x0000000102876068 chromedriver + 4104296\n15  chromedriver                        0x0000000102885db0 chromedriver + 4169136\n16  libsystem_pthread.dylib             0x000000019129e06c _pthread_start + 148\n17  libsystem_pthread.dylib             0x0000000191298e2c thread_start + 8\n"
     ]
    }
   ],
   "source": [
    "driver.close()"
   ]
  },
  {
   "cell_type": "code",
   "execution_count": 133,
   "id": "96b93121",
   "metadata": {},
   "outputs": [
    {
     "data": {
      "text/plain": [
       "'https://static.www.nfl.com/gamecenter/7ae7944e-d24c-11ec-b23d-d15a91047884.pdf'"
      ]
     },
     "execution_count": 133,
     "metadata": {},
     "output_type": "execute_result"
    }
   ],
   "source": [
    "download_url"
   ]
  },
  {
   "cell_type": "code",
   "execution_count": 70,
   "id": "912916c4",
   "metadata": {},
   "outputs": [],
   "source": [
    "driver.switch_to"
   ]
  },
  {
   "cell_type": "code",
   "execution_count": 86,
   "id": "381cd0e7",
   "metadata": {},
   "outputs": [
    {
     "data": {
      "text/plain": [
       "'https://www.nfl.com/games/bills-at-rams-2022-reg-1?active-tab=watch'"
      ]
     },
     "execution_count": 86,
     "metadata": {},
     "output_type": "execute_result"
    }
   ],
   "source": [
    "download_url"
   ]
  },
  {
   "cell_type": "code",
   "execution_count": 87,
   "id": "310e653f",
   "metadata": {},
   "outputs": [
    {
     "data": {
      "text/plain": [
       "'69E72B8EE987E5C22F953183D572484F'"
      ]
     },
     "execution_count": 87,
     "metadata": {},
     "output_type": "execute_result"
    }
   ],
   "source": [
    "child_tab"
   ]
  },
  {
   "cell_type": "code",
   "execution_count": 88,
   "id": "d6f984d2",
   "metadata": {},
   "outputs": [
    {
     "data": {
      "text/plain": [
       "'69E72B8EE987E5C22F953183D572484F'"
      ]
     },
     "execution_count": 88,
     "metadata": {},
     "output_type": "execute_result"
    }
   ],
   "source": [
    "home_tab"
   ]
  },
  {
   "cell_type": "code",
   "execution_count": 90,
   "id": "1a27378d",
   "metadata": {},
   "outputs": [
    {
     "data": {
      "text/plain": [
       "'https://www.nfl.com/games/bills-at-rams-2022-reg-1?active-tab=watch'"
      ]
     },
     "execution_count": 90,
     "metadata": {},
     "output_type": "execute_result"
    }
   ],
   "source": [
    "download_url"
   ]
  },
  {
   "cell_type": "code",
   "execution_count": null,
   "id": "758b2b40",
   "metadata": {},
   "outputs": [],
   "source": []
  }
 ],
 "metadata": {
  "kernelspec": {
   "display_name": "Python 3 (ipykernel)",
   "language": "python",
   "name": "python3"
  },
  "language_info": {
   "codemirror_mode": {
    "name": "ipython",
    "version": 3
   },
   "file_extension": ".py",
   "mimetype": "text/x-python",
   "name": "python",
   "nbconvert_exporter": "python",
   "pygments_lexer": "ipython3",
   "version": "3.8.16"
  }
 },
 "nbformat": 4,
 "nbformat_minor": 5
}
